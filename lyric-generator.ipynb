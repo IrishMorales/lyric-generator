{
 "cells": [
  {
   "cell_type": "markdown",
   "id": "cd12e830",
   "metadata": {},
   "source": [
    "# Simon & Garfunkel Lyric Generator"
   ]
  },
  {
   "cell_type": "markdown",
   "id": "b5c6d930",
   "metadata": {},
   "source": [
    "This notebook contains code for an MLP neural network that generates lyrics from the American rock due Simon & Garfunkel. Generation is done on a word-level basis. Lyrics are taken from lyrics.txt."
   ]
  },
  {
   "cell_type": "markdown",
   "id": "775f0cda",
   "metadata": {},
   "source": [
    "### Import Libraries"
   ]
  },
  {
   "cell_type": "code",
   "execution_count": 1,
   "id": "eccd3655",
   "metadata": {},
   "outputs": [
    {
     "name": "stderr",
     "output_type": "stream",
     "text": [
      "[nltk_data] Downloading package punkt to\n",
      "[nltk_data]     C:\\Users\\Irish\\AppData\\Roaming\\nltk_data...\n",
      "[nltk_data]   Package punkt is already up-to-date!\n",
      "[nltk_data] Downloading package wordnet to\n",
      "[nltk_data]     C:\\Users\\Irish\\AppData\\Roaming\\nltk_data...\n",
      "[nltk_data]   Package wordnet is already up-to-date!\n"
     ]
    },
    {
     "data": {
      "text/plain": [
       "True"
      ]
     },
     "execution_count": 1,
     "metadata": {},
     "output_type": "execute_result"
    }
   ],
   "source": [
    "import re\n",
    "import numpy as np\n",
    "import torch\n",
    "import torch.nn as nn\n",
    "import torch.optim as optim\n",
    "import nltk\n",
    "from tqdm import tqdm\n",
    "import torch.optim as optim\n",
    "from nltk.tokenize import regexp_tokenize\n",
    "from nltk.stem import PorterStemmer, WordNetLemmatizer\n",
    "from nltk.corpus import stopwords\n",
    "nltk.download('punkt')\n",
    "nltk.download('wordnet')"
   ]
  },
  {
   "cell_type": "markdown",
   "id": "d50c2279",
   "metadata": {},
   "source": [
    "### Input"
   ]
  },
  {
   "cell_type": "code",
   "execution_count": 2,
   "id": "8f990129",
   "metadata": {},
   "outputs": [
    {
     "data": {
      "text/plain": [
       "\"I was twenty-one years when I wrote this song \\n I'm twenty-two now, but I won't be for long \\n Time hurries on \\n And the leaves that are green turn to brown \\n And they wither with the wind \\n And they crumble in your hand \\n Once my heart was filled with love of a girl \\n I held her close, but she faded in the night \\n Like a poem I meant to write \\n And the leaves that are green turn to brown \\n And they wither with the wind \\n And they crumble in your hand \\n I threw a pebble in a brook \\n And watched the ripples run away \\n And they never made a sound \\n And the leaves that are green turn to brown \\n And they wither with the wind \\n And they crumble in your hand \\n Hello, Hello, Hello, Hello \\n Good-bye, Good-bye \\n Good-bye, Good-bye \\n That's all there is \\n And the leaves that are green turn to brown \\n Hello, darkness, my old friend \\n I've come to talk with you again \\n Because a vision softly creeping \\n Left its seeds while I was sleeping \\n And the vision that was planted in my brain \\n Still remain\""
      ]
     },
     "execution_count": 2,
     "metadata": {},
     "output_type": "execute_result"
    }
   ],
   "source": [
    "# Read input\n",
    "filename = \"lyrics2.txt\"\n",
    "f = open(filename, 'r')\n",
    "\n",
    "raw_text = f.read()\n",
    "raw_text[:1000]"
   ]
  },
  {
   "cell_type": "code",
   "execution_count": 3,
   "id": "e46bd8d9",
   "metadata": {},
   "outputs": [
    {
     "data": {
      "text/plain": [
       "\"i was twenty-one years when i wrote this song \\n i'm twenty-two now, but i won't be for long \\n time hurries on \\n and the leaves that are green turn to brown \\n and they wither with the wind \\n and they crumble in your hand \\n once my heart was filled with love of a girl \\n i held her close, but she faded in the night \\n like a poem i meant to write \\n and the leaves that are green turn to brown \\n and they wither with the wind \\n and they crumble in your hand \\n i threw a pebble in a brook \\n and watched the ripples run away \\n and they never made a sound \\n and the leaves that are green turn to brown \\n and they wither with the wind \\n and they crumble in your hand \\n hello, hello, hello, hello \\n good-bye, good-bye \\n good-bye, good-bye \\n that's all there is \\n and the leaves that are green turn to brown \\n hello, darkness, my old friend \\n i've come to talk with you again \\n because a vision softly creeping \\n left its seeds while i was sleeping \\n and the vision that was planted in my brain \\n still remain\""
      ]
     },
     "execution_count": 3,
     "metadata": {},
     "output_type": "execute_result"
    }
   ],
   "source": [
    "# Remove all non-ASCII characters\n",
    "processed_text = re.sub(r'[^\\x00-\\x7f]', r'', raw_text).lower()\n",
    "processed_text[:1000]"
   ]
  },
  {
   "cell_type": "code",
   "execution_count": 4,
   "id": "987aadca",
   "metadata": {},
   "outputs": [
    {
     "name": "stdout",
     "output_type": "stream",
     "text": [
      "Number of word tokens: 2308\n"
     ]
    },
    {
     "data": {
      "text/plain": [
       "['i',\n",
       " 'was',\n",
       " 'twenty-one',\n",
       " 'years',\n",
       " 'when',\n",
       " 'i',\n",
       " 'wrote',\n",
       " 'this',\n",
       " 'song',\n",
       " '\\n',\n",
       " \"i'm\",\n",
       " 'twenty-two',\n",
       " 'now',\n",
       " 'but',\n",
       " 'i',\n",
       " \"won't\",\n",
       " 'be',\n",
       " 'for',\n",
       " 'long',\n",
       " '\\n',\n",
       " 'time',\n",
       " 'hurries',\n",
       " 'on',\n",
       " '\\n',\n",
       " 'and',\n",
       " 'the',\n",
       " 'leaves',\n",
       " 'that',\n",
       " 'are',\n",
       " 'green',\n",
       " 'turn',\n",
       " 'to',\n",
       " 'brown',\n",
       " '\\n',\n",
       " 'and',\n",
       " 'they',\n",
       " 'wither',\n",
       " 'with',\n",
       " 'the',\n",
       " 'wind',\n",
       " '\\n',\n",
       " 'and',\n",
       " 'they',\n",
       " 'crumble',\n",
       " 'in',\n",
       " 'your',\n",
       " 'hand',\n",
       " '\\n',\n",
       " 'once',\n",
       " 'my',\n",
       " 'heart',\n",
       " 'was',\n",
       " 'filled',\n",
       " 'with',\n",
       " 'love',\n",
       " 'of',\n",
       " 'a',\n",
       " 'girl',\n",
       " '\\n',\n",
       " 'i',\n",
       " 'held',\n",
       " 'her',\n",
       " 'close',\n",
       " 'but',\n",
       " 'she',\n",
       " 'faded',\n",
       " 'in',\n",
       " 'the',\n",
       " 'night',\n",
       " '\\n',\n",
       " 'like',\n",
       " 'a',\n",
       " 'poem',\n",
       " 'i',\n",
       " 'meant',\n",
       " 'to',\n",
       " 'write',\n",
       " '\\n',\n",
       " 'and',\n",
       " 'the',\n",
       " 'leaves',\n",
       " 'that',\n",
       " 'are',\n",
       " 'green',\n",
       " 'turn',\n",
       " 'to',\n",
       " 'brown',\n",
       " '\\n',\n",
       " 'and',\n",
       " 'they',\n",
       " 'wither',\n",
       " 'with',\n",
       " 'the',\n",
       " 'wind',\n",
       " '\\n',\n",
       " 'and',\n",
       " 'they',\n",
       " 'crumble',\n",
       " 'in',\n",
       " 'your',\n",
       " 'hand',\n",
       " '\\n',\n",
       " 'i',\n",
       " 'threw',\n",
       " 'a',\n",
       " 'pebble',\n",
       " 'in',\n",
       " 'a',\n",
       " 'brook',\n",
       " '\\n',\n",
       " 'and',\n",
       " 'watched',\n",
       " 'the',\n",
       " 'ripples',\n",
       " 'run',\n",
       " 'away',\n",
       " '\\n',\n",
       " 'and',\n",
       " 'they',\n",
       " 'never',\n",
       " 'made',\n",
       " 'a',\n",
       " 'sound',\n",
       " '\\n',\n",
       " 'and',\n",
       " 'the',\n",
       " 'leaves',\n",
       " 'that',\n",
       " 'are',\n",
       " 'green',\n",
       " 'turn',\n",
       " 'to',\n",
       " 'brown',\n",
       " '\\n',\n",
       " 'and',\n",
       " 'they',\n",
       " 'wither',\n",
       " 'with',\n",
       " 'the',\n",
       " 'wind',\n",
       " '\\n',\n",
       " 'and',\n",
       " 'they',\n",
       " 'crumble',\n",
       " 'in',\n",
       " 'your',\n",
       " 'hand',\n",
       " '\\n',\n",
       " 'hello',\n",
       " 'hello',\n",
       " 'hello',\n",
       " 'hello',\n",
       " '\\n',\n",
       " 'good-bye',\n",
       " 'good-bye',\n",
       " '\\n',\n",
       " 'good-bye',\n",
       " 'good-bye',\n",
       " '\\n',\n",
       " \"that's\",\n",
       " 'all',\n",
       " 'there',\n",
       " 'is',\n",
       " '\\n',\n",
       " 'and',\n",
       " 'the',\n",
       " 'leaves',\n",
       " 'that',\n",
       " 'are',\n",
       " 'green',\n",
       " 'turn',\n",
       " 'to',\n",
       " 'brown',\n",
       " '\\n',\n",
       " 'hello',\n",
       " 'darkness',\n",
       " 'my',\n",
       " 'old',\n",
       " 'friend',\n",
       " '\\n',\n",
       " \"i've\",\n",
       " 'come',\n",
       " 'to',\n",
       " 'talk',\n",
       " 'with',\n",
       " 'you',\n",
       " 'again',\n",
       " '\\n',\n",
       " 'because',\n",
       " 'a',\n",
       " 'vision',\n",
       " 'softly',\n",
       " 'creeping',\n",
       " '\\n',\n",
       " 'left',\n",
       " 'its',\n",
       " 'seeds',\n",
       " 'while',\n",
       " 'i',\n",
       " 'was',\n",
       " 'sleeping',\n",
       " '\\n',\n",
       " 'and',\n",
       " 'the',\n",
       " 'vision',\n",
       " 'that',\n",
       " 'was',\n",
       " 'planted',\n",
       " 'in',\n",
       " 'my',\n",
       " 'brain',\n",
       " '\\n',\n",
       " 'still',\n",
       " 'remains',\n",
       " '\\n',\n",
       " 'within',\n",
       " 'the',\n",
       " 'sound',\n",
       " 'of',\n",
       " 'silence',\n",
       " '\\n',\n",
       " 'in',\n",
       " 'restless',\n",
       " 'dreams',\n",
       " 'i',\n",
       " 'walked',\n",
       " 'alone',\n",
       " '\\n',\n",
       " 'narrow',\n",
       " 'streets',\n",
       " 'of',\n",
       " 'cobblestone',\n",
       " '\\n',\n",
       " \"'neath\",\n",
       " 'the',\n",
       " 'halo',\n",
       " 'of',\n",
       " 'a',\n",
       " 'streetlamp',\n",
       " '\\n',\n",
       " 'i',\n",
       " 'turned',\n",
       " 'my',\n",
       " 'collar',\n",
       " 'to',\n",
       " 'the',\n",
       " 'cold',\n",
       " 'and',\n",
       " 'damp',\n",
       " '\\n',\n",
       " 'when',\n",
       " 'my',\n",
       " 'eyes',\n",
       " 'were',\n",
       " 'stabbed',\n",
       " 'by',\n",
       " 'the',\n",
       " 'flash',\n",
       " 'of',\n",
       " 'a',\n",
       " 'neon',\n",
       " 'light',\n",
       " '\\n',\n",
       " 'that',\n",
       " 'split',\n",
       " 'the',\n",
       " 'night',\n",
       " '\\n',\n",
       " 'and',\n",
       " 'touched',\n",
       " 'the',\n",
       " 'sound',\n",
       " 'of',\n",
       " 'silence',\n",
       " '\\n',\n",
       " 'and',\n",
       " 'in',\n",
       " 'the',\n",
       " 'naked',\n",
       " 'light',\n",
       " 'i',\n",
       " 'saw',\n",
       " '\\n',\n",
       " 'ten',\n",
       " 'thousand',\n",
       " 'people',\n",
       " 'maybe',\n",
       " 'more',\n",
       " '\\n',\n",
       " 'people',\n",
       " 'talking',\n",
       " 'without',\n",
       " 'speaking',\n",
       " '\\n',\n",
       " 'people',\n",
       " 'hearing',\n",
       " 'without',\n",
       " 'listening',\n",
       " '\\n',\n",
       " 'people',\n",
       " 'writing',\n",
       " 'songs',\n",
       " 'that',\n",
       " 'voices',\n",
       " 'never',\n",
       " 'share',\n",
       " '\\n',\n",
       " 'no',\n",
       " 'one',\n",
       " 'dared',\n",
       " '\\n',\n",
       " 'disturb',\n",
       " 'the',\n",
       " 'sound',\n",
       " 'of',\n",
       " 'silence',\n",
       " '\\n',\n",
       " 'fools',\n",
       " 'said',\n",
       " 'i',\n",
       " 'you',\n",
       " 'do',\n",
       " 'not',\n",
       " 'know',\n",
       " '\\n',\n",
       " 'silence',\n",
       " 'like',\n",
       " 'a',\n",
       " 'cancer',\n",
       " 'grows',\n",
       " '\\n',\n",
       " 'hear',\n",
       " 'my',\n",
       " 'words',\n",
       " 'that',\n",
       " 'i',\n",
       " 'might',\n",
       " 'teach',\n",
       " 'you',\n",
       " '\\n',\n",
       " 'take',\n",
       " 'my',\n",
       " 'arms',\n",
       " 'that',\n",
       " 'i',\n",
       " 'might',\n",
       " 'reach',\n",
       " 'you',\n",
       " '\\n',\n",
       " 'but',\n",
       " 'my',\n",
       " 'words',\n",
       " 'like',\n",
       " 'silent',\n",
       " 'raindrops',\n",
       " 'fell',\n",
       " '\\n',\n",
       " 'and',\n",
       " 'echoed',\n",
       " 'in',\n",
       " 'the',\n",
       " 'wells',\n",
       " 'of',\n",
       " 'silence',\n",
       " '\\n',\n",
       " 'and',\n",
       " 'the',\n",
       " 'people',\n",
       " 'bowed',\n",
       " 'and',\n",
       " 'prayed',\n",
       " '\\n',\n",
       " 'to',\n",
       " 'the',\n",
       " 'neon',\n",
       " 'god',\n",
       " 'they',\n",
       " 'made',\n",
       " '\\n',\n",
       " 'and',\n",
       " 'the',\n",
       " 'sign',\n",
       " 'flashed',\n",
       " 'out',\n",
       " 'its',\n",
       " 'warning',\n",
       " '\\n',\n",
       " 'in',\n",
       " 'the',\n",
       " 'words',\n",
       " 'that',\n",
       " 'it',\n",
       " 'was',\n",
       " 'forming',\n",
       " '\\n',\n",
       " 'and',\n",
       " 'the',\n",
       " 'sign',\n",
       " 'said',\n",
       " 'the',\n",
       " 'words',\n",
       " 'of',\n",
       " 'the',\n",
       " 'prophets',\n",
       " '\\n',\n",
       " 'are',\n",
       " 'written',\n",
       " 'on',\n",
       " 'the',\n",
       " 'subway',\n",
       " 'walls',\n",
       " '\\n',\n",
       " 'and',\n",
       " 'tenement',\n",
       " 'halls',\n",
       " '\\n',\n",
       " 'and',\n",
       " 'whispered',\n",
       " 'in',\n",
       " 'the',\n",
       " 'sounds',\n",
       " 'of',\n",
       " 'silence',\n",
       " '\\n',\n",
       " 'blessed',\n",
       " 'are',\n",
       " 'the',\n",
       " 'meek',\n",
       " 'for',\n",
       " 'they',\n",
       " 'shall',\n",
       " 'inherit',\n",
       " '\\n',\n",
       " 'blessed',\n",
       " 'is',\n",
       " 'the',\n",
       " 'lamb',\n",
       " 'whose',\n",
       " 'blood',\n",
       " 'flows',\n",
       " '\\n',\n",
       " 'blessed',\n",
       " 'are',\n",
       " 'the',\n",
       " 'sat',\n",
       " 'upon',\n",
       " 'spat',\n",
       " 'upon',\n",
       " 'ratted',\n",
       " 'on',\n",
       " '\\n',\n",
       " 'o',\n",
       " 'lord',\n",
       " 'why',\n",
       " 'have',\n",
       " 'you',\n",
       " 'forsaken',\n",
       " 'me?',\n",
       " '\\n',\n",
       " 'i',\n",
       " 'got',\n",
       " 'no',\n",
       " 'place',\n",
       " 'to',\n",
       " 'go',\n",
       " '\\n',\n",
       " \"i've\",\n",
       " 'walked',\n",
       " 'around',\n",
       " 'soho',\n",
       " 'for',\n",
       " 'the',\n",
       " 'last',\n",
       " 'night',\n",
       " 'or',\n",
       " 'so',\n",
       " '\\n',\n",
       " 'ah',\n",
       " 'but',\n",
       " 'it',\n",
       " \"doesn't\",\n",
       " 'matter',\n",
       " 'no',\n",
       " '\\n',\n",
       " 'blessed',\n",
       " 'is',\n",
       " 'the',\n",
       " 'land',\n",
       " 'and',\n",
       " 'the',\n",
       " 'kingdom',\n",
       " '\\n',\n",
       " 'blessed',\n",
       " 'is',\n",
       " 'the',\n",
       " 'man',\n",
       " 'whose',\n",
       " 'soul',\n",
       " 'belongs',\n",
       " 'to',\n",
       " '\\n',\n",
       " 'blessed',\n",
       " 'are',\n",
       " 'the',\n",
       " 'meth',\n",
       " 'drinkers',\n",
       " 'pot',\n",
       " 'sellers',\n",
       " 'illusion',\n",
       " 'dwellers',\n",
       " '\\n',\n",
       " 'o',\n",
       " 'lord',\n",
       " 'why',\n",
       " 'have',\n",
       " 'you',\n",
       " 'forsaken',\n",
       " 'me?',\n",
       " '\\n',\n",
       " 'my',\n",
       " 'words',\n",
       " 'trickle',\n",
       " 'down',\n",
       " 'from',\n",
       " 'a',\n",
       " 'wound',\n",
       " '\\n',\n",
       " 'that',\n",
       " 'i',\n",
       " 'have',\n",
       " 'no',\n",
       " 'intention',\n",
       " 'to',\n",
       " 'heal',\n",
       " '\\n',\n",
       " 'blessed',\n",
       " 'are',\n",
       " 'the',\n",
       " 'stained',\n",
       " 'glass',\n",
       " 'window',\n",
       " 'pane',\n",
       " 'glass',\n",
       " '\\n',\n",
       " 'blessed',\n",
       " 'is',\n",
       " 'the',\n",
       " 'church',\n",
       " 'service',\n",
       " 'makes',\n",
       " 'me',\n",
       " 'nervous',\n",
       " '\\n',\n",
       " 'blessed',\n",
       " 'are',\n",
       " 'the',\n",
       " 'penny',\n",
       " 'rookers',\n",
       " 'cheap',\n",
       " 'hookers',\n",
       " 'groovy',\n",
       " 'lookers',\n",
       " '\\n',\n",
       " 'o',\n",
       " 'lord',\n",
       " 'why',\n",
       " 'have',\n",
       " 'you',\n",
       " 'forsaken',\n",
       " 'me?',\n",
       " '\\n',\n",
       " 'i',\n",
       " 'have',\n",
       " 'tended',\n",
       " 'my',\n",
       " 'own',\n",
       " 'garden',\n",
       " '\\n',\n",
       " 'much',\n",
       " 'too',\n",
       " 'long',\n",
       " '\\n',\n",
       " 'i',\n",
       " 'hear',\n",
       " 'the',\n",
       " 'drizzle',\n",
       " 'of',\n",
       " 'the',\n",
       " 'rain',\n",
       " '\\n',\n",
       " 'like',\n",
       " 'a',\n",
       " 'memory',\n",
       " 'it',\n",
       " 'falls',\n",
       " '\\n',\n",
       " 'soft',\n",
       " 'and',\n",
       " 'warm',\n",
       " 'continuing',\n",
       " '\\n',\n",
       " 'tapping',\n",
       " 'on',\n",
       " 'my',\n",
       " 'roof',\n",
       " 'and',\n",
       " 'walls',\n",
       " '\\n',\n",
       " 'and',\n",
       " 'from',\n",
       " 'the',\n",
       " 'shelter',\n",
       " 'of',\n",
       " 'my',\n",
       " 'mind',\n",
       " '\\n',\n",
       " 'through',\n",
       " 'the',\n",
       " 'window',\n",
       " 'of',\n",
       " 'my',\n",
       " 'eyes',\n",
       " '\\n',\n",
       " 'i',\n",
       " 'gaze',\n",
       " 'beyond',\n",
       " 'the',\n",
       " 'rain-drenched',\n",
       " 'streets',\n",
       " '\\n',\n",
       " 'to',\n",
       " 'england',\n",
       " 'where',\n",
       " 'my',\n",
       " 'heart',\n",
       " 'lies',\n",
       " '\\n',\n",
       " 'my',\n",
       " \"mind's\",\n",
       " 'distracted',\n",
       " 'and',\n",
       " 'diffused',\n",
       " '\\n',\n",
       " 'my',\n",
       " 'thoughts',\n",
       " 'are',\n",
       " 'many',\n",
       " 'miles',\n",
       " 'away',\n",
       " '\\n',\n",
       " 'they',\n",
       " 'lie',\n",
       " 'with',\n",
       " 'you',\n",
       " 'when',\n",
       " \"you're\",\n",
       " 'asleep',\n",
       " '\\n',\n",
       " 'and',\n",
       " 'kiss',\n",
       " 'you',\n",
       " 'when',\n",
       " 'you',\n",
       " 'start',\n",
       " 'your',\n",
       " 'day',\n",
       " '\\n',\n",
       " 'and',\n",
       " 'a',\n",
       " 'song',\n",
       " 'i',\n",
       " 'was',\n",
       " 'writing',\n",
       " 'is',\n",
       " 'left',\n",
       " 'undone',\n",
       " '\\n',\n",
       " 'i',\n",
       " \"don't\",\n",
       " 'know',\n",
       " 'why',\n",
       " 'i',\n",
       " 'spend',\n",
       " 'my',\n",
       " 'time',\n",
       " '\\n',\n",
       " 'writing',\n",
       " 'songs',\n",
       " 'i',\n",
       " \"can't\",\n",
       " 'believe',\n",
       " '\\n',\n",
       " 'with',\n",
       " 'words',\n",
       " 'that',\n",
       " 'tear',\n",
       " 'and',\n",
       " 'strain',\n",
       " 'to',\n",
       " 'rhyme',\n",
       " '\\n',\n",
       " 'and',\n",
       " 'so',\n",
       " 'you',\n",
       " 'see',\n",
       " 'i',\n",
       " 'have',\n",
       " 'come',\n",
       " 'to',\n",
       " 'doubt',\n",
       " '\\n',\n",
       " 'all',\n",
       " 'that',\n",
       " 'i',\n",
       " 'once',\n",
       " 'held',\n",
       " 'as',\n",
       " 'true',\n",
       " '\\n',\n",
       " 'i',\n",
       " 'stand',\n",
       " 'alone',\n",
       " 'without',\n",
       " 'beliefs',\n",
       " '\\n',\n",
       " 'the',\n",
       " 'only',\n",
       " 'truth',\n",
       " 'i',\n",
       " 'know',\n",
       " 'is',\n",
       " 'you',\n",
       " '\\n',\n",
       " 'and',\n",
       " 'as',\n",
       " 'i',\n",
       " 'watch',\n",
       " 'the',\n",
       " 'drops',\n",
       " 'of',\n",
       " 'rain',\n",
       " '\\n',\n",
       " 'weave',\n",
       " 'their',\n",
       " 'weary',\n",
       " 'paths',\n",
       " 'and',\n",
       " 'die',\n",
       " '\\n',\n",
       " 'i',\n",
       " 'know',\n",
       " 'that',\n",
       " 'i',\n",
       " 'am',\n",
       " 'like',\n",
       " 'the',\n",
       " 'rain',\n",
       " '\\n',\n",
       " 'there',\n",
       " 'but',\n",
       " 'for',\n",
       " 'the',\n",
       " 'grace',\n",
       " 'of',\n",
       " 'you',\n",
       " 'go',\n",
       " 'i',\n",
       " '\\n',\n",
       " 'i',\n",
       " 'can',\n",
       " 'hear',\n",
       " 'the',\n",
       " 'soft',\n",
       " 'breathing',\n",
       " 'of',\n",
       " 'the',\n",
       " 'girl',\n",
       " 'that',\n",
       " 'i',\n",
       " 'love',\n",
       " '\\n',\n",
       " 'as',\n",
       " 'she',\n",
       " 'lies',\n",
       " 'here',\n",
       " 'beside',\n",
       " 'me',\n",
       " 'asleep',\n",
       " 'with',\n",
       " 'the',\n",
       " 'night',\n",
       " '\\n',\n",
       " 'her',\n",
       " 'hair',\n",
       " 'in',\n",
       " 'a',\n",
       " 'fine',\n",
       " 'mist',\n",
       " 'floats',\n",
       " 'on',\n",
       " 'my',\n",
       " 'pillow',\n",
       " '\\n',\n",
       " 'reflecting',\n",
       " 'the',\n",
       " 'glow',\n",
       " 'of',\n",
       " 'the',\n",
       " 'winter',\n",
       " 'moonlight',\n",
       " '\\n',\n",
       " 'but',\n",
       " \"i've\",\n",
       " 'got',\n",
       " 'to',\n",
       " 'creep',\n",
       " 'down',\n",
       " 'the',\n",
       " 'alleyway',\n",
       " '\\n',\n",
       " 'fly',\n",
       " 'down',\n",
       " 'the',\n",
       " 'highway',\n",
       " '\\n',\n",
       " 'before',\n",
       " 'they',\n",
       " 'come',\n",
       " 'to',\n",
       " 'catch',\n",
       " 'me',\n",
       " \"i'll\",\n",
       " 'be',\n",
       " 'gone',\n",
       " '\\n',\n",
       " 'somewhere',\n",
       " 'they',\n",
       " \"can't\",\n",
       " 'find',\n",
       " 'me',\n",
       " '\\n',\n",
       " 'oh',\n",
       " 'baby',\n",
       " 'you',\n",
       " \"don't\",\n",
       " 'know',\n",
       " 'what',\n",
       " \"i've\",\n",
       " 'done',\n",
       " '\\n',\n",
       " \"i've\",\n",
       " 'committed',\n",
       " 'a',\n",
       " 'crime',\n",
       " \"i've\",\n",
       " 'broken',\n",
       " 'the',\n",
       " 'law',\n",
       " '\\n',\n",
       " 'while',\n",
       " 'you',\n",
       " 'were',\n",
       " 'here',\n",
       " 'sleeping',\n",
       " 'and',\n",
       " 'just',\n",
       " 'dreaming',\n",
       " 'of',\n",
       " 'me',\n",
       " '\\n',\n",
       " 'i',\n",
       " 'held',\n",
       " 'up',\n",
       " 'and',\n",
       " 'robbed',\n",
       " 'a',\n",
       " 'liquor',\n",
       " 'store',\n",
       " '\\n',\n",
       " 'but',\n",
       " \"i've\",\n",
       " 'got',\n",
       " 'to',\n",
       " 'creep',\n",
       " 'down',\n",
       " 'the',\n",
       " 'alleyway',\n",
       " '\\n',\n",
       " 'fly',\n",
       " 'down',\n",
       " 'the',\n",
       " 'highway',\n",
       " '\\n',\n",
       " 'before',\n",
       " 'they',\n",
       " 'come',\n",
       " 'to',\n",
       " 'catch',\n",
       " 'me',\n",
       " \"i'll\",\n",
       " 'be',\n",
       " 'gone',\n",
       " '\\n',\n",
       " 'somewhere',\n",
       " 'they',\n",
       " \"can't\",\n",
       " 'find',\n",
       " 'me',\n",
       " '\\n',\n",
       " 'oh',\n",
       " 'my',\n",
       " 'life',\n",
       " 'seems',\n",
       " 'unreal',\n",
       " 'my',\n",
       " 'crime',\n",
       " 'an',\n",
       " 'illusion',\n",
       " '\\n',\n",
       " 'a',\n",
       " 'scene',\n",
       " 'badly',\n",
       " 'written',\n",
       " 'in',\n",
       " 'which',\n",
       " 'i',\n",
       " 'must',\n",
       " 'play',\n",
       " '\\n',\n",
       " 'and',\n",
       " 'thought',\n",
       " 'it',\n",
       " 'puts',\n",
       " 'me',\n",
       " 'up',\n",
       " 'tight',\n",
       " 'to',\n",
       " 'leave',\n",
       " 'you',\n",
       " '\\n',\n",
       " 'i',\n",
       " 'know',\n",
       " \"it's\",\n",
       " 'not',\n",
       " 'right',\n",
       " 'to',\n",
       " 'leave',\n",
       " 'you',\n",
       " '\\n',\n",
       " 'when',\n",
       " 'morning',\n",
       " 'is',\n",
       " 'just',\n",
       " 'a',\n",
       " 'few',\n",
       " 'hours',\n",
       " 'away',\n",
       " '\\n',\n",
       " 'but',\n",
       " \"i've\",\n",
       " 'got',\n",
       " 'to',\n",
       " 'creep',\n",
       " 'down',\n",
       " 'the',\n",
       " 'alleyway',\n",
       " '\\n',\n",
       " 'fly',\n",
       " 'down',\n",
       " 'the',\n",
       " 'highway',\n",
       " '\\n',\n",
       " 'before',\n",
       " 'they',\n",
       " 'come',\n",
       " 'to',\n",
       " 'catch',\n",
       " 'me',\n",
       " \"i'll\",\n",
       " 'be',\n",
       " 'gone',\n",
       " '\\n',\n",
       " 'somewhere',\n",
       " 'they',\n",
       " \"can't\",\n",
       " 'find',\n",
       " 'me',\n",
       " '\\n',\n",
       " \"i'm\",\n",
       " 'sitting',\n",
       " 'in',\n",
       " 'the',\n",
       " 'railway',\n",
       " 'station',\n",
       " '\\n',\n",
       " 'got',\n",
       " 'a',\n",
       " 'ticket',\n",
       " 'for',\n",
       " 'my',\n",
       " ...]"
      ]
     },
     "execution_count": 4,
     "metadata": {},
     "output_type": "execute_result"
    }
   ],
   "source": [
    "# Get word tokens from lyrics\n",
    "word_tokens = regexp_tokenize(processed_text, pattern=r'[^\\S\\r\\n]+|[\\.,;\"]', gaps=True)\n",
    "print(f\"Number of word tokens: {len(word_tokens)}\")\n",
    "word_tokens"
   ]
  },
  {
   "cell_type": "code",
   "execution_count": 5,
   "id": "19ff426c",
   "metadata": {},
   "outputs": [
    {
     "name": "stdout",
     "output_type": "stream",
     "text": [
      "Number of unique word tokens: 625\n"
     ]
    }
   ],
   "source": [
    "# Get unique word tokens from word tokens\n",
    "unique_words = sorted(list(set(word_tokens)))\n",
    "print(f\"Number of unique word tokens: {len(unique_words)}\")"
   ]
  },
  {
   "cell_type": "code",
   "execution_count": 6,
   "id": "86037479",
   "metadata": {},
   "outputs": [
    {
     "data": {
      "text/plain": [
       "['\\n',\n",
       " \"'cause\",\n",
       " \"'neath\",\n",
       " 'a',\n",
       " 'aberdeen',\n",
       " 'again',\n",
       " 'age',\n",
       " 'ah',\n",
       " \"ain't\",\n",
       " 'all',\n",
       " 'alleyway',\n",
       " 'almost',\n",
       " 'alone',\n",
       " 'always',\n",
       " 'am',\n",
       " 'an',\n",
       " 'and',\n",
       " 'april',\n",
       " 'are',\n",
       " 'armor',\n",
       " 'arms',\n",
       " 'around',\n",
       " 'arunning',\n",
       " 'as',\n",
       " 'asleep',\n",
       " 'at',\n",
       " 'august',\n",
       " 'autumn',\n",
       " 'away',\n",
       " 'away?',\n",
       " 'baby',\n",
       " 'back',\n",
       " 'bad',\n",
       " 'badly',\n",
       " 'band',\n",
       " \"banker's\",\n",
       " 'be',\n",
       " 'because',\n",
       " 'before',\n",
       " 'beliefs',\n",
       " 'believe',\n",
       " 'belongs',\n",
       " 'below',\n",
       " 'belton',\n",
       " 'beside',\n",
       " 'beyond',\n",
       " 'blessed',\n",
       " 'blood',\n",
       " 'blot',\n",
       " 'blow',\n",
       " 'books',\n",
       " 'born',\n",
       " 'bound',\n",
       " 'bowed',\n",
       " 'brain',\n",
       " 'breathing',\n",
       " 'broken',\n",
       " 'brook',\n",
       " 'brother',\n",
       " 'brown',\n",
       " 'built',\n",
       " 'bullet',\n",
       " 'but',\n",
       " 'by',\n",
       " 'can',\n",
       " \"can't\",\n",
       " 'cancer',\n",
       " 'care',\n",
       " 'catch',\n",
       " 'causes',\n",
       " 'change',\n",
       " 'changes',\n",
       " \"changin'\",\n",
       " 'charity',\n",
       " 'cheap',\n",
       " 'child',\n",
       " 'chilly',\n",
       " 'church',\n",
       " 'cigarettes',\n",
       " 'close',\n",
       " 'closed',\n",
       " 'cobblestone',\n",
       " 'cold',\n",
       " 'collar',\n",
       " 'come',\n",
       " 'comfort',\n",
       " 'committed',\n",
       " 'common',\n",
       " 'connections',\n",
       " 'continuing',\n",
       " 'cory',\n",
       " 'could',\n",
       " \"couldn't\",\n",
       " 'creep',\n",
       " 'creeping',\n",
       " 'cried',\n",
       " 'cries',\n",
       " 'crime',\n",
       " 'crumble',\n",
       " 'curse',\n",
       " 'damp',\n",
       " 'dared',\n",
       " 'dark',\n",
       " 'darkened',\n",
       " 'darkness',\n",
       " 'day',\n",
       " \"day's\",\n",
       " 'dead',\n",
       " 'december',\n",
       " 'deep',\n",
       " 'destination',\n",
       " 'diary',\n",
       " 'did',\n",
       " \"didn't\",\n",
       " 'die',\n",
       " 'died',\n",
       " 'diffused',\n",
       " 'disdain',\n",
       " 'distracted',\n",
       " 'disturb',\n",
       " 'do',\n",
       " \"doesn't\",\n",
       " \"don't\",\n",
       " 'done',\n",
       " 'doubt',\n",
       " 'down',\n",
       " 'dreaming',\n",
       " 'dreams',\n",
       " 'drinkers',\n",
       " 'drizzle',\n",
       " 'drops',\n",
       " 'dwellers',\n",
       " 'each',\n",
       " 'echoed',\n",
       " 'emptiness',\n",
       " 'endless',\n",
       " 'england',\n",
       " 'escaping',\n",
       " 'evening',\n",
       " 'ever',\n",
       " 'every',\n",
       " 'everything',\n",
       " 'everywhere',\n",
       " 'eyes',\n",
       " 'face',\n",
       " 'factories',\n",
       " 'factory',\n",
       " 'faded',\n",
       " 'fallen',\n",
       " 'falls',\n",
       " 'feelings',\n",
       " 'feels',\n",
       " 'fell',\n",
       " 'few',\n",
       " 'filled',\n",
       " 'find',\n",
       " 'fine',\n",
       " 'fixing',\n",
       " 'flash',\n",
       " 'flashed',\n",
       " 'flight',\n",
       " 'floats',\n",
       " 'flower',\n",
       " 'flows',\n",
       " 'fly',\n",
       " 'fools',\n",
       " 'for',\n",
       " 'forming',\n",
       " 'forsaken',\n",
       " 'fortress',\n",
       " 'freely',\n",
       " 'freshly',\n",
       " 'friend',\n",
       " 'friendly',\n",
       " 'friends',\n",
       " 'friendship',\n",
       " 'from',\n",
       " 'gambler',\n",
       " 'game',\n",
       " 'garden',\n",
       " 'gas',\n",
       " 'gave',\n",
       " 'gaze',\n",
       " 'gazing',\n",
       " 'girl',\n",
       " 'give',\n",
       " 'gives',\n",
       " 'glass',\n",
       " 'glow',\n",
       " 'go',\n",
       " 'god',\n",
       " 'goes:',\n",
       " \"goin'\",\n",
       " 'gone',\n",
       " 'good',\n",
       " 'good-bye',\n",
       " 'got',\n",
       " 'grace',\n",
       " 'grateful',\n",
       " 'green',\n",
       " 'groovy',\n",
       " 'grown',\n",
       " 'grows',\n",
       " 'guitar',\n",
       " 'had',\n",
       " 'hair',\n",
       " 'half',\n",
       " 'halls',\n",
       " 'halo',\n",
       " 'hand',\n",
       " 'happy',\n",
       " 'hardly',\n",
       " 'harmony',\n",
       " 'has',\n",
       " 'have',\n",
       " 'he',\n",
       " \"he'd\",\n",
       " \"he's\",\n",
       " 'head',\n",
       " 'headlines',\n",
       " 'heal',\n",
       " 'hear',\n",
       " 'heard',\n",
       " 'hearing',\n",
       " 'heart',\n",
       " 'held',\n",
       " 'hello',\n",
       " 'her',\n",
       " 'here',\n",
       " 'hiding',\n",
       " 'highway',\n",
       " 'him',\n",
       " 'himself',\n",
       " 'his',\n",
       " 'hit',\n",
       " 'home',\n",
       " 'homeward',\n",
       " 'hookers',\n",
       " 'hours',\n",
       " 'house',\n",
       " 'hurries',\n",
       " 'i',\n",
       " \"i'll\",\n",
       " \"i'm\",\n",
       " \"i've\",\n",
       " 'if',\n",
       " 'illusion',\n",
       " 'in',\n",
       " 'inherit',\n",
       " 'intention',\n",
       " 'into',\n",
       " 'is',\n",
       " 'island',\n",
       " 'it',\n",
       " \"it's\",\n",
       " 'its',\n",
       " 'july',\n",
       " 'june',\n",
       " 'just',\n",
       " 'kicking',\n",
       " 'kingdom',\n",
       " 'kiss',\n",
       " 'know',\n",
       " 'lamb',\n",
       " 'land',\n",
       " 'last',\n",
       " 'laughter',\n",
       " 'law',\n",
       " 'leave',\n",
       " 'leave!',\n",
       " 'leaves',\n",
       " 'left',\n",
       " 'lie',\n",
       " 'lies',\n",
       " 'life',\n",
       " 'light',\n",
       " 'like',\n",
       " 'liquor',\n",
       " 'listening',\n",
       " 'lived',\n",
       " 'living',\n",
       " 'long',\n",
       " 'lookers',\n",
       " 'looks',\n",
       " 'lord',\n",
       " 'love',\n",
       " 'loved',\n",
       " 'loving',\n",
       " 'made',\n",
       " 'magazines',\n",
       " 'make',\n",
       " 'makes',\n",
       " 'man',\n",
       " 'man?',\n",
       " 'many',\n",
       " 'matter',\n",
       " 'may',\n",
       " 'maybe',\n",
       " 'me',\n",
       " 'me?',\n",
       " 'meant',\n",
       " 'mediocrity',\n",
       " 'meek',\n",
       " 'memory',\n",
       " 'meth',\n",
       " 'might',\n",
       " 'mighty',\n",
       " 'miles',\n",
       " 'mind',\n",
       " \"mind's\",\n",
       " 'mist',\n",
       " 'moon',\n",
       " 'moonlight',\n",
       " 'more',\n",
       " 'morning',\n",
       " 'most',\n",
       " 'movies',\n",
       " 'mrs',\n",
       " 'much',\n",
       " \"music's\",\n",
       " 'must',\n",
       " 'my',\n",
       " 'naked',\n",
       " 'name',\n",
       " 'narrow',\n",
       " 'neatly',\n",
       " 'need',\n",
       " 'neon',\n",
       " 'nervous',\n",
       " 'never',\n",
       " 'new',\n",
       " 'news',\n",
       " 'news!',\n",
       " 'night',\n",
       " 'no',\n",
       " 'no!',\n",
       " 'none',\n",
       " 'not',\n",
       " 'notified',\n",
       " 'now',\n",
       " 'o',\n",
       " 'ocean',\n",
       " 'of',\n",
       " 'oh',\n",
       " 'old',\n",
       " 'on',\n",
       " 'once',\n",
       " 'one',\n",
       " 'one-man',\n",
       " 'one-night',\n",
       " 'only',\n",
       " 'opera',\n",
       " 'or',\n",
       " 'orgies',\n",
       " 'ought',\n",
       " 'out',\n",
       " 'over',\n",
       " 'own',\n",
       " 'owns',\n",
       " 'packing',\n",
       " 'pain',\n",
       " 'pane',\n",
       " 'papers',\n",
       " 'parents',\n",
       " 'parties',\n",
       " 'paths',\n",
       " 'patronage',\n",
       " 'pebble',\n",
       " 'peculiar',\n",
       " 'penetrate',\n",
       " 'penny',\n",
       " 'people',\n",
       " 'picture',\n",
       " 'pillow',\n",
       " 'place',\n",
       " 'planned',\n",
       " 'planted',\n",
       " 'play',\n",
       " 'playing',\n",
       " 'poem',\n",
       " 'poet',\n",
       " 'poetry',\n",
       " 'political',\n",
       " 'pony',\n",
       " 'pot',\n",
       " 'poverty',\n",
       " 'power',\n",
       " 'prayed',\n",
       " 'pretend',\n",
       " 'print',\n",
       " 'prophets',\n",
       " 'protect',\n",
       " 'prowl',\n",
       " 'put',\n",
       " 'puts',\n",
       " 'railway',\n",
       " 'rain',\n",
       " 'rain-drenched',\n",
       " 'raindrops',\n",
       " \"rainin'\",\n",
       " 'rambler',\n",
       " 'ran',\n",
       " 'ratted',\n",
       " 'reach',\n",
       " 'read:',\n",
       " 'reflecting',\n",
       " 'remains',\n",
       " 'remember',\n",
       " 'reminds',\n",
       " 'resting',\n",
       " 'restless',\n",
       " 'rhyme',\n",
       " 'richard',\n",
       " 'right',\n",
       " 'riordan',\n",
       " 'ripe',\n",
       " 'ripples',\n",
       " 'road',\n",
       " 'robbed',\n",
       " 'rock',\n",
       " 'roof',\n",
       " 'rookers',\n",
       " 'room',\n",
       " 'rose',\n",
       " 'rumor',\n",
       " 'run',\n",
       " 'safe',\n",
       " 'said',\n",
       " 'same',\n",
       " 'sat',\n",
       " 'saturday',\n",
       " 'saw',\n",
       " 'say',\n",
       " 'says',\n",
       " 'scene',\n",
       " 'sea',\n",
       " 'see',\n",
       " 'seeds',\n",
       " 'seems',\n",
       " 'seldom',\n",
       " 'sellers',\n",
       " 'september',\n",
       " 'service',\n",
       " 'shades',\n",
       " 'shall',\n",
       " 'shame',\n",
       " 'share',\n",
       " 'she',\n",
       " \"she'll\",\n",
       " 'shelter',\n",
       " 'shielded',\n",
       " 'should',\n",
       " 'show',\n",
       " 'shroud',\n",
       " 'sign',\n",
       " 'silence',\n",
       " 'silent',\n",
       " 'silently',\n",
       " 'sing',\n",
       " 'sitting',\n",
       " 'sixteen',\n",
       " 'sleep',\n",
       " 'sleeping',\n",
       " 'slumber',\n",
       " 'snow',\n",
       " 'so',\n",
       " 'society',\n",
       " 'soft',\n",
       " 'softly',\n",
       " 'soho',\n",
       " 'someone',\n",
       " 'something',\n",
       " 'somewhere',\n",
       " 'song',\n",
       " 'songs',\n",
       " 'soon',\n",
       " 'soul',\n",
       " 'sound',\n",
       " 'sounds',\n",
       " 'spat',\n",
       " 'speaking',\n",
       " 'spend',\n",
       " 'split',\n",
       " 'spoke',\n",
       " 'spread',\n",
       " 'stabbed',\n",
       " 'stained',\n",
       " 'stand',\n",
       " 'stands',\n",
       " 'start',\n",
       " 'station',\n",
       " 'stay',\n",
       " 'steep',\n",
       " 'still',\n",
       " 'stop',\n",
       " 'store',\n",
       " 'strain',\n",
       " \"stranger's\",\n",
       " 'stream',\n",
       " 'streams',\n",
       " 'streetlamp',\n",
       " 'streets',\n",
       " 'style',\n",
       " 'subway',\n",
       " 'suitcase',\n",
       " 'surely',\n",
       " 'swelled',\n",
       " 'take',\n",
       " 'talk',\n",
       " 'talking',\n",
       " 'tapping',\n",
       " 'teach',\n",
       " 'tear',\n",
       " 'ten',\n",
       " 'tended',\n",
       " 'tenement',\n",
       " 'thanked',\n",
       " 'that',\n",
       " \"that's\",\n",
       " 'the',\n",
       " 'their',\n",
       " 'them',\n",
       " 'there',\n",
       " \"there's\",\n",
       " 'they',\n",
       " 'thing',\n",
       " 'this',\n",
       " 'though',\n",
       " 'thought',\n",
       " \"thought's\",\n",
       " 'thoughts',\n",
       " 'thousand',\n",
       " 'threw',\n",
       " 'through',\n",
       " 'ticket',\n",
       " 'tight',\n",
       " 'time',\n",
       " 'tiny',\n",
       " 'to',\n",
       " 'tonight',\n",
       " 'too',\n",
       " 'touch',\n",
       " 'touched',\n",
       " 'touches',\n",
       " 'tour',\n",
       " 'town',\n",
       " 'travel',\n",
       " 'trickle',\n",
       " 'true',\n",
       " 'truth',\n",
       " 'tune',\n",
       " 'turn',\n",
       " 'turned',\n",
       " 'twenty-one',\n",
       " 'twenty-two',\n",
       " 'undone',\n",
       " 'unreal',\n",
       " 'up',\n",
       " 'upon',\n",
       " 'upstairs',\n",
       " 'very',\n",
       " 'vision',\n",
       " 'voices',\n",
       " 'waiting',\n",
       " 'wake',\n",
       " 'walked',\n",
       " 'walks',\n",
       " 'walls',\n",
       " 'want:',\n",
       " 'warm',\n",
       " 'warning',\n",
       " 'was',\n",
       " \"wasn't\",\n",
       " 'watch',\n",
       " 'watched',\n",
       " 'way',\n",
       " \"we've\",\n",
       " 'wealth',\n",
       " 'weary',\n",
       " 'weave',\n",
       " 'well',\n",
       " 'wells',\n",
       " 'went',\n",
       " 'were',\n",
       " 'what',\n",
       " 'when',\n",
       " 'where',\n",
       " 'which',\n",
       " 'while',\n",
       " 'whispered',\n",
       " 'who',\n",
       " 'whole',\n",
       " 'whose',\n",
       " 'why',\n",
       " 'will',\n",
       " 'wind',\n",
       " 'window',\n",
       " 'windows',\n",
       " 'winds',\n",
       " 'winter',\n",
       " \"winter's\",\n",
       " 'wish',\n",
       " 'with',\n",
       " 'wither',\n",
       " 'within',\n",
       " 'without',\n",
       " 'womb',\n",
       " \"won't\",\n",
       " 'wonder',\n",
       " 'words',\n",
       " 'work',\n",
       " 'world',\n",
       " 'would',\n",
       " 'wound',\n",
       " 'writ',\n",
       " 'write',\n",
       " 'writing',\n",
       " 'written',\n",
       " 'wrong',\n",
       " 'wrote',\n",
       " 'yacht!',\n",
       " 'years',\n",
       " 'you',\n",
       " \"you're\",\n",
       " 'your']"
      ]
     },
     "execution_count": 6,
     "metadata": {},
     "output_type": "execute_result"
    }
   ],
   "source": [
    "# Create vocabulary of word tokens\n",
    "word_vocabulary = unique_words\n",
    "word_vocabulary"
   ]
  },
  {
   "cell_type": "code",
   "execution_count": 7,
   "id": "d81c158c",
   "metadata": {},
   "outputs": [
    {
     "data": {
      "text/plain": [
       "{0: '\\n',\n",
       " 1: \"'cause\",\n",
       " 2: \"'neath\",\n",
       " 3: 'a',\n",
       " 4: 'aberdeen',\n",
       " 5: 'again',\n",
       " 6: 'age',\n",
       " 7: 'ah',\n",
       " 8: \"ain't\",\n",
       " 9: 'all',\n",
       " 10: 'alleyway',\n",
       " 11: 'almost',\n",
       " 12: 'alone',\n",
       " 13: 'always',\n",
       " 14: 'am',\n",
       " 15: 'an',\n",
       " 16: 'and',\n",
       " 17: 'april',\n",
       " 18: 'are',\n",
       " 19: 'armor',\n",
       " 20: 'arms',\n",
       " 21: 'around',\n",
       " 22: 'arunning',\n",
       " 23: 'as',\n",
       " 24: 'asleep',\n",
       " 25: 'at',\n",
       " 26: 'august',\n",
       " 27: 'autumn',\n",
       " 28: 'away',\n",
       " 29: 'away?',\n",
       " 30: 'baby',\n",
       " 31: 'back',\n",
       " 32: 'bad',\n",
       " 33: 'badly',\n",
       " 34: 'band',\n",
       " 35: \"banker's\",\n",
       " 36: 'be',\n",
       " 37: 'because',\n",
       " 38: 'before',\n",
       " 39: 'beliefs',\n",
       " 40: 'believe',\n",
       " 41: 'belongs',\n",
       " 42: 'below',\n",
       " 43: 'belton',\n",
       " 44: 'beside',\n",
       " 45: 'beyond',\n",
       " 46: 'blessed',\n",
       " 47: 'blood',\n",
       " 48: 'blot',\n",
       " 49: 'blow',\n",
       " 50: 'books',\n",
       " 51: 'born',\n",
       " 52: 'bound',\n",
       " 53: 'bowed',\n",
       " 54: 'brain',\n",
       " 55: 'breathing',\n",
       " 56: 'broken',\n",
       " 57: 'brook',\n",
       " 58: 'brother',\n",
       " 59: 'brown',\n",
       " 60: 'built',\n",
       " 61: 'bullet',\n",
       " 62: 'but',\n",
       " 63: 'by',\n",
       " 64: 'can',\n",
       " 65: \"can't\",\n",
       " 66: 'cancer',\n",
       " 67: 'care',\n",
       " 68: 'catch',\n",
       " 69: 'causes',\n",
       " 70: 'change',\n",
       " 71: 'changes',\n",
       " 72: \"changin'\",\n",
       " 73: 'charity',\n",
       " 74: 'cheap',\n",
       " 75: 'child',\n",
       " 76: 'chilly',\n",
       " 77: 'church',\n",
       " 78: 'cigarettes',\n",
       " 79: 'close',\n",
       " 80: 'closed',\n",
       " 81: 'cobblestone',\n",
       " 82: 'cold',\n",
       " 83: 'collar',\n",
       " 84: 'come',\n",
       " 85: 'comfort',\n",
       " 86: 'committed',\n",
       " 87: 'common',\n",
       " 88: 'connections',\n",
       " 89: 'continuing',\n",
       " 90: 'cory',\n",
       " 91: 'could',\n",
       " 92: \"couldn't\",\n",
       " 93: 'creep',\n",
       " 94: 'creeping',\n",
       " 95: 'cried',\n",
       " 96: 'cries',\n",
       " 97: 'crime',\n",
       " 98: 'crumble',\n",
       " 99: 'curse',\n",
       " 100: 'damp',\n",
       " 101: 'dared',\n",
       " 102: 'dark',\n",
       " 103: 'darkened',\n",
       " 104: 'darkness',\n",
       " 105: 'day',\n",
       " 106: \"day's\",\n",
       " 107: 'dead',\n",
       " 108: 'december',\n",
       " 109: 'deep',\n",
       " 110: 'destination',\n",
       " 111: 'diary',\n",
       " 112: 'did',\n",
       " 113: \"didn't\",\n",
       " 114: 'die',\n",
       " 115: 'died',\n",
       " 116: 'diffused',\n",
       " 117: 'disdain',\n",
       " 118: 'distracted',\n",
       " 119: 'disturb',\n",
       " 120: 'do',\n",
       " 121: \"doesn't\",\n",
       " 122: \"don't\",\n",
       " 123: 'done',\n",
       " 124: 'doubt',\n",
       " 125: 'down',\n",
       " 126: 'dreaming',\n",
       " 127: 'dreams',\n",
       " 128: 'drinkers',\n",
       " 129: 'drizzle',\n",
       " 130: 'drops',\n",
       " 131: 'dwellers',\n",
       " 132: 'each',\n",
       " 133: 'echoed',\n",
       " 134: 'emptiness',\n",
       " 135: 'endless',\n",
       " 136: 'england',\n",
       " 137: 'escaping',\n",
       " 138: 'evening',\n",
       " 139: 'ever',\n",
       " 140: 'every',\n",
       " 141: 'everything',\n",
       " 142: 'everywhere',\n",
       " 143: 'eyes',\n",
       " 144: 'face',\n",
       " 145: 'factories',\n",
       " 146: 'factory',\n",
       " 147: 'faded',\n",
       " 148: 'fallen',\n",
       " 149: 'falls',\n",
       " 150: 'feelings',\n",
       " 151: 'feels',\n",
       " 152: 'fell',\n",
       " 153: 'few',\n",
       " 154: 'filled',\n",
       " 155: 'find',\n",
       " 156: 'fine',\n",
       " 157: 'fixing',\n",
       " 158: 'flash',\n",
       " 159: 'flashed',\n",
       " 160: 'flight',\n",
       " 161: 'floats',\n",
       " 162: 'flower',\n",
       " 163: 'flows',\n",
       " 164: 'fly',\n",
       " 165: 'fools',\n",
       " 166: 'for',\n",
       " 167: 'forming',\n",
       " 168: 'forsaken',\n",
       " 169: 'fortress',\n",
       " 170: 'freely',\n",
       " 171: 'freshly',\n",
       " 172: 'friend',\n",
       " 173: 'friendly',\n",
       " 174: 'friends',\n",
       " 175: 'friendship',\n",
       " 176: 'from',\n",
       " 177: 'gambler',\n",
       " 178: 'game',\n",
       " 179: 'garden',\n",
       " 180: 'gas',\n",
       " 181: 'gave',\n",
       " 182: 'gaze',\n",
       " 183: 'gazing',\n",
       " 184: 'girl',\n",
       " 185: 'give',\n",
       " 186: 'gives',\n",
       " 187: 'glass',\n",
       " 188: 'glow',\n",
       " 189: 'go',\n",
       " 190: 'god',\n",
       " 191: 'goes:',\n",
       " 192: \"goin'\",\n",
       " 193: 'gone',\n",
       " 194: 'good',\n",
       " 195: 'good-bye',\n",
       " 196: 'got',\n",
       " 197: 'grace',\n",
       " 198: 'grateful',\n",
       " 199: 'green',\n",
       " 200: 'groovy',\n",
       " 201: 'grown',\n",
       " 202: 'grows',\n",
       " 203: 'guitar',\n",
       " 204: 'had',\n",
       " 205: 'hair',\n",
       " 206: 'half',\n",
       " 207: 'halls',\n",
       " 208: 'halo',\n",
       " 209: 'hand',\n",
       " 210: 'happy',\n",
       " 211: 'hardly',\n",
       " 212: 'harmony',\n",
       " 213: 'has',\n",
       " 214: 'have',\n",
       " 215: 'he',\n",
       " 216: \"he'd\",\n",
       " 217: \"he's\",\n",
       " 218: 'head',\n",
       " 219: 'headlines',\n",
       " 220: 'heal',\n",
       " 221: 'hear',\n",
       " 222: 'heard',\n",
       " 223: 'hearing',\n",
       " 224: 'heart',\n",
       " 225: 'held',\n",
       " 226: 'hello',\n",
       " 227: 'her',\n",
       " 228: 'here',\n",
       " 229: 'hiding',\n",
       " 230: 'highway',\n",
       " 231: 'him',\n",
       " 232: 'himself',\n",
       " 233: 'his',\n",
       " 234: 'hit',\n",
       " 235: 'home',\n",
       " 236: 'homeward',\n",
       " 237: 'hookers',\n",
       " 238: 'hours',\n",
       " 239: 'house',\n",
       " 240: 'hurries',\n",
       " 241: 'i',\n",
       " 242: \"i'll\",\n",
       " 243: \"i'm\",\n",
       " 244: \"i've\",\n",
       " 245: 'if',\n",
       " 246: 'illusion',\n",
       " 247: 'in',\n",
       " 248: 'inherit',\n",
       " 249: 'intention',\n",
       " 250: 'into',\n",
       " 251: 'is',\n",
       " 252: 'island',\n",
       " 253: 'it',\n",
       " 254: \"it's\",\n",
       " 255: 'its',\n",
       " 256: 'july',\n",
       " 257: 'june',\n",
       " 258: 'just',\n",
       " 259: 'kicking',\n",
       " 260: 'kingdom',\n",
       " 261: 'kiss',\n",
       " 262: 'know',\n",
       " 263: 'lamb',\n",
       " 264: 'land',\n",
       " 265: 'last',\n",
       " 266: 'laughter',\n",
       " 267: 'law',\n",
       " 268: 'leave',\n",
       " 269: 'leave!',\n",
       " 270: 'leaves',\n",
       " 271: 'left',\n",
       " 272: 'lie',\n",
       " 273: 'lies',\n",
       " 274: 'life',\n",
       " 275: 'light',\n",
       " 276: 'like',\n",
       " 277: 'liquor',\n",
       " 278: 'listening',\n",
       " 279: 'lived',\n",
       " 280: 'living',\n",
       " 281: 'long',\n",
       " 282: 'lookers',\n",
       " 283: 'looks',\n",
       " 284: 'lord',\n",
       " 285: 'love',\n",
       " 286: 'loved',\n",
       " 287: 'loving',\n",
       " 288: 'made',\n",
       " 289: 'magazines',\n",
       " 290: 'make',\n",
       " 291: 'makes',\n",
       " 292: 'man',\n",
       " 293: 'man?',\n",
       " 294: 'many',\n",
       " 295: 'matter',\n",
       " 296: 'may',\n",
       " 297: 'maybe',\n",
       " 298: 'me',\n",
       " 299: 'me?',\n",
       " 300: 'meant',\n",
       " 301: 'mediocrity',\n",
       " 302: 'meek',\n",
       " 303: 'memory',\n",
       " 304: 'meth',\n",
       " 305: 'might',\n",
       " 306: 'mighty',\n",
       " 307: 'miles',\n",
       " 308: 'mind',\n",
       " 309: \"mind's\",\n",
       " 310: 'mist',\n",
       " 311: 'moon',\n",
       " 312: 'moonlight',\n",
       " 313: 'more',\n",
       " 314: 'morning',\n",
       " 315: 'most',\n",
       " 316: 'movies',\n",
       " 317: 'mrs',\n",
       " 318: 'much',\n",
       " 319: \"music's\",\n",
       " 320: 'must',\n",
       " 321: 'my',\n",
       " 322: 'naked',\n",
       " 323: 'name',\n",
       " 324: 'narrow',\n",
       " 325: 'neatly',\n",
       " 326: 'need',\n",
       " 327: 'neon',\n",
       " 328: 'nervous',\n",
       " 329: 'never',\n",
       " 330: 'new',\n",
       " 331: 'news',\n",
       " 332: 'news!',\n",
       " 333: 'night',\n",
       " 334: 'no',\n",
       " 335: 'no!',\n",
       " 336: 'none',\n",
       " 337: 'not',\n",
       " 338: 'notified',\n",
       " 339: 'now',\n",
       " 340: 'o',\n",
       " 341: 'ocean',\n",
       " 342: 'of',\n",
       " 343: 'oh',\n",
       " 344: 'old',\n",
       " 345: 'on',\n",
       " 346: 'once',\n",
       " 347: 'one',\n",
       " 348: 'one-man',\n",
       " 349: 'one-night',\n",
       " 350: 'only',\n",
       " 351: 'opera',\n",
       " 352: 'or',\n",
       " 353: 'orgies',\n",
       " 354: 'ought',\n",
       " 355: 'out',\n",
       " 356: 'over',\n",
       " 357: 'own',\n",
       " 358: 'owns',\n",
       " 359: 'packing',\n",
       " 360: 'pain',\n",
       " 361: 'pane',\n",
       " 362: 'papers',\n",
       " 363: 'parents',\n",
       " 364: 'parties',\n",
       " 365: 'paths',\n",
       " 366: 'patronage',\n",
       " 367: 'pebble',\n",
       " 368: 'peculiar',\n",
       " 369: 'penetrate',\n",
       " 370: 'penny',\n",
       " 371: 'people',\n",
       " 372: 'picture',\n",
       " 373: 'pillow',\n",
       " 374: 'place',\n",
       " 375: 'planned',\n",
       " 376: 'planted',\n",
       " 377: 'play',\n",
       " 378: 'playing',\n",
       " 379: 'poem',\n",
       " 380: 'poet',\n",
       " 381: 'poetry',\n",
       " 382: 'political',\n",
       " 383: 'pony',\n",
       " 384: 'pot',\n",
       " 385: 'poverty',\n",
       " 386: 'power',\n",
       " 387: 'prayed',\n",
       " 388: 'pretend',\n",
       " 389: 'print',\n",
       " 390: 'prophets',\n",
       " 391: 'protect',\n",
       " 392: 'prowl',\n",
       " 393: 'put',\n",
       " 394: 'puts',\n",
       " 395: 'railway',\n",
       " 396: 'rain',\n",
       " 397: 'rain-drenched',\n",
       " 398: 'raindrops',\n",
       " 399: \"rainin'\",\n",
       " 400: 'rambler',\n",
       " 401: 'ran',\n",
       " 402: 'ratted',\n",
       " 403: 'reach',\n",
       " 404: 'read:',\n",
       " 405: 'reflecting',\n",
       " 406: 'remains',\n",
       " 407: 'remember',\n",
       " 408: 'reminds',\n",
       " 409: 'resting',\n",
       " 410: 'restless',\n",
       " 411: 'rhyme',\n",
       " 412: 'richard',\n",
       " 413: 'right',\n",
       " 414: 'riordan',\n",
       " 415: 'ripe',\n",
       " 416: 'ripples',\n",
       " 417: 'road',\n",
       " 418: 'robbed',\n",
       " 419: 'rock',\n",
       " 420: 'roof',\n",
       " 421: 'rookers',\n",
       " 422: 'room',\n",
       " 423: 'rose',\n",
       " 424: 'rumor',\n",
       " 425: 'run',\n",
       " 426: 'safe',\n",
       " 427: 'said',\n",
       " 428: 'same',\n",
       " 429: 'sat',\n",
       " 430: 'saturday',\n",
       " 431: 'saw',\n",
       " 432: 'say',\n",
       " 433: 'says',\n",
       " 434: 'scene',\n",
       " 435: 'sea',\n",
       " 436: 'see',\n",
       " 437: 'seeds',\n",
       " 438: 'seems',\n",
       " 439: 'seldom',\n",
       " 440: 'sellers',\n",
       " 441: 'september',\n",
       " 442: 'service',\n",
       " 443: 'shades',\n",
       " 444: 'shall',\n",
       " 445: 'shame',\n",
       " 446: 'share',\n",
       " 447: 'she',\n",
       " 448: \"she'll\",\n",
       " 449: 'shelter',\n",
       " 450: 'shielded',\n",
       " 451: 'should',\n",
       " 452: 'show',\n",
       " 453: 'shroud',\n",
       " 454: 'sign',\n",
       " 455: 'silence',\n",
       " 456: 'silent',\n",
       " 457: 'silently',\n",
       " 458: 'sing',\n",
       " 459: 'sitting',\n",
       " 460: 'sixteen',\n",
       " 461: 'sleep',\n",
       " 462: 'sleeping',\n",
       " 463: 'slumber',\n",
       " 464: 'snow',\n",
       " 465: 'so',\n",
       " 466: 'society',\n",
       " 467: 'soft',\n",
       " 468: 'softly',\n",
       " 469: 'soho',\n",
       " 470: 'someone',\n",
       " 471: 'something',\n",
       " 472: 'somewhere',\n",
       " 473: 'song',\n",
       " 474: 'songs',\n",
       " 475: 'soon',\n",
       " 476: 'soul',\n",
       " 477: 'sound',\n",
       " 478: 'sounds',\n",
       " 479: 'spat',\n",
       " 480: 'speaking',\n",
       " 481: 'spend',\n",
       " 482: 'split',\n",
       " 483: 'spoke',\n",
       " 484: 'spread',\n",
       " 485: 'stabbed',\n",
       " 486: 'stained',\n",
       " 487: 'stand',\n",
       " 488: 'stands',\n",
       " 489: 'start',\n",
       " 490: 'station',\n",
       " 491: 'stay',\n",
       " 492: 'steep',\n",
       " 493: 'still',\n",
       " 494: 'stop',\n",
       " 495: 'store',\n",
       " 496: 'strain',\n",
       " 497: \"stranger's\",\n",
       " 498: 'stream',\n",
       " 499: 'streams',\n",
       " 500: 'streetlamp',\n",
       " 501: 'streets',\n",
       " 502: 'style',\n",
       " 503: 'subway',\n",
       " 504: 'suitcase',\n",
       " 505: 'surely',\n",
       " 506: 'swelled',\n",
       " 507: 'take',\n",
       " 508: 'talk',\n",
       " 509: 'talking',\n",
       " 510: 'tapping',\n",
       " 511: 'teach',\n",
       " 512: 'tear',\n",
       " 513: 'ten',\n",
       " 514: 'tended',\n",
       " 515: 'tenement',\n",
       " 516: 'thanked',\n",
       " 517: 'that',\n",
       " 518: \"that's\",\n",
       " 519: 'the',\n",
       " 520: 'their',\n",
       " 521: 'them',\n",
       " 522: 'there',\n",
       " 523: \"there's\",\n",
       " 524: 'they',\n",
       " 525: 'thing',\n",
       " 526: 'this',\n",
       " 527: 'though',\n",
       " 528: 'thought',\n",
       " 529: \"thought's\",\n",
       " 530: 'thoughts',\n",
       " 531: 'thousand',\n",
       " 532: 'threw',\n",
       " 533: 'through',\n",
       " 534: 'ticket',\n",
       " 535: 'tight',\n",
       " 536: 'time',\n",
       " 537: 'tiny',\n",
       " 538: 'to',\n",
       " 539: 'tonight',\n",
       " 540: 'too',\n",
       " 541: 'touch',\n",
       " 542: 'touched',\n",
       " 543: 'touches',\n",
       " 544: 'tour',\n",
       " 545: 'town',\n",
       " 546: 'travel',\n",
       " 547: 'trickle',\n",
       " 548: 'true',\n",
       " 549: 'truth',\n",
       " 550: 'tune',\n",
       " 551: 'turn',\n",
       " 552: 'turned',\n",
       " 553: 'twenty-one',\n",
       " 554: 'twenty-two',\n",
       " 555: 'undone',\n",
       " 556: 'unreal',\n",
       " 557: 'up',\n",
       " 558: 'upon',\n",
       " 559: 'upstairs',\n",
       " 560: 'very',\n",
       " 561: 'vision',\n",
       " 562: 'voices',\n",
       " 563: 'waiting',\n",
       " 564: 'wake',\n",
       " 565: 'walked',\n",
       " 566: 'walks',\n",
       " 567: 'walls',\n",
       " 568: 'want:',\n",
       " 569: 'warm',\n",
       " 570: 'warning',\n",
       " 571: 'was',\n",
       " 572: \"wasn't\",\n",
       " 573: 'watch',\n",
       " 574: 'watched',\n",
       " 575: 'way',\n",
       " 576: \"we've\",\n",
       " 577: 'wealth',\n",
       " 578: 'weary',\n",
       " 579: 'weave',\n",
       " 580: 'well',\n",
       " 581: 'wells',\n",
       " 582: 'went',\n",
       " 583: 'were',\n",
       " 584: 'what',\n",
       " 585: 'when',\n",
       " 586: 'where',\n",
       " 587: 'which',\n",
       " 588: 'while',\n",
       " 589: 'whispered',\n",
       " 590: 'who',\n",
       " 591: 'whole',\n",
       " 592: 'whose',\n",
       " 593: 'why',\n",
       " 594: 'will',\n",
       " 595: 'wind',\n",
       " 596: 'window',\n",
       " 597: 'windows',\n",
       " 598: 'winds',\n",
       " 599: 'winter',\n",
       " 600: \"winter's\",\n",
       " 601: 'wish',\n",
       " 602: 'with',\n",
       " 603: 'wither',\n",
       " 604: 'within',\n",
       " 605: 'without',\n",
       " 606: 'womb',\n",
       " 607: \"won't\",\n",
       " 608: 'wonder',\n",
       " 609: 'words',\n",
       " 610: 'work',\n",
       " 611: 'world',\n",
       " 612: 'would',\n",
       " 613: 'wound',\n",
       " 614: 'writ',\n",
       " 615: 'write',\n",
       " 616: 'writing',\n",
       " 617: 'written',\n",
       " 618: 'wrong',\n",
       " 619: 'wrote',\n",
       " 620: 'yacht!',\n",
       " 621: 'years',\n",
       " 622: 'you',\n",
       " 623: \"you're\",\n",
       " 624: 'your'}"
      ]
     },
     "execution_count": 7,
     "metadata": {},
     "output_type": "execute_result"
    }
   ],
   "source": [
    "# Create index-word mappings \n",
    "indices_words = dict((index, word) for index, word in enumerate(unique_words))\n",
    "indices_words"
   ]
  },
  {
   "cell_type": "code",
   "execution_count": 8,
   "id": "0e485f30",
   "metadata": {},
   "outputs": [
    {
     "data": {
      "text/plain": [
       "{'\\n': 0,\n",
       " \"'cause\": 1,\n",
       " \"'neath\": 2,\n",
       " 'a': 3,\n",
       " 'aberdeen': 4,\n",
       " 'again': 5,\n",
       " 'age': 6,\n",
       " 'ah': 7,\n",
       " \"ain't\": 8,\n",
       " 'all': 9,\n",
       " 'alleyway': 10,\n",
       " 'almost': 11,\n",
       " 'alone': 12,\n",
       " 'always': 13,\n",
       " 'am': 14,\n",
       " 'an': 15,\n",
       " 'and': 16,\n",
       " 'april': 17,\n",
       " 'are': 18,\n",
       " 'armor': 19,\n",
       " 'arms': 20,\n",
       " 'around': 21,\n",
       " 'arunning': 22,\n",
       " 'as': 23,\n",
       " 'asleep': 24,\n",
       " 'at': 25,\n",
       " 'august': 26,\n",
       " 'autumn': 27,\n",
       " 'away': 28,\n",
       " 'away?': 29,\n",
       " 'baby': 30,\n",
       " 'back': 31,\n",
       " 'bad': 32,\n",
       " 'badly': 33,\n",
       " 'band': 34,\n",
       " \"banker's\": 35,\n",
       " 'be': 36,\n",
       " 'because': 37,\n",
       " 'before': 38,\n",
       " 'beliefs': 39,\n",
       " 'believe': 40,\n",
       " 'belongs': 41,\n",
       " 'below': 42,\n",
       " 'belton': 43,\n",
       " 'beside': 44,\n",
       " 'beyond': 45,\n",
       " 'blessed': 46,\n",
       " 'blood': 47,\n",
       " 'blot': 48,\n",
       " 'blow': 49,\n",
       " 'books': 50,\n",
       " 'born': 51,\n",
       " 'bound': 52,\n",
       " 'bowed': 53,\n",
       " 'brain': 54,\n",
       " 'breathing': 55,\n",
       " 'broken': 56,\n",
       " 'brook': 57,\n",
       " 'brother': 58,\n",
       " 'brown': 59,\n",
       " 'built': 60,\n",
       " 'bullet': 61,\n",
       " 'but': 62,\n",
       " 'by': 63,\n",
       " 'can': 64,\n",
       " \"can't\": 65,\n",
       " 'cancer': 66,\n",
       " 'care': 67,\n",
       " 'catch': 68,\n",
       " 'causes': 69,\n",
       " 'change': 70,\n",
       " 'changes': 71,\n",
       " \"changin'\": 72,\n",
       " 'charity': 73,\n",
       " 'cheap': 74,\n",
       " 'child': 75,\n",
       " 'chilly': 76,\n",
       " 'church': 77,\n",
       " 'cigarettes': 78,\n",
       " 'close': 79,\n",
       " 'closed': 80,\n",
       " 'cobblestone': 81,\n",
       " 'cold': 82,\n",
       " 'collar': 83,\n",
       " 'come': 84,\n",
       " 'comfort': 85,\n",
       " 'committed': 86,\n",
       " 'common': 87,\n",
       " 'connections': 88,\n",
       " 'continuing': 89,\n",
       " 'cory': 90,\n",
       " 'could': 91,\n",
       " \"couldn't\": 92,\n",
       " 'creep': 93,\n",
       " 'creeping': 94,\n",
       " 'cried': 95,\n",
       " 'cries': 96,\n",
       " 'crime': 97,\n",
       " 'crumble': 98,\n",
       " 'curse': 99,\n",
       " 'damp': 100,\n",
       " 'dared': 101,\n",
       " 'dark': 102,\n",
       " 'darkened': 103,\n",
       " 'darkness': 104,\n",
       " 'day': 105,\n",
       " \"day's\": 106,\n",
       " 'dead': 107,\n",
       " 'december': 108,\n",
       " 'deep': 109,\n",
       " 'destination': 110,\n",
       " 'diary': 111,\n",
       " 'did': 112,\n",
       " \"didn't\": 113,\n",
       " 'die': 114,\n",
       " 'died': 115,\n",
       " 'diffused': 116,\n",
       " 'disdain': 117,\n",
       " 'distracted': 118,\n",
       " 'disturb': 119,\n",
       " 'do': 120,\n",
       " \"doesn't\": 121,\n",
       " \"don't\": 122,\n",
       " 'done': 123,\n",
       " 'doubt': 124,\n",
       " 'down': 125,\n",
       " 'dreaming': 126,\n",
       " 'dreams': 127,\n",
       " 'drinkers': 128,\n",
       " 'drizzle': 129,\n",
       " 'drops': 130,\n",
       " 'dwellers': 131,\n",
       " 'each': 132,\n",
       " 'echoed': 133,\n",
       " 'emptiness': 134,\n",
       " 'endless': 135,\n",
       " 'england': 136,\n",
       " 'escaping': 137,\n",
       " 'evening': 138,\n",
       " 'ever': 139,\n",
       " 'every': 140,\n",
       " 'everything': 141,\n",
       " 'everywhere': 142,\n",
       " 'eyes': 143,\n",
       " 'face': 144,\n",
       " 'factories': 145,\n",
       " 'factory': 146,\n",
       " 'faded': 147,\n",
       " 'fallen': 148,\n",
       " 'falls': 149,\n",
       " 'feelings': 150,\n",
       " 'feels': 151,\n",
       " 'fell': 152,\n",
       " 'few': 153,\n",
       " 'filled': 154,\n",
       " 'find': 155,\n",
       " 'fine': 156,\n",
       " 'fixing': 157,\n",
       " 'flash': 158,\n",
       " 'flashed': 159,\n",
       " 'flight': 160,\n",
       " 'floats': 161,\n",
       " 'flower': 162,\n",
       " 'flows': 163,\n",
       " 'fly': 164,\n",
       " 'fools': 165,\n",
       " 'for': 166,\n",
       " 'forming': 167,\n",
       " 'forsaken': 168,\n",
       " 'fortress': 169,\n",
       " 'freely': 170,\n",
       " 'freshly': 171,\n",
       " 'friend': 172,\n",
       " 'friendly': 173,\n",
       " 'friends': 174,\n",
       " 'friendship': 175,\n",
       " 'from': 176,\n",
       " 'gambler': 177,\n",
       " 'game': 178,\n",
       " 'garden': 179,\n",
       " 'gas': 180,\n",
       " 'gave': 181,\n",
       " 'gaze': 182,\n",
       " 'gazing': 183,\n",
       " 'girl': 184,\n",
       " 'give': 185,\n",
       " 'gives': 186,\n",
       " 'glass': 187,\n",
       " 'glow': 188,\n",
       " 'go': 189,\n",
       " 'god': 190,\n",
       " 'goes:': 191,\n",
       " \"goin'\": 192,\n",
       " 'gone': 193,\n",
       " 'good': 194,\n",
       " 'good-bye': 195,\n",
       " 'got': 196,\n",
       " 'grace': 197,\n",
       " 'grateful': 198,\n",
       " 'green': 199,\n",
       " 'groovy': 200,\n",
       " 'grown': 201,\n",
       " 'grows': 202,\n",
       " 'guitar': 203,\n",
       " 'had': 204,\n",
       " 'hair': 205,\n",
       " 'half': 206,\n",
       " 'halls': 207,\n",
       " 'halo': 208,\n",
       " 'hand': 209,\n",
       " 'happy': 210,\n",
       " 'hardly': 211,\n",
       " 'harmony': 212,\n",
       " 'has': 213,\n",
       " 'have': 214,\n",
       " 'he': 215,\n",
       " \"he'd\": 216,\n",
       " \"he's\": 217,\n",
       " 'head': 218,\n",
       " 'headlines': 219,\n",
       " 'heal': 220,\n",
       " 'hear': 221,\n",
       " 'heard': 222,\n",
       " 'hearing': 223,\n",
       " 'heart': 224,\n",
       " 'held': 225,\n",
       " 'hello': 226,\n",
       " 'her': 227,\n",
       " 'here': 228,\n",
       " 'hiding': 229,\n",
       " 'highway': 230,\n",
       " 'him': 231,\n",
       " 'himself': 232,\n",
       " 'his': 233,\n",
       " 'hit': 234,\n",
       " 'home': 235,\n",
       " 'homeward': 236,\n",
       " 'hookers': 237,\n",
       " 'hours': 238,\n",
       " 'house': 239,\n",
       " 'hurries': 240,\n",
       " 'i': 241,\n",
       " \"i'll\": 242,\n",
       " \"i'm\": 243,\n",
       " \"i've\": 244,\n",
       " 'if': 245,\n",
       " 'illusion': 246,\n",
       " 'in': 247,\n",
       " 'inherit': 248,\n",
       " 'intention': 249,\n",
       " 'into': 250,\n",
       " 'is': 251,\n",
       " 'island': 252,\n",
       " 'it': 253,\n",
       " \"it's\": 254,\n",
       " 'its': 255,\n",
       " 'july': 256,\n",
       " 'june': 257,\n",
       " 'just': 258,\n",
       " 'kicking': 259,\n",
       " 'kingdom': 260,\n",
       " 'kiss': 261,\n",
       " 'know': 262,\n",
       " 'lamb': 263,\n",
       " 'land': 264,\n",
       " 'last': 265,\n",
       " 'laughter': 266,\n",
       " 'law': 267,\n",
       " 'leave': 268,\n",
       " 'leave!': 269,\n",
       " 'leaves': 270,\n",
       " 'left': 271,\n",
       " 'lie': 272,\n",
       " 'lies': 273,\n",
       " 'life': 274,\n",
       " 'light': 275,\n",
       " 'like': 276,\n",
       " 'liquor': 277,\n",
       " 'listening': 278,\n",
       " 'lived': 279,\n",
       " 'living': 280,\n",
       " 'long': 281,\n",
       " 'lookers': 282,\n",
       " 'looks': 283,\n",
       " 'lord': 284,\n",
       " 'love': 285,\n",
       " 'loved': 286,\n",
       " 'loving': 287,\n",
       " 'made': 288,\n",
       " 'magazines': 289,\n",
       " 'make': 290,\n",
       " 'makes': 291,\n",
       " 'man': 292,\n",
       " 'man?': 293,\n",
       " 'many': 294,\n",
       " 'matter': 295,\n",
       " 'may': 296,\n",
       " 'maybe': 297,\n",
       " 'me': 298,\n",
       " 'me?': 299,\n",
       " 'meant': 300,\n",
       " 'mediocrity': 301,\n",
       " 'meek': 302,\n",
       " 'memory': 303,\n",
       " 'meth': 304,\n",
       " 'might': 305,\n",
       " 'mighty': 306,\n",
       " 'miles': 307,\n",
       " 'mind': 308,\n",
       " \"mind's\": 309,\n",
       " 'mist': 310,\n",
       " 'moon': 311,\n",
       " 'moonlight': 312,\n",
       " 'more': 313,\n",
       " 'morning': 314,\n",
       " 'most': 315,\n",
       " 'movies': 316,\n",
       " 'mrs': 317,\n",
       " 'much': 318,\n",
       " \"music's\": 319,\n",
       " 'must': 320,\n",
       " 'my': 321,\n",
       " 'naked': 322,\n",
       " 'name': 323,\n",
       " 'narrow': 324,\n",
       " 'neatly': 325,\n",
       " 'need': 326,\n",
       " 'neon': 327,\n",
       " 'nervous': 328,\n",
       " 'never': 329,\n",
       " 'new': 330,\n",
       " 'news': 331,\n",
       " 'news!': 332,\n",
       " 'night': 333,\n",
       " 'no': 334,\n",
       " 'no!': 335,\n",
       " 'none': 336,\n",
       " 'not': 337,\n",
       " 'notified': 338,\n",
       " 'now': 339,\n",
       " 'o': 340,\n",
       " 'ocean': 341,\n",
       " 'of': 342,\n",
       " 'oh': 343,\n",
       " 'old': 344,\n",
       " 'on': 345,\n",
       " 'once': 346,\n",
       " 'one': 347,\n",
       " 'one-man': 348,\n",
       " 'one-night': 349,\n",
       " 'only': 350,\n",
       " 'opera': 351,\n",
       " 'or': 352,\n",
       " 'orgies': 353,\n",
       " 'ought': 354,\n",
       " 'out': 355,\n",
       " 'over': 356,\n",
       " 'own': 357,\n",
       " 'owns': 358,\n",
       " 'packing': 359,\n",
       " 'pain': 360,\n",
       " 'pane': 361,\n",
       " 'papers': 362,\n",
       " 'parents': 363,\n",
       " 'parties': 364,\n",
       " 'paths': 365,\n",
       " 'patronage': 366,\n",
       " 'pebble': 367,\n",
       " 'peculiar': 368,\n",
       " 'penetrate': 369,\n",
       " 'penny': 370,\n",
       " 'people': 371,\n",
       " 'picture': 372,\n",
       " 'pillow': 373,\n",
       " 'place': 374,\n",
       " 'planned': 375,\n",
       " 'planted': 376,\n",
       " 'play': 377,\n",
       " 'playing': 378,\n",
       " 'poem': 379,\n",
       " 'poet': 380,\n",
       " 'poetry': 381,\n",
       " 'political': 382,\n",
       " 'pony': 383,\n",
       " 'pot': 384,\n",
       " 'poverty': 385,\n",
       " 'power': 386,\n",
       " 'prayed': 387,\n",
       " 'pretend': 388,\n",
       " 'print': 389,\n",
       " 'prophets': 390,\n",
       " 'protect': 391,\n",
       " 'prowl': 392,\n",
       " 'put': 393,\n",
       " 'puts': 394,\n",
       " 'railway': 395,\n",
       " 'rain': 396,\n",
       " 'rain-drenched': 397,\n",
       " 'raindrops': 398,\n",
       " \"rainin'\": 399,\n",
       " 'rambler': 400,\n",
       " 'ran': 401,\n",
       " 'ratted': 402,\n",
       " 'reach': 403,\n",
       " 'read:': 404,\n",
       " 'reflecting': 405,\n",
       " 'remains': 406,\n",
       " 'remember': 407,\n",
       " 'reminds': 408,\n",
       " 'resting': 409,\n",
       " 'restless': 410,\n",
       " 'rhyme': 411,\n",
       " 'richard': 412,\n",
       " 'right': 413,\n",
       " 'riordan': 414,\n",
       " 'ripe': 415,\n",
       " 'ripples': 416,\n",
       " 'road': 417,\n",
       " 'robbed': 418,\n",
       " 'rock': 419,\n",
       " 'roof': 420,\n",
       " 'rookers': 421,\n",
       " 'room': 422,\n",
       " 'rose': 423,\n",
       " 'rumor': 424,\n",
       " 'run': 425,\n",
       " 'safe': 426,\n",
       " 'said': 427,\n",
       " 'same': 428,\n",
       " 'sat': 429,\n",
       " 'saturday': 430,\n",
       " 'saw': 431,\n",
       " 'say': 432,\n",
       " 'says': 433,\n",
       " 'scene': 434,\n",
       " 'sea': 435,\n",
       " 'see': 436,\n",
       " 'seeds': 437,\n",
       " 'seems': 438,\n",
       " 'seldom': 439,\n",
       " 'sellers': 440,\n",
       " 'september': 441,\n",
       " 'service': 442,\n",
       " 'shades': 443,\n",
       " 'shall': 444,\n",
       " 'shame': 445,\n",
       " 'share': 446,\n",
       " 'she': 447,\n",
       " \"she'll\": 448,\n",
       " 'shelter': 449,\n",
       " 'shielded': 450,\n",
       " 'should': 451,\n",
       " 'show': 452,\n",
       " 'shroud': 453,\n",
       " 'sign': 454,\n",
       " 'silence': 455,\n",
       " 'silent': 456,\n",
       " 'silently': 457,\n",
       " 'sing': 458,\n",
       " 'sitting': 459,\n",
       " 'sixteen': 460,\n",
       " 'sleep': 461,\n",
       " 'sleeping': 462,\n",
       " 'slumber': 463,\n",
       " 'snow': 464,\n",
       " 'so': 465,\n",
       " 'society': 466,\n",
       " 'soft': 467,\n",
       " 'softly': 468,\n",
       " 'soho': 469,\n",
       " 'someone': 470,\n",
       " 'something': 471,\n",
       " 'somewhere': 472,\n",
       " 'song': 473,\n",
       " 'songs': 474,\n",
       " 'soon': 475,\n",
       " 'soul': 476,\n",
       " 'sound': 477,\n",
       " 'sounds': 478,\n",
       " 'spat': 479,\n",
       " 'speaking': 480,\n",
       " 'spend': 481,\n",
       " 'split': 482,\n",
       " 'spoke': 483,\n",
       " 'spread': 484,\n",
       " 'stabbed': 485,\n",
       " 'stained': 486,\n",
       " 'stand': 487,\n",
       " 'stands': 488,\n",
       " 'start': 489,\n",
       " 'station': 490,\n",
       " 'stay': 491,\n",
       " 'steep': 492,\n",
       " 'still': 493,\n",
       " 'stop': 494,\n",
       " 'store': 495,\n",
       " 'strain': 496,\n",
       " \"stranger's\": 497,\n",
       " 'stream': 498,\n",
       " 'streams': 499,\n",
       " 'streetlamp': 500,\n",
       " 'streets': 501,\n",
       " 'style': 502,\n",
       " 'subway': 503,\n",
       " 'suitcase': 504,\n",
       " 'surely': 505,\n",
       " 'swelled': 506,\n",
       " 'take': 507,\n",
       " 'talk': 508,\n",
       " 'talking': 509,\n",
       " 'tapping': 510,\n",
       " 'teach': 511,\n",
       " 'tear': 512,\n",
       " 'ten': 513,\n",
       " 'tended': 514,\n",
       " 'tenement': 515,\n",
       " 'thanked': 516,\n",
       " 'that': 517,\n",
       " \"that's\": 518,\n",
       " 'the': 519,\n",
       " 'their': 520,\n",
       " 'them': 521,\n",
       " 'there': 522,\n",
       " \"there's\": 523,\n",
       " 'they': 524,\n",
       " 'thing': 525,\n",
       " 'this': 526,\n",
       " 'though': 527,\n",
       " 'thought': 528,\n",
       " \"thought's\": 529,\n",
       " 'thoughts': 530,\n",
       " 'thousand': 531,\n",
       " 'threw': 532,\n",
       " 'through': 533,\n",
       " 'ticket': 534,\n",
       " 'tight': 535,\n",
       " 'time': 536,\n",
       " 'tiny': 537,\n",
       " 'to': 538,\n",
       " 'tonight': 539,\n",
       " 'too': 540,\n",
       " 'touch': 541,\n",
       " 'touched': 542,\n",
       " 'touches': 543,\n",
       " 'tour': 544,\n",
       " 'town': 545,\n",
       " 'travel': 546,\n",
       " 'trickle': 547,\n",
       " 'true': 548,\n",
       " 'truth': 549,\n",
       " 'tune': 550,\n",
       " 'turn': 551,\n",
       " 'turned': 552,\n",
       " 'twenty-one': 553,\n",
       " 'twenty-two': 554,\n",
       " 'undone': 555,\n",
       " 'unreal': 556,\n",
       " 'up': 557,\n",
       " 'upon': 558,\n",
       " 'upstairs': 559,\n",
       " 'very': 560,\n",
       " 'vision': 561,\n",
       " 'voices': 562,\n",
       " 'waiting': 563,\n",
       " 'wake': 564,\n",
       " 'walked': 565,\n",
       " 'walks': 566,\n",
       " 'walls': 567,\n",
       " 'want:': 568,\n",
       " 'warm': 569,\n",
       " 'warning': 570,\n",
       " 'was': 571,\n",
       " \"wasn't\": 572,\n",
       " 'watch': 573,\n",
       " 'watched': 574,\n",
       " 'way': 575,\n",
       " \"we've\": 576,\n",
       " 'wealth': 577,\n",
       " 'weary': 578,\n",
       " 'weave': 579,\n",
       " 'well': 580,\n",
       " 'wells': 581,\n",
       " 'went': 582,\n",
       " 'were': 583,\n",
       " 'what': 584,\n",
       " 'when': 585,\n",
       " 'where': 586,\n",
       " 'which': 587,\n",
       " 'while': 588,\n",
       " 'whispered': 589,\n",
       " 'who': 590,\n",
       " 'whole': 591,\n",
       " 'whose': 592,\n",
       " 'why': 593,\n",
       " 'will': 594,\n",
       " 'wind': 595,\n",
       " 'window': 596,\n",
       " 'windows': 597,\n",
       " 'winds': 598,\n",
       " 'winter': 599,\n",
       " \"winter's\": 600,\n",
       " 'wish': 601,\n",
       " 'with': 602,\n",
       " 'wither': 603,\n",
       " 'within': 604,\n",
       " 'without': 605,\n",
       " 'womb': 606,\n",
       " \"won't\": 607,\n",
       " 'wonder': 608,\n",
       " 'words': 609,\n",
       " 'work': 610,\n",
       " 'world': 611,\n",
       " 'would': 612,\n",
       " 'wound': 613,\n",
       " 'writ': 614,\n",
       " 'write': 615,\n",
       " 'writing': 616,\n",
       " 'written': 617,\n",
       " 'wrong': 618,\n",
       " 'wrote': 619,\n",
       " 'yacht!': 620,\n",
       " 'years': 621,\n",
       " 'you': 622,\n",
       " \"you're\": 623,\n",
       " 'your': 624}"
      ]
     },
     "execution_count": 8,
     "metadata": {},
     "output_type": "execute_result"
    }
   ],
   "source": [
    "# Create word-index mappings\n",
    "word_indices = dict((word, index) for index, word in enumerate(unique_words))\n",
    "word_indices"
   ]
  },
  {
   "cell_type": "code",
   "execution_count": 9,
   "id": "e5afa53f",
   "metadata": {},
   "outputs": [],
   "source": [
    "# Create x (input): Split lyrics into blocks, where each block has the same amount of words\n",
    "# Create y (targets): For each x input, the y is the word that comes next\n",
    "# The model should learn to predict y from the input x\n",
    "\n",
    "block_size = 2\n",
    "step = 1\n",
    "\n",
    "x = []\n",
    "y = []\n",
    "\n",
    "for i in range(0, len(word_tokens) - block_size, step):\n",
    "    x.append(word_tokens[i: i+block_size])\n",
    "    y.append(word_tokens[i + block_size])"
   ]
  },
  {
   "cell_type": "code",
   "execution_count": 10,
   "id": "83d0d331",
   "metadata": {},
   "outputs": [
    {
     "data": {
      "text/plain": [
       "['i', 'was']"
      ]
     },
     "execution_count": 10,
     "metadata": {},
     "output_type": "execute_result"
    }
   ],
   "source": [
    "# Inspect x\n",
    "x[0]"
   ]
  },
  {
   "cell_type": "code",
   "execution_count": 11,
   "id": "2ba28e91",
   "metadata": {},
   "outputs": [
    {
     "data": {
      "text/plain": [
       "array([[0., 0., 0., ..., 0., 0., 0.],\n",
       "       [0., 0., 0., ..., 0., 0., 0.]])"
      ]
     },
     "execution_count": 11,
     "metadata": {},
     "output_type": "execute_result"
    }
   ],
   "source": [
    "# Create one-hot encoding of x\n",
    "x_encoded = []\n",
    "\n",
    "for x_arr in x:\n",
    "    x_ints = [word_indices[item] for item in x_arr]\n",
    "    \n",
    "    x_row = []\n",
    "    for item in x_ints:\n",
    "        x_vector = np.zeros(len(unique_words))\n",
    "        x_vector[item] = 1\n",
    "        x_row.append(x_vector)\n",
    "        \n",
    "    x_encoded.append(x_row)\n",
    "    \n",
    "x_encoded = np.array(x_encoded)\n",
    "x_encoded[0]"
   ]
  },
  {
   "cell_type": "code",
   "execution_count": 12,
   "id": "6e351e6c",
   "metadata": {},
   "outputs": [
    {
     "data": {
      "text/plain": [
       "['twenty-one',\n",
       " 'years',\n",
       " 'when',\n",
       " 'i',\n",
       " 'wrote',\n",
       " 'this',\n",
       " 'song',\n",
       " '\\n',\n",
       " \"i'm\",\n",
       " 'twenty-two',\n",
       " 'now',\n",
       " 'but',\n",
       " 'i',\n",
       " \"won't\",\n",
       " 'be',\n",
       " 'for',\n",
       " 'long',\n",
       " '\\n',\n",
       " 'time',\n",
       " 'hurries',\n",
       " 'on',\n",
       " '\\n',\n",
       " 'and',\n",
       " 'the',\n",
       " 'leaves',\n",
       " 'that',\n",
       " 'are',\n",
       " 'green',\n",
       " 'turn',\n",
       " 'to',\n",
       " 'brown',\n",
       " '\\n',\n",
       " 'and',\n",
       " 'they',\n",
       " 'wither',\n",
       " 'with',\n",
       " 'the',\n",
       " 'wind',\n",
       " '\\n',\n",
       " 'and',\n",
       " 'they',\n",
       " 'crumble',\n",
       " 'in',\n",
       " 'your',\n",
       " 'hand',\n",
       " '\\n',\n",
       " 'once',\n",
       " 'my',\n",
       " 'heart',\n",
       " 'was',\n",
       " 'filled',\n",
       " 'with',\n",
       " 'love',\n",
       " 'of',\n",
       " 'a',\n",
       " 'girl',\n",
       " '\\n',\n",
       " 'i',\n",
       " 'held',\n",
       " 'her',\n",
       " 'close',\n",
       " 'but',\n",
       " 'she',\n",
       " 'faded',\n",
       " 'in',\n",
       " 'the',\n",
       " 'night',\n",
       " '\\n',\n",
       " 'like',\n",
       " 'a',\n",
       " 'poem',\n",
       " 'i',\n",
       " 'meant',\n",
       " 'to',\n",
       " 'write',\n",
       " '\\n',\n",
       " 'and',\n",
       " 'the',\n",
       " 'leaves',\n",
       " 'that',\n",
       " 'are',\n",
       " 'green',\n",
       " 'turn',\n",
       " 'to',\n",
       " 'brown',\n",
       " '\\n',\n",
       " 'and',\n",
       " 'they',\n",
       " 'wither',\n",
       " 'with',\n",
       " 'the',\n",
       " 'wind',\n",
       " '\\n',\n",
       " 'and',\n",
       " 'they',\n",
       " 'crumble',\n",
       " 'in',\n",
       " 'your',\n",
       " 'hand',\n",
       " '\\n',\n",
       " 'i',\n",
       " 'threw',\n",
       " 'a',\n",
       " 'pebble',\n",
       " 'in',\n",
       " 'a',\n",
       " 'brook',\n",
       " '\\n',\n",
       " 'and',\n",
       " 'watched',\n",
       " 'the',\n",
       " 'ripples',\n",
       " 'run',\n",
       " 'away',\n",
       " '\\n',\n",
       " 'and',\n",
       " 'they',\n",
       " 'never',\n",
       " 'made',\n",
       " 'a',\n",
       " 'sound',\n",
       " '\\n',\n",
       " 'and',\n",
       " 'the',\n",
       " 'leaves',\n",
       " 'that',\n",
       " 'are',\n",
       " 'green',\n",
       " 'turn',\n",
       " 'to',\n",
       " 'brown',\n",
       " '\\n',\n",
       " 'and',\n",
       " 'they',\n",
       " 'wither',\n",
       " 'with',\n",
       " 'the',\n",
       " 'wind',\n",
       " '\\n',\n",
       " 'and',\n",
       " 'they',\n",
       " 'crumble',\n",
       " 'in',\n",
       " 'your',\n",
       " 'hand',\n",
       " '\\n',\n",
       " 'hello',\n",
       " 'hello',\n",
       " 'hello',\n",
       " 'hello',\n",
       " '\\n',\n",
       " 'good-bye',\n",
       " 'good-bye',\n",
       " '\\n',\n",
       " 'good-bye',\n",
       " 'good-bye',\n",
       " '\\n',\n",
       " \"that's\",\n",
       " 'all',\n",
       " 'there',\n",
       " 'is',\n",
       " '\\n',\n",
       " 'and',\n",
       " 'the',\n",
       " 'leaves',\n",
       " 'that',\n",
       " 'are',\n",
       " 'green',\n",
       " 'turn',\n",
       " 'to',\n",
       " 'brown',\n",
       " '\\n',\n",
       " 'hello',\n",
       " 'darkness',\n",
       " 'my',\n",
       " 'old',\n",
       " 'friend',\n",
       " '\\n',\n",
       " \"i've\",\n",
       " 'come',\n",
       " 'to',\n",
       " 'talk',\n",
       " 'with',\n",
       " 'you',\n",
       " 'again',\n",
       " '\\n',\n",
       " 'because',\n",
       " 'a',\n",
       " 'vision',\n",
       " 'softly',\n",
       " 'creeping',\n",
       " '\\n',\n",
       " 'left',\n",
       " 'its',\n",
       " 'seeds',\n",
       " 'while',\n",
       " 'i',\n",
       " 'was',\n",
       " 'sleeping',\n",
       " '\\n',\n",
       " 'and',\n",
       " 'the',\n",
       " 'vision',\n",
       " 'that',\n",
       " 'was',\n",
       " 'planted',\n",
       " 'in',\n",
       " 'my',\n",
       " 'brain',\n",
       " '\\n',\n",
       " 'still',\n",
       " 'remains',\n",
       " '\\n',\n",
       " 'within',\n",
       " 'the',\n",
       " 'sound',\n",
       " 'of',\n",
       " 'silence',\n",
       " '\\n',\n",
       " 'in',\n",
       " 'restless',\n",
       " 'dreams',\n",
       " 'i',\n",
       " 'walked',\n",
       " 'alone',\n",
       " '\\n',\n",
       " 'narrow',\n",
       " 'streets',\n",
       " 'of',\n",
       " 'cobblestone',\n",
       " '\\n',\n",
       " \"'neath\",\n",
       " 'the',\n",
       " 'halo',\n",
       " 'of',\n",
       " 'a',\n",
       " 'streetlamp',\n",
       " '\\n',\n",
       " 'i',\n",
       " 'turned',\n",
       " 'my',\n",
       " 'collar',\n",
       " 'to',\n",
       " 'the',\n",
       " 'cold',\n",
       " 'and',\n",
       " 'damp',\n",
       " '\\n',\n",
       " 'when',\n",
       " 'my',\n",
       " 'eyes',\n",
       " 'were',\n",
       " 'stabbed',\n",
       " 'by',\n",
       " 'the',\n",
       " 'flash',\n",
       " 'of',\n",
       " 'a',\n",
       " 'neon',\n",
       " 'light',\n",
       " '\\n',\n",
       " 'that',\n",
       " 'split',\n",
       " 'the',\n",
       " 'night',\n",
       " '\\n',\n",
       " 'and',\n",
       " 'touched',\n",
       " 'the',\n",
       " 'sound',\n",
       " 'of',\n",
       " 'silence',\n",
       " '\\n',\n",
       " 'and',\n",
       " 'in',\n",
       " 'the',\n",
       " 'naked',\n",
       " 'light',\n",
       " 'i',\n",
       " 'saw',\n",
       " '\\n',\n",
       " 'ten',\n",
       " 'thousand',\n",
       " 'people',\n",
       " 'maybe',\n",
       " 'more',\n",
       " '\\n',\n",
       " 'people',\n",
       " 'talking',\n",
       " 'without',\n",
       " 'speaking',\n",
       " '\\n',\n",
       " 'people',\n",
       " 'hearing',\n",
       " 'without',\n",
       " 'listening',\n",
       " '\\n',\n",
       " 'people',\n",
       " 'writing',\n",
       " 'songs',\n",
       " 'that',\n",
       " 'voices',\n",
       " 'never',\n",
       " 'share',\n",
       " '\\n',\n",
       " 'no',\n",
       " 'one',\n",
       " 'dared',\n",
       " '\\n',\n",
       " 'disturb',\n",
       " 'the',\n",
       " 'sound',\n",
       " 'of',\n",
       " 'silence',\n",
       " '\\n',\n",
       " 'fools',\n",
       " 'said',\n",
       " 'i',\n",
       " 'you',\n",
       " 'do',\n",
       " 'not',\n",
       " 'know',\n",
       " '\\n',\n",
       " 'silence',\n",
       " 'like',\n",
       " 'a',\n",
       " 'cancer',\n",
       " 'grows',\n",
       " '\\n',\n",
       " 'hear',\n",
       " 'my',\n",
       " 'words',\n",
       " 'that',\n",
       " 'i',\n",
       " 'might',\n",
       " 'teach',\n",
       " 'you',\n",
       " '\\n',\n",
       " 'take',\n",
       " 'my',\n",
       " 'arms',\n",
       " 'that',\n",
       " 'i',\n",
       " 'might',\n",
       " 'reach',\n",
       " 'you',\n",
       " '\\n',\n",
       " 'but',\n",
       " 'my',\n",
       " 'words',\n",
       " 'like',\n",
       " 'silent',\n",
       " 'raindrops',\n",
       " 'fell',\n",
       " '\\n',\n",
       " 'and',\n",
       " 'echoed',\n",
       " 'in',\n",
       " 'the',\n",
       " 'wells',\n",
       " 'of',\n",
       " 'silence',\n",
       " '\\n',\n",
       " 'and',\n",
       " 'the',\n",
       " 'people',\n",
       " 'bowed',\n",
       " 'and',\n",
       " 'prayed',\n",
       " '\\n',\n",
       " 'to',\n",
       " 'the',\n",
       " 'neon',\n",
       " 'god',\n",
       " 'they',\n",
       " 'made',\n",
       " '\\n',\n",
       " 'and',\n",
       " 'the',\n",
       " 'sign',\n",
       " 'flashed',\n",
       " 'out',\n",
       " 'its',\n",
       " 'warning',\n",
       " '\\n',\n",
       " 'in',\n",
       " 'the',\n",
       " 'words',\n",
       " 'that',\n",
       " 'it',\n",
       " 'was',\n",
       " 'forming',\n",
       " '\\n',\n",
       " 'and',\n",
       " 'the',\n",
       " 'sign',\n",
       " 'said',\n",
       " 'the',\n",
       " 'words',\n",
       " 'of',\n",
       " 'the',\n",
       " 'prophets',\n",
       " '\\n',\n",
       " 'are',\n",
       " 'written',\n",
       " 'on',\n",
       " 'the',\n",
       " 'subway',\n",
       " 'walls',\n",
       " '\\n',\n",
       " 'and',\n",
       " 'tenement',\n",
       " 'halls',\n",
       " '\\n',\n",
       " 'and',\n",
       " 'whispered',\n",
       " 'in',\n",
       " 'the',\n",
       " 'sounds',\n",
       " 'of',\n",
       " 'silence',\n",
       " '\\n',\n",
       " 'blessed',\n",
       " 'are',\n",
       " 'the',\n",
       " 'meek',\n",
       " 'for',\n",
       " 'they',\n",
       " 'shall',\n",
       " 'inherit',\n",
       " '\\n',\n",
       " 'blessed',\n",
       " 'is',\n",
       " 'the',\n",
       " 'lamb',\n",
       " 'whose',\n",
       " 'blood',\n",
       " 'flows',\n",
       " '\\n',\n",
       " 'blessed',\n",
       " 'are',\n",
       " 'the',\n",
       " 'sat',\n",
       " 'upon',\n",
       " 'spat',\n",
       " 'upon',\n",
       " 'ratted',\n",
       " 'on',\n",
       " '\\n',\n",
       " 'o',\n",
       " 'lord',\n",
       " 'why',\n",
       " 'have',\n",
       " 'you',\n",
       " 'forsaken',\n",
       " 'me?',\n",
       " '\\n',\n",
       " 'i',\n",
       " 'got',\n",
       " 'no',\n",
       " 'place',\n",
       " 'to',\n",
       " 'go',\n",
       " '\\n',\n",
       " \"i've\",\n",
       " 'walked',\n",
       " 'around',\n",
       " 'soho',\n",
       " 'for',\n",
       " 'the',\n",
       " 'last',\n",
       " 'night',\n",
       " 'or',\n",
       " 'so',\n",
       " '\\n',\n",
       " 'ah',\n",
       " 'but',\n",
       " 'it',\n",
       " \"doesn't\",\n",
       " 'matter',\n",
       " 'no',\n",
       " '\\n',\n",
       " 'blessed',\n",
       " 'is',\n",
       " 'the',\n",
       " 'land',\n",
       " 'and',\n",
       " 'the',\n",
       " 'kingdom',\n",
       " '\\n',\n",
       " 'blessed',\n",
       " 'is',\n",
       " 'the',\n",
       " 'man',\n",
       " 'whose',\n",
       " 'soul',\n",
       " 'belongs',\n",
       " 'to',\n",
       " '\\n',\n",
       " 'blessed',\n",
       " 'are',\n",
       " 'the',\n",
       " 'meth',\n",
       " 'drinkers',\n",
       " 'pot',\n",
       " 'sellers',\n",
       " 'illusion',\n",
       " 'dwellers',\n",
       " '\\n',\n",
       " 'o',\n",
       " 'lord',\n",
       " 'why',\n",
       " 'have',\n",
       " 'you',\n",
       " 'forsaken',\n",
       " 'me?',\n",
       " '\\n',\n",
       " 'my',\n",
       " 'words',\n",
       " 'trickle',\n",
       " 'down',\n",
       " 'from',\n",
       " 'a',\n",
       " 'wound',\n",
       " '\\n',\n",
       " 'that',\n",
       " 'i',\n",
       " 'have',\n",
       " 'no',\n",
       " 'intention',\n",
       " 'to',\n",
       " 'heal',\n",
       " '\\n',\n",
       " 'blessed',\n",
       " 'are',\n",
       " 'the',\n",
       " 'stained',\n",
       " 'glass',\n",
       " 'window',\n",
       " 'pane',\n",
       " 'glass',\n",
       " '\\n',\n",
       " 'blessed',\n",
       " 'is',\n",
       " 'the',\n",
       " 'church',\n",
       " 'service',\n",
       " 'makes',\n",
       " 'me',\n",
       " 'nervous',\n",
       " '\\n',\n",
       " 'blessed',\n",
       " 'are',\n",
       " 'the',\n",
       " 'penny',\n",
       " 'rookers',\n",
       " 'cheap',\n",
       " 'hookers',\n",
       " 'groovy',\n",
       " 'lookers',\n",
       " '\\n',\n",
       " 'o',\n",
       " 'lord',\n",
       " 'why',\n",
       " 'have',\n",
       " 'you',\n",
       " 'forsaken',\n",
       " 'me?',\n",
       " '\\n',\n",
       " 'i',\n",
       " 'have',\n",
       " 'tended',\n",
       " 'my',\n",
       " 'own',\n",
       " 'garden',\n",
       " '\\n',\n",
       " 'much',\n",
       " 'too',\n",
       " 'long',\n",
       " '\\n',\n",
       " 'i',\n",
       " 'hear',\n",
       " 'the',\n",
       " 'drizzle',\n",
       " 'of',\n",
       " 'the',\n",
       " 'rain',\n",
       " '\\n',\n",
       " 'like',\n",
       " 'a',\n",
       " 'memory',\n",
       " 'it',\n",
       " 'falls',\n",
       " '\\n',\n",
       " 'soft',\n",
       " 'and',\n",
       " 'warm',\n",
       " 'continuing',\n",
       " '\\n',\n",
       " 'tapping',\n",
       " 'on',\n",
       " 'my',\n",
       " 'roof',\n",
       " 'and',\n",
       " 'walls',\n",
       " '\\n',\n",
       " 'and',\n",
       " 'from',\n",
       " 'the',\n",
       " 'shelter',\n",
       " 'of',\n",
       " 'my',\n",
       " 'mind',\n",
       " '\\n',\n",
       " 'through',\n",
       " 'the',\n",
       " 'window',\n",
       " 'of',\n",
       " 'my',\n",
       " 'eyes',\n",
       " '\\n',\n",
       " 'i',\n",
       " 'gaze',\n",
       " 'beyond',\n",
       " 'the',\n",
       " 'rain-drenched',\n",
       " 'streets',\n",
       " '\\n',\n",
       " 'to',\n",
       " 'england',\n",
       " 'where',\n",
       " 'my',\n",
       " 'heart',\n",
       " 'lies',\n",
       " '\\n',\n",
       " 'my',\n",
       " \"mind's\",\n",
       " 'distracted',\n",
       " 'and',\n",
       " 'diffused',\n",
       " '\\n',\n",
       " 'my',\n",
       " 'thoughts',\n",
       " 'are',\n",
       " 'many',\n",
       " 'miles',\n",
       " 'away',\n",
       " '\\n',\n",
       " 'they',\n",
       " 'lie',\n",
       " 'with',\n",
       " 'you',\n",
       " 'when',\n",
       " \"you're\",\n",
       " 'asleep',\n",
       " '\\n',\n",
       " 'and',\n",
       " 'kiss',\n",
       " 'you',\n",
       " 'when',\n",
       " 'you',\n",
       " 'start',\n",
       " 'your',\n",
       " 'day',\n",
       " '\\n',\n",
       " 'and',\n",
       " 'a',\n",
       " 'song',\n",
       " 'i',\n",
       " 'was',\n",
       " 'writing',\n",
       " 'is',\n",
       " 'left',\n",
       " 'undone',\n",
       " '\\n',\n",
       " 'i',\n",
       " \"don't\",\n",
       " 'know',\n",
       " 'why',\n",
       " 'i',\n",
       " 'spend',\n",
       " 'my',\n",
       " 'time',\n",
       " '\\n',\n",
       " 'writing',\n",
       " 'songs',\n",
       " 'i',\n",
       " \"can't\",\n",
       " 'believe',\n",
       " '\\n',\n",
       " 'with',\n",
       " 'words',\n",
       " 'that',\n",
       " 'tear',\n",
       " 'and',\n",
       " 'strain',\n",
       " 'to',\n",
       " 'rhyme',\n",
       " '\\n',\n",
       " 'and',\n",
       " 'so',\n",
       " 'you',\n",
       " 'see',\n",
       " 'i',\n",
       " 'have',\n",
       " 'come',\n",
       " 'to',\n",
       " 'doubt',\n",
       " '\\n',\n",
       " 'all',\n",
       " 'that',\n",
       " 'i',\n",
       " 'once',\n",
       " 'held',\n",
       " 'as',\n",
       " 'true',\n",
       " '\\n',\n",
       " 'i',\n",
       " 'stand',\n",
       " 'alone',\n",
       " 'without',\n",
       " 'beliefs',\n",
       " '\\n',\n",
       " 'the',\n",
       " 'only',\n",
       " 'truth',\n",
       " 'i',\n",
       " 'know',\n",
       " 'is',\n",
       " 'you',\n",
       " '\\n',\n",
       " 'and',\n",
       " 'as',\n",
       " 'i',\n",
       " 'watch',\n",
       " 'the',\n",
       " 'drops',\n",
       " 'of',\n",
       " 'rain',\n",
       " '\\n',\n",
       " 'weave',\n",
       " 'their',\n",
       " 'weary',\n",
       " 'paths',\n",
       " 'and',\n",
       " 'die',\n",
       " '\\n',\n",
       " 'i',\n",
       " 'know',\n",
       " 'that',\n",
       " 'i',\n",
       " 'am',\n",
       " 'like',\n",
       " 'the',\n",
       " 'rain',\n",
       " '\\n',\n",
       " 'there',\n",
       " 'but',\n",
       " 'for',\n",
       " 'the',\n",
       " 'grace',\n",
       " 'of',\n",
       " 'you',\n",
       " 'go',\n",
       " 'i',\n",
       " '\\n',\n",
       " 'i',\n",
       " 'can',\n",
       " 'hear',\n",
       " 'the',\n",
       " 'soft',\n",
       " 'breathing',\n",
       " 'of',\n",
       " 'the',\n",
       " 'girl',\n",
       " 'that',\n",
       " 'i',\n",
       " 'love',\n",
       " '\\n',\n",
       " 'as',\n",
       " 'she',\n",
       " 'lies',\n",
       " 'here',\n",
       " 'beside',\n",
       " 'me',\n",
       " 'asleep',\n",
       " 'with',\n",
       " 'the',\n",
       " 'night',\n",
       " '\\n',\n",
       " 'her',\n",
       " 'hair',\n",
       " 'in',\n",
       " 'a',\n",
       " 'fine',\n",
       " 'mist',\n",
       " 'floats',\n",
       " 'on',\n",
       " 'my',\n",
       " 'pillow',\n",
       " '\\n',\n",
       " 'reflecting',\n",
       " 'the',\n",
       " 'glow',\n",
       " 'of',\n",
       " 'the',\n",
       " 'winter',\n",
       " 'moonlight',\n",
       " '\\n',\n",
       " 'but',\n",
       " \"i've\",\n",
       " 'got',\n",
       " 'to',\n",
       " 'creep',\n",
       " 'down',\n",
       " 'the',\n",
       " 'alleyway',\n",
       " '\\n',\n",
       " 'fly',\n",
       " 'down',\n",
       " 'the',\n",
       " 'highway',\n",
       " '\\n',\n",
       " 'before',\n",
       " 'they',\n",
       " 'come',\n",
       " 'to',\n",
       " 'catch',\n",
       " 'me',\n",
       " \"i'll\",\n",
       " 'be',\n",
       " 'gone',\n",
       " '\\n',\n",
       " 'somewhere',\n",
       " 'they',\n",
       " \"can't\",\n",
       " 'find',\n",
       " 'me',\n",
       " '\\n',\n",
       " 'oh',\n",
       " 'baby',\n",
       " 'you',\n",
       " \"don't\",\n",
       " 'know',\n",
       " 'what',\n",
       " \"i've\",\n",
       " 'done',\n",
       " '\\n',\n",
       " \"i've\",\n",
       " 'committed',\n",
       " 'a',\n",
       " 'crime',\n",
       " \"i've\",\n",
       " 'broken',\n",
       " 'the',\n",
       " 'law',\n",
       " '\\n',\n",
       " 'while',\n",
       " 'you',\n",
       " 'were',\n",
       " 'here',\n",
       " 'sleeping',\n",
       " 'and',\n",
       " 'just',\n",
       " 'dreaming',\n",
       " 'of',\n",
       " 'me',\n",
       " '\\n',\n",
       " 'i',\n",
       " 'held',\n",
       " 'up',\n",
       " 'and',\n",
       " 'robbed',\n",
       " 'a',\n",
       " 'liquor',\n",
       " 'store',\n",
       " '\\n',\n",
       " 'but',\n",
       " \"i've\",\n",
       " 'got',\n",
       " 'to',\n",
       " 'creep',\n",
       " 'down',\n",
       " 'the',\n",
       " 'alleyway',\n",
       " '\\n',\n",
       " 'fly',\n",
       " 'down',\n",
       " 'the',\n",
       " 'highway',\n",
       " '\\n',\n",
       " 'before',\n",
       " 'they',\n",
       " 'come',\n",
       " 'to',\n",
       " 'catch',\n",
       " 'me',\n",
       " \"i'll\",\n",
       " 'be',\n",
       " 'gone',\n",
       " '\\n',\n",
       " 'somewhere',\n",
       " 'they',\n",
       " \"can't\",\n",
       " 'find',\n",
       " 'me',\n",
       " '\\n',\n",
       " 'oh',\n",
       " 'my',\n",
       " 'life',\n",
       " 'seems',\n",
       " 'unreal',\n",
       " 'my',\n",
       " 'crime',\n",
       " 'an',\n",
       " 'illusion',\n",
       " '\\n',\n",
       " 'a',\n",
       " 'scene',\n",
       " 'badly',\n",
       " 'written',\n",
       " 'in',\n",
       " 'which',\n",
       " 'i',\n",
       " 'must',\n",
       " 'play',\n",
       " '\\n',\n",
       " 'and',\n",
       " 'thought',\n",
       " 'it',\n",
       " 'puts',\n",
       " 'me',\n",
       " 'up',\n",
       " 'tight',\n",
       " 'to',\n",
       " 'leave',\n",
       " 'you',\n",
       " '\\n',\n",
       " 'i',\n",
       " 'know',\n",
       " \"it's\",\n",
       " 'not',\n",
       " 'right',\n",
       " 'to',\n",
       " 'leave',\n",
       " 'you',\n",
       " '\\n',\n",
       " 'when',\n",
       " 'morning',\n",
       " 'is',\n",
       " 'just',\n",
       " 'a',\n",
       " 'few',\n",
       " 'hours',\n",
       " 'away',\n",
       " '\\n',\n",
       " 'but',\n",
       " \"i've\",\n",
       " 'got',\n",
       " 'to',\n",
       " 'creep',\n",
       " 'down',\n",
       " 'the',\n",
       " 'alleyway',\n",
       " '\\n',\n",
       " 'fly',\n",
       " 'down',\n",
       " 'the',\n",
       " 'highway',\n",
       " '\\n',\n",
       " 'before',\n",
       " 'they',\n",
       " 'come',\n",
       " 'to',\n",
       " 'catch',\n",
       " 'me',\n",
       " \"i'll\",\n",
       " 'be',\n",
       " 'gone',\n",
       " '\\n',\n",
       " 'somewhere',\n",
       " 'they',\n",
       " \"can't\",\n",
       " 'find',\n",
       " 'me',\n",
       " '\\n',\n",
       " \"i'm\",\n",
       " 'sitting',\n",
       " 'in',\n",
       " 'the',\n",
       " 'railway',\n",
       " 'station',\n",
       " '\\n',\n",
       " 'got',\n",
       " 'a',\n",
       " 'ticket',\n",
       " 'for',\n",
       " 'my',\n",
       " 'destination',\n",
       " '\\n',\n",
       " ...]"
      ]
     },
     "execution_count": 12,
     "metadata": {},
     "output_type": "execute_result"
    }
   ],
   "source": [
    "# Inspect y\n",
    "y"
   ]
  },
  {
   "cell_type": "code",
   "execution_count": 13,
   "id": "ea6c112d",
   "metadata": {},
   "outputs": [
    {
     "data": {
      "text/plain": [
       "[553,\n",
       " 621,\n",
       " 585,\n",
       " 241,\n",
       " 619,\n",
       " 526,\n",
       " 473,\n",
       " 0,\n",
       " 243,\n",
       " 554,\n",
       " 339,\n",
       " 62,\n",
       " 241,\n",
       " 607,\n",
       " 36,\n",
       " 166,\n",
       " 281,\n",
       " 0,\n",
       " 536,\n",
       " 240,\n",
       " 345,\n",
       " 0,\n",
       " 16,\n",
       " 519,\n",
       " 270,\n",
       " 517,\n",
       " 18,\n",
       " 199,\n",
       " 551,\n",
       " 538,\n",
       " 59,\n",
       " 0,\n",
       " 16,\n",
       " 524,\n",
       " 603,\n",
       " 602,\n",
       " 519,\n",
       " 595,\n",
       " 0,\n",
       " 16,\n",
       " 524,\n",
       " 98,\n",
       " 247,\n",
       " 624,\n",
       " 209,\n",
       " 0,\n",
       " 346,\n",
       " 321,\n",
       " 224,\n",
       " 571,\n",
       " 154,\n",
       " 602,\n",
       " 285,\n",
       " 342,\n",
       " 3,\n",
       " 184,\n",
       " 0,\n",
       " 241,\n",
       " 225,\n",
       " 227,\n",
       " 79,\n",
       " 62,\n",
       " 447,\n",
       " 147,\n",
       " 247,\n",
       " 519,\n",
       " 333,\n",
       " 0,\n",
       " 276,\n",
       " 3,\n",
       " 379,\n",
       " 241,\n",
       " 300,\n",
       " 538,\n",
       " 615,\n",
       " 0,\n",
       " 16,\n",
       " 519,\n",
       " 270,\n",
       " 517,\n",
       " 18,\n",
       " 199,\n",
       " 551,\n",
       " 538,\n",
       " 59,\n",
       " 0,\n",
       " 16,\n",
       " 524,\n",
       " 603,\n",
       " 602,\n",
       " 519,\n",
       " 595,\n",
       " 0,\n",
       " 16,\n",
       " 524,\n",
       " 98,\n",
       " 247,\n",
       " 624,\n",
       " 209,\n",
       " 0,\n",
       " 241,\n",
       " 532,\n",
       " 3,\n",
       " 367,\n",
       " 247,\n",
       " 3,\n",
       " 57,\n",
       " 0,\n",
       " 16,\n",
       " 574,\n",
       " 519,\n",
       " 416,\n",
       " 425,\n",
       " 28,\n",
       " 0,\n",
       " 16,\n",
       " 524,\n",
       " 329,\n",
       " 288,\n",
       " 3,\n",
       " 477,\n",
       " 0,\n",
       " 16,\n",
       " 519,\n",
       " 270,\n",
       " 517,\n",
       " 18,\n",
       " 199,\n",
       " 551,\n",
       " 538,\n",
       " 59,\n",
       " 0,\n",
       " 16,\n",
       " 524,\n",
       " 603,\n",
       " 602,\n",
       " 519,\n",
       " 595,\n",
       " 0,\n",
       " 16,\n",
       " 524,\n",
       " 98,\n",
       " 247,\n",
       " 624,\n",
       " 209,\n",
       " 0,\n",
       " 226,\n",
       " 226,\n",
       " 226,\n",
       " 226,\n",
       " 0,\n",
       " 195,\n",
       " 195,\n",
       " 0,\n",
       " 195,\n",
       " 195,\n",
       " 0,\n",
       " 518,\n",
       " 9,\n",
       " 522,\n",
       " 251,\n",
       " 0,\n",
       " 16,\n",
       " 519,\n",
       " 270,\n",
       " 517,\n",
       " 18,\n",
       " 199,\n",
       " 551,\n",
       " 538,\n",
       " 59,\n",
       " 0,\n",
       " 226,\n",
       " 104,\n",
       " 321,\n",
       " 344,\n",
       " 172,\n",
       " 0,\n",
       " 244,\n",
       " 84,\n",
       " 538,\n",
       " 508,\n",
       " 602,\n",
       " 622,\n",
       " 5,\n",
       " 0,\n",
       " 37,\n",
       " 3,\n",
       " 561,\n",
       " 468,\n",
       " 94,\n",
       " 0,\n",
       " 271,\n",
       " 255,\n",
       " 437,\n",
       " 588,\n",
       " 241,\n",
       " 571,\n",
       " 462,\n",
       " 0,\n",
       " 16,\n",
       " 519,\n",
       " 561,\n",
       " 517,\n",
       " 571,\n",
       " 376,\n",
       " 247,\n",
       " 321,\n",
       " 54,\n",
       " 0,\n",
       " 493,\n",
       " 406,\n",
       " 0,\n",
       " 604,\n",
       " 519,\n",
       " 477,\n",
       " 342,\n",
       " 455,\n",
       " 0,\n",
       " 247,\n",
       " 410,\n",
       " 127,\n",
       " 241,\n",
       " 565,\n",
       " 12,\n",
       " 0,\n",
       " 324,\n",
       " 501,\n",
       " 342,\n",
       " 81,\n",
       " 0,\n",
       " 2,\n",
       " 519,\n",
       " 208,\n",
       " 342,\n",
       " 3,\n",
       " 500,\n",
       " 0,\n",
       " 241,\n",
       " 552,\n",
       " 321,\n",
       " 83,\n",
       " 538,\n",
       " 519,\n",
       " 82,\n",
       " 16,\n",
       " 100,\n",
       " 0,\n",
       " 585,\n",
       " 321,\n",
       " 143,\n",
       " 583,\n",
       " 485,\n",
       " 63,\n",
       " 519,\n",
       " 158,\n",
       " 342,\n",
       " 3,\n",
       " 327,\n",
       " 275,\n",
       " 0,\n",
       " 517,\n",
       " 482,\n",
       " 519,\n",
       " 333,\n",
       " 0,\n",
       " 16,\n",
       " 542,\n",
       " 519,\n",
       " 477,\n",
       " 342,\n",
       " 455,\n",
       " 0,\n",
       " 16,\n",
       " 247,\n",
       " 519,\n",
       " 322,\n",
       " 275,\n",
       " 241,\n",
       " 431,\n",
       " 0,\n",
       " 513,\n",
       " 531,\n",
       " 371,\n",
       " 297,\n",
       " 313,\n",
       " 0,\n",
       " 371,\n",
       " 509,\n",
       " 605,\n",
       " 480,\n",
       " 0,\n",
       " 371,\n",
       " 223,\n",
       " 605,\n",
       " 278,\n",
       " 0,\n",
       " 371,\n",
       " 616,\n",
       " 474,\n",
       " 517,\n",
       " 562,\n",
       " 329,\n",
       " 446,\n",
       " 0,\n",
       " 334,\n",
       " 347,\n",
       " 101,\n",
       " 0,\n",
       " 119,\n",
       " 519,\n",
       " 477,\n",
       " 342,\n",
       " 455,\n",
       " 0,\n",
       " 165,\n",
       " 427,\n",
       " 241,\n",
       " 622,\n",
       " 120,\n",
       " 337,\n",
       " 262,\n",
       " 0,\n",
       " 455,\n",
       " 276,\n",
       " 3,\n",
       " 66,\n",
       " 202,\n",
       " 0,\n",
       " 221,\n",
       " 321,\n",
       " 609,\n",
       " 517,\n",
       " 241,\n",
       " 305,\n",
       " 511,\n",
       " 622,\n",
       " 0,\n",
       " 507,\n",
       " 321,\n",
       " 20,\n",
       " 517,\n",
       " 241,\n",
       " 305,\n",
       " 403,\n",
       " 622,\n",
       " 0,\n",
       " 62,\n",
       " 321,\n",
       " 609,\n",
       " 276,\n",
       " 456,\n",
       " 398,\n",
       " 152,\n",
       " 0,\n",
       " 16,\n",
       " 133,\n",
       " 247,\n",
       " 519,\n",
       " 581,\n",
       " 342,\n",
       " 455,\n",
       " 0,\n",
       " 16,\n",
       " 519,\n",
       " 371,\n",
       " 53,\n",
       " 16,\n",
       " 387,\n",
       " 0,\n",
       " 538,\n",
       " 519,\n",
       " 327,\n",
       " 190,\n",
       " 524,\n",
       " 288,\n",
       " 0,\n",
       " 16,\n",
       " 519,\n",
       " 454,\n",
       " 159,\n",
       " 355,\n",
       " 255,\n",
       " 570,\n",
       " 0,\n",
       " 247,\n",
       " 519,\n",
       " 609,\n",
       " 517,\n",
       " 253,\n",
       " 571,\n",
       " 167,\n",
       " 0,\n",
       " 16,\n",
       " 519,\n",
       " 454,\n",
       " 427,\n",
       " 519,\n",
       " 609,\n",
       " 342,\n",
       " 519,\n",
       " 390,\n",
       " 0,\n",
       " 18,\n",
       " 617,\n",
       " 345,\n",
       " 519,\n",
       " 503,\n",
       " 567,\n",
       " 0,\n",
       " 16,\n",
       " 515,\n",
       " 207,\n",
       " 0,\n",
       " 16,\n",
       " 589,\n",
       " 247,\n",
       " 519,\n",
       " 478,\n",
       " 342,\n",
       " 455,\n",
       " 0,\n",
       " 46,\n",
       " 18,\n",
       " 519,\n",
       " 302,\n",
       " 166,\n",
       " 524,\n",
       " 444,\n",
       " 248,\n",
       " 0,\n",
       " 46,\n",
       " 251,\n",
       " 519,\n",
       " 263,\n",
       " 592,\n",
       " 47,\n",
       " 163,\n",
       " 0,\n",
       " 46,\n",
       " 18,\n",
       " 519,\n",
       " 429,\n",
       " 558,\n",
       " 479,\n",
       " 558,\n",
       " 402,\n",
       " 345,\n",
       " 0,\n",
       " 340,\n",
       " 284,\n",
       " 593,\n",
       " 214,\n",
       " 622,\n",
       " 168,\n",
       " 299,\n",
       " 0,\n",
       " 241,\n",
       " 196,\n",
       " 334,\n",
       " 374,\n",
       " 538,\n",
       " 189,\n",
       " 0,\n",
       " 244,\n",
       " 565,\n",
       " 21,\n",
       " 469,\n",
       " 166,\n",
       " 519,\n",
       " 265,\n",
       " 333,\n",
       " 352,\n",
       " 465,\n",
       " 0,\n",
       " 7,\n",
       " 62,\n",
       " 253,\n",
       " 121,\n",
       " 295,\n",
       " 334,\n",
       " 0,\n",
       " 46,\n",
       " 251,\n",
       " 519,\n",
       " 264,\n",
       " 16,\n",
       " 519,\n",
       " 260,\n",
       " 0,\n",
       " 46,\n",
       " 251,\n",
       " 519,\n",
       " 292,\n",
       " 592,\n",
       " 476,\n",
       " 41,\n",
       " 538,\n",
       " 0,\n",
       " 46,\n",
       " 18,\n",
       " 519,\n",
       " 304,\n",
       " 128,\n",
       " 384,\n",
       " 440,\n",
       " 246,\n",
       " 131,\n",
       " 0,\n",
       " 340,\n",
       " 284,\n",
       " 593,\n",
       " 214,\n",
       " 622,\n",
       " 168,\n",
       " 299,\n",
       " 0,\n",
       " 321,\n",
       " 609,\n",
       " 547,\n",
       " 125,\n",
       " 176,\n",
       " 3,\n",
       " 613,\n",
       " 0,\n",
       " 517,\n",
       " 241,\n",
       " 214,\n",
       " 334,\n",
       " 249,\n",
       " 538,\n",
       " 220,\n",
       " 0,\n",
       " 46,\n",
       " 18,\n",
       " 519,\n",
       " 486,\n",
       " 187,\n",
       " 596,\n",
       " 361,\n",
       " 187,\n",
       " 0,\n",
       " 46,\n",
       " 251,\n",
       " 519,\n",
       " 77,\n",
       " 442,\n",
       " 291,\n",
       " 298,\n",
       " 328,\n",
       " 0,\n",
       " 46,\n",
       " 18,\n",
       " 519,\n",
       " 370,\n",
       " 421,\n",
       " 74,\n",
       " 237,\n",
       " 200,\n",
       " 282,\n",
       " 0,\n",
       " 340,\n",
       " 284,\n",
       " 593,\n",
       " 214,\n",
       " 622,\n",
       " 168,\n",
       " 299,\n",
       " 0,\n",
       " 241,\n",
       " 214,\n",
       " 514,\n",
       " 321,\n",
       " 357,\n",
       " 179,\n",
       " 0,\n",
       " 318,\n",
       " 540,\n",
       " 281,\n",
       " 0,\n",
       " 241,\n",
       " 221,\n",
       " 519,\n",
       " 129,\n",
       " 342,\n",
       " 519,\n",
       " 396,\n",
       " 0,\n",
       " 276,\n",
       " 3,\n",
       " 303,\n",
       " 253,\n",
       " 149,\n",
       " 0,\n",
       " 467,\n",
       " 16,\n",
       " 569,\n",
       " 89,\n",
       " 0,\n",
       " 510,\n",
       " 345,\n",
       " 321,\n",
       " 420,\n",
       " 16,\n",
       " 567,\n",
       " 0,\n",
       " 16,\n",
       " 176,\n",
       " 519,\n",
       " 449,\n",
       " 342,\n",
       " 321,\n",
       " 308,\n",
       " 0,\n",
       " 533,\n",
       " 519,\n",
       " 596,\n",
       " 342,\n",
       " 321,\n",
       " 143,\n",
       " 0,\n",
       " 241,\n",
       " 182,\n",
       " 45,\n",
       " 519,\n",
       " 397,\n",
       " 501,\n",
       " 0,\n",
       " 538,\n",
       " 136,\n",
       " 586,\n",
       " 321,\n",
       " 224,\n",
       " 273,\n",
       " 0,\n",
       " 321,\n",
       " 309,\n",
       " 118,\n",
       " 16,\n",
       " 116,\n",
       " 0,\n",
       " 321,\n",
       " 530,\n",
       " 18,\n",
       " 294,\n",
       " 307,\n",
       " 28,\n",
       " 0,\n",
       " 524,\n",
       " 272,\n",
       " 602,\n",
       " 622,\n",
       " 585,\n",
       " 623,\n",
       " 24,\n",
       " 0,\n",
       " 16,\n",
       " 261,\n",
       " 622,\n",
       " 585,\n",
       " 622,\n",
       " 489,\n",
       " 624,\n",
       " 105,\n",
       " 0,\n",
       " 16,\n",
       " 3,\n",
       " 473,\n",
       " 241,\n",
       " 571,\n",
       " 616,\n",
       " 251,\n",
       " 271,\n",
       " 555,\n",
       " 0,\n",
       " 241,\n",
       " 122,\n",
       " 262,\n",
       " 593,\n",
       " 241,\n",
       " 481,\n",
       " 321,\n",
       " 536,\n",
       " 0,\n",
       " 616,\n",
       " 474,\n",
       " 241,\n",
       " 65,\n",
       " 40,\n",
       " 0,\n",
       " 602,\n",
       " 609,\n",
       " 517,\n",
       " 512,\n",
       " 16,\n",
       " 496,\n",
       " 538,\n",
       " 411,\n",
       " 0,\n",
       " 16,\n",
       " 465,\n",
       " 622,\n",
       " 436,\n",
       " 241,\n",
       " 214,\n",
       " 84,\n",
       " 538,\n",
       " 124,\n",
       " 0,\n",
       " 9,\n",
       " 517,\n",
       " 241,\n",
       " 346,\n",
       " 225,\n",
       " 23,\n",
       " 548,\n",
       " 0,\n",
       " 241,\n",
       " 487,\n",
       " 12,\n",
       " 605,\n",
       " 39,\n",
       " 0,\n",
       " 519,\n",
       " 350,\n",
       " 549,\n",
       " 241,\n",
       " 262,\n",
       " 251,\n",
       " 622,\n",
       " 0,\n",
       " 16,\n",
       " 23,\n",
       " 241,\n",
       " 573,\n",
       " 519,\n",
       " 130,\n",
       " 342,\n",
       " 396,\n",
       " 0,\n",
       " 579,\n",
       " 520,\n",
       " 578,\n",
       " 365,\n",
       " 16,\n",
       " 114,\n",
       " 0,\n",
       " 241,\n",
       " 262,\n",
       " 517,\n",
       " 241,\n",
       " 14,\n",
       " 276,\n",
       " 519,\n",
       " 396,\n",
       " 0,\n",
       " 522,\n",
       " 62,\n",
       " 166,\n",
       " 519,\n",
       " 197,\n",
       " 342,\n",
       " 622,\n",
       " 189,\n",
       " 241,\n",
       " 0,\n",
       " 241,\n",
       " 64,\n",
       " 221,\n",
       " 519,\n",
       " 467,\n",
       " 55,\n",
       " 342,\n",
       " 519,\n",
       " 184,\n",
       " 517,\n",
       " 241,\n",
       " 285,\n",
       " 0,\n",
       " 23,\n",
       " 447,\n",
       " 273,\n",
       " 228,\n",
       " 44,\n",
       " 298,\n",
       " 24,\n",
       " 602,\n",
       " 519,\n",
       " 333,\n",
       " 0,\n",
       " 227,\n",
       " 205,\n",
       " 247,\n",
       " 3,\n",
       " 156,\n",
       " 310,\n",
       " 161,\n",
       " 345,\n",
       " 321,\n",
       " 373,\n",
       " 0,\n",
       " 405,\n",
       " 519,\n",
       " 188,\n",
       " 342,\n",
       " 519,\n",
       " 599,\n",
       " 312,\n",
       " 0,\n",
       " 62,\n",
       " 244,\n",
       " 196,\n",
       " 538,\n",
       " 93,\n",
       " 125,\n",
       " 519,\n",
       " 10,\n",
       " 0,\n",
       " 164,\n",
       " 125,\n",
       " 519,\n",
       " 230,\n",
       " 0,\n",
       " 38,\n",
       " 524,\n",
       " 84,\n",
       " 538,\n",
       " 68,\n",
       " 298,\n",
       " 242,\n",
       " 36,\n",
       " 193,\n",
       " 0,\n",
       " 472,\n",
       " 524,\n",
       " 65,\n",
       " 155,\n",
       " 298,\n",
       " 0,\n",
       " 343,\n",
       " 30,\n",
       " 622,\n",
       " 122,\n",
       " 262,\n",
       " 584,\n",
       " 244,\n",
       " 123,\n",
       " 0,\n",
       " 244,\n",
       " 86,\n",
       " 3,\n",
       " 97,\n",
       " 244,\n",
       " 56,\n",
       " 519,\n",
       " 267,\n",
       " 0,\n",
       " 588,\n",
       " 622,\n",
       " 583,\n",
       " 228,\n",
       " 462,\n",
       " 16,\n",
       " 258,\n",
       " 126,\n",
       " 342,\n",
       " 298,\n",
       " 0,\n",
       " 241,\n",
       " 225,\n",
       " 557,\n",
       " 16,\n",
       " 418,\n",
       " 3,\n",
       " 277,\n",
       " 495,\n",
       " 0,\n",
       " 62,\n",
       " 244,\n",
       " 196,\n",
       " 538,\n",
       " 93,\n",
       " 125,\n",
       " 519,\n",
       " 10,\n",
       " 0,\n",
       " 164,\n",
       " 125,\n",
       " 519,\n",
       " 230,\n",
       " 0,\n",
       " 38,\n",
       " 524,\n",
       " 84,\n",
       " 538,\n",
       " 68,\n",
       " 298,\n",
       " 242,\n",
       " 36,\n",
       " 193,\n",
       " 0,\n",
       " 472,\n",
       " 524,\n",
       " 65,\n",
       " 155,\n",
       " 298,\n",
       " 0,\n",
       " 343,\n",
       " 321,\n",
       " 274,\n",
       " 438,\n",
       " 556,\n",
       " 321,\n",
       " 97,\n",
       " 15,\n",
       " 246,\n",
       " 0,\n",
       " 3,\n",
       " 434,\n",
       " 33,\n",
       " 617,\n",
       " 247,\n",
       " 587,\n",
       " 241,\n",
       " 320,\n",
       " 377,\n",
       " 0,\n",
       " 16,\n",
       " 528,\n",
       " 253,\n",
       " 394,\n",
       " 298,\n",
       " 557,\n",
       " 535,\n",
       " 538,\n",
       " 268,\n",
       " 622,\n",
       " 0,\n",
       " 241,\n",
       " 262,\n",
       " 254,\n",
       " 337,\n",
       " 413,\n",
       " 538,\n",
       " 268,\n",
       " 622,\n",
       " 0,\n",
       " 585,\n",
       " 314,\n",
       " 251,\n",
       " 258,\n",
       " 3,\n",
       " 153,\n",
       " 238,\n",
       " 28,\n",
       " 0,\n",
       " 62,\n",
       " 244,\n",
       " 196,\n",
       " 538,\n",
       " 93,\n",
       " 125,\n",
       " 519,\n",
       " 10,\n",
       " 0,\n",
       " 164,\n",
       " 125,\n",
       " 519,\n",
       " 230,\n",
       " 0,\n",
       " 38,\n",
       " 524,\n",
       " 84,\n",
       " 538,\n",
       " 68,\n",
       " 298,\n",
       " 242,\n",
       " 36,\n",
       " 193,\n",
       " 0,\n",
       " 472,\n",
       " 524,\n",
       " 65,\n",
       " 155,\n",
       " 298,\n",
       " 0,\n",
       " 243,\n",
       " 459,\n",
       " 247,\n",
       " 519,\n",
       " 395,\n",
       " 490,\n",
       " 0,\n",
       " 196,\n",
       " 3,\n",
       " 534,\n",
       " 166,\n",
       " 321,\n",
       " 110,\n",
       " 0,\n",
       " ...]"
      ]
     },
     "execution_count": 13,
     "metadata": {},
     "output_type": "execute_result"
    }
   ],
   "source": [
    "# Convert each word in y into their corresponding indices\n",
    "y_ints = [word_indices[item] for item in y]\n",
    "y_ints"
   ]
  },
  {
   "cell_type": "code",
   "execution_count": 14,
   "id": "4fc0bfcc",
   "metadata": {},
   "outputs": [
    {
     "data": {
      "text/plain": [
       "array([[0., 0., 0., ..., 0., 0., 0.],\n",
       "       [0., 0., 0., ..., 0., 0., 0.],\n",
       "       [0., 0., 0., ..., 0., 0., 0.],\n",
       "       ...,\n",
       "       [0., 0., 0., ..., 0., 0., 0.],\n",
       "       [0., 0., 0., ..., 0., 0., 0.],\n",
       "       [0., 0., 0., ..., 0., 0., 0.]])"
      ]
     },
     "execution_count": 14,
     "metadata": {},
     "output_type": "execute_result"
    }
   ],
   "source": [
    "# Create one-hot encoding of y\n",
    "y_encoded = []\n",
    "\n",
    "for item in y_ints:\n",
    "    y_vector = np.zeros(len(unique_words))\n",
    "    y_vector[item] = 1\n",
    "    y_encoded.append(y_vector)\n",
    "\n",
    "y_encoded = np.array(y_encoded)\n",
    "y_encoded"
   ]
  },
  {
   "cell_type": "code",
   "execution_count": 15,
   "id": "caa21464",
   "metadata": {},
   "outputs": [],
   "source": [
    "class LyricGenerator(nn.Module):\n",
    "    def __init__(self, input_dim, output_dim, block_size):\n",
    "        super().__init__()\n",
    "\n",
    "        self.embeddings = nn.Linear(input_dim, 50 * 2)\n",
    "        self.hidden = nn.Linear(50 * 2, 200)\n",
    "        self.output = nn.Linear(200, output_dim)\n",
    "        \n",
    "        self.tanh = nn.Tanh()\n",
    "        self.sigmoid = nn.Sigmoid()\n",
    "        self.softmax = nn.Softmax(dim=1)\n",
    "\n",
    "    def forward(self, x):\n",
    "        x = self.sigmoid(self.embeddings(x))\n",
    "        x = self.tanh(self.hidden(x))\n",
    "        x = self.softmax(self.output(x))\n",
    "\n",
    "        return x"
   ]
  },
  {
   "cell_type": "code",
   "execution_count": 16,
   "id": "d6ff9f45",
   "metadata": {},
   "outputs": [
    {
     "data": {
      "text/plain": [
       "1250"
      ]
     },
     "execution_count": 16,
     "metadata": {},
     "output_type": "execute_result"
    }
   ],
   "source": [
    "# Get size of input for training the model\n",
    "input_size = x_encoded[0].ravel().shape[0]\n",
    "input_size"
   ]
  },
  {
   "cell_type": "code",
   "execution_count": 17,
   "id": "eb023182",
   "metadata": {},
   "outputs": [
    {
     "data": {
      "text/plain": [
       "LyricGenerator(\n",
       "  (embeddings): Linear(in_features=1250, out_features=100, bias=True)\n",
       "  (hidden): Linear(in_features=100, out_features=200, bias=True)\n",
       "  (output): Linear(in_features=200, out_features=625, bias=True)\n",
       "  (tanh): Tanh()\n",
       "  (sigmoid): Sigmoid()\n",
       "  (softmax): Softmax(dim=1)\n",
       ")"
      ]
     },
     "execution_count": 17,
     "metadata": {},
     "output_type": "execute_result"
    }
   ],
   "source": [
    "# Instantiate model\n",
    "model = LyricGenerator(input_size, len(unique_words), block_size)\n",
    "\n",
    "# Print model configuration\n",
    "model"
   ]
  },
  {
   "cell_type": "code",
   "execution_count": 18,
   "id": "c9e8b60d",
   "metadata": {},
   "outputs": [],
   "source": [
    "# Create custom Dataset class\n",
    "from torch.utils.data import Dataset\n",
    "\n",
    "class CustomDataset(Dataset):\n",
    "    def __init__(self, x, y):\n",
    "        self.x = x\n",
    "        self.y = y\n",
    "        \n",
    "        self.n_samples = len(x)\n",
    "    \n",
    "    def __getitem__(self, index):\n",
    "        return self.x[index].ravel(), self.y[index]\n",
    "    \n",
    "    def __len__(self):\n",
    "        return self.n_samples"
   ]
  },
  {
   "cell_type": "code",
   "execution_count": 19,
   "id": "df58af12",
   "metadata": {},
   "outputs": [],
   "source": [
    "# Create x and y PyTorch tensors\n",
    "device = 'cpu'\n",
    "x = torch.tensor(x_encoded).float().to(device)\n",
    "y = torch.tensor(y_encoded).float().to(device)"
   ]
  },
  {
   "cell_type": "code",
   "execution_count": 20,
   "id": "9228e421",
   "metadata": {},
   "outputs": [],
   "source": [
    "# Create training dataset using custom Dataset class\n",
    "training_ds = CustomDataset(x, y)"
   ]
  },
  {
   "cell_type": "code",
   "execution_count": 21,
   "id": "5a488527",
   "metadata": {},
   "outputs": [],
   "source": [
    "# Load training dataset into DataLoader\n",
    "from torch.utils.data import DataLoader\n",
    "\n",
    "batch_size = 5\n",
    "\n",
    "train_loader = DataLoader(\n",
    "    training_ds,\n",
    "    batch_size=batch_size,\n",
    "    shuffle=False,\n",
    "    drop_last=False\n",
    ")"
   ]
  },
  {
   "cell_type": "code",
   "execution_count": 22,
   "id": "433009b3",
   "metadata": {},
   "outputs": [],
   "source": [
    "# Define model optimizer and loss function\n",
    "optimizer = optim.Adam(model.parameters(), lr=0.000000001)\n",
    "criterion = nn.CrossEntropyLoss()"
   ]
  },
  {
   "cell_type": "code",
   "execution_count": 23,
   "id": "a82f8538",
   "metadata": {},
   "outputs": [],
   "source": [
    "# Define function to train model\n",
    "def train_fn(loader, model, optimizer, loss_fn, device):\n",
    "    loop = tqdm(loader)\n",
    "\n",
    "    ave_loss = 0\n",
    "    count = 0 \n",
    "    for batch_idx, (data, targets) in enumerate(loop):\n",
    "        data = data.to(device=device)\n",
    "        targets = targets.to(device=device)\n",
    "        \n",
    "        # Forward\n",
    "        predictions = model.forward(data)\n",
    "        loss = loss_fn(predictions, targets)\n",
    "        \n",
    "        # Backward\n",
    "        optimizer.zero_grad()\n",
    "        loss.backward()\n",
    "        optimizer.step()\n",
    "        \n",
    "        # Update tqdm loading bar\n",
    "        loop.set_postfix(loss=loss.item())\n",
    "\n",
    "        count += 1\n",
    "        ave_loss += loss.item()\n",
    "    \n",
    "    ave_loss = ave_loss / count\n",
    "\n",
    "    return ave_loss"
   ]
  },
  {
   "cell_type": "code",
   "execution_count": 24,
   "id": "06dd01d2-95c1-4264-8a39-4d013120d5ae",
   "metadata": {},
   "outputs": [],
   "source": [
    "def generate_text(model, seed_text, num_words):\n",
    "    device = 'cpu'\n",
    "    model.eval()\n",
    "    \n",
    "    # Convert seed_text to input tensor\n",
    "    seed_encoded = []\n",
    "    for word in seed_text.split():\n",
    "        word_index = word_indices[word]\n",
    "        word_encoded = np.zeros(len(unique_words))\n",
    "        word_encoded[word_index] = 1\n",
    "        seed_encoded.append(word_encoded)\n",
    "    seed_encoded = np.array(seed_encoded)\n",
    "    seed_encoded = np.expand_dims(seed_encoded, axis=0)\n",
    "    seed_tensor = torch.tensor(seed_encoded).float().to(device)\n",
    "\n",
    "    # Generate text\n",
    "    generated_text = seed_text\n",
    "    for i in range(num_words):\n",
    "        predictions = model(seed_tensor)\n",
    "        predicted_index = torch.argmax(predictions, dim=1).item()\n",
    "        predicted_word = indices_words[predicted_index]\n",
    "        generated_text += ' ' + predicted_word\n",
    "        \n",
    "        # Update seed tensor with predicted word\n",
    "        predicted_encoded = np.zeros(len(unique_words))\n",
    "        predicted_encoded[predicted_index] = 1\n",
    "        predicted_encoded = np.expand_dims(predicted_encoded, axis=0)\n",
    "        seed_tensor = torch.cat((seed_tensor[:, 1:, :], torch.tensor(predicted_encoded).float().to(device)), axis=1)\n",
    "\n",
    "    return generated_text"
   ]
  },
  {
   "cell_type": "code",
   "execution_count": 25,
   "id": "7811b5d6",
   "metadata": {},
   "outputs": [
    {
     "name": "stdout",
     "output_type": "stream",
     "text": [
      "Epoch: 0\n"
     ]
    },
    {
     "name": "stderr",
     "output_type": "stream",
     "text": [
      "100%|████████████████████████████████████████████████████████████████████| 462/462 [00:02<00:00, 198.12it/s, loss=6.44]\n"
     ]
    },
    {
     "name": "stdout",
     "output_type": "stream",
     "text": [
      "Ave Loss: 6.437727651554785\n",
      "Epoch: 1\n"
     ]
    },
    {
     "name": "stderr",
     "output_type": "stream",
     "text": [
      "100%|████████████████████████████████████████████████████████████████████| 462/462 [00:02<00:00, 200.14it/s, loss=6.44]\n"
     ]
    },
    {
     "name": "stdout",
     "output_type": "stream",
     "text": [
      "Ave Loss: 6.437727646394209\n",
      "Epoch: 2\n"
     ]
    },
    {
     "name": "stderr",
     "output_type": "stream",
     "text": [
      "100%|████████████████████████████████████████████████████████████████████| 462/462 [00:02<00:00, 198.43it/s, loss=6.44]\n"
     ]
    },
    {
     "name": "stdout",
     "output_type": "stream",
     "text": [
      "Ave Loss: 6.437727646394209\n",
      "Epoch: 3\n"
     ]
    },
    {
     "name": "stderr",
     "output_type": "stream",
     "text": [
      "100%|████████████████████████████████████████████████████████████████████| 462/462 [00:02<00:00, 197.67it/s, loss=6.44]\n"
     ]
    },
    {
     "name": "stdout",
     "output_type": "stream",
     "text": [
      "Ave Loss: 6.437727641233634\n",
      "Epoch: 4\n"
     ]
    },
    {
     "name": "stderr",
     "output_type": "stream",
     "text": [
      "100%|████████████████████████████████████████████████████████████████████| 462/462 [00:02<00:00, 198.17it/s, loss=6.44]\n"
     ]
    },
    {
     "name": "stdout",
     "output_type": "stream",
     "text": [
      "Ave Loss: 6.437727625751908\n",
      "Epoch: 5\n"
     ]
    },
    {
     "name": "stderr",
     "output_type": "stream",
     "text": [
      "100%|████████████████████████████████████████████████████████████████████| 462/462 [00:02<00:00, 196.19it/s, loss=6.44]\n"
     ]
    },
    {
     "name": "stdout",
     "output_type": "stream",
     "text": [
      "Ave Loss: 6.437727617494987\n",
      "Epoch: 6\n"
     ]
    },
    {
     "name": "stderr",
     "output_type": "stream",
     "text": [
      "100%|████████████████████████████████████████████████████████████████████| 462/462 [00:02<00:00, 192.02it/s, loss=6.44]\n"
     ]
    },
    {
     "name": "stdout",
     "output_type": "stream",
     "text": [
      "Ave Loss: 6.4377276164628725\n",
      "Epoch: 7\n"
     ]
    },
    {
     "name": "stderr",
     "output_type": "stream",
     "text": [
      "100%|████████████████████████████████████████████████████████████████████| 462/462 [00:02<00:00, 192.70it/s, loss=6.44]\n"
     ]
    },
    {
     "name": "stdout",
     "output_type": "stream",
     "text": [
      "Ave Loss: 6.437727607173837\n",
      "Epoch: 8\n"
     ]
    },
    {
     "name": "stderr",
     "output_type": "stream",
     "text": [
      "100%|████████████████████████████████████████████████████████████████████| 462/462 [00:02<00:00, 193.23it/s, loss=6.44]\n"
     ]
    },
    {
     "name": "stdout",
     "output_type": "stream",
     "text": [
      "Ave Loss: 6.437727603045377\n",
      "Epoch: 9\n"
     ]
    },
    {
     "name": "stderr",
     "output_type": "stream",
     "text": [
      "100%|████████████████████████████████████████████████████████████████████| 462/462 [00:02<00:00, 191.60it/s, loss=6.44]\n"
     ]
    },
    {
     "name": "stdout",
     "output_type": "stream",
     "text": [
      "Ave Loss: 6.437727607173837\n",
      "Epoch: 10\n"
     ]
    },
    {
     "name": "stderr",
     "output_type": "stream",
     "text": [
      "100%|████████████████████████████████████████████████████████████████████| 462/462 [00:02<00:00, 190.50it/s, loss=6.44]\n"
     ]
    },
    {
     "name": "stdout",
     "output_type": "stream",
     "text": [
      "Ave Loss: 6.437727602013262\n",
      "Epoch: 11\n"
     ]
    },
    {
     "name": "stderr",
     "output_type": "stream",
     "text": [
      "100%|████████████████████████████████████████████████████████████████████| 462/462 [00:02<00:00, 192.41it/s, loss=6.44]\n"
     ]
    },
    {
     "name": "stdout",
     "output_type": "stream",
     "text": [
      "Ave Loss: 6.437727608205952\n",
      "Epoch: 12\n"
     ]
    },
    {
     "name": "stderr",
     "output_type": "stream",
     "text": [
      "100%|████████████████████████████████████████████████████████████████████| 462/462 [00:02<00:00, 190.74it/s, loss=6.44]\n"
     ]
    },
    {
     "name": "stdout",
     "output_type": "stream",
     "text": [
      "Ave Loss: 6.437727606141722\n",
      "Epoch: 13\n"
     ]
    },
    {
     "name": "stderr",
     "output_type": "stream",
     "text": [
      "100%|████████████████████████████████████████████████████████████████████| 462/462 [00:02<00:00, 192.87it/s, loss=6.44]\n"
     ]
    },
    {
     "name": "stdout",
     "output_type": "stream",
     "text": [
      "Ave Loss: 6.437727604077492\n",
      "Epoch: 14\n"
     ]
    },
    {
     "name": "stderr",
     "output_type": "stream",
     "text": [
      "100%|████████████████████████████████████████████████████████████████████| 462/462 [00:02<00:00, 191.63it/s, loss=6.44]\n"
     ]
    },
    {
     "name": "stdout",
     "output_type": "stream",
     "text": [
      "Ave Loss: 6.437727600981146\n",
      "Epoch: 15\n"
     ]
    },
    {
     "name": "stderr",
     "output_type": "stream",
     "text": [
      "100%|████████████████████████████████████████████████████████████████████| 462/462 [00:02<00:00, 189.97it/s, loss=6.44]\n"
     ]
    },
    {
     "name": "stdout",
     "output_type": "stream",
     "text": [
      "Ave Loss: 6.437727600981146\n",
      "Epoch: 16\n"
     ]
    },
    {
     "name": "stderr",
     "output_type": "stream",
     "text": [
      "100%|████████████████████████████████████████████████████████████████████| 462/462 [00:02<00:00, 190.36it/s, loss=6.44]\n"
     ]
    },
    {
     "name": "stdout",
     "output_type": "stream",
     "text": [
      "Ave Loss: 6.437727593756342\n",
      "Epoch: 17\n"
     ]
    },
    {
     "name": "stderr",
     "output_type": "stream",
     "text": [
      "100%|████████████████████████████████████████████████████████████████████| 462/462 [00:02<00:00, 191.87it/s, loss=6.44]\n"
     ]
    },
    {
     "name": "stdout",
     "output_type": "stream",
     "text": [
      "Ave Loss: 6.437727593756342\n",
      "Epoch: 18\n"
     ]
    },
    {
     "name": "stderr",
     "output_type": "stream",
     "text": [
      "100%|████████████████████████████████████████████████████████████████████| 462/462 [00:02<00:00, 188.58it/s, loss=6.44]\n"
     ]
    },
    {
     "name": "stdout",
     "output_type": "stream",
     "text": [
      "Ave Loss: 6.437727591692111\n",
      "Epoch: 19\n"
     ]
    },
    {
     "name": "stderr",
     "output_type": "stream",
     "text": [
      "100%|████████████████████████████████████████████████████████████████████| 462/462 [00:02<00:00, 180.55it/s, loss=6.44]\n"
     ]
    },
    {
     "name": "stdout",
     "output_type": "stream",
     "text": [
      "Ave Loss: 6.437727590659996\n",
      "Epoch: 20\n"
     ]
    },
    {
     "name": "stderr",
     "output_type": "stream",
     "text": [
      "100%|████████████████████████████████████████████████████████████████████| 462/462 [00:02<00:00, 182.21it/s, loss=6.44]\n"
     ]
    },
    {
     "name": "stdout",
     "output_type": "stream",
     "text": [
      "Ave Loss: 6.437727580338845\n",
      "Epoch: 21\n"
     ]
    },
    {
     "name": "stderr",
     "output_type": "stream",
     "text": [
      "100%|████████████████████████████████████████████████████████████████████| 462/462 [00:02<00:00, 187.07it/s, loss=6.44]\n"
     ]
    },
    {
     "name": "stdout",
     "output_type": "stream",
     "text": [
      "Ave Loss: 6.43772757311404\n",
      "Epoch: 22\n"
     ]
    },
    {
     "name": "stderr",
     "output_type": "stream",
     "text": [
      "100%|████████████████████████████████████████████████████████████████████| 462/462 [00:02<00:00, 189.54it/s, loss=6.44]\n"
     ]
    },
    {
     "name": "stdout",
     "output_type": "stream",
     "text": [
      "Ave Loss: 6.437727572081925\n",
      "Epoch: 23\n"
     ]
    },
    {
     "name": "stderr",
     "output_type": "stream",
     "text": [
      "100%|████████████████████████████████████████████████████████████████████| 462/462 [00:02<00:00, 193.41it/s, loss=6.44]\n"
     ]
    },
    {
     "name": "stdout",
     "output_type": "stream",
     "text": [
      "Ave Loss: 6.437727572081925\n",
      "Epoch: 24\n"
     ]
    },
    {
     "name": "stderr",
     "output_type": "stream",
     "text": [
      "100%|████████████████████████████████████████████████████████████████████| 462/462 [00:02<00:00, 193.07it/s, loss=6.44]\n"
     ]
    },
    {
     "name": "stdout",
     "output_type": "stream",
     "text": [
      "Ave Loss: 6.4377275679534645\n",
      "Epoch: 25\n"
     ]
    },
    {
     "name": "stderr",
     "output_type": "stream",
     "text": [
      "100%|████████████████████████████████████████████████████████████████████| 462/462 [00:02<00:00, 191.53it/s, loss=6.44]\n"
     ]
    },
    {
     "name": "stdout",
     "output_type": "stream",
     "text": [
      "Ave Loss: 6.437727563825004\n",
      "Epoch: 26\n"
     ]
    },
    {
     "name": "stderr",
     "output_type": "stream",
     "text": [
      "100%|████████████████████████████████████████████████████████████████████| 462/462 [00:02<00:00, 193.30it/s, loss=6.44]\n"
     ]
    },
    {
     "name": "stdout",
     "output_type": "stream",
     "text": [
      "Ave Loss: 6.437727553503854\n",
      "Epoch: 27\n"
     ]
    },
    {
     "name": "stderr",
     "output_type": "stream",
     "text": [
      "100%|████████████████████████████████████████████████████████████████████| 462/462 [00:02<00:00, 193.34it/s, loss=6.44]\n"
     ]
    },
    {
     "name": "stdout",
     "output_type": "stream",
     "text": [
      "Ave Loss: 6.437727548343279\n",
      "Epoch: 28\n"
     ]
    },
    {
     "name": "stderr",
     "output_type": "stream",
     "text": [
      "100%|████████████████████████████████████████████████████████████████████| 462/462 [00:02<00:00, 186.29it/s, loss=6.44]\n"
     ]
    },
    {
     "name": "stdout",
     "output_type": "stream",
     "text": [
      "Ave Loss: 6.437727546279048\n",
      "Epoch: 29\n"
     ]
    },
    {
     "name": "stderr",
     "output_type": "stream",
     "text": [
      "100%|████████████████████████████████████████████████████████████████████| 462/462 [00:02<00:00, 184.98it/s, loss=6.44]\n"
     ]
    },
    {
     "name": "stdout",
     "output_type": "stream",
     "text": [
      "Ave Loss: 6.437727549375394\n",
      "Epoch: 30\n"
     ]
    },
    {
     "name": "stderr",
     "output_type": "stream",
     "text": [
      "100%|████████████████████████████████████████████████████████████████████| 462/462 [00:02<00:00, 192.69it/s, loss=6.44]\n"
     ]
    },
    {
     "name": "stdout",
     "output_type": "stream",
     "text": [
      "Ave Loss: 6.437727547311163\n",
      "Epoch: 31\n"
     ]
    },
    {
     "name": "stderr",
     "output_type": "stream",
     "text": [
      "100%|████████████████████████████████████████████████████████████████████| 462/462 [00:02<00:00, 184.73it/s, loss=6.44]\n"
     ]
    },
    {
     "name": "stdout",
     "output_type": "stream",
     "text": [
      "Ave Loss: 6.437727548343279\n",
      "Epoch: 32\n"
     ]
    },
    {
     "name": "stderr",
     "output_type": "stream",
     "text": [
      "100%|████████████████████████████████████████████████████████████████████| 462/462 [00:02<00:00, 183.64it/s, loss=6.44]\n"
     ]
    },
    {
     "name": "stdout",
     "output_type": "stream",
     "text": [
      "Ave Loss: 6.437727538022128\n",
      "Epoch: 33\n"
     ]
    },
    {
     "name": "stderr",
     "output_type": "stream",
     "text": [
      "100%|████████████████████████████████████████████████████████████████████| 462/462 [00:02<00:00, 185.21it/s, loss=6.44]\n"
     ]
    },
    {
     "name": "stdout",
     "output_type": "stream",
     "text": [
      "Ave Loss: 6.437727533893668\n",
      "Epoch: 34\n"
     ]
    },
    {
     "name": "stderr",
     "output_type": "stream",
     "text": [
      "100%|████████████████████████████████████████████████████████████████████| 462/462 [00:02<00:00, 178.78it/s, loss=6.44]\n"
     ]
    },
    {
     "name": "stdout",
     "output_type": "stream",
     "text": [
      "Ave Loss: 6.4377275297652075\n",
      "Epoch: 35\n"
     ]
    },
    {
     "name": "stderr",
     "output_type": "stream",
     "text": [
      "100%|████████████████████████████████████████████████████████████████████| 462/462 [00:02<00:00, 173.58it/s, loss=6.44]\n"
     ]
    },
    {
     "name": "stdout",
     "output_type": "stream",
     "text": [
      "Ave Loss: 6.437727536990013\n",
      "Epoch: 36\n"
     ]
    },
    {
     "name": "stderr",
     "output_type": "stream",
     "text": [
      "100%|████████████████████████████████████████████████████████████████████| 462/462 [00:02<00:00, 171.87it/s, loss=6.44]\n"
     ]
    },
    {
     "name": "stdout",
     "output_type": "stream",
     "text": [
      "Ave Loss: 6.437727528733093\n",
      "Epoch: 37\n"
     ]
    },
    {
     "name": "stderr",
     "output_type": "stream",
     "text": [
      "100%|████████████████████████████████████████████████████████████████████| 462/462 [00:02<00:00, 170.00it/s, loss=6.44]\n"
     ]
    },
    {
     "name": "stdout",
     "output_type": "stream",
     "text": [
      "Ave Loss: 6.4377275349257825\n",
      "Epoch: 38\n"
     ]
    },
    {
     "name": "stderr",
     "output_type": "stream",
     "text": [
      "100%|████████████████████████████████████████████████████████████████████| 462/462 [00:02<00:00, 166.95it/s, loss=6.44]\n"
     ]
    },
    {
     "name": "stdout",
     "output_type": "stream",
     "text": [
      "Ave Loss: 6.437727524604632\n",
      "Epoch: 39\n"
     ]
    },
    {
     "name": "stderr",
     "output_type": "stream",
     "text": [
      "100%|████████████████████████████████████████████████████████████████████| 462/462 [00:02<00:00, 165.75it/s, loss=6.44]\n"
     ]
    },
    {
     "name": "stdout",
     "output_type": "stream",
     "text": [
      "Ave Loss: 6.4377275235725175\n",
      "Epoch: 40\n"
     ]
    },
    {
     "name": "stderr",
     "output_type": "stream",
     "text": [
      "100%|████████████████████████████████████████████████████████████████████| 462/462 [00:02<00:00, 169.83it/s, loss=6.44]\n"
     ]
    },
    {
     "name": "stdout",
     "output_type": "stream",
     "text": [
      "Ave Loss: 6.437727522540402\n",
      "Epoch: 41\n"
     ]
    },
    {
     "name": "stderr",
     "output_type": "stream",
     "text": [
      "100%|████████████████████████████████████████████████████████████████████| 462/462 [00:02<00:00, 170.69it/s, loss=6.44]\n"
     ]
    },
    {
     "name": "stdout",
     "output_type": "stream",
     "text": [
      "Ave Loss: 6.437727510155021\n",
      "Epoch: 42\n"
     ]
    },
    {
     "name": "stderr",
     "output_type": "stream",
     "text": [
      "100%|████████████████████████████████████████████████████████████████████| 462/462 [00:02<00:00, 167.20it/s, loss=6.44]\n"
     ]
    },
    {
     "name": "stdout",
     "output_type": "stream",
     "text": [
      "Ave Loss: 6.437727503962331\n",
      "Epoch: 43\n"
     ]
    },
    {
     "name": "stderr",
     "output_type": "stream",
     "text": [
      "100%|████████████████████████████████████████████████████████████████████| 462/462 [00:02<00:00, 187.32it/s, loss=6.44]\n"
     ]
    },
    {
     "name": "stdout",
     "output_type": "stream",
     "text": [
      "Ave Loss: 6.437727504994446\n",
      "Epoch: 44\n"
     ]
    },
    {
     "name": "stderr",
     "output_type": "stream",
     "text": [
      "100%|████████████████████████████████████████████████████████████████████| 462/462 [00:02<00:00, 193.24it/s, loss=6.44]\n"
     ]
    },
    {
     "name": "stdout",
     "output_type": "stream",
     "text": [
      "Ave Loss: 6.437727499833871\n",
      "Epoch: 45\n"
     ]
    },
    {
     "name": "stderr",
     "output_type": "stream",
     "text": [
      "100%|████████████████████████████████████████████████████████████████████| 462/462 [00:02<00:00, 191.48it/s, loss=6.44]\n"
     ]
    },
    {
     "name": "stdout",
     "output_type": "stream",
     "text": [
      "Ave Loss: 6.43772749364118\n",
      "Epoch: 46\n"
     ]
    },
    {
     "name": "stderr",
     "output_type": "stream",
     "text": [
      "100%|████████████████████████████████████████████████████████████████████| 462/462 [00:02<00:00, 188.96it/s, loss=6.44]\n"
     ]
    },
    {
     "name": "stdout",
     "output_type": "stream",
     "text": [
      "Ave Loss: 6.437727484352145\n",
      "Epoch: 47\n"
     ]
    },
    {
     "name": "stderr",
     "output_type": "stream",
     "text": [
      "100%|████████████████████████████████████████████████████████████████████| 462/462 [00:02<00:00, 191.60it/s, loss=6.44]\n"
     ]
    },
    {
     "name": "stdout",
     "output_type": "stream",
     "text": [
      "Ave Loss: 6.437727476095224\n",
      "Epoch: 48\n"
     ]
    },
    {
     "name": "stderr",
     "output_type": "stream",
     "text": [
      "100%|████████████████████████████████████████████████████████████████████| 462/462 [00:02<00:00, 188.29it/s, loss=6.44]\n"
     ]
    },
    {
     "name": "stdout",
     "output_type": "stream",
     "text": [
      "Ave Loss: 6.437727466806189\n",
      "Epoch: 49\n"
     ]
    },
    {
     "name": "stderr",
     "output_type": "stream",
     "text": [
      "100%|████████████████████████████████████████████████████████████████████| 462/462 [00:02<00:00, 190.07it/s, loss=6.44]\n"
     ]
    },
    {
     "name": "stdout",
     "output_type": "stream",
     "text": [
      "Ave Loss: 6.437727468870419\n",
      "Epoch: 50\n"
     ]
    },
    {
     "name": "stderr",
     "output_type": "stream",
     "text": [
      "100%|████████████████████████████████████████████████████████████████████| 462/462 [00:02<00:00, 189.06it/s, loss=6.44]\n"
     ]
    },
    {
     "name": "stdout",
     "output_type": "stream",
     "text": [
      "Ave Loss: 6.4377274647419584\n",
      "Epoch: 51\n"
     ]
    },
    {
     "name": "stderr",
     "output_type": "stream",
     "text": [
      "100%|████████████████████████████████████████████████████████████████████| 462/462 [00:02<00:00, 188.70it/s, loss=6.44]\n"
     ]
    },
    {
     "name": "stdout",
     "output_type": "stream",
     "text": [
      "Ave Loss: 6.437727462677729\n",
      "Epoch: 52\n"
     ]
    },
    {
     "name": "stderr",
     "output_type": "stream",
     "text": [
      "100%|████████████████████████████████████████████████████████████████████| 462/462 [00:02<00:00, 191.87it/s, loss=6.44]\n"
     ]
    },
    {
     "name": "stdout",
     "output_type": "stream",
     "text": [
      "Ave Loss: 6.4377274585492685\n",
      "Epoch: 53\n"
     ]
    },
    {
     "name": "stderr",
     "output_type": "stream",
     "text": [
      "100%|████████████████████████████████████████████████████████████████████| 462/462 [00:02<00:00, 194.37it/s, loss=6.44]\n"
     ]
    },
    {
     "name": "stdout",
     "output_type": "stream",
     "text": [
      "Ave Loss: 6.437727463709844\n",
      "Epoch: 54\n"
     ]
    },
    {
     "name": "stderr",
     "output_type": "stream",
     "text": [
      "100%|████████████████████████████████████████████████████████████████████| 462/462 [00:02<00:00, 189.89it/s, loss=6.44]\n"
     ]
    },
    {
     "name": "stdout",
     "output_type": "stream",
     "text": [
      "Ave Loss: 6.437727467838304\n",
      "Epoch: 55\n"
     ]
    },
    {
     "name": "stderr",
     "output_type": "stream",
     "text": [
      "100%|████████████████████████████████████████████████████████████████████| 462/462 [00:02<00:00, 192.51it/s, loss=6.44]\n"
     ]
    },
    {
     "name": "stdout",
     "output_type": "stream",
     "text": [
      "Ave Loss: 6.437727467838304\n",
      "Epoch: 56\n"
     ]
    },
    {
     "name": "stderr",
     "output_type": "stream",
     "text": [
      "100%|████████████████████████████████████████████████████████████████████| 462/462 [00:02<00:00, 187.56it/s, loss=6.44]\n"
     ]
    },
    {
     "name": "stdout",
     "output_type": "stream",
     "text": [
      "Ave Loss: 6.437727462677729\n",
      "Epoch: 57\n"
     ]
    },
    {
     "name": "stderr",
     "output_type": "stream",
     "text": [
      "100%|████████████████████████████████████████████████████████████████████| 462/462 [00:02<00:00, 190.89it/s, loss=6.44]\n"
     ]
    },
    {
     "name": "stdout",
     "output_type": "stream",
     "text": [
      "Ave Loss: 6.437727459581383\n",
      "Epoch: 58\n"
     ]
    },
    {
     "name": "stderr",
     "output_type": "stream",
     "text": [
      "100%|████████████████████████████████████████████████████████████████████| 462/462 [00:02<00:00, 189.52it/s, loss=6.44]\n"
     ]
    },
    {
     "name": "stdout",
     "output_type": "stream",
     "text": [
      "Ave Loss: 6.437727450292348\n",
      "Epoch: 59\n"
     ]
    },
    {
     "name": "stderr",
     "output_type": "stream",
     "text": [
      "100%|████████████████████████████████████████████████████████████████████| 462/462 [00:02<00:00, 189.48it/s, loss=6.44]\n"
     ]
    },
    {
     "name": "stdout",
     "output_type": "stream",
     "text": [
      "Ave Loss: 6.437727441003312\n",
      "Epoch: 60\n"
     ]
    },
    {
     "name": "stderr",
     "output_type": "stream",
     "text": [
      "100%|████████████████████████████████████████████████████████████████████| 462/462 [00:02<00:00, 181.04it/s, loss=6.44]\n"
     ]
    },
    {
     "name": "stdout",
     "output_type": "stream",
     "text": [
      "Ave Loss: 6.437727434810622\n",
      "Epoch: 61\n"
     ]
    },
    {
     "name": "stderr",
     "output_type": "stream",
     "text": [
      "100%|████████████████████████████████████████████████████████████████████| 462/462 [00:02<00:00, 189.96it/s, loss=6.44]\n"
     ]
    },
    {
     "name": "stdout",
     "output_type": "stream",
     "text": [
      "Ave Loss: 6.437727429650047\n",
      "Epoch: 62\n"
     ]
    },
    {
     "name": "stderr",
     "output_type": "stream",
     "text": [
      "100%|████████████████████████████████████████████████████████████████████| 462/462 [00:02<00:00, 192.21it/s, loss=6.44]\n"
     ]
    },
    {
     "name": "stdout",
     "output_type": "stream",
     "text": [
      "Ave Loss: 6.437727428617931\n",
      "Epoch: 63\n"
     ]
    },
    {
     "name": "stderr",
     "output_type": "stream",
     "text": [
      "100%|████████████████████████████████████████████████████████████████████| 462/462 [00:02<00:00, 193.61it/s, loss=6.44]\n"
     ]
    },
    {
     "name": "stdout",
     "output_type": "stream",
     "text": [
      "Ave Loss: 6.4377274265537014\n",
      "Epoch: 64\n"
     ]
    },
    {
     "name": "stderr",
     "output_type": "stream",
     "text": [
      "100%|████████████████████████████████████████████████████████████████████| 462/462 [00:02<00:00, 193.86it/s, loss=6.44]\n"
     ]
    },
    {
     "name": "stdout",
     "output_type": "stream",
     "text": [
      "Ave Loss: 6.437727421393126\n",
      "Epoch: 65\n"
     ]
    },
    {
     "name": "stderr",
     "output_type": "stream",
     "text": [
      "100%|████████████████████████████████████████████████████████████████████| 462/462 [00:02<00:00, 188.33it/s, loss=6.44]\n"
     ]
    },
    {
     "name": "stdout",
     "output_type": "stream",
     "text": [
      "Ave Loss: 6.437727413136206\n",
      "Epoch: 66\n"
     ]
    },
    {
     "name": "stderr",
     "output_type": "stream",
     "text": [
      "100%|████████████████████████████████████████████████████████████████████| 462/462 [00:02<00:00, 186.12it/s, loss=6.44]\n"
     ]
    },
    {
     "name": "stdout",
     "output_type": "stream",
     "text": [
      "Ave Loss: 6.437727415200436\n",
      "Epoch: 67\n"
     ]
    },
    {
     "name": "stderr",
     "output_type": "stream",
     "text": [
      "100%|████████████████████████████████████████████████████████████████████| 462/462 [00:02<00:00, 187.10it/s, loss=6.44]\n"
     ]
    },
    {
     "name": "stdout",
     "output_type": "stream",
     "text": [
      "Ave Loss: 6.437727409007746\n",
      "Epoch: 68\n"
     ]
    },
    {
     "name": "stderr",
     "output_type": "stream",
     "text": [
      "100%|████████████████████████████████████████████████████████████████████| 462/462 [00:02<00:00, 190.53it/s, loss=6.44]\n"
     ]
    },
    {
     "name": "stdout",
     "output_type": "stream",
     "text": [
      "Ave Loss: 6.437727409007746\n",
      "Epoch: 69\n"
     ]
    },
    {
     "name": "stderr",
     "output_type": "stream",
     "text": [
      "100%|████████████████████████████████████████████████████████████████████| 462/462 [00:02<00:00, 190.24it/s, loss=6.44]\n"
     ]
    },
    {
     "name": "stdout",
     "output_type": "stream",
     "text": [
      "Ave Loss: 6.437727402815055\n",
      "Epoch: 70\n"
     ]
    },
    {
     "name": "stderr",
     "output_type": "stream",
     "text": [
      "100%|████████████████████████████████████████████████████████████████████| 462/462 [00:02<00:00, 189.88it/s, loss=6.44]\n"
     ]
    },
    {
     "name": "stdout",
     "output_type": "stream",
     "text": [
      "Ave Loss: 6.437727389397559\n",
      "Epoch: 71\n"
     ]
    },
    {
     "name": "stderr",
     "output_type": "stream",
     "text": [
      "100%|████████████████████████████████████████████████████████████████████| 462/462 [00:02<00:00, 191.44it/s, loss=6.44]\n"
     ]
    },
    {
     "name": "stdout",
     "output_type": "stream",
     "text": [
      "Ave Loss: 6.437727382172754\n",
      "Epoch: 72\n"
     ]
    },
    {
     "name": "stderr",
     "output_type": "stream",
     "text": [
      "100%|████████████████████████████████████████████████████████████████████| 462/462 [00:02<00:00, 187.72it/s, loss=6.44]\n"
     ]
    },
    {
     "name": "stdout",
     "output_type": "stream",
     "text": [
      "Ave Loss: 6.437727384236984\n",
      "Epoch: 73\n"
     ]
    },
    {
     "name": "stderr",
     "output_type": "stream",
     "text": [
      "100%|████████████████████████████████████████████████████████████████████| 462/462 [00:02<00:00, 189.93it/s, loss=6.44]\n"
     ]
    },
    {
     "name": "stdout",
     "output_type": "stream",
     "text": [
      "Ave Loss: 6.437727378044293\n",
      "Epoch: 74\n"
     ]
    },
    {
     "name": "stderr",
     "output_type": "stream",
     "text": [
      "100%|████████████████████████████████████████████████████████████████████| 462/462 [00:02<00:00, 187.54it/s, loss=6.44]\n"
     ]
    },
    {
     "name": "stdout",
     "output_type": "stream",
     "text": [
      "Ave Loss: 6.437727377012179\n",
      "Epoch: 75\n"
     ]
    },
    {
     "name": "stderr",
     "output_type": "stream",
     "text": [
      "100%|████████████████████████████████████████████████████████████████████| 462/462 [00:02<00:00, 180.64it/s, loss=6.44]\n"
     ]
    },
    {
     "name": "stdout",
     "output_type": "stream",
     "text": [
      "Ave Loss: 6.437727374947948\n",
      "Epoch: 76\n"
     ]
    },
    {
     "name": "stderr",
     "output_type": "stream",
     "text": [
      "100%|████████████████████████████████████████████████████████████████████| 462/462 [00:02<00:00, 158.30it/s, loss=6.44]\n"
     ]
    },
    {
     "name": "stdout",
     "output_type": "stream",
     "text": [
      "Ave Loss: 6.437727375980064\n",
      "Epoch: 77\n"
     ]
    },
    {
     "name": "stderr",
     "output_type": "stream",
     "text": [
      "100%|████████████████████████████████████████████████████████████████████| 462/462 [00:02<00:00, 188.91it/s, loss=6.44]\n"
     ]
    },
    {
     "name": "stdout",
     "output_type": "stream",
     "text": [
      "Ave Loss: 6.437727364626798\n",
      "Epoch: 78\n"
     ]
    },
    {
     "name": "stderr",
     "output_type": "stream",
     "text": [
      "100%|████████████████████████████████████████████████████████████████████| 462/462 [00:02<00:00, 188.88it/s, loss=6.44]\n"
     ]
    },
    {
     "name": "stdout",
     "output_type": "stream",
     "text": [
      "Ave Loss: 6.437727362562567\n",
      "Epoch: 79\n"
     ]
    },
    {
     "name": "stderr",
     "output_type": "stream",
     "text": [
      "100%|████████████████████████████████████████████████████████████████████| 462/462 [00:02<00:00, 187.52it/s, loss=6.44]\n"
     ]
    },
    {
     "name": "stdout",
     "output_type": "stream",
     "text": [
      "Ave Loss: 6.437727360498338\n",
      "Epoch: 80\n"
     ]
    },
    {
     "name": "stderr",
     "output_type": "stream",
     "text": [
      "100%|████████████████████████████████████████████████████████████████████| 462/462 [00:02<00:00, 184.65it/s, loss=6.44]\n"
     ]
    },
    {
     "name": "stdout",
     "output_type": "stream",
     "text": [
      "Ave Loss: 6.437727352241417\n",
      "Epoch: 81\n"
     ]
    },
    {
     "name": "stderr",
     "output_type": "stream",
     "text": [
      "100%|████████████████████████████████████████████████████████████████████| 462/462 [00:02<00:00, 187.75it/s, loss=6.44]\n"
     ]
    },
    {
     "name": "stdout",
     "output_type": "stream",
     "text": [
      "Ave Loss: 6.437727349145072\n",
      "Epoch: 82\n"
     ]
    },
    {
     "name": "stderr",
     "output_type": "stream",
     "text": [
      "100%|████████████████████████████████████████████████████████████████████| 462/462 [00:02<00:00, 189.42it/s, loss=6.44]\n"
     ]
    },
    {
     "name": "stdout",
     "output_type": "stream",
     "text": [
      "Ave Loss: 6.437727351209302\n",
      "Epoch: 83\n"
     ]
    },
    {
     "name": "stderr",
     "output_type": "stream",
     "text": [
      "100%|████████████████████████████████████████████████████████████████████| 462/462 [00:02<00:00, 190.07it/s, loss=6.44]\n"
     ]
    },
    {
     "name": "stdout",
     "output_type": "stream",
     "text": [
      "Ave Loss: 6.437727351209302\n",
      "Epoch: 84\n"
     ]
    },
    {
     "name": "stderr",
     "output_type": "stream",
     "text": [
      "100%|████████████████████████████████████████████████████████████████████| 462/462 [00:02<00:00, 190.70it/s, loss=6.44]\n"
     ]
    },
    {
     "name": "stdout",
     "output_type": "stream",
     "text": [
      "Ave Loss: 6.437727346048726\n",
      "Epoch: 85\n"
     ]
    },
    {
     "name": "stderr",
     "output_type": "stream",
     "text": [
      "100%|████████████████████████████████████████████████████████████████████| 462/462 [00:02<00:00, 193.51it/s, loss=6.44]\n"
     ]
    },
    {
     "name": "stdout",
     "output_type": "stream",
     "text": [
      "Ave Loss: 6.437727341920266\n",
      "Epoch: 86\n"
     ]
    },
    {
     "name": "stderr",
     "output_type": "stream",
     "text": [
      "100%|████████████████████████████████████████████████████████████████████| 462/462 [00:02<00:00, 190.77it/s, loss=6.44]\n"
     ]
    },
    {
     "name": "stdout",
     "output_type": "stream",
     "text": [
      "Ave Loss: 6.437727332631231\n",
      "Epoch: 87\n"
     ]
    },
    {
     "name": "stderr",
     "output_type": "stream",
     "text": [
      "100%|████████████████████████████████████████████████████████████████████| 462/462 [00:02<00:00, 189.68it/s, loss=6.44]\n"
     ]
    },
    {
     "name": "stdout",
     "output_type": "stream",
     "text": [
      "Ave Loss: 6.437727332631231\n",
      "Epoch: 88\n"
     ]
    },
    {
     "name": "stderr",
     "output_type": "stream",
     "text": [
      "100%|████████████████████████████████████████████████████████████████████| 462/462 [00:02<00:00, 190.16it/s, loss=6.44]\n"
     ]
    },
    {
     "name": "stdout",
     "output_type": "stream",
     "text": [
      "Ave Loss: 6.437727334695461\n",
      "Epoch: 89\n"
     ]
    },
    {
     "name": "stderr",
     "output_type": "stream",
     "text": [
      "100%|████████████████████████████████████████████████████████████████████| 462/462 [00:02<00:00, 187.83it/s, loss=6.44]\n"
     ]
    },
    {
     "name": "stdout",
     "output_type": "stream",
     "text": [
      "Ave Loss: 6.437727329534885\n",
      "Epoch: 90\n"
     ]
    },
    {
     "name": "stderr",
     "output_type": "stream",
     "text": [
      "100%|████████████████████████████████████████████████████████████████████| 462/462 [00:02<00:00, 186.16it/s, loss=6.44]\n"
     ]
    },
    {
     "name": "stdout",
     "output_type": "stream",
     "text": [
      "Ave Loss: 6.437727325406425\n",
      "Epoch: 91\n"
     ]
    },
    {
     "name": "stderr",
     "output_type": "stream",
     "text": [
      "100%|████████████████████████████████████████████████████████████████████| 462/462 [00:02<00:00, 187.02it/s, loss=6.44]\n"
     ]
    },
    {
     "name": "stdout",
     "output_type": "stream",
     "text": [
      "Ave Loss: 6.437727321277965\n",
      "Epoch: 92\n"
     ]
    },
    {
     "name": "stderr",
     "output_type": "stream",
     "text": [
      "100%|████████████████████████████████████████████████████████████████████| 462/462 [00:02<00:00, 184.87it/s, loss=6.44]\n"
     ]
    },
    {
     "name": "stdout",
     "output_type": "stream",
     "text": [
      "Ave Loss: 6.43772731611739\n",
      "Epoch: 93\n"
     ]
    },
    {
     "name": "stderr",
     "output_type": "stream",
     "text": [
      "100%|████████████████████████████████████████████████████████████████████| 462/462 [00:02<00:00, 182.98it/s, loss=6.44]\n"
     ]
    },
    {
     "name": "stdout",
     "output_type": "stream",
     "text": [
      "Ave Loss: 6.437727310956815\n",
      "Epoch: 94\n"
     ]
    },
    {
     "name": "stderr",
     "output_type": "stream",
     "text": [
      "100%|████████████████████████████████████████████████████████████████████| 462/462 [00:02<00:00, 177.24it/s, loss=6.44]\n"
     ]
    },
    {
     "name": "stdout",
     "output_type": "stream",
     "text": [
      "Ave Loss: 6.43772731405316\n",
      "Epoch: 95\n"
     ]
    },
    {
     "name": "stderr",
     "output_type": "stream",
     "text": [
      "100%|████████████████████████████████████████████████████████████████████| 462/462 [00:02<00:00, 171.93it/s, loss=6.44]\n"
     ]
    },
    {
     "name": "stdout",
     "output_type": "stream",
     "text": [
      "Ave Loss: 6.437727307860469\n",
      "Epoch: 96\n"
     ]
    },
    {
     "name": "stderr",
     "output_type": "stream",
     "text": [
      "100%|████████████████████████████████████████████████████████████████████| 462/462 [00:02<00:00, 172.74it/s, loss=6.44]\n"
     ]
    },
    {
     "name": "stdout",
     "output_type": "stream",
     "text": [
      "Ave Loss: 6.437727300635664\n",
      "Epoch: 97\n"
     ]
    },
    {
     "name": "stderr",
     "output_type": "stream",
     "text": [
      "100%|████████████████████████████████████████████████████████████████████| 462/462 [00:02<00:00, 187.45it/s, loss=6.44]\n"
     ]
    },
    {
     "name": "stdout",
     "output_type": "stream",
     "text": [
      "Ave Loss: 6.437727296507203\n",
      "Epoch: 98\n"
     ]
    },
    {
     "name": "stderr",
     "output_type": "stream",
     "text": [
      "100%|████████████████████████████████████████████████████████████████████| 462/462 [00:02<00:00, 191.63it/s, loss=6.44]\n"
     ]
    },
    {
     "name": "stdout",
     "output_type": "stream",
     "text": [
      "Ave Loss: 6.437727284121823\n",
      "Epoch: 99\n"
     ]
    },
    {
     "name": "stderr",
     "output_type": "stream",
     "text": [
      "100%|████████████████████████████████████████████████████████████████████| 462/462 [00:02<00:00, 183.80it/s, loss=6.44]\n"
     ]
    },
    {
     "name": "stdout",
     "output_type": "stream",
     "text": [
      "Ave Loss: 6.4377272799933625\n",
      "Epoch: 100\n"
     ]
    },
    {
     "name": "stderr",
     "output_type": "stream",
     "text": [
      "100%|████████████████████████████████████████████████████████████████████| 462/462 [00:02<00:00, 184.40it/s, loss=6.44]\n"
     ]
    },
    {
     "name": "stdout",
     "output_type": "stream",
     "text": [
      "Ave Loss: 6.4377272799933625\n",
      "Epoch: 101\n"
     ]
    },
    {
     "name": "stderr",
     "output_type": "stream",
     "text": [
      "100%|████████████████████████████████████████████████████████████████████| 462/462 [00:02<00:00, 186.68it/s, loss=6.44]\n"
     ]
    },
    {
     "name": "stdout",
     "output_type": "stream",
     "text": [
      "Ave Loss: 6.437727266575867\n",
      "Epoch: 102\n"
     ]
    },
    {
     "name": "stderr",
     "output_type": "stream",
     "text": [
      "100%|████████████████████████████████████████████████████████████████████| 462/462 [00:02<00:00, 190.65it/s, loss=6.44]\n"
     ]
    },
    {
     "name": "stdout",
     "output_type": "stream",
     "text": [
      "Ave Loss: 6.437727264511637\n",
      "Epoch: 103\n"
     ]
    },
    {
     "name": "stderr",
     "output_type": "stream",
     "text": [
      "100%|████████████████████████████████████████████████████████████████████| 462/462 [00:02<00:00, 187.02it/s, loss=6.44]\n"
     ]
    },
    {
     "name": "stdout",
     "output_type": "stream",
     "text": [
      "Ave Loss: 6.437727262447407\n",
      "Epoch: 104\n"
     ]
    },
    {
     "name": "stderr",
     "output_type": "stream",
     "text": [
      "100%|████████████████████████████████████████████████████████████████████| 462/462 [00:02<00:00, 189.70it/s, loss=6.44]\n"
     ]
    },
    {
     "name": "stdout",
     "output_type": "stream",
     "text": [
      "Ave Loss: 6.437727257286832\n",
      "Epoch: 105\n"
     ]
    },
    {
     "name": "stderr",
     "output_type": "stream",
     "text": [
      "100%|████████████████████████████████████████████████████████████████████| 462/462 [00:02<00:00, 189.09it/s, loss=6.44]\n"
     ]
    },
    {
     "name": "stdout",
     "output_type": "stream",
     "text": [
      "Ave Loss: 6.437727260383177\n",
      "Epoch: 106\n"
     ]
    },
    {
     "name": "stderr",
     "output_type": "stream",
     "text": [
      "100%|████████████████████████████████████████████████████████████████████| 462/462 [00:02<00:00, 190.06it/s, loss=6.44]\n"
     ]
    },
    {
     "name": "stdout",
     "output_type": "stream",
     "text": [
      "Ave Loss: 6.437727250062026\n",
      "Epoch: 107\n"
     ]
    },
    {
     "name": "stderr",
     "output_type": "stream",
     "text": [
      "100%|████████████████████████████████████████████████████████████████████| 462/462 [00:02<00:00, 189.23it/s, loss=6.44]\n"
     ]
    },
    {
     "name": "stdout",
     "output_type": "stream",
     "text": [
      "Ave Loss: 6.437727243869336\n",
      "Epoch: 108\n"
     ]
    },
    {
     "name": "stderr",
     "output_type": "stream",
     "text": [
      "100%|████████████████████████████████████████████████████████████████████| 462/462 [00:02<00:00, 189.69it/s, loss=6.44]\n"
     ]
    },
    {
     "name": "stdout",
     "output_type": "stream",
     "text": [
      "Ave Loss: 6.4377272345803\n",
      "Epoch: 109\n"
     ]
    },
    {
     "name": "stderr",
     "output_type": "stream",
     "text": [
      "100%|████████████████████████████████████████████████████████████████████| 462/462 [00:02<00:00, 189.47it/s, loss=6.44]\n"
     ]
    },
    {
     "name": "stdout",
     "output_type": "stream",
     "text": [
      "Ave Loss: 6.4377272345803\n",
      "Epoch: 110\n"
     ]
    },
    {
     "name": "stderr",
     "output_type": "stream",
     "text": [
      "100%|████████████████████████████████████████████████████████████████████| 462/462 [00:02<00:00, 190.84it/s, loss=6.44]\n"
     ]
    },
    {
     "name": "stdout",
     "output_type": "stream",
     "text": [
      "Ave Loss: 6.437727223227035\n",
      "Epoch: 111\n"
     ]
    },
    {
     "name": "stderr",
     "output_type": "stream",
     "text": [
      "100%|████████████████████████████████████████████████████████████████████| 462/462 [00:02<00:00, 187.30it/s, loss=6.44]\n"
     ]
    },
    {
     "name": "stdout",
     "output_type": "stream",
     "text": [
      "Ave Loss: 6.437727211873769\n",
      "Epoch: 112\n"
     ]
    },
    {
     "name": "stderr",
     "output_type": "stream",
     "text": [
      "100%|████████████████████████████████████████████████████████████████████| 462/462 [00:02<00:00, 184.83it/s, loss=6.44]\n"
     ]
    },
    {
     "name": "stdout",
     "output_type": "stream",
     "text": [
      "Ave Loss: 6.437727211873769\n",
      "Epoch: 113\n"
     ]
    },
    {
     "name": "stderr",
     "output_type": "stream",
     "text": [
      "100%|████████████████████████████████████████████████████████████████████| 462/462 [00:02<00:00, 190.79it/s, loss=6.44]\n"
     ]
    },
    {
     "name": "stdout",
     "output_type": "stream",
     "text": [
      "Ave Loss: 6.437727210841653\n",
      "Epoch: 114\n"
     ]
    },
    {
     "name": "stderr",
     "output_type": "stream",
     "text": [
      "100%|████████████████████████████████████████████████████████████████████| 462/462 [00:02<00:00, 187.96it/s, loss=6.44]\n"
     ]
    },
    {
     "name": "stdout",
     "output_type": "stream",
     "text": [
      "Ave Loss: 6.437727204648963\n",
      "Epoch: 115\n"
     ]
    },
    {
     "name": "stderr",
     "output_type": "stream",
     "text": [
      "100%|████████████████████████████████████████████████████████████████████| 462/462 [00:02<00:00, 172.78it/s, loss=6.44]\n"
     ]
    },
    {
     "name": "stdout",
     "output_type": "stream",
     "text": [
      "Ave Loss: 6.437727196392043\n",
      "Epoch: 116\n"
     ]
    },
    {
     "name": "stderr",
     "output_type": "stream",
     "text": [
      "100%|████████████████████████████████████████████████████████████████████| 462/462 [00:02<00:00, 183.39it/s, loss=6.44]\n"
     ]
    },
    {
     "name": "stdout",
     "output_type": "stream",
     "text": [
      "Ave Loss: 6.437727197424158\n",
      "Epoch: 117\n"
     ]
    },
    {
     "name": "stderr",
     "output_type": "stream",
     "text": [
      "100%|████████████████████████████████████████████████████████████████████| 462/462 [00:02<00:00, 186.02it/s, loss=6.44]\n"
     ]
    },
    {
     "name": "stdout",
     "output_type": "stream",
     "text": [
      "Ave Loss: 6.437727193295697\n",
      "Epoch: 118\n"
     ]
    },
    {
     "name": "stderr",
     "output_type": "stream",
     "text": [
      "100%|████████████████████████████████████████████████████████████████████| 462/462 [00:02<00:00, 185.27it/s, loss=6.44]\n"
     ]
    },
    {
     "name": "stdout",
     "output_type": "stream",
     "text": [
      "Ave Loss: 6.4377271871030075\n",
      "Epoch: 119\n"
     ]
    },
    {
     "name": "stderr",
     "output_type": "stream",
     "text": [
      "100%|████████████████████████████████████████████████████████████████████| 462/462 [00:02<00:00, 188.76it/s, loss=6.44]\n"
     ]
    },
    {
     "name": "stdout",
     "output_type": "stream",
     "text": [
      "Ave Loss: 6.437727177813971\n",
      "Epoch: 120\n"
     ]
    },
    {
     "name": "stderr",
     "output_type": "stream",
     "text": [
      "100%|████████████████████████████████████████████████████████████████████| 462/462 [00:02<00:00, 184.51it/s, loss=6.44]\n"
     ]
    },
    {
     "name": "stdout",
     "output_type": "stream",
     "text": [
      "Ave Loss: 6.437727180910317\n",
      "Epoch: 121\n"
     ]
    },
    {
     "name": "stderr",
     "output_type": "stream",
     "text": [
      "100%|████████████████████████████████████████████████████████████████████| 462/462 [00:02<00:00, 180.56it/s, loss=6.44]\n"
     ]
    },
    {
     "name": "stdout",
     "output_type": "stream",
     "text": [
      "Ave Loss: 6.437727175749742\n",
      "Epoch: 122\n"
     ]
    },
    {
     "name": "stderr",
     "output_type": "stream",
     "text": [
      "100%|████████████████████████████████████████████████████████████████████| 462/462 [00:02<00:00, 181.25it/s, loss=6.44]\n"
     ]
    },
    {
     "name": "stdout",
     "output_type": "stream",
     "text": [
      "Ave Loss: 6.4377271705891665\n",
      "Epoch: 123\n"
     ]
    },
    {
     "name": "stderr",
     "output_type": "stream",
     "text": [
      "100%|████████████████████████████████████████████████████████████████████| 462/462 [00:02<00:00, 184.79it/s, loss=6.44]\n"
     ]
    },
    {
     "name": "stdout",
     "output_type": "stream",
     "text": [
      "Ave Loss: 6.437727164396476\n",
      "Epoch: 124\n"
     ]
    },
    {
     "name": "stderr",
     "output_type": "stream",
     "text": [
      "100%|████████████████████████████████████████████████████████████████████| 462/462 [00:02<00:00, 178.78it/s, loss=6.44]\n"
     ]
    },
    {
     "name": "stdout",
     "output_type": "stream",
     "text": [
      "Ave Loss: 6.437727163364361\n",
      "Epoch: 125\n"
     ]
    },
    {
     "name": "stderr",
     "output_type": "stream",
     "text": [
      "100%|████████████████████████████████████████████████████████████████████| 462/462 [00:02<00:00, 187.25it/s, loss=6.44]\n"
     ]
    },
    {
     "name": "stdout",
     "output_type": "stream",
     "text": [
      "Ave Loss: 6.437727147882635\n",
      "Epoch: 126\n"
     ]
    },
    {
     "name": "stderr",
     "output_type": "stream",
     "text": [
      "100%|████████████████████████████████████████████████████████████████████| 462/462 [00:02<00:00, 190.19it/s, loss=6.44]\n"
     ]
    },
    {
     "name": "stdout",
     "output_type": "stream",
     "text": [
      "Ave Loss: 6.437727147882635\n",
      "Epoch: 127\n"
     ]
    },
    {
     "name": "stderr",
     "output_type": "stream",
     "text": [
      "100%|████████████████████████████████████████████████████████████████████| 462/462 [00:02<00:00, 186.65it/s, loss=6.44]\n"
     ]
    },
    {
     "name": "stdout",
     "output_type": "stream",
     "text": [
      "Ave Loss: 6.437727144786289\n",
      "Epoch: 128\n"
     ]
    },
    {
     "name": "stderr",
     "output_type": "stream",
     "text": [
      "100%|████████████████████████████████████████████████████████████████████| 462/462 [00:02<00:00, 186.71it/s, loss=6.44]\n"
     ]
    },
    {
     "name": "stdout",
     "output_type": "stream",
     "text": [
      "Ave Loss: 6.437727133433024\n",
      "Epoch: 129\n"
     ]
    },
    {
     "name": "stderr",
     "output_type": "stream",
     "text": [
      "100%|████████████████████████████████████████████████████████████████████| 462/462 [00:02<00:00, 187.86it/s, loss=6.44]\n"
     ]
    },
    {
     "name": "stdout",
     "output_type": "stream",
     "text": [
      "Ave Loss: 6.437727133433024\n",
      "Epoch: 130\n"
     ]
    },
    {
     "name": "stderr",
     "output_type": "stream",
     "text": [
      "100%|████████████████████████████████████████████████████████████████████| 462/462 [00:02<00:00, 188.57it/s, loss=6.44]\n"
     ]
    },
    {
     "name": "stdout",
     "output_type": "stream",
     "text": [
      "Ave Loss: 6.437727129304564\n",
      "Epoch: 131\n"
     ]
    },
    {
     "name": "stderr",
     "output_type": "stream",
     "text": [
      "100%|████████████████████████████████████████████████████████████████████| 462/462 [00:02<00:00, 187.93it/s, loss=6.44]\n"
     ]
    },
    {
     "name": "stdout",
     "output_type": "stream",
     "text": [
      "Ave Loss: 6.437727126208219\n",
      "Epoch: 132\n"
     ]
    },
    {
     "name": "stderr",
     "output_type": "stream",
     "text": [
      "100%|████████████████████████████████████████████████████████████████████| 462/462 [00:02<00:00, 171.84it/s, loss=6.44]\n"
     ]
    },
    {
     "name": "stdout",
     "output_type": "stream",
     "text": [
      "Ave Loss: 6.437727118983413\n",
      "Epoch: 133\n"
     ]
    },
    {
     "name": "stderr",
     "output_type": "stream",
     "text": [
      "100%|████████████████████████████████████████████████████████████████████| 462/462 [00:02<00:00, 185.73it/s, loss=6.44]\n"
     ]
    },
    {
     "name": "stdout",
     "output_type": "stream",
     "text": [
      "Ave Loss: 6.437727114854953\n",
      "Epoch: 134\n"
     ]
    },
    {
     "name": "stderr",
     "output_type": "stream",
     "text": [
      "100%|████████████████████████████████████████████████████████████████████| 462/462 [00:02<00:00, 182.87it/s, loss=6.44]\n"
     ]
    },
    {
     "name": "stdout",
     "output_type": "stream",
     "text": [
      "Ave Loss: 6.437727108662263\n",
      "Epoch: 135\n"
     ]
    },
    {
     "name": "stderr",
     "output_type": "stream",
     "text": [
      "100%|████████████████████████████████████████████████████████████████████| 462/462 [00:02<00:00, 187.21it/s, loss=6.44]\n"
     ]
    },
    {
     "name": "stdout",
     "output_type": "stream",
     "text": [
      "Ave Loss: 6.437727106598032\n",
      "Epoch: 136\n"
     ]
    },
    {
     "name": "stderr",
     "output_type": "stream",
     "text": [
      "100%|████████████████████████████████████████████████████████████████████| 462/462 [00:02<00:00, 187.39it/s, loss=6.44]\n"
     ]
    },
    {
     "name": "stdout",
     "output_type": "stream",
     "text": [
      "Ave Loss: 6.437727099373227\n",
      "Epoch: 137\n"
     ]
    },
    {
     "name": "stderr",
     "output_type": "stream",
     "text": [
      "100%|████████████████████████████████████████████████████████████████████| 462/462 [00:02<00:00, 183.51it/s, loss=6.44]\n"
     ]
    },
    {
     "name": "stdout",
     "output_type": "stream",
     "text": [
      "Ave Loss: 6.437727092148422\n",
      "Epoch: 138\n"
     ]
    },
    {
     "name": "stderr",
     "output_type": "stream",
     "text": [
      "100%|████████████████████████████████████████████████████████████████████| 462/462 [00:02<00:00, 183.44it/s, loss=6.44]\n"
     ]
    },
    {
     "name": "stdout",
     "output_type": "stream",
     "text": [
      "Ave Loss: 6.437727086987846\n",
      "Epoch: 139\n"
     ]
    },
    {
     "name": "stderr",
     "output_type": "stream",
     "text": [
      "100%|████████████████████████████████████████████████████████████████████| 462/462 [00:02<00:00, 183.94it/s, loss=6.44]\n"
     ]
    },
    {
     "name": "stdout",
     "output_type": "stream",
     "text": [
      "Ave Loss: 6.437727081827271\n",
      "Epoch: 140\n"
     ]
    },
    {
     "name": "stderr",
     "output_type": "stream",
     "text": [
      "100%|████████████████████████████████████████████████████████████████████| 462/462 [00:02<00:00, 163.19it/s, loss=6.44]\n"
     ]
    },
    {
     "name": "stdout",
     "output_type": "stream",
     "text": [
      "Ave Loss: 6.437727079763041\n",
      "Epoch: 141\n"
     ]
    },
    {
     "name": "stderr",
     "output_type": "stream",
     "text": [
      "100%|████████████████████████████████████████████████████████████████████| 462/462 [00:02<00:00, 167.91it/s, loss=6.44]\n"
     ]
    },
    {
     "name": "stdout",
     "output_type": "stream",
     "text": [
      "Ave Loss: 6.437727075634581\n",
      "Epoch: 142\n"
     ]
    },
    {
     "name": "stderr",
     "output_type": "stream",
     "text": [
      "100%|████████████████████████████████████████████████████████████████████| 462/462 [00:02<00:00, 164.43it/s, loss=6.44]\n"
     ]
    },
    {
     "name": "stdout",
     "output_type": "stream",
     "text": [
      "Ave Loss: 6.4377270735703505\n",
      "Epoch: 143\n"
     ]
    },
    {
     "name": "stderr",
     "output_type": "stream",
     "text": [
      "100%|████████████████████████████████████████████████████████████████████| 462/462 [00:02<00:00, 178.27it/s, loss=6.44]\n"
     ]
    },
    {
     "name": "stdout",
     "output_type": "stream",
     "text": [
      "Ave Loss: 6.437727074602465\n",
      "Epoch: 144\n"
     ]
    },
    {
     "name": "stderr",
     "output_type": "stream",
     "text": [
      "100%|████████████████████████████████████████████████████████████████████| 462/462 [00:02<00:00, 170.28it/s, loss=6.44]\n"
     ]
    },
    {
     "name": "stdout",
     "output_type": "stream",
     "text": [
      "Ave Loss: 6.437727076666696\n",
      "Epoch: 145\n"
     ]
    },
    {
     "name": "stderr",
     "output_type": "stream",
     "text": [
      "100%|████████████████████████████████████████████████████████████████████| 462/462 [00:02<00:00, 182.93it/s, loss=6.44]\n"
     ]
    },
    {
     "name": "stdout",
     "output_type": "stream",
     "text": [
      "Ave Loss: 6.4377270735703505\n",
      "Epoch: 146\n"
     ]
    },
    {
     "name": "stderr",
     "output_type": "stream",
     "text": [
      "100%|████████████████████████████████████████████████████████████████████| 462/462 [00:02<00:00, 183.58it/s, loss=6.44]\n"
     ]
    },
    {
     "name": "stdout",
     "output_type": "stream",
     "text": [
      "Ave Loss: 6.437727070474005\n",
      "Epoch: 147\n"
     ]
    },
    {
     "name": "stderr",
     "output_type": "stream",
     "text": [
      "100%|████████████████████████████████████████████████████████████████████| 462/462 [00:02<00:00, 180.97it/s, loss=6.44]\n"
     ]
    },
    {
     "name": "stdout",
     "output_type": "stream",
     "text": [
      "Ave Loss: 6.437727070474005\n",
      "Epoch: 148\n"
     ]
    },
    {
     "name": "stderr",
     "output_type": "stream",
     "text": [
      "100%|████████████████████████████████████████████████████████████████████| 462/462 [00:02<00:00, 180.88it/s, loss=6.44]\n"
     ]
    },
    {
     "name": "stdout",
     "output_type": "stream",
     "text": [
      "Ave Loss: 6.437727066345545\n",
      "Epoch: 149\n"
     ]
    },
    {
     "name": "stderr",
     "output_type": "stream",
     "text": [
      "100%|████████████████████████████████████████████████████████████████████| 462/462 [00:02<00:00, 184.09it/s, loss=6.44]\n"
     ]
    },
    {
     "name": "stdout",
     "output_type": "stream",
     "text": [
      "Ave Loss: 6.437727068409775\n",
      "Epoch: 150\n"
     ]
    },
    {
     "name": "stderr",
     "output_type": "stream",
     "text": [
      "100%|████████████████████████████████████████████████████████████████████| 462/462 [00:02<00:00, 181.99it/s, loss=6.44]\n"
     ]
    },
    {
     "name": "stdout",
     "output_type": "stream",
     "text": [
      "Ave Loss: 6.43772706118497\n",
      "Epoch: 151\n"
     ]
    },
    {
     "name": "stderr",
     "output_type": "stream",
     "text": [
      "100%|████████████████████████████████████████████████████████████████████| 462/462 [00:02<00:00, 183.03it/s, loss=6.44]\n"
     ]
    },
    {
     "name": "stdout",
     "output_type": "stream",
     "text": [
      "Ave Loss: 6.437727058088624\n",
      "Epoch: 152\n"
     ]
    },
    {
     "name": "stderr",
     "output_type": "stream",
     "text": [
      "100%|████████████████████████████████████████████████████████████████████| 462/462 [00:02<00:00, 184.98it/s, loss=6.44]\n"
     ]
    },
    {
     "name": "stdout",
     "output_type": "stream",
     "text": [
      "Ave Loss: 6.437727058088624\n",
      "Epoch: 153\n"
     ]
    },
    {
     "name": "stderr",
     "output_type": "stream",
     "text": [
      "100%|████████████████████████████████████████████████████████████████████| 462/462 [00:02<00:00, 186.23it/s, loss=6.44]\n"
     ]
    },
    {
     "name": "stdout",
     "output_type": "stream",
     "text": [
      "Ave Loss: 6.437727056024395\n",
      "Epoch: 154\n"
     ]
    },
    {
     "name": "stderr",
     "output_type": "stream",
     "text": [
      "100%|████████████████████████████████████████████████████████████████████| 462/462 [00:02<00:00, 186.06it/s, loss=6.44]\n"
     ]
    },
    {
     "name": "stdout",
     "output_type": "stream",
     "text": [
      "Ave Loss: 6.437727046735359\n",
      "Epoch: 155\n"
     ]
    },
    {
     "name": "stderr",
     "output_type": "stream",
     "text": [
      "100%|████████████████████████████████████████████████████████████████████| 462/462 [00:02<00:00, 189.17it/s, loss=6.44]\n"
     ]
    },
    {
     "name": "stdout",
     "output_type": "stream",
     "text": [
      "Ave Loss: 6.437727044671129\n",
      "Epoch: 156\n"
     ]
    },
    {
     "name": "stderr",
     "output_type": "stream",
     "text": [
      "100%|████████████████████████████████████████████████████████████████████| 462/462 [00:02<00:00, 181.23it/s, loss=6.44]\n"
     ]
    },
    {
     "name": "stdout",
     "output_type": "stream",
     "text": [
      "Ave Loss: 6.437727038478439\n",
      "Epoch: 157\n"
     ]
    },
    {
     "name": "stderr",
     "output_type": "stream",
     "text": [
      "100%|████████████████████████████████████████████████████████████████████| 462/462 [00:02<00:00, 190.25it/s, loss=6.44]\n"
     ]
    },
    {
     "name": "stdout",
     "output_type": "stream",
     "text": [
      "Ave Loss: 6.437727033317863\n",
      "Epoch: 158\n"
     ]
    },
    {
     "name": "stderr",
     "output_type": "stream",
     "text": [
      "100%|████████████████████████████████████████████████████████████████████| 462/462 [00:02<00:00, 183.87it/s, loss=6.44]\n"
     ]
    },
    {
     "name": "stdout",
     "output_type": "stream",
     "text": [
      "Ave Loss: 6.437727032285748\n",
      "Epoch: 159\n"
     ]
    },
    {
     "name": "stderr",
     "output_type": "stream",
     "text": [
      "100%|████████████████████████████████████████████████████████████████████| 462/462 [00:02<00:00, 186.09it/s, loss=6.44]\n"
     ]
    },
    {
     "name": "stdout",
     "output_type": "stream",
     "text": [
      "Ave Loss: 6.437727031253633\n",
      "Epoch: 160\n"
     ]
    },
    {
     "name": "stderr",
     "output_type": "stream",
     "text": [
      "100%|████████████████████████████████████████████████████████████████████| 462/462 [00:02<00:00, 185.69it/s, loss=6.44]\n"
     ]
    },
    {
     "name": "stdout",
     "output_type": "stream",
     "text": [
      "Ave Loss: 6.437727024028828\n",
      "Epoch: 161\n"
     ]
    },
    {
     "name": "stderr",
     "output_type": "stream",
     "text": [
      "100%|████████████████████████████████████████████████████████████████████| 462/462 [00:02<00:00, 189.25it/s, loss=6.44]\n"
     ]
    },
    {
     "name": "stdout",
     "output_type": "stream",
     "text": [
      "Ave Loss: 6.437727017836138\n",
      "Epoch: 162\n"
     ]
    },
    {
     "name": "stderr",
     "output_type": "stream",
     "text": [
      "100%|████████████████████████████████████████████████████████████████████| 462/462 [00:02<00:00, 183.38it/s, loss=6.44]\n"
     ]
    },
    {
     "name": "stdout",
     "output_type": "stream",
     "text": [
      "Ave Loss: 6.437727010611332\n",
      "Epoch: 163\n"
     ]
    },
    {
     "name": "stderr",
     "output_type": "stream",
     "text": [
      "100%|████████████████████████████████████████████████████████████████████| 462/462 [00:02<00:00, 180.21it/s, loss=6.44]\n"
     ]
    },
    {
     "name": "stdout",
     "output_type": "stream",
     "text": [
      "Ave Loss: 6.437727006482872\n",
      "Epoch: 164\n"
     ]
    },
    {
     "name": "stderr",
     "output_type": "stream",
     "text": [
      "100%|████████████████████████████████████████████████████████████████████| 462/462 [00:02<00:00, 185.02it/s, loss=6.44]\n"
     ]
    },
    {
     "name": "stdout",
     "output_type": "stream",
     "text": [
      "Ave Loss: 6.437726995129606\n",
      "Epoch: 165\n"
     ]
    },
    {
     "name": "stderr",
     "output_type": "stream",
     "text": [
      "100%|████████████████████████████████████████████████████████████████████| 462/462 [00:02<00:00, 180.90it/s, loss=6.44]\n"
     ]
    },
    {
     "name": "stdout",
     "output_type": "stream",
     "text": [
      "Ave Loss: 6.437726995129606\n",
      "Epoch: 166\n"
     ]
    },
    {
     "name": "stderr",
     "output_type": "stream",
     "text": [
      "100%|████████████████████████████████████████████████████████████████████| 462/462 [00:02<00:00, 182.95it/s, loss=6.44]\n"
     ]
    },
    {
     "name": "stdout",
     "output_type": "stream",
     "text": [
      "Ave Loss: 6.437726995129606\n",
      "Epoch: 167\n"
     ]
    },
    {
     "name": "stderr",
     "output_type": "stream",
     "text": [
      "100%|████████████████████████████████████████████████████████████████████| 462/462 [00:02<00:00, 185.15it/s, loss=6.44]\n"
     ]
    },
    {
     "name": "stdout",
     "output_type": "stream",
     "text": [
      "Ave Loss: 6.437726996161721\n",
      "Epoch: 168\n"
     ]
    },
    {
     "name": "stderr",
     "output_type": "stream",
     "text": [
      "100%|████████████████████████████████████████████████████████████████████| 462/462 [00:02<00:00, 184.24it/s, loss=6.44]\n"
     ]
    },
    {
     "name": "stdout",
     "output_type": "stream",
     "text": [
      "Ave Loss: 6.437726989969031\n",
      "Epoch: 169\n"
     ]
    },
    {
     "name": "stderr",
     "output_type": "stream",
     "text": [
      "100%|████████████████████████████████████████████████████████████████████| 462/462 [00:02<00:00, 181.06it/s, loss=6.44]\n"
     ]
    },
    {
     "name": "stdout",
     "output_type": "stream",
     "text": [
      "Ave Loss: 6.437726982744225\n",
      "Epoch: 170\n"
     ]
    },
    {
     "name": "stderr",
     "output_type": "stream",
     "text": [
      "100%|████████████████████████████████████████████████████████████████████| 462/462 [00:02<00:00, 183.20it/s, loss=6.44]\n"
     ]
    },
    {
     "name": "stdout",
     "output_type": "stream",
     "text": [
      "Ave Loss: 6.43772697964788\n",
      "Epoch: 171\n"
     ]
    },
    {
     "name": "stderr",
     "output_type": "stream",
     "text": [
      "100%|████████████████████████████████████████████████████████████████████| 462/462 [00:02<00:00, 175.65it/s, loss=6.44]\n"
     ]
    },
    {
     "name": "stdout",
     "output_type": "stream",
     "text": [
      "Ave Loss: 6.437726982744225\n",
      "Epoch: 172\n"
     ]
    },
    {
     "name": "stderr",
     "output_type": "stream",
     "text": [
      "100%|████████████████████████████████████████████████████████████████████| 462/462 [00:02<00:00, 183.79it/s, loss=6.44]\n"
     ]
    },
    {
     "name": "stdout",
     "output_type": "stream",
     "text": [
      "Ave Loss: 6.437726978615765\n",
      "Epoch: 173\n"
     ]
    },
    {
     "name": "stderr",
     "output_type": "stream",
     "text": [
      "100%|████████████████████████████████████████████████████████████████████| 462/462 [00:02<00:00, 180.44it/s, loss=6.44]\n"
     ]
    },
    {
     "name": "stdout",
     "output_type": "stream",
     "text": [
      "Ave Loss: 6.437726968294614\n",
      "Epoch: 174\n"
     ]
    },
    {
     "name": "stderr",
     "output_type": "stream",
     "text": [
      "100%|████████████████████████████████████████████████████████████████████| 462/462 [00:02<00:00, 183.03it/s, loss=6.44]\n"
     ]
    },
    {
     "name": "stdout",
     "output_type": "stream",
     "text": [
      "Ave Loss: 6.437726965198269\n",
      "Epoch: 175\n"
     ]
    },
    {
     "name": "stderr",
     "output_type": "stream",
     "text": [
      "100%|████████████████████████████████████████████████████████████████████| 462/462 [00:02<00:00, 184.67it/s, loss=6.44]\n"
     ]
    },
    {
     "name": "stdout",
     "output_type": "stream",
     "text": [
      "Ave Loss: 6.437726962101924\n",
      "Epoch: 176\n"
     ]
    },
    {
     "name": "stderr",
     "output_type": "stream",
     "text": [
      "100%|████████████████████████████████████████████████████████████████████| 462/462 [00:02<00:00, 184.94it/s, loss=6.44]\n"
     ]
    },
    {
     "name": "stdout",
     "output_type": "stream",
     "text": [
      "Ave Loss: 6.437726950748658\n",
      "Epoch: 177\n"
     ]
    },
    {
     "name": "stderr",
     "output_type": "stream",
     "text": [
      "100%|████████████████████████████████████████████████████████████████████| 462/462 [00:02<00:00, 174.89it/s, loss=6.44]\n"
     ]
    },
    {
     "name": "stdout",
     "output_type": "stream",
     "text": [
      "Ave Loss: 6.437726942491738\n",
      "Epoch: 178\n"
     ]
    },
    {
     "name": "stderr",
     "output_type": "stream",
     "text": [
      "100%|████████████████████████████████████████████████████████████████████| 462/462 [00:02<00:00, 188.61it/s, loss=6.44]\n"
     ]
    },
    {
     "name": "stdout",
     "output_type": "stream",
     "text": [
      "Ave Loss: 6.437726936299048\n",
      "Epoch: 179\n"
     ]
    },
    {
     "name": "stderr",
     "output_type": "stream",
     "text": [
      "100%|████████████████████████████████████████████████████████████████████| 462/462 [00:02<00:00, 187.24it/s, loss=6.44]\n"
     ]
    },
    {
     "name": "stdout",
     "output_type": "stream",
     "text": [
      "Ave Loss: 6.437726930106357\n",
      "Epoch: 180\n"
     ]
    },
    {
     "name": "stderr",
     "output_type": "stream",
     "text": [
      "100%|████████████████████████████████████████████████████████████████████| 462/462 [00:02<00:00, 183.24it/s, loss=6.44]\n"
     ]
    },
    {
     "name": "stdout",
     "output_type": "stream",
     "text": [
      "Ave Loss: 6.437726922881551\n",
      "Epoch: 181\n"
     ]
    },
    {
     "name": "stderr",
     "output_type": "stream",
     "text": [
      "100%|████████████████████████████████████████████████████████████████████| 462/462 [00:02<00:00, 182.72it/s, loss=6.44]\n"
     ]
    },
    {
     "name": "stdout",
     "output_type": "stream",
     "text": [
      "Ave Loss: 6.437726922881551\n",
      "Epoch: 182\n"
     ]
    },
    {
     "name": "stderr",
     "output_type": "stream",
     "text": [
      "100%|████████████████████████████████████████████████████████████████████| 462/462 [00:02<00:00, 183.69it/s, loss=6.44]\n"
     ]
    },
    {
     "name": "stdout",
     "output_type": "stream",
     "text": [
      "Ave Loss: 6.437726914624631\n",
      "Epoch: 183\n"
     ]
    },
    {
     "name": "stderr",
     "output_type": "stream",
     "text": [
      "100%|████████████████████████████████████████████████████████████████████| 462/462 [00:02<00:00, 185.28it/s, loss=6.44]\n"
     ]
    },
    {
     "name": "stdout",
     "output_type": "stream",
     "text": [
      "Ave Loss: 6.437726905335595\n",
      "Epoch: 184\n"
     ]
    },
    {
     "name": "stderr",
     "output_type": "stream",
     "text": [
      "100%|████████████████████████████████████████████████████████████████████| 462/462 [00:02<00:00, 183.91it/s, loss=6.44]\n"
     ]
    },
    {
     "name": "stdout",
     "output_type": "stream",
     "text": [
      "Ave Loss: 6.43772690017502\n",
      "Epoch: 185\n"
     ]
    },
    {
     "name": "stderr",
     "output_type": "stream",
     "text": [
      "100%|████████████████████████████████████████████████████████████████████| 462/462 [00:02<00:00, 183.82it/s, loss=6.44]\n"
     ]
    },
    {
     "name": "stdout",
     "output_type": "stream",
     "text": [
      "Ave Loss: 6.437726904303481\n",
      "Epoch: 186\n"
     ]
    },
    {
     "name": "stderr",
     "output_type": "stream",
     "text": [
      "100%|████████████████████████████████████████████████████████████████████| 462/462 [00:02<00:00, 182.02it/s, loss=6.44]\n"
     ]
    },
    {
     "name": "stdout",
     "output_type": "stream",
     "text": [
      "Ave Loss: 6.43772690223925\n",
      "Epoch: 187\n"
     ]
    },
    {
     "name": "stderr",
     "output_type": "stream",
     "text": [
      "100%|████████████████████████████████████████████████████████████████████| 462/462 [00:02<00:00, 182.50it/s, loss=6.44]\n"
     ]
    },
    {
     "name": "stdout",
     "output_type": "stream",
     "text": [
      "Ave Loss: 6.437726895014445\n",
      "Epoch: 188\n"
     ]
    },
    {
     "name": "stderr",
     "output_type": "stream",
     "text": [
      "100%|████████████████████████████████████████████████████████████████████| 462/462 [00:02<00:00, 185.54it/s, loss=6.44]\n"
     ]
    },
    {
     "name": "stdout",
     "output_type": "stream",
     "text": [
      "Ave Loss: 6.437726890885985\n",
      "Epoch: 189\n"
     ]
    },
    {
     "name": "stderr",
     "output_type": "stream",
     "text": [
      "100%|████████████████████████████████████████████████████████████████████| 462/462 [00:02<00:00, 187.27it/s, loss=6.44]\n"
     ]
    },
    {
     "name": "stdout",
     "output_type": "stream",
     "text": [
      "Ave Loss: 6.43772688778964\n",
      "Epoch: 190\n"
     ]
    },
    {
     "name": "stderr",
     "output_type": "stream",
     "text": [
      "100%|████████████████████████████████████████████████████████████████████| 462/462 [00:02<00:00, 186.86it/s, loss=6.44]\n"
     ]
    },
    {
     "name": "stdout",
     "output_type": "stream",
     "text": [
      "Ave Loss: 6.437726882629065\n",
      "Epoch: 191\n"
     ]
    },
    {
     "name": "stderr",
     "output_type": "stream",
     "text": [
      "100%|████████████████████████████████████████████████████████████████████| 462/462 [00:02<00:00, 187.61it/s, loss=6.44]\n"
     ]
    },
    {
     "name": "stdout",
     "output_type": "stream",
     "text": [
      "Ave Loss: 6.4377268723079135\n",
      "Epoch: 192\n"
     ]
    },
    {
     "name": "stderr",
     "output_type": "stream",
     "text": [
      "100%|████████████████████████████████████████████████████████████████████| 462/462 [00:02<00:00, 184.35it/s, loss=6.44]\n"
     ]
    },
    {
     "name": "stdout",
     "output_type": "stream",
     "text": [
      "Ave Loss: 6.437726871275799\n",
      "Epoch: 193\n"
     ]
    },
    {
     "name": "stderr",
     "output_type": "stream",
     "text": [
      "100%|████████████████████████████████████████████████████████████████████| 462/462 [00:02<00:00, 188.19it/s, loss=6.44]\n"
     ]
    },
    {
     "name": "stdout",
     "output_type": "stream",
     "text": [
      "Ave Loss: 6.437726865083108\n",
      "Epoch: 194\n"
     ]
    },
    {
     "name": "stderr",
     "output_type": "stream",
     "text": [
      "100%|████████████████████████████████████████████████████████████████████| 462/462 [00:02<00:00, 179.46it/s, loss=6.44]\n"
     ]
    },
    {
     "name": "stdout",
     "output_type": "stream",
     "text": [
      "Ave Loss: 6.437726861986763\n",
      "Epoch: 195\n"
     ]
    },
    {
     "name": "stderr",
     "output_type": "stream",
     "text": [
      "100%|████████████████████████████████████████████████████████████████████| 462/462 [00:02<00:00, 180.66it/s, loss=6.44]\n"
     ]
    },
    {
     "name": "stdout",
     "output_type": "stream",
     "text": [
      "Ave Loss: 6.437726863018878\n",
      "Epoch: 196\n"
     ]
    },
    {
     "name": "stderr",
     "output_type": "stream",
     "text": [
      "100%|████████████████████████████████████████████████████████████████████| 462/462 [00:02<00:00, 176.59it/s, loss=6.44]\n"
     ]
    },
    {
     "name": "stdout",
     "output_type": "stream",
     "text": [
      "Ave Loss: 6.437726858890418\n",
      "Epoch: 197\n"
     ]
    },
    {
     "name": "stderr",
     "output_type": "stream",
     "text": [
      "100%|████████████████████████████████████████████████████████████████████| 462/462 [00:02<00:00, 183.83it/s, loss=6.44]\n"
     ]
    },
    {
     "name": "stdout",
     "output_type": "stream",
     "text": [
      "Ave Loss: 6.437726860954648\n",
      "Epoch: 198\n"
     ]
    },
    {
     "name": "stderr",
     "output_type": "stream",
     "text": [
      "100%|████████████████████████████████████████████████████████████████████| 462/462 [00:02<00:00, 182.59it/s, loss=6.44]\n"
     ]
    },
    {
     "name": "stdout",
     "output_type": "stream",
     "text": [
      "Ave Loss: 6.437726857858303\n",
      "Epoch: 199\n"
     ]
    },
    {
     "name": "stderr",
     "output_type": "stream",
     "text": [
      "100%|████████████████████████████████████████████████████████████████████| 462/462 [00:02<00:00, 179.32it/s, loss=6.44]\n"
     ]
    },
    {
     "name": "stdout",
     "output_type": "stream",
     "text": [
      "Ave Loss: 6.437726857858303\n",
      "Epoch: 200\n"
     ]
    },
    {
     "name": "stderr",
     "output_type": "stream",
     "text": [
      "100%|████████████████████████████████████████████████████████████████████| 462/462 [00:02<00:00, 179.37it/s, loss=6.44]\n"
     ]
    },
    {
     "name": "stdout",
     "output_type": "stream",
     "text": [
      "Ave Loss: 6.4377268506334975\n",
      "Epoch: 201\n"
     ]
    },
    {
     "name": "stderr",
     "output_type": "stream",
     "text": [
      "100%|████████████████████████████████████████████████████████████████████| 462/462 [00:02<00:00, 176.64it/s, loss=6.44]\n"
     ]
    },
    {
     "name": "stdout",
     "output_type": "stream",
     "text": [
      "Ave Loss: 6.437726847537152\n",
      "Epoch: 202\n"
     ]
    },
    {
     "name": "stderr",
     "output_type": "stream",
     "text": [
      "100%|████████████████████████████████████████████████████████████████████| 462/462 [00:02<00:00, 176.03it/s, loss=6.44]\n"
     ]
    },
    {
     "name": "stdout",
     "output_type": "stream",
     "text": [
      "Ave Loss: 6.437726839280232\n",
      "Epoch: 203\n"
     ]
    },
    {
     "name": "stderr",
     "output_type": "stream",
     "text": [
      "100%|████████████████████████████████████████████████████████████████████| 462/462 [00:02<00:00, 175.10it/s, loss=6.44]\n"
     ]
    },
    {
     "name": "stdout",
     "output_type": "stream",
     "text": [
      "Ave Loss: 6.437726831023311\n",
      "Epoch: 204\n"
     ]
    },
    {
     "name": "stderr",
     "output_type": "stream",
     "text": [
      "100%|████████████████████████████████████████████████████████████████████| 462/462 [00:02<00:00, 184.53it/s, loss=6.44]\n"
     ]
    },
    {
     "name": "stdout",
     "output_type": "stream",
     "text": [
      "Ave Loss: 6.4377268237985055\n",
      "Epoch: 205\n"
     ]
    },
    {
     "name": "stderr",
     "output_type": "stream",
     "text": [
      "100%|████████████████████████████████████████████████████████████████████| 462/462 [00:02<00:00, 187.47it/s, loss=6.44]\n"
     ]
    },
    {
     "name": "stdout",
     "output_type": "stream",
     "text": [
      "Ave Loss: 6.437726816573701\n",
      "Epoch: 206\n"
     ]
    },
    {
     "name": "stderr",
     "output_type": "stream",
     "text": [
      "100%|████████████████████████████████████████████████████████████████████| 462/462 [00:02<00:00, 182.56it/s, loss=6.44]\n"
     ]
    },
    {
     "name": "stdout",
     "output_type": "stream",
     "text": [
      "Ave Loss: 6.4377268176058156\n",
      "Epoch: 207\n"
     ]
    },
    {
     "name": "stderr",
     "output_type": "stream",
     "text": [
      "100%|████████████████████████████████████████████████████████████████████| 462/462 [00:02<00:00, 181.34it/s, loss=6.44]\n"
     ]
    },
    {
     "name": "stdout",
     "output_type": "stream",
     "text": [
      "Ave Loss: 6.4377268237985055\n",
      "Epoch: 208\n"
     ]
    },
    {
     "name": "stderr",
     "output_type": "stream",
     "text": [
      "100%|████████████████████████████████████████████████████████████████████| 462/462 [00:02<00:00, 174.28it/s, loss=6.44]\n"
     ]
    },
    {
     "name": "stdout",
     "output_type": "stream",
     "text": [
      "Ave Loss: 6.437726816573701\n",
      "Epoch: 209\n"
     ]
    },
    {
     "name": "stderr",
     "output_type": "stream",
     "text": [
      "100%|████████████████████████████████████████████████████████████████████| 462/462 [00:02<00:00, 169.39it/s, loss=6.44]\n"
     ]
    },
    {
     "name": "stdout",
     "output_type": "stream",
     "text": [
      "Ave Loss: 6.43772680831678\n",
      "Epoch: 210\n"
     ]
    },
    {
     "name": "stderr",
     "output_type": "stream",
     "text": [
      "100%|████████████████████████████████████████████████████████████████████| 462/462 [00:02<00:00, 166.84it/s, loss=6.44]\n"
     ]
    },
    {
     "name": "stdout",
     "output_type": "stream",
     "text": [
      "Ave Loss: 6.437726792835054\n",
      "Epoch: 211\n"
     ]
    },
    {
     "name": "stderr",
     "output_type": "stream",
     "text": [
      "100%|████████████████████████████████████████████████████████████████████| 462/462 [00:02<00:00, 168.98it/s, loss=6.44]\n"
     ]
    },
    {
     "name": "stdout",
     "output_type": "stream",
     "text": [
      "Ave Loss: 6.437726783546019\n",
      "Epoch: 212\n"
     ]
    },
    {
     "name": "stderr",
     "output_type": "stream",
     "text": [
      "100%|████████████████████████████████████████████████████████████████████| 462/462 [00:02<00:00, 168.65it/s, loss=6.44]\n"
     ]
    },
    {
     "name": "stdout",
     "output_type": "stream",
     "text": [
      "Ave Loss: 6.4377267794175586\n",
      "Epoch: 213\n"
     ]
    },
    {
     "name": "stderr",
     "output_type": "stream",
     "text": [
      "100%|████████████████████████████████████████████████████████████████████| 462/462 [00:02<00:00, 175.14it/s, loss=6.44]\n"
     ]
    },
    {
     "name": "stdout",
     "output_type": "stream",
     "text": [
      "Ave Loss: 6.437726780449673\n",
      "Epoch: 214\n"
     ]
    },
    {
     "name": "stderr",
     "output_type": "stream",
     "text": [
      "100%|████████████████████████████████████████████████████████████████████| 462/462 [00:02<00:00, 172.27it/s, loss=6.44]\n"
     ]
    },
    {
     "name": "stdout",
     "output_type": "stream",
     "text": [
      "Ave Loss: 6.4377267794175586\n",
      "Epoch: 215\n"
     ]
    },
    {
     "name": "stderr",
     "output_type": "stream",
     "text": [
      "100%|████████████████████████████████████████████████████████████████████| 462/462 [00:02<00:00, 171.01it/s, loss=6.44]\n"
     ]
    },
    {
     "name": "stdout",
     "output_type": "stream",
     "text": [
      "Ave Loss: 6.437726771160638\n",
      "Epoch: 216\n"
     ]
    },
    {
     "name": "stderr",
     "output_type": "stream",
     "text": [
      "100%|████████████████████████████████████████████████████████████████████| 462/462 [00:02<00:00, 169.12it/s, loss=6.44]\n"
     ]
    },
    {
     "name": "stdout",
     "output_type": "stream",
     "text": [
      "Ave Loss: 6.437726771160638\n",
      "Epoch: 217\n"
     ]
    },
    {
     "name": "stderr",
     "output_type": "stream",
     "text": [
      "100%|████████████████████████████████████████████████████████████████████| 462/462 [00:02<00:00, 176.21it/s, loss=6.44]\n"
     ]
    },
    {
     "name": "stdout",
     "output_type": "stream",
     "text": [
      "Ave Loss: 6.437726763935832\n",
      "Epoch: 218\n"
     ]
    },
    {
     "name": "stderr",
     "output_type": "stream",
     "text": [
      "100%|████████████████████████████████████████████████████████████████████| 462/462 [00:02<00:00, 177.37it/s, loss=6.44]\n"
     ]
    },
    {
     "name": "stdout",
     "output_type": "stream",
     "text": [
      "Ave Loss: 6.437726764967947\n",
      "Epoch: 219\n"
     ]
    },
    {
     "name": "stderr",
     "output_type": "stream",
     "text": [
      "100%|████████████████████████████████████████████████████████████████████| 462/462 [00:02<00:00, 181.66it/s, loss=6.44]\n"
     ]
    },
    {
     "name": "stdout",
     "output_type": "stream",
     "text": [
      "Ave Loss: 6.437726754646797\n",
      "Epoch: 220\n"
     ]
    },
    {
     "name": "stderr",
     "output_type": "stream",
     "text": [
      "100%|████████████████████████████████████████████████████████████████████| 462/462 [00:02<00:00, 185.18it/s, loss=6.44]\n"
     ]
    },
    {
     "name": "stdout",
     "output_type": "stream",
     "text": [
      "Ave Loss: 6.437726750518337\n",
      "Epoch: 221\n"
     ]
    },
    {
     "name": "stderr",
     "output_type": "stream",
     "text": [
      "100%|████████████████████████████████████████████████████████████████████| 462/462 [00:02<00:00, 182.76it/s, loss=6.44]\n"
     ]
    },
    {
     "name": "stdout",
     "output_type": "stream",
     "text": [
      "Ave Loss: 6.437726749486221\n",
      "Epoch: 222\n"
     ]
    },
    {
     "name": "stderr",
     "output_type": "stream",
     "text": [
      "100%|████████████████████████████████████████████████████████████████████| 462/462 [00:02<00:00, 181.50it/s, loss=6.44]\n"
     ]
    },
    {
     "name": "stdout",
     "output_type": "stream",
     "text": [
      "Ave Loss: 6.437726740197186\n",
      "Epoch: 223\n"
     ]
    },
    {
     "name": "stderr",
     "output_type": "stream",
     "text": [
      "100%|████████████████████████████████████████████████████████████████████| 462/462 [00:02<00:00, 184.74it/s, loss=6.44]\n"
     ]
    },
    {
     "name": "stdout",
     "output_type": "stream",
     "text": [
      "Ave Loss: 6.43772672677969\n",
      "Epoch: 224\n"
     ]
    },
    {
     "name": "stderr",
     "output_type": "stream",
     "text": [
      "100%|████████████████████████████████████████████████████████████████████| 462/462 [00:02<00:00, 183.62it/s, loss=6.44]\n"
     ]
    },
    {
     "name": "stdout",
     "output_type": "stream",
     "text": [
      "Ave Loss: 6.43772672471546\n",
      "Epoch: 225\n"
     ]
    },
    {
     "name": "stderr",
     "output_type": "stream",
     "text": [
      "100%|████████████████████████████████████████████████████████████████████| 462/462 [00:02<00:00, 180.86it/s, loss=6.44]\n"
     ]
    },
    {
     "name": "stdout",
     "output_type": "stream",
     "text": [
      "Ave Loss: 6.43772672265123\n",
      "Epoch: 226\n"
     ]
    },
    {
     "name": "stderr",
     "output_type": "stream",
     "text": [
      "100%|████████████████████████████████████████████████████████████████████| 462/462 [00:02<00:00, 187.63it/s, loss=6.44]\n"
     ]
    },
    {
     "name": "stdout",
     "output_type": "stream",
     "text": [
      "Ave Loss: 6.43772671852277\n",
      "Epoch: 227\n"
     ]
    },
    {
     "name": "stderr",
     "output_type": "stream",
     "text": [
      "100%|████████████████████████████████████████████████████████████████████| 462/462 [00:02<00:00, 181.67it/s, loss=6.44]\n"
     ]
    },
    {
     "name": "stdout",
     "output_type": "stream",
     "text": [
      "Ave Loss: 6.437726715426424\n",
      "Epoch: 228\n"
     ]
    },
    {
     "name": "stderr",
     "output_type": "stream",
     "text": [
      "100%|████████████████████████████████████████████████████████████████████| 462/462 [00:02<00:00, 180.68it/s, loss=6.44]\n"
     ]
    },
    {
     "name": "stdout",
     "output_type": "stream",
     "text": [
      "Ave Loss: 6.4377267040731585\n",
      "Epoch: 229\n"
     ]
    },
    {
     "name": "stderr",
     "output_type": "stream",
     "text": [
      "100%|████████████████████████████████████████████████████████████████████| 462/462 [00:02<00:00, 180.38it/s, loss=6.44]\n"
     ]
    },
    {
     "name": "stdout",
     "output_type": "stream",
     "text": [
      "Ave Loss: 6.437726699944698\n",
      "Epoch: 230\n"
     ]
    },
    {
     "name": "stderr",
     "output_type": "stream",
     "text": [
      "100%|████████████████████████████████████████████████████████████████████| 462/462 [00:02<00:00, 179.01it/s, loss=6.44]\n"
     ]
    },
    {
     "name": "stdout",
     "output_type": "stream",
     "text": [
      "Ave Loss: 6.437726696848353\n",
      "Epoch: 231\n"
     ]
    },
    {
     "name": "stderr",
     "output_type": "stream",
     "text": [
      "100%|████████████████████████████████████████████████████████████████████| 462/462 [00:02<00:00, 184.69it/s, loss=6.44]\n"
     ]
    },
    {
     "name": "stdout",
     "output_type": "stream",
     "text": [
      "Ave Loss: 6.437726689623548\n",
      "Epoch: 232\n"
     ]
    },
    {
     "name": "stderr",
     "output_type": "stream",
     "text": [
      "100%|████████████████████████████████████████████████████████████████████| 462/462 [00:02<00:00, 185.00it/s, loss=6.44]\n"
     ]
    },
    {
     "name": "stdout",
     "output_type": "stream",
     "text": [
      "Ave Loss: 6.437726683430857\n",
      "Epoch: 233\n"
     ]
    },
    {
     "name": "stderr",
     "output_type": "stream",
     "text": [
      "100%|████████████████████████████████████████████████████████████████████| 462/462 [00:02<00:00, 176.53it/s, loss=6.44]\n"
     ]
    },
    {
     "name": "stdout",
     "output_type": "stream",
     "text": [
      "Ave Loss: 6.437726683430857\n",
      "Epoch: 234\n"
     ]
    },
    {
     "name": "stderr",
     "output_type": "stream",
     "text": [
      "100%|████████████████████████████████████████████████████████████████████| 462/462 [00:02<00:00, 185.03it/s, loss=6.44]\n"
     ]
    },
    {
     "name": "stdout",
     "output_type": "stream",
     "text": [
      "Ave Loss: 6.437726686527203\n",
      "Epoch: 235\n"
     ]
    },
    {
     "name": "stderr",
     "output_type": "stream",
     "text": [
      "100%|████████████████████████████████████████████████████████████████████| 462/462 [00:02<00:00, 185.29it/s, loss=6.44]\n"
     ]
    },
    {
     "name": "stdout",
     "output_type": "stream",
     "text": [
      "Ave Loss: 6.437726684462972\n",
      "Epoch: 236\n"
     ]
    },
    {
     "name": "stderr",
     "output_type": "stream",
     "text": [
      "100%|████████████████████████████████████████████████████████████████████| 462/462 [00:02<00:00, 181.05it/s, loss=6.44]\n"
     ]
    },
    {
     "name": "stdout",
     "output_type": "stream",
     "text": [
      "Ave Loss: 6.437726681366628\n",
      "Epoch: 237\n"
     ]
    },
    {
     "name": "stderr",
     "output_type": "stream",
     "text": [
      "100%|████████████████████████████████████████████████████████████████████| 462/462 [00:02<00:00, 182.07it/s, loss=6.44]\n"
     ]
    },
    {
     "name": "stdout",
     "output_type": "stream",
     "text": [
      "Ave Loss: 6.437726674141822\n",
      "Epoch: 238\n"
     ]
    },
    {
     "name": "stderr",
     "output_type": "stream",
     "text": [
      "100%|████████████████████████████████████████████████████████████████████| 462/462 [00:02<00:00, 182.58it/s, loss=6.44]\n"
     ]
    },
    {
     "name": "stdout",
     "output_type": "stream",
     "text": [
      "Ave Loss: 6.437726663820671\n",
      "Epoch: 239\n"
     ]
    },
    {
     "name": "stderr",
     "output_type": "stream",
     "text": [
      "100%|████████████████████████████████████████████████████████████████████| 462/462 [00:02<00:00, 181.52it/s, loss=6.44]\n"
     ]
    },
    {
     "name": "stdout",
     "output_type": "stream",
     "text": [
      "Ave Loss: 6.437726658660096\n",
      "Epoch: 240\n"
     ]
    },
    {
     "name": "stderr",
     "output_type": "stream",
     "text": [
      "100%|████████████████████████████████████████████████████████████████████| 462/462 [00:02<00:00, 180.68it/s, loss=6.44]\n"
     ]
    },
    {
     "name": "stdout",
     "output_type": "stream",
     "text": [
      "Ave Loss: 6.43772665143529\n",
      "Epoch: 241\n"
     ]
    },
    {
     "name": "stderr",
     "output_type": "stream",
     "text": [
      "100%|████████████████████████████████████████████████████████████████████| 462/462 [00:02<00:00, 178.97it/s, loss=6.44]\n"
     ]
    },
    {
     "name": "stdout",
     "output_type": "stream",
     "text": [
      "Ave Loss: 6.437726650403175\n",
      "Epoch: 242\n"
     ]
    },
    {
     "name": "stderr",
     "output_type": "stream",
     "text": [
      "100%|████████████████████████████████████████████████████████████████████| 462/462 [00:02<00:00, 180.51it/s, loss=6.44]\n"
     ]
    },
    {
     "name": "stdout",
     "output_type": "stream",
     "text": [
      "Ave Loss: 6.437726646274715\n",
      "Epoch: 243\n"
     ]
    },
    {
     "name": "stderr",
     "output_type": "stream",
     "text": [
      "100%|████████████████████████████████████████████████████████████████████| 462/462 [00:02<00:00, 186.52it/s, loss=6.44]\n"
     ]
    },
    {
     "name": "stdout",
     "output_type": "stream",
     "text": [
      "Ave Loss: 6.437726646274715\n",
      "Epoch: 244\n"
     ]
    },
    {
     "name": "stderr",
     "output_type": "stream",
     "text": [
      "100%|█████████████████████████████████████████████████████████████████████| 462/462 [00:06<00:00, 66.61it/s, loss=6.44]\n"
     ]
    },
    {
     "name": "stdout",
     "output_type": "stream",
     "text": [
      "Ave Loss: 6.4377266452426\n",
      "Epoch: 245\n"
     ]
    },
    {
     "name": "stderr",
     "output_type": "stream",
     "text": [
      "100%|█████████████████████████████████████████████████████████████████████| 462/462 [00:04<00:00, 93.32it/s, loss=6.44]\n"
     ]
    },
    {
     "name": "stdout",
     "output_type": "stream",
     "text": [
      "Ave Loss: 6.437726642146255\n",
      "Epoch: 246\n"
     ]
    },
    {
     "name": "stderr",
     "output_type": "stream",
     "text": [
      "100%|█████████████████████████████████████████████████████████████████████| 462/462 [00:05<00:00, 82.04it/s, loss=6.44]\n"
     ]
    },
    {
     "name": "stdout",
     "output_type": "stream",
     "text": [
      "Ave Loss: 6.43772664111414\n",
      "Epoch: 247\n"
     ]
    },
    {
     "name": "stderr",
     "output_type": "stream",
     "text": [
      "100%|████████████████████████████████████████████████████████████████████| 462/462 [00:02<00:00, 156.09it/s, loss=6.44]\n"
     ]
    },
    {
     "name": "stdout",
     "output_type": "stream",
     "text": [
      "Ave Loss: 6.437726631825105\n",
      "Epoch: 248\n"
     ]
    },
    {
     "name": "stderr",
     "output_type": "stream",
     "text": [
      "100%|████████████████████████████████████████████████████████████████████| 462/462 [00:02<00:00, 185.44it/s, loss=6.44]\n"
     ]
    },
    {
     "name": "stdout",
     "output_type": "stream",
     "text": [
      "Ave Loss: 6.437726630792989\n",
      "Epoch: 249\n"
     ]
    },
    {
     "name": "stderr",
     "output_type": "stream",
     "text": [
      "100%|████████████████████████████████████████████████████████████████████| 462/462 [00:02<00:00, 179.80it/s, loss=6.44]\n"
     ]
    },
    {
     "name": "stdout",
     "output_type": "stream",
     "text": [
      "Ave Loss: 6.437726630792989\n",
      "Epoch: 250\n"
     ]
    },
    {
     "name": "stderr",
     "output_type": "stream",
     "text": [
      "100%|████████████████████████████████████████████████████████████████████| 462/462 [00:02<00:00, 179.50it/s, loss=6.44]\n"
     ]
    },
    {
     "name": "stdout",
     "output_type": "stream",
     "text": [
      "Ave Loss: 6.437726626664529\n",
      "Epoch: 251\n"
     ]
    },
    {
     "name": "stderr",
     "output_type": "stream",
     "text": [
      "100%|████████████████████████████████████████████████████████████████████| 462/462 [00:02<00:00, 182.45it/s, loss=6.44]\n"
     ]
    },
    {
     "name": "stdout",
     "output_type": "stream",
     "text": [
      "Ave Loss: 6.437726624600299\n",
      "Epoch: 252\n"
     ]
    },
    {
     "name": "stderr",
     "output_type": "stream",
     "text": [
      "100%|████████████████████████████████████████████████████████████████████| 462/462 [00:02<00:00, 179.97it/s, loss=6.44]\n"
     ]
    },
    {
     "name": "stdout",
     "output_type": "stream",
     "text": [
      "Ave Loss: 6.437726614279148\n",
      "Epoch: 253\n"
     ]
    },
    {
     "name": "stderr",
     "output_type": "stream",
     "text": [
      "100%|████████████████████████████████████████████████████████████████████| 462/462 [00:02<00:00, 170.87it/s, loss=6.44]\n"
     ]
    },
    {
     "name": "stdout",
     "output_type": "stream",
     "text": [
      "Ave Loss: 6.437726612214918\n",
      "Epoch: 254\n"
     ]
    },
    {
     "name": "stderr",
     "output_type": "stream",
     "text": [
      "100%|████████████████████████████████████████████████████████████████████| 462/462 [00:02<00:00, 183.00it/s, loss=6.44]\n"
     ]
    },
    {
     "name": "stdout",
     "output_type": "stream",
     "text": [
      "Ave Loss: 6.437726614279148\n",
      "Epoch: 255\n"
     ]
    },
    {
     "name": "stderr",
     "output_type": "stream",
     "text": [
      "100%|████████████████████████████████████████████████████████████████████| 462/462 [00:02<00:00, 181.13it/s, loss=6.44]\n"
     ]
    },
    {
     "name": "stdout",
     "output_type": "stream",
     "text": [
      "Ave Loss: 6.437726610150688\n",
      "Epoch: 256\n"
     ]
    },
    {
     "name": "stderr",
     "output_type": "stream",
     "text": [
      "100%|████████████████████████████████████████████████████████████████████| 462/462 [00:02<00:00, 184.87it/s, loss=6.44]\n"
     ]
    },
    {
     "name": "stdout",
     "output_type": "stream",
     "text": [
      "Ave Loss: 6.437726613247033\n",
      "Epoch: 257\n"
     ]
    },
    {
     "name": "stderr",
     "output_type": "stream",
     "text": [
      "100%|████████████████████████████████████████████████████████████████████| 462/462 [00:02<00:00, 180.96it/s, loss=6.44]\n"
     ]
    },
    {
     "name": "stdout",
     "output_type": "stream",
     "text": [
      "Ave Loss: 6.437726614279148\n",
      "Epoch: 258\n"
     ]
    },
    {
     "name": "stderr",
     "output_type": "stream",
     "text": [
      "100%|████████████████████████████████████████████████████████████████████| 462/462 [00:02<00:00, 181.34it/s, loss=6.44]\n"
     ]
    },
    {
     "name": "stdout",
     "output_type": "stream",
     "text": [
      "Ave Loss: 6.437726618407608\n",
      "Epoch: 259\n"
     ]
    },
    {
     "name": "stderr",
     "output_type": "stream",
     "text": [
      "100%|████████████████████████████████████████████████████████████████████| 462/462 [00:02<00:00, 185.62it/s, loss=6.44]\n"
     ]
    },
    {
     "name": "stdout",
     "output_type": "stream",
     "text": [
      "Ave Loss: 6.437726630792989\n",
      "Epoch: 260\n"
     ]
    },
    {
     "name": "stderr",
     "output_type": "stream",
     "text": [
      "100%|████████████████████████████████████████████████████████████████████| 462/462 [00:02<00:00, 181.80it/s, loss=6.44]\n"
     ]
    },
    {
     "name": "stdout",
     "output_type": "stream",
     "text": [
      "Ave Loss: 6.437726618407608\n",
      "Epoch: 261\n"
     ]
    },
    {
     "name": "stderr",
     "output_type": "stream",
     "text": [
      "100%|████████████████████████████████████████████████████████████████████| 462/462 [00:02<00:00, 181.25it/s, loss=6.44]\n"
     ]
    },
    {
     "name": "stdout",
     "output_type": "stream",
     "text": [
      "Ave Loss: 6.437726610150688\n",
      "Epoch: 262\n"
     ]
    },
    {
     "name": "stderr",
     "output_type": "stream",
     "text": [
      "100%|████████████████████████████████████████████████████████████████████| 462/462 [00:02<00:00, 180.33it/s, loss=6.44]\n"
     ]
    },
    {
     "name": "stdout",
     "output_type": "stream",
     "text": [
      "Ave Loss: 6.437726606022228\n",
      "Epoch: 263\n"
     ]
    },
    {
     "name": "stderr",
     "output_type": "stream",
     "text": [
      "100%|████████████████████████████████████████████████████████████████████| 462/462 [00:02<00:00, 181.64it/s, loss=6.44]\n"
     ]
    },
    {
     "name": "stdout",
     "output_type": "stream",
     "text": [
      "Ave Loss: 6.4377266008616525\n",
      "Epoch: 264\n"
     ]
    },
    {
     "name": "stderr",
     "output_type": "stream",
     "text": [
      "100%|████████████████████████████████████████████████████████████████████| 462/462 [00:02<00:00, 181.84it/s, loss=6.44]\n"
     ]
    },
    {
     "name": "stdout",
     "output_type": "stream",
     "text": [
      "Ave Loss: 6.437726601893767\n",
      "Epoch: 265\n"
     ]
    },
    {
     "name": "stderr",
     "output_type": "stream",
     "text": [
      "100%|████████████████████████████████████████████████████████████████████| 462/462 [00:02<00:00, 181.75it/s, loss=6.44]\n"
     ]
    },
    {
     "name": "stdout",
     "output_type": "stream",
     "text": [
      "Ave Loss: 6.437726613247033\n",
      "Epoch: 266\n"
     ]
    },
    {
     "name": "stderr",
     "output_type": "stream",
     "text": [
      "100%|████████████████████████████████████████████████████████████████████| 462/462 [00:02<00:00, 183.89it/s, loss=6.44]\n"
     ]
    },
    {
     "name": "stdout",
     "output_type": "stream",
     "text": [
      "Ave Loss: 6.437726615311264\n",
      "Epoch: 267\n"
     ]
    },
    {
     "name": "stderr",
     "output_type": "stream",
     "text": [
      "100%|████████████████████████████████████████████████████████████████████| 462/462 [00:02<00:00, 180.73it/s, loss=6.44]\n"
     ]
    },
    {
     "name": "stdout",
     "output_type": "stream",
     "text": [
      "Ave Loss: 6.437726608086458\n",
      "Epoch: 268\n"
     ]
    },
    {
     "name": "stderr",
     "output_type": "stream",
     "text": [
      "100%|████████████████████████████████████████████████████████████████████| 462/462 [00:02<00:00, 181.80it/s, loss=6.44]\n"
     ]
    },
    {
     "name": "stdout",
     "output_type": "stream",
     "text": [
      "Ave Loss: 6.437726598797423\n",
      "Epoch: 269\n"
     ]
    },
    {
     "name": "stderr",
     "output_type": "stream",
     "text": [
      "100%|████████████████████████████████████████████████████████████████████| 462/462 [00:02<00:00, 180.53it/s, loss=6.44]\n"
     ]
    },
    {
     "name": "stdout",
     "output_type": "stream",
     "text": [
      "Ave Loss: 6.437726599829538\n",
      "Epoch: 270\n"
     ]
    },
    {
     "name": "stderr",
     "output_type": "stream",
     "text": [
      "100%|████████████████████████████████████████████████████████████████████| 462/462 [00:02<00:00, 176.87it/s, loss=6.44]\n"
     ]
    },
    {
     "name": "stdout",
     "output_type": "stream",
     "text": [
      "Ave Loss: 6.437726597765307\n",
      "Epoch: 271\n"
     ]
    },
    {
     "name": "stderr",
     "output_type": "stream",
     "text": [
      "100%|████████████████████████████████████████████████████████████████████| 462/462 [00:02<00:00, 176.17it/s, loss=6.44]\n"
     ]
    },
    {
     "name": "stdout",
     "output_type": "stream",
     "text": [
      "Ave Loss: 6.437726590540502\n",
      "Epoch: 272\n"
     ]
    },
    {
     "name": "stderr",
     "output_type": "stream",
     "text": [
      "100%|████████████████████████████████████████████████████████████████████| 462/462 [00:02<00:00, 178.44it/s, loss=6.44]\n"
     ]
    },
    {
     "name": "stdout",
     "output_type": "stream",
     "text": [
      "Ave Loss: 6.437726590540502\n",
      "Epoch: 273\n"
     ]
    },
    {
     "name": "stderr",
     "output_type": "stream",
     "text": [
      "100%|████████████████████████████████████████████████████████████████████| 462/462 [00:02<00:00, 178.97it/s, loss=6.44]\n"
     ]
    },
    {
     "name": "stdout",
     "output_type": "stream",
     "text": [
      "Ave Loss: 6.437726586412042\n",
      "Epoch: 274\n"
     ]
    },
    {
     "name": "stderr",
     "output_type": "stream",
     "text": [
      "100%|████████████████████████████████████████████████████████████████████| 462/462 [00:02<00:00, 179.40it/s, loss=6.44]\n"
     ]
    },
    {
     "name": "stdout",
     "output_type": "stream",
     "text": [
      "Ave Loss: 6.437726580219351\n",
      "Epoch: 275\n"
     ]
    },
    {
     "name": "stderr",
     "output_type": "stream",
     "text": [
      "100%|████████████████████████████████████████████████████████████████████| 462/462 [00:02<00:00, 177.38it/s, loss=6.44]\n"
     ]
    },
    {
     "name": "stdout",
     "output_type": "stream",
     "text": [
      "Ave Loss: 6.437726571962431\n",
      "Epoch: 276\n"
     ]
    },
    {
     "name": "stderr",
     "output_type": "stream",
     "text": [
      "100%|████████████████████████████████████████████████████████████████████| 462/462 [00:02<00:00, 176.19it/s, loss=6.44]\n"
     ]
    },
    {
     "name": "stdout",
     "output_type": "stream",
     "text": [
      "Ave Loss: 6.437726569898201\n",
      "Epoch: 277\n"
     ]
    },
    {
     "name": "stderr",
     "output_type": "stream",
     "text": [
      "100%|████████████████████████████████████████████████████████████████████| 462/462 [00:02<00:00, 178.92it/s, loss=6.44]\n"
     ]
    },
    {
     "name": "stdout",
     "output_type": "stream",
     "text": [
      "Ave Loss: 6.437726575058776\n",
      "Epoch: 278\n"
     ]
    },
    {
     "name": "stderr",
     "output_type": "stream",
     "text": [
      "100%|████████████████████████████████████████████████████████████████████| 462/462 [00:02<00:00, 179.73it/s, loss=6.44]\n"
     ]
    },
    {
     "name": "stdout",
     "output_type": "stream",
     "text": [
      "Ave Loss: 6.43772656370551\n",
      "Epoch: 279\n"
     ]
    },
    {
     "name": "stderr",
     "output_type": "stream",
     "text": [
      "100%|████████████████████████████████████████████████████████████████████| 462/462 [00:02<00:00, 178.39it/s, loss=6.44]\n"
     ]
    },
    {
     "name": "stdout",
     "output_type": "stream",
     "text": [
      "Ave Loss: 6.437726561641281\n",
      "Epoch: 280\n"
     ]
    },
    {
     "name": "stderr",
     "output_type": "stream",
     "text": [
      "100%|████████████████████████████████████████████████████████████████████| 462/462 [00:02<00:00, 179.83it/s, loss=6.44]\n"
     ]
    },
    {
     "name": "stdout",
     "output_type": "stream",
     "text": [
      "Ave Loss: 6.4377265523522444\n",
      "Epoch: 281\n"
     ]
    },
    {
     "name": "stderr",
     "output_type": "stream",
     "text": [
      "100%|████████████████████████████████████████████████████████████████████| 462/462 [00:02<00:00, 182.99it/s, loss=6.44]\n"
     ]
    },
    {
     "name": "stdout",
     "output_type": "stream",
     "text": [
      "Ave Loss: 6.437726548223784\n",
      "Epoch: 282\n"
     ]
    },
    {
     "name": "stderr",
     "output_type": "stream",
     "text": [
      "100%|████████████████████████████████████████████████████████████████████| 462/462 [00:02<00:00, 180.54it/s, loss=6.44]\n"
     ]
    },
    {
     "name": "stdout",
     "output_type": "stream",
     "text": [
      "Ave Loss: 6.43772654512744\n",
      "Epoch: 283\n"
     ]
    },
    {
     "name": "stderr",
     "output_type": "stream",
     "text": [
      "100%|████████████████████████████████████████████████████████████████████| 462/462 [00:02<00:00, 178.73it/s, loss=6.44]\n"
     ]
    },
    {
     "name": "stdout",
     "output_type": "stream",
     "text": [
      "Ave Loss: 6.437726543063209\n",
      "Epoch: 284\n"
     ]
    },
    {
     "name": "stderr",
     "output_type": "stream",
     "text": [
      "100%|████████████████████████████████████████████████████████████████████| 462/462 [00:02<00:00, 176.59it/s, loss=6.44]\n"
     ]
    },
    {
     "name": "stdout",
     "output_type": "stream",
     "text": [
      "Ave Loss: 6.4377265358384035\n",
      "Epoch: 285\n"
     ]
    },
    {
     "name": "stderr",
     "output_type": "stream",
     "text": [
      "100%|████████████████████████████████████████████████████████████████████| 462/462 [00:02<00:00, 171.70it/s, loss=6.44]\n"
     ]
    },
    {
     "name": "stdout",
     "output_type": "stream",
     "text": [
      "Ave Loss: 6.437726525517253\n",
      "Epoch: 286\n"
     ]
    },
    {
     "name": "stderr",
     "output_type": "stream",
     "text": [
      "100%|████████████████████████████████████████████████████████████████████| 462/462 [00:02<00:00, 162.96it/s, loss=6.44]\n"
     ]
    },
    {
     "name": "stdout",
     "output_type": "stream",
     "text": [
      "Ave Loss: 6.437726522420908\n",
      "Epoch: 287\n"
     ]
    },
    {
     "name": "stderr",
     "output_type": "stream",
     "text": [
      "100%|████████████████████████████████████████████████████████████████████| 462/462 [00:02<00:00, 160.23it/s, loss=6.44]\n"
     ]
    },
    {
     "name": "stdout",
     "output_type": "stream",
     "text": [
      "Ave Loss: 6.437726517260333\n",
      "Epoch: 288\n"
     ]
    },
    {
     "name": "stderr",
     "output_type": "stream",
     "text": [
      "100%|████████████████████████████████████████████████████████████████████| 462/462 [00:02<00:00, 155.52it/s, loss=6.44]\n"
     ]
    },
    {
     "name": "stdout",
     "output_type": "stream",
     "text": [
      "Ave Loss: 6.4377265141639874\n",
      "Epoch: 289\n"
     ]
    },
    {
     "name": "stderr",
     "output_type": "stream",
     "text": [
      "100%|████████████████████████████████████████████████████████████████████| 462/462 [00:02<00:00, 162.19it/s, loss=6.44]\n"
     ]
    },
    {
     "name": "stdout",
     "output_type": "stream",
     "text": [
      "Ave Loss: 6.437726505907067\n",
      "Epoch: 290\n"
     ]
    },
    {
     "name": "stderr",
     "output_type": "stream",
     "text": [
      "100%|████████████████████████████████████████████████████████████████████| 462/462 [00:02<00:00, 159.89it/s, loss=6.44]\n"
     ]
    },
    {
     "name": "stdout",
     "output_type": "stream",
     "text": [
      "Ave Loss: 6.437726500746492\n",
      "Epoch: 291\n"
     ]
    },
    {
     "name": "stderr",
     "output_type": "stream",
     "text": [
      "100%|████████████████████████████████████████████████████████████████████| 462/462 [00:02<00:00, 160.01it/s, loss=6.44]\n"
     ]
    },
    {
     "name": "stdout",
     "output_type": "stream",
     "text": [
      "Ave Loss: 6.437726488361111\n",
      "Epoch: 292\n"
     ]
    },
    {
     "name": "stderr",
     "output_type": "stream",
     "text": [
      "100%|████████████████████████████████████████████████████████████████████| 462/462 [00:02<00:00, 159.48it/s, loss=6.44]\n"
     ]
    },
    {
     "name": "stdout",
     "output_type": "stream",
     "text": [
      "Ave Loss: 6.437726488361111\n",
      "Epoch: 293\n"
     ]
    },
    {
     "name": "stderr",
     "output_type": "stream",
     "text": [
      "100%|████████████████████████████████████████████████████████████████████| 462/462 [00:02<00:00, 157.55it/s, loss=6.44]\n"
     ]
    },
    {
     "name": "stdout",
     "output_type": "stream",
     "text": [
      "Ave Loss: 6.437726489393226\n",
      "Epoch: 294\n"
     ]
    },
    {
     "name": "stderr",
     "output_type": "stream",
     "text": [
      "100%|████████████████████████████████████████████████████████████████████| 462/462 [00:02<00:00, 158.36it/s, loss=6.44]\n"
     ]
    },
    {
     "name": "stdout",
     "output_type": "stream",
     "text": [
      "Ave Loss: 6.43772648216842\n",
      "Epoch: 295\n"
     ]
    },
    {
     "name": "stderr",
     "output_type": "stream",
     "text": [
      "100%|████████████████████████████████████████████████████████████████████| 462/462 [00:03<00:00, 153.97it/s, loss=6.44]\n"
     ]
    },
    {
     "name": "stdout",
     "output_type": "stream",
     "text": [
      "Ave Loss: 6.4377264759757304\n",
      "Epoch: 296\n"
     ]
    },
    {
     "name": "stderr",
     "output_type": "stream",
     "text": [
      "100%|████████████████████████████████████████████████████████████████████| 462/462 [00:02<00:00, 160.30it/s, loss=6.44]\n"
     ]
    },
    {
     "name": "stdout",
     "output_type": "stream",
     "text": [
      "Ave Loss: 6.437726466686694\n",
      "Epoch: 297\n"
     ]
    },
    {
     "name": "stderr",
     "output_type": "stream",
     "text": [
      "100%|████████████████████████████████████████████████████████████████████| 462/462 [00:02<00:00, 157.22it/s, loss=6.44]\n"
     ]
    },
    {
     "name": "stdout",
     "output_type": "stream",
     "text": [
      "Ave Loss: 6.4377264594618895\n",
      "Epoch: 298\n"
     ]
    },
    {
     "name": "stderr",
     "output_type": "stream",
     "text": [
      "100%|████████████████████████████████████████████████████████████████████| 462/462 [00:03<00:00, 153.06it/s, loss=6.44]\n"
     ]
    },
    {
     "name": "stdout",
     "output_type": "stream",
     "text": [
      "Ave Loss: 6.437726453269199\n",
      "Epoch: 299\n"
     ]
    },
    {
     "name": "stderr",
     "output_type": "stream",
     "text": [
      "100%|████████████████████████████████████████████████████████████████████| 462/462 [00:02<00:00, 156.64it/s, loss=6.44]"
     ]
    },
    {
     "name": "stdout",
     "output_type": "stream",
     "text": [
      "Ave Loss: 6.437726448108624\n"
     ]
    },
    {
     "name": "stderr",
     "output_type": "stream",
     "text": [
      "\n"
     ]
    }
   ],
   "source": [
    "# Train model\n",
    "epochs = 300\n",
    "average_losses = []\n",
    "\n",
    "for epoch in range(epochs):\n",
    "    print(\"Epoch: {}\".format(epoch))\n",
    "    ave_loss = train_fn(train_loader, model, optimizer, criterion, device)\n",
    "    \n",
    "    print(\"Ave Loss: {}\".format(ave_loss))\n",
    "    average_losses.append(ave_loss)"
   ]
  },
  {
   "cell_type": "code",
   "execution_count": 26,
   "id": "f214ff1c",
   "metadata": {},
   "outputs": [
    {
     "name": "stderr",
     "output_type": "stream",
     "text": [
      "C:\\Users\\Irish\\AppData\\Local\\Temp\\ipykernel_17012\\2504464601.py:14: UserWarning: Creating a tensor from a list of numpy.ndarrays is extremely slow. Please consider converting the list to a single numpy.ndarray with numpy.array() before converting to a tensor. (Triggered internally at C:\\actions-runner\\_work\\pytorch\\pytorch\\builder\\windows\\pytorch\\torch\\csrc\\utils\\tensor_new.cpp:248.)\n",
      "  initial_input = torch.tensor([np.array([x_vector]).ravel()]).to(dtype=torch.float32)\n"
     ]
    },
    {
     "data": {
      "image/png": "[encoded data removed]",
      "text/plain": [
       "<Figure size 640x480 with 1 Axes>"
      ]
     },
     "metadata": {},
     "output_type": "display_data"
    }
   ],
   "source": [
    "# Inspect probability distribution of word tokens\n",
    "import matplotlib.pyplot as plt\n",
    "import pandas as pd\n",
    "\n",
    "song = ['\\n', '\\n']\n",
    "x_ints = [word_indices[item] for item in song]\n",
    "x_vector = []\n",
    "\n",
    "for item in x_ints:\n",
    "    x_item = np.zeros(len(unique_words))\n",
    "    x_item[item] = 1\n",
    "    x_vector.append(x_item)\n",
    "\n",
    "initial_input = torch.tensor([np.array([x_vector]).ravel()]).to(dtype=torch.float32)\n",
    "output = model(initial_input)[0].detach().cpu().numpy()\n",
    "\n",
    "df = pd.DataFrame(output)\n",
    "df.plot.bar()\n",
    "plt.yscale(\"log\")\n",
    "plt.show()"
   ]
  },
  {
   "cell_type": "code",
   "execution_count": 56,
   "id": "555aca0c",
   "metadata": {},
   "outputs": [],
   "source": [
    "# Generate text sample from model output\n",
    "word_count = 100\n",
    "song = []\n",
    "\n",
    "word1, word2 = \"\\n\", \"\\n\"\n",
    "\n",
    "for i in range(word_count):\n",
    "    phrase = [word1, word2]\n",
    "    x_ints = [word_indices[item] for item in phrase]\n",
    "    x_vector = []\n",
    "\n",
    "    for item in x_ints:\n",
    "        x_item = np.zeros(len(unique_words))\n",
    "        x_item[item] = 1\n",
    "        x_vector.append(x_item)\n",
    "\n",
    "    initial_input = torch.tensor([np.array([x_vector]).ravel()]).float()\n",
    "\n",
    "    output = model(initial_input)[0].detach().cpu().numpy()\n",
    "\n",
    "    # Workaround to fix occasional sum(pvals[:-1]) > 1.0  bug from implicit casting in np.random.multinomial \n",
    "    output = output.astype(float)\n",
    "    output /= output.sum()\n",
    "\n",
    "    index = np.where(np.random.multinomial(1, output) == 1)[0][0]\n",
    "    word3 = indices_words[index]\n",
    "    song.append(word3)\n",
    "    \n",
    "    # Use generated word from this run as seed for next run\n",
    "    word1, word2 = word2, word3"
   ]
  },
  {
   "cell_type": "code",
   "execution_count": 57,
   "id": "98afde34",
   "metadata": {},
   "outputs": [
    {
     "name": "stdout",
     "output_type": "stream",
     "text": [
      "Generated Text:\n",
      "peculiar patronage eyes meth one-night factories like couldn't game destination sing softly wish goes: hookers up all ratted head shame deep streetlamp drinkers tonight cancer sign riordan blot few man? old sea beyond streets stabbed new ratted won't over 'cause crime morning held illusion thought swelled changes vision drops good railway dreams tear wrong rhyme soul fools doesn't warm for tapping the writ safe ah away? says twenty-one share roof rhyme stands like go child oh one-night almost pot rainin' bound from which sea ripples deep grace house puts but penetrate each because hit escaping island ocean stay reminds there's\n"
     ]
    }
   ],
   "source": [
    "print(\"Generated Text:\")\n",
    "song = ' '.join(song)\n",
    "print(song)"
   ]
  },
  {
   "cell_type": "code",
   "execution_count": null,
   "id": "0a27304d",
   "metadata": {},
   "outputs": [],
   "source": []
  }
 ],
 "metadata": {
  "kernelspec": {
   "display_name": "Python 3 (ipykernel)",
   "language": "python",
   "name": "python3"
  },
  "language_info": {
   "codemirror_mode": {
    "name": "ipython",
    "version": 3
   },
   "file_extension": ".py",
   "mimetype": "text/x-python",
   "name": "python",
   "nbconvert_exporter": "python",
   "pygments_lexer": "ipython3",
   "version": "3.9.13"
  }
 },
 "nbformat": 4,
 "nbformat_minor": 5
}
