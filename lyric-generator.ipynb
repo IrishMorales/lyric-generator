{
 "cells": [
  {
   "cell_type": "markdown",
   "id": "cd12e830",
   "metadata": {},
   "source": [
    "# Simon & Garfunkel Lyric Generator"
   ]
  },
  {
   "cell_type": "markdown",
   "id": "b5c6d930",
   "metadata": {},
   "source": [
    "This notebook contains code for an MLP neural network that generates lyrics from the American rock due Simon & Garfunkel. Generation is done on a word-level basis. Lyrics are taken from [LINK HERE]"
   ]
  },
  {
   "cell_type": "markdown",
   "id": "775f0cda",
   "metadata": {},
   "source": [
    "### Import Libraries"
   ]
  },
  {
   "cell_type": "code",
   "execution_count": 1,
   "id": "eccd3655",
   "metadata": {},
   "outputs": [
    {
     "name": "stderr",
     "output_type": "stream",
     "text": [
      "[nltk_data] Downloading package punkt to\n",
      "[nltk_data]     C:\\Users\\Irish\\AppData\\Roaming\\nltk_data...\n",
      "[nltk_data]   Unzipping tokenizers\\punkt.zip.\n",
      "[nltk_data] Downloading package wordnet to\n",
      "[nltk_data]     C:\\Users\\Irish\\AppData\\Roaming\\nltk_data...\n"
     ]
    },
    {
     "data": {
      "text/plain": [
       "True"
      ]
     },
     "execution_count": 1,
     "metadata": {},
     "output_type": "execute_result"
    }
   ],
   "source": [
    "import re\n",
    "import numpy as np\n",
    "import torch\n",
    "import torch.nn as nn\n",
    "import torch.optim as optim\n",
    "import nltk\n",
    "from tqdm import tqdm\n",
    "import torch.optim as optim\n",
    "from nltk.tokenize import word_tokenize\n",
    "from nltk.stem import PorterStemmer, WordNetLemmatizer\n",
    "from nltk.corpus import stopwords\n",
    "nltk.download('punkt')\n",
    "nltk.download('wordnet')"
   ]
  },
  {
   "cell_type": "markdown",
   "id": "d50c2279",
   "metadata": {},
   "source": [
    "### Input"
   ]
  },
  {
   "cell_type": "code",
   "execution_count": 2,
   "id": "8f990129",
   "metadata": {},
   "outputs": [
    {
     "data": {
      "text/plain": [
       "\"In visions of the dark night\\nI have dreamed of joy departed-\\nBut a waking dream of life and light\\nHath left me broken-hearted.\\n\\nAh! what is not a dream by day\\nTo him whose eyes are cast\\nOn things around him with a ray\\nTurned back upon the past?\\n\\nThat holy dream- that holy dream,\\nWhile all the world were chiding,\\nHath cheered me as a lovely beam\\nA lonely spirit guiding.\\n\\nWhat though that light, thro' storm and night,\\nSo trembled from afar-\\nWhat could there be more purely bright\\nIn Truth's day-star?\\n\\nFrom childhood's hour I have not been\\nAs others were; I have not seen\\nAs others saw; I could not bring\\nMy passions from a common spring.\\nFrom the same source I have not taken\\nMy sorrow; I could not awaken\\nMy heart to joy at the same tone;\\nAnd all I loved, I loved alone.\\nThen- in my childhood, in the dawn\\nOf a most stormy life- was drawn\\nFrom every depth of good and ill\\nThe mystery which binds me still:\\nFrom the torrent, or the fountain,\\nFrom the red cliff of the mountain,\\nFrom the sun that round me rolled\\nIn its autumn tint of gold,\\nFrom the lightning in the sky\\nAs it passed me flying by,\\nFrom the thunder and the storm,\\nAnd the cloud that took the form\\n(When the rest of Heaven was blue)\\nOf a demon in my view.\\n\\nOh! that my young life were a lasting dream!\\nMy spirit not awakening, till the beam\\nOf an Eternity should bring the morrow.\\nYes! tho' that long dream were of hopeless sorrow,\\n'Twere better than the cold reality\\nOf waking life, to him whose heart must be,\\nAnd hath been still, upon the lovely earth,\\nA chaos of deep passion, from his birth.\\nBut should it be- that dream eternally\\nContinuing- as dreams have been to me\\nIn my young boyhood- should it thus be given,\\n'Twere folly still to hope for higher Heaven.\\nFor I have revell'd, when the sun was bright\\nI' the summer sky, in dreams of living light\\nAnd loveliness,- have left my very heart\\nIn climes of my imagining, apart\\nFrom mine own home, with beings that have been\\nOf mine own thought- what more could I have seen?\\n'Twas once- and only once- and the wild hour\\nFrom my remembrance shall not pass- some power\\nOr spell had bound me- 'twas the chilly wind\\nCame o'er me in the night, and left behind\\nIts image on my spirit- or the moon\\nShone on my slumbers in her lofty noon\\nToo coldly- or the stars- howe'er it was\\nThat dream was as that night-wind- let it pass.\\n\\nI have been happy, tho' in a dream.\\nI have been happy- and I love the theme:\\nDreams! in their vivid coloring of life,\\nAs in that fleeting, shadowy, misty strife\\nOf semblance with reality, which brings\\nTo the delirious eye, more lovely things\\nOf Paradise and Love- and all our own!\\nThan young Hope in his sunniest hour hath known.\\n\""
      ]
     },
     "execution_count": 2,
     "metadata": {},
     "output_type": "execute_result"
    }
   ],
   "source": [
    "# Read input\n",
    "filename = \"edgar-allan-poe.txt\"\n",
    "f = open(filename, 'r')\n",
    "\n",
    "raw_text = f.read()\n",
    "raw_text"
   ]
  },
  {
   "cell_type": "code",
   "execution_count": 3,
   "id": "e46bd8d9",
   "metadata": {},
   "outputs": [
    {
     "data": {
      "text/plain": [
       "\"In visions of the dark night\\nI have dreamed of joy departed-\\nBut a waking dream of life and light\\nHath left me broken-hearted.\\n\\nAh! what is not a dream by day\\nTo him whose eyes are cast\\nOn things around him with a ray\\nTurned back upon the past?\\n\\nThat holy dream- that holy dream,\\nWhile all the world were chiding,\\nHath cheered me as a lovely beam\\nA lonely spirit guiding.\\n\\nWhat though that light, thro' storm and night,\\nSo trembled from afar-\\nWhat could there be more purely bright\\nIn Truth's day-star?\\n\\nFrom childhood's hour I have not been\\nAs others were; I have not seen\\nAs others saw; I could not bring\\nMy passions from a common spring.\\nFrom the same source I have not taken\\nMy sorrow; I could not awaken\\nMy heart to joy at the same tone;\\nAnd all I loved, I loved alone.\\nThen- in my childhood, in the dawn\\nOf a most stormy life- was drawn\\nFrom every depth of good and ill\\nThe mystery which binds me still:\\nFrom the torrent, or the fountain,\\nFrom the red cliff of the mountain,\\nFrom the sun that round me rolled\\nIn its autumn tint of gold,\\nFrom the lightning in the sky\\nAs it passed me flying by,\\nFrom the thunder and the storm,\\nAnd the cloud that took the form\\n(When the rest of Heaven was blue)\\nOf a demon in my view.\\n\\nOh! that my young life were a lasting dream!\\nMy spirit not awakening, till the beam\\nOf an Eternity should bring the morrow.\\nYes! tho' that long dream were of hopeless sorrow,\\n'Twere better than the cold reality\\nOf waking life, to him whose heart must be,\\nAnd hath been still, upon the lovely earth,\\nA chaos of deep passion, from his birth.\\nBut should it be- that dream eternally\\nContinuing- as dreams have been to me\\nIn my young boyhood- should it thus be given,\\n'Twere folly still to hope for higher Heaven.\\nFor I have revell'd, when the sun was bright\\nI' the summer sky, in dreams of living light\\nAnd loveliness,- have left my very heart\\nIn climes of my imagining, apart\\nFrom mine own home, with beings that have been\\nOf mine own thought- what more could I have seen?\\n'Twas once- and only once- and the wild hour\\nFrom my remembrance shall not pass- some power\\nOr spell had bound me- 'twas the chilly wind\\nCame o'er me in the night, and left behind\\nIts image on my spirit- or the moon\\nShone on my slumbers in her lofty noon\\nToo coldly- or the stars- howe'er it was\\nThat dream was as that night-wind- let it pass.\\n\\nI have been happy, tho' in a dream.\\nI have been happy- and I love the theme:\\nDreams! in their vivid coloring of life,\\nAs in that fleeting, shadowy, misty strife\\nOf semblance with reality, which brings\\nTo the delirious eye, more lovely things\\nOf Paradise and Love- and all our own!\\nThan young Hope in his sunniest hour hath known.\\n\""
      ]
     },
     "execution_count": 3,
     "metadata": {},
     "output_type": "execute_result"
    }
   ],
   "source": [
    "# Remove all non-ASCII characters\n",
    "processed_text = re.sub(r'[^\\x00-\\x7f]', r'', raw_text)\n",
    "processed_text"
   ]
  },
  {
   "cell_type": "code",
   "execution_count": 4,
   "id": "987aadca",
   "metadata": {},
   "outputs": [
    {
     "name": "stdout",
     "output_type": "stream",
     "text": [
      "Number of word tokens: ['In', 'visions', 'of', 'the', 'dark', 'night', 'I', 'have', 'dreamed', 'of', 'joy', 'departed-', 'But', 'a', 'waking', 'dream', 'of', 'life', 'and', 'light', 'Hath', 'left', 'me', 'broken-hearted', '.', 'Ah', '!', 'what', 'is', 'not', 'a', 'dream', 'by', 'day', 'To', 'him', 'whose', 'eyes', 'are', 'cast', 'On', 'things', 'around', 'him', 'with', 'a', 'ray', 'Turned', 'back', 'upon', 'the', 'past', '?', 'That', 'holy', 'dream-', 'that', 'holy', 'dream', ',', 'While', 'all', 'the', 'world', 'were', 'chiding', ',', 'Hath', 'cheered', 'me', 'as', 'a', 'lovely', 'beam', 'A', 'lonely', 'spirit', 'guiding', '.', 'What', 'though', 'that', 'light', ',', 'thro', \"'\", 'storm', 'and', 'night', ',', 'So', 'trembled', 'from', 'afar-', 'What', 'could', 'there', 'be', 'more', 'purely', 'bright', 'In', 'Truth', \"'s\", 'day-star', '?', 'From', 'childhood', \"'s\", 'hour', 'I', 'have', 'not', 'been', 'As', 'others', 'were', ';', 'I', 'have', 'not', 'seen', 'As', 'others', 'saw', ';', 'I', 'could', 'not', 'bring', 'My', 'passions', 'from', 'a', 'common', 'spring', '.', 'From', 'the', 'same', 'source', 'I', 'have', 'not', 'taken', 'My', 'sorrow', ';', 'I', 'could', 'not', 'awaken', 'My', 'heart', 'to', 'joy', 'at', 'the', 'same', 'tone', ';', 'And', 'all', 'I', 'loved', ',', 'I', 'loved', 'alone', '.', 'Then-', 'in', 'my', 'childhood', ',', 'in', 'the', 'dawn', 'Of', 'a', 'most', 'stormy', 'life-', 'was', 'drawn', 'From', 'every', 'depth', 'of', 'good', 'and', 'ill', 'The', 'mystery', 'which', 'binds', 'me', 'still', ':', 'From', 'the', 'torrent', ',', 'or', 'the', 'fountain', ',', 'From', 'the', 'red', 'cliff', 'of', 'the', 'mountain', ',', 'From', 'the', 'sun', 'that', 'round', 'me', 'rolled', 'In', 'its', 'autumn', 'tint', 'of', 'gold', ',', 'From', 'the', 'lightning', 'in', 'the', 'sky', 'As', 'it', 'passed', 'me', 'flying', 'by', ',', 'From', 'the', 'thunder', 'and', 'the', 'storm', ',', 'And', 'the', 'cloud', 'that', 'took', 'the', 'form', '(', 'When', 'the', 'rest', 'of', 'Heaven', 'was', 'blue', ')', 'Of', 'a', 'demon', 'in', 'my', 'view', '.', 'Oh', '!', 'that', 'my', 'young', 'life', 'were', 'a', 'lasting', 'dream', '!', 'My', 'spirit', 'not', 'awakening', ',', 'till', 'the', 'beam', 'Of', 'an', 'Eternity', 'should', 'bring', 'the', 'morrow', '.', 'Yes', '!', 'tho', \"'\", 'that', 'long', 'dream', 'were', 'of', 'hopeless', 'sorrow', ',', \"'Twere\", 'better', 'than', 'the', 'cold', 'reality', 'Of', 'waking', 'life', ',', 'to', 'him', 'whose', 'heart', 'must', 'be', ',', 'And', 'hath', 'been', 'still', ',', 'upon', 'the', 'lovely', 'earth', ',', 'A', 'chaos', 'of', 'deep', 'passion', ',', 'from', 'his', 'birth', '.', 'But', 'should', 'it', 'be-', 'that', 'dream', 'eternally', 'Continuing-', 'as', 'dreams', 'have', 'been', 'to', 'me', 'In', 'my', 'young', 'boyhood-', 'should', 'it', 'thus', 'be', 'given', ',', \"'Twere\", 'folly', 'still', 'to', 'hope', 'for', 'higher', 'Heaven', '.', 'For', 'I', 'have', 'revell', \"'d\", ',', 'when', 'the', 'sun', 'was', 'bright', 'I', \"'\", 'the', 'summer', 'sky', ',', 'in', 'dreams', 'of', 'living', 'light', 'And', 'loveliness', ',', '-', 'have', 'left', 'my', 'very', 'heart', 'In', 'climes', 'of', 'my', 'imagining', ',', 'apart', 'From', 'mine', 'own', 'home', ',', 'with', 'beings', 'that', 'have', 'been', 'Of', 'mine', 'own', 'thought-', 'what', 'more', 'could', 'I', 'have', 'seen', '?', \"'T\", 'was', 'once-', 'and', 'only', 'once-', 'and', 'the', 'wild', 'hour', 'From', 'my', 'remembrance', 'shall', 'not', 'pass-', 'some', 'power', 'Or', 'spell', 'had', 'bound', 'me-', \"'t\", 'was', 'the', 'chilly', 'wind', 'Came', \"o'er\", 'me', 'in', 'the', 'night', ',', 'and', 'left', 'behind', 'Its', 'image', 'on', 'my', 'spirit-', 'or', 'the', 'moon', 'Shone', 'on', 'my', 'slumbers', 'in', 'her', 'lofty', 'noon', 'Too', 'coldly-', 'or', 'the', 'stars-', \"howe'er\", 'it', 'was', 'That', 'dream', 'was', 'as', 'that', 'night-wind-', 'let', 'it', 'pass', '.', 'I', 'have', 'been', 'happy', ',', 'tho', \"'\", 'in', 'a', 'dream', '.', 'I', 'have', 'been', 'happy-', 'and', 'I', 'love', 'the', 'theme', ':', 'Dreams', '!', 'in', 'their', 'vivid', 'coloring', 'of', 'life', ',', 'As', 'in', 'that', 'fleeting', ',', 'shadowy', ',', 'misty', 'strife', 'Of', 'semblance', 'with', 'reality', ',', 'which', 'brings', 'To', 'the', 'delirious', 'eye', ',', 'more', 'lovely', 'things', 'Of', 'Paradise', 'and', 'Love-', 'and', 'all', 'our', 'own', '!', 'Than', 'young', 'Hope', 'in', 'his', 'sunniest', 'hour', 'hath', 'known', '.']\n"
     ]
    }
   ],
   "source": [
    "# Get word tokens from lyrics\n",
    "word_tokens = word_tokenize(processed_text)\n",
    "print(f\"Number of word tokens: {word_tokens}\")"
   ]
  },
  {
   "cell_type": "code",
   "execution_count": 5,
   "id": "19ff426c",
   "metadata": {},
   "outputs": [
    {
     "name": "stdout",
     "output_type": "stream",
     "text": [
      "Number of unique word tokens: ['!', \"'\", \"'T\", \"'Twere\", \"'d\", \"'s\", \"'t\", '(', ')', ',', '-', '.', ':', ';', '?', 'A', 'Ah', 'And', 'As', 'But', 'Came', 'Continuing-', 'Dreams', 'Eternity', 'For', 'From', 'Hath', 'Heaven', 'Hope', 'I', 'In', 'Its', 'Love-', 'My', 'Of', 'Oh', 'On', 'Or', 'Paradise', 'Shone', 'So', 'Than', 'That', 'The', 'Then-', 'To', 'Too', 'Truth', 'Turned', 'What', 'When', 'While', 'Yes', 'a', 'afar-', 'all', 'alone', 'an', 'and', 'apart', 'are', 'around', 'as', 'at', 'autumn', 'awaken', 'awakening', 'back', 'be', 'be-', 'beam', 'been', 'behind', 'beings', 'better', 'binds', 'birth', 'blue', 'bound', 'boyhood-', 'bright', 'bring', 'brings', 'broken-hearted', 'by', 'cast', 'chaos', 'cheered', 'chiding', 'childhood', 'chilly', 'cliff', 'climes', 'cloud', 'cold', 'coldly-', 'coloring', 'common', 'could', 'dark', 'dawn', 'day', 'day-star', 'deep', 'delirious', 'demon', 'departed-', 'depth', 'drawn', 'dream', 'dream-', 'dreamed', 'dreams', 'earth', 'eternally', 'every', 'eye', 'eyes', 'fleeting', 'flying', 'folly', 'for', 'form', 'fountain', 'from', 'given', 'gold', 'good', 'guiding', 'had', 'happy', 'happy-', 'hath', 'have', 'heart', 'her', 'higher', 'him', 'his', 'holy', 'home', 'hope', 'hopeless', 'hour', \"howe'er\", 'ill', 'image', 'imagining', 'in', 'is', 'it', 'its', 'joy', 'known', 'lasting', 'left', 'let', 'life', 'life-', 'light', 'lightning', 'living', 'lofty', 'lonely', 'long', 'love', 'loved', 'loveliness', 'lovely', 'me', 'me-', 'mine', 'misty', 'moon', 'more', 'morrow', 'most', 'mountain', 'must', 'my', 'mystery', 'night', 'night-wind-', 'noon', 'not', \"o'er\", 'of', 'on', 'once-', 'only', 'or', 'others', 'our', 'own', 'pass', 'pass-', 'passed', 'passion', 'passions', 'past', 'power', 'purely', 'ray', 'reality', 'red', 'remembrance', 'rest', 'revell', 'rolled', 'round', 'same', 'saw', 'seen', 'semblance', 'shadowy', 'shall', 'should', 'sky', 'slumbers', 'some', 'sorrow', 'source', 'spell', 'spirit', 'spirit-', 'spring', 'stars-', 'still', 'storm', 'stormy', 'strife', 'summer', 'sun', 'sunniest', 'taken', 'than', 'that', 'the', 'their', 'theme', 'there', 'things', 'tho', 'though', 'thought-', 'thro', 'thunder', 'thus', 'till', 'tint', 'to', 'tone', 'took', 'torrent', 'trembled', 'upon', 'very', 'view', 'visions', 'vivid', 'waking', 'was', 'were', 'what', 'when', 'which', 'whose', 'wild', 'wind', 'with', 'world', 'young']\n"
     ]
    }
   ],
   "source": [
    "# Get unique word tokens from word tokens\n",
    "unique_words = sorted(list(set(word_tokens)))\n",
    "print(f\"Number of unique word tokens: {unique_words}\")"
   ]
  },
  {
   "cell_type": "code",
   "execution_count": 6,
   "id": "86037479",
   "metadata": {},
   "outputs": [
    {
     "data": {
      "text/plain": [
       "['!',\n",
       " \"'\",\n",
       " \"'T\",\n",
       " \"'Twere\",\n",
       " \"'d\",\n",
       " \"'s\",\n",
       " \"'t\",\n",
       " '(',\n",
       " ')',\n",
       " ',',\n",
       " '-',\n",
       " '.',\n",
       " ':',\n",
       " ';',\n",
       " '?',\n",
       " 'A',\n",
       " 'Ah',\n",
       " 'And',\n",
       " 'As',\n",
       " 'But',\n",
       " 'Came',\n",
       " 'Continuing-',\n",
       " 'Dreams',\n",
       " 'Eternity',\n",
       " 'For',\n",
       " 'From',\n",
       " 'Hath',\n",
       " 'Heaven',\n",
       " 'Hope',\n",
       " 'I',\n",
       " 'In',\n",
       " 'Its',\n",
       " 'Love-',\n",
       " 'My',\n",
       " 'Of',\n",
       " 'Oh',\n",
       " 'On',\n",
       " 'Or',\n",
       " 'Paradise',\n",
       " 'Shone',\n",
       " 'So',\n",
       " 'Than',\n",
       " 'That',\n",
       " 'The',\n",
       " 'Then-',\n",
       " 'To',\n",
       " 'Too',\n",
       " 'Truth',\n",
       " 'Turned',\n",
       " 'What',\n",
       " 'When',\n",
       " 'While',\n",
       " 'Yes',\n",
       " 'a',\n",
       " 'afar-',\n",
       " 'all',\n",
       " 'alone',\n",
       " 'an',\n",
       " 'and',\n",
       " 'apart',\n",
       " 'are',\n",
       " 'around',\n",
       " 'as',\n",
       " 'at',\n",
       " 'autumn',\n",
       " 'awaken',\n",
       " 'awakening',\n",
       " 'back',\n",
       " 'be',\n",
       " 'be-',\n",
       " 'beam',\n",
       " 'been',\n",
       " 'behind',\n",
       " 'beings',\n",
       " 'better',\n",
       " 'binds',\n",
       " 'birth',\n",
       " 'blue',\n",
       " 'bound',\n",
       " 'boyhood-',\n",
       " 'bright',\n",
       " 'bring',\n",
       " 'brings',\n",
       " 'broken-hearted',\n",
       " 'by',\n",
       " 'cast',\n",
       " 'chaos',\n",
       " 'cheered',\n",
       " 'chiding',\n",
       " 'childhood',\n",
       " 'chilly',\n",
       " 'cliff',\n",
       " 'climes',\n",
       " 'cloud',\n",
       " 'cold',\n",
       " 'coldly-',\n",
       " 'coloring',\n",
       " 'common',\n",
       " 'could',\n",
       " 'dark',\n",
       " 'dawn',\n",
       " 'day',\n",
       " 'day-star',\n",
       " 'deep',\n",
       " 'delirious',\n",
       " 'demon',\n",
       " 'departed-',\n",
       " 'depth',\n",
       " 'drawn',\n",
       " 'dream',\n",
       " 'dream-',\n",
       " 'dreamed',\n",
       " 'dreams',\n",
       " 'earth',\n",
       " 'eternally',\n",
       " 'every',\n",
       " 'eye',\n",
       " 'eyes',\n",
       " 'fleeting',\n",
       " 'flying',\n",
       " 'folly',\n",
       " 'for',\n",
       " 'form',\n",
       " 'fountain',\n",
       " 'from',\n",
       " 'given',\n",
       " 'gold',\n",
       " 'good',\n",
       " 'guiding',\n",
       " 'had',\n",
       " 'happy',\n",
       " 'happy-',\n",
       " 'hath',\n",
       " 'have',\n",
       " 'heart',\n",
       " 'her',\n",
       " 'higher',\n",
       " 'him',\n",
       " 'his',\n",
       " 'holy',\n",
       " 'home',\n",
       " 'hope',\n",
       " 'hopeless',\n",
       " 'hour',\n",
       " \"howe'er\",\n",
       " 'ill',\n",
       " 'image',\n",
       " 'imagining',\n",
       " 'in',\n",
       " 'is',\n",
       " 'it',\n",
       " 'its',\n",
       " 'joy',\n",
       " 'known',\n",
       " 'lasting',\n",
       " 'left',\n",
       " 'let',\n",
       " 'life',\n",
       " 'life-',\n",
       " 'light',\n",
       " 'lightning',\n",
       " 'living',\n",
       " 'lofty',\n",
       " 'lonely',\n",
       " 'long',\n",
       " 'love',\n",
       " 'loved',\n",
       " 'loveliness',\n",
       " 'lovely',\n",
       " 'me',\n",
       " 'me-',\n",
       " 'mine',\n",
       " 'misty',\n",
       " 'moon',\n",
       " 'more',\n",
       " 'morrow',\n",
       " 'most',\n",
       " 'mountain',\n",
       " 'must',\n",
       " 'my',\n",
       " 'mystery',\n",
       " 'night',\n",
       " 'night-wind-',\n",
       " 'noon',\n",
       " 'not',\n",
       " \"o'er\",\n",
       " 'of',\n",
       " 'on',\n",
       " 'once-',\n",
       " 'only',\n",
       " 'or',\n",
       " 'others',\n",
       " 'our',\n",
       " 'own',\n",
       " 'pass',\n",
       " 'pass-',\n",
       " 'passed',\n",
       " 'passion',\n",
       " 'passions',\n",
       " 'past',\n",
       " 'power',\n",
       " 'purely',\n",
       " 'ray',\n",
       " 'reality',\n",
       " 'red',\n",
       " 'remembrance',\n",
       " 'rest',\n",
       " 'revell',\n",
       " 'rolled',\n",
       " 'round',\n",
       " 'same',\n",
       " 'saw',\n",
       " 'seen',\n",
       " 'semblance',\n",
       " 'shadowy',\n",
       " 'shall',\n",
       " 'should',\n",
       " 'sky',\n",
       " 'slumbers',\n",
       " 'some',\n",
       " 'sorrow',\n",
       " 'source',\n",
       " 'spell',\n",
       " 'spirit',\n",
       " 'spirit-',\n",
       " 'spring',\n",
       " 'stars-',\n",
       " 'still',\n",
       " 'storm',\n",
       " 'stormy',\n",
       " 'strife',\n",
       " 'summer',\n",
       " 'sun',\n",
       " 'sunniest',\n",
       " 'taken',\n",
       " 'than',\n",
       " 'that',\n",
       " 'the',\n",
       " 'their',\n",
       " 'theme',\n",
       " 'there',\n",
       " 'things',\n",
       " 'tho',\n",
       " 'though',\n",
       " 'thought-',\n",
       " 'thro',\n",
       " 'thunder',\n",
       " 'thus',\n",
       " 'till',\n",
       " 'tint',\n",
       " 'to',\n",
       " 'tone',\n",
       " 'took',\n",
       " 'torrent',\n",
       " 'trembled',\n",
       " 'upon',\n",
       " 'very',\n",
       " 'view',\n",
       " 'visions',\n",
       " 'vivid',\n",
       " 'waking',\n",
       " 'was',\n",
       " 'were',\n",
       " 'what',\n",
       " 'when',\n",
       " 'which',\n",
       " 'whose',\n",
       " 'wild',\n",
       " 'wind',\n",
       " 'with',\n",
       " 'world',\n",
       " 'young']"
      ]
     },
     "execution_count": 6,
     "metadata": {},
     "output_type": "execute_result"
    }
   ],
   "source": [
    "# Create vocabulary of word tokens\n",
    "word_vocabulary = unique_words\n",
    "word_vocabulary"
   ]
  },
  {
   "cell_type": "code",
   "execution_count": 7,
   "id": "d81c158c",
   "metadata": {},
   "outputs": [
    {
     "data": {
      "text/plain": [
       "{0: '!',\n",
       " 1: \"'\",\n",
       " 2: \"'T\",\n",
       " 3: \"'Twere\",\n",
       " 4: \"'d\",\n",
       " 5: \"'s\",\n",
       " 6: \"'t\",\n",
       " 7: '(',\n",
       " 8: ')',\n",
       " 9: ',',\n",
       " 10: '-',\n",
       " 11: '.',\n",
       " 12: ':',\n",
       " 13: ';',\n",
       " 14: '?',\n",
       " 15: 'A',\n",
       " 16: 'Ah',\n",
       " 17: 'And',\n",
       " 18: 'As',\n",
       " 19: 'But',\n",
       " 20: 'Came',\n",
       " 21: 'Continuing-',\n",
       " 22: 'Dreams',\n",
       " 23: 'Eternity',\n",
       " 24: 'For',\n",
       " 25: 'From',\n",
       " 26: 'Hath',\n",
       " 27: 'Heaven',\n",
       " 28: 'Hope',\n",
       " 29: 'I',\n",
       " 30: 'In',\n",
       " 31: 'Its',\n",
       " 32: 'Love-',\n",
       " 33: 'My',\n",
       " 34: 'Of',\n",
       " 35: 'Oh',\n",
       " 36: 'On',\n",
       " 37: 'Or',\n",
       " 38: 'Paradise',\n",
       " 39: 'Shone',\n",
       " 40: 'So',\n",
       " 41: 'Than',\n",
       " 42: 'That',\n",
       " 43: 'The',\n",
       " 44: 'Then-',\n",
       " 45: 'To',\n",
       " 46: 'Too',\n",
       " 47: 'Truth',\n",
       " 48: 'Turned',\n",
       " 49: 'What',\n",
       " 50: 'When',\n",
       " 51: 'While',\n",
       " 52: 'Yes',\n",
       " 53: 'a',\n",
       " 54: 'afar-',\n",
       " 55: 'all',\n",
       " 56: 'alone',\n",
       " 57: 'an',\n",
       " 58: 'and',\n",
       " 59: 'apart',\n",
       " 60: 'are',\n",
       " 61: 'around',\n",
       " 62: 'as',\n",
       " 63: 'at',\n",
       " 64: 'autumn',\n",
       " 65: 'awaken',\n",
       " 66: 'awakening',\n",
       " 67: 'back',\n",
       " 68: 'be',\n",
       " 69: 'be-',\n",
       " 70: 'beam',\n",
       " 71: 'been',\n",
       " 72: 'behind',\n",
       " 73: 'beings',\n",
       " 74: 'better',\n",
       " 75: 'binds',\n",
       " 76: 'birth',\n",
       " 77: 'blue',\n",
       " 78: 'bound',\n",
       " 79: 'boyhood-',\n",
       " 80: 'bright',\n",
       " 81: 'bring',\n",
       " 82: 'brings',\n",
       " 83: 'broken-hearted',\n",
       " 84: 'by',\n",
       " 85: 'cast',\n",
       " 86: 'chaos',\n",
       " 87: 'cheered',\n",
       " 88: 'chiding',\n",
       " 89: 'childhood',\n",
       " 90: 'chilly',\n",
       " 91: 'cliff',\n",
       " 92: 'climes',\n",
       " 93: 'cloud',\n",
       " 94: 'cold',\n",
       " 95: 'coldly-',\n",
       " 96: 'coloring',\n",
       " 97: 'common',\n",
       " 98: 'could',\n",
       " 99: 'dark',\n",
       " 100: 'dawn',\n",
       " 101: 'day',\n",
       " 102: 'day-star',\n",
       " 103: 'deep',\n",
       " 104: 'delirious',\n",
       " 105: 'demon',\n",
       " 106: 'departed-',\n",
       " 107: 'depth',\n",
       " 108: 'drawn',\n",
       " 109: 'dream',\n",
       " 110: 'dream-',\n",
       " 111: 'dreamed',\n",
       " 112: 'dreams',\n",
       " 113: 'earth',\n",
       " 114: 'eternally',\n",
       " 115: 'every',\n",
       " 116: 'eye',\n",
       " 117: 'eyes',\n",
       " 118: 'fleeting',\n",
       " 119: 'flying',\n",
       " 120: 'folly',\n",
       " 121: 'for',\n",
       " 122: 'form',\n",
       " 123: 'fountain',\n",
       " 124: 'from',\n",
       " 125: 'given',\n",
       " 126: 'gold',\n",
       " 127: 'good',\n",
       " 128: 'guiding',\n",
       " 129: 'had',\n",
       " 130: 'happy',\n",
       " 131: 'happy-',\n",
       " 132: 'hath',\n",
       " 133: 'have',\n",
       " 134: 'heart',\n",
       " 135: 'her',\n",
       " 136: 'higher',\n",
       " 137: 'him',\n",
       " 138: 'his',\n",
       " 139: 'holy',\n",
       " 140: 'home',\n",
       " 141: 'hope',\n",
       " 142: 'hopeless',\n",
       " 143: 'hour',\n",
       " 144: \"howe'er\",\n",
       " 145: 'ill',\n",
       " 146: 'image',\n",
       " 147: 'imagining',\n",
       " 148: 'in',\n",
       " 149: 'is',\n",
       " 150: 'it',\n",
       " 151: 'its',\n",
       " 152: 'joy',\n",
       " 153: 'known',\n",
       " 154: 'lasting',\n",
       " 155: 'left',\n",
       " 156: 'let',\n",
       " 157: 'life',\n",
       " 158: 'life-',\n",
       " 159: 'light',\n",
       " 160: 'lightning',\n",
       " 161: 'living',\n",
       " 162: 'lofty',\n",
       " 163: 'lonely',\n",
       " 164: 'long',\n",
       " 165: 'love',\n",
       " 166: 'loved',\n",
       " 167: 'loveliness',\n",
       " 168: 'lovely',\n",
       " 169: 'me',\n",
       " 170: 'me-',\n",
       " 171: 'mine',\n",
       " 172: 'misty',\n",
       " 173: 'moon',\n",
       " 174: 'more',\n",
       " 175: 'morrow',\n",
       " 176: 'most',\n",
       " 177: 'mountain',\n",
       " 178: 'must',\n",
       " 179: 'my',\n",
       " 180: 'mystery',\n",
       " 181: 'night',\n",
       " 182: 'night-wind-',\n",
       " 183: 'noon',\n",
       " 184: 'not',\n",
       " 185: \"o'er\",\n",
       " 186: 'of',\n",
       " 187: 'on',\n",
       " 188: 'once-',\n",
       " 189: 'only',\n",
       " 190: 'or',\n",
       " 191: 'others',\n",
       " 192: 'our',\n",
       " 193: 'own',\n",
       " 194: 'pass',\n",
       " 195: 'pass-',\n",
       " 196: 'passed',\n",
       " 197: 'passion',\n",
       " 198: 'passions',\n",
       " 199: 'past',\n",
       " 200: 'power',\n",
       " 201: 'purely',\n",
       " 202: 'ray',\n",
       " 203: 'reality',\n",
       " 204: 'red',\n",
       " 205: 'remembrance',\n",
       " 206: 'rest',\n",
       " 207: 'revell',\n",
       " 208: 'rolled',\n",
       " 209: 'round',\n",
       " 210: 'same',\n",
       " 211: 'saw',\n",
       " 212: 'seen',\n",
       " 213: 'semblance',\n",
       " 214: 'shadowy',\n",
       " 215: 'shall',\n",
       " 216: 'should',\n",
       " 217: 'sky',\n",
       " 218: 'slumbers',\n",
       " 219: 'some',\n",
       " 220: 'sorrow',\n",
       " 221: 'source',\n",
       " 222: 'spell',\n",
       " 223: 'spirit',\n",
       " 224: 'spirit-',\n",
       " 225: 'spring',\n",
       " 226: 'stars-',\n",
       " 227: 'still',\n",
       " 228: 'storm',\n",
       " 229: 'stormy',\n",
       " 230: 'strife',\n",
       " 231: 'summer',\n",
       " 232: 'sun',\n",
       " 233: 'sunniest',\n",
       " 234: 'taken',\n",
       " 235: 'than',\n",
       " 236: 'that',\n",
       " 237: 'the',\n",
       " 238: 'their',\n",
       " 239: 'theme',\n",
       " 240: 'there',\n",
       " 241: 'things',\n",
       " 242: 'tho',\n",
       " 243: 'though',\n",
       " 244: 'thought-',\n",
       " 245: 'thro',\n",
       " 246: 'thunder',\n",
       " 247: 'thus',\n",
       " 248: 'till',\n",
       " 249: 'tint',\n",
       " 250: 'to',\n",
       " 251: 'tone',\n",
       " 252: 'took',\n",
       " 253: 'torrent',\n",
       " 254: 'trembled',\n",
       " 255: 'upon',\n",
       " 256: 'very',\n",
       " 257: 'view',\n",
       " 258: 'visions',\n",
       " 259: 'vivid',\n",
       " 260: 'waking',\n",
       " 261: 'was',\n",
       " 262: 'were',\n",
       " 263: 'what',\n",
       " 264: 'when',\n",
       " 265: 'which',\n",
       " 266: 'whose',\n",
       " 267: 'wild',\n",
       " 268: 'wind',\n",
       " 269: 'with',\n",
       " 270: 'world',\n",
       " 271: 'young'}"
      ]
     },
     "execution_count": 7,
     "metadata": {},
     "output_type": "execute_result"
    }
   ],
   "source": [
    "# Create index-word mappings \n",
    "indices_words = dict((index, word) for index, word in enumerate(word_vocabulary))\n",
    "indices_words"
   ]
  },
  {
   "cell_type": "code",
   "execution_count": 8,
   "id": "0e485f30",
   "metadata": {},
   "outputs": [
    {
     "data": {
      "text/plain": [
       "{'!': 0,\n",
       " \"'\": 1,\n",
       " \"'T\": 2,\n",
       " \"'Twere\": 3,\n",
       " \"'d\": 4,\n",
       " \"'s\": 5,\n",
       " \"'t\": 6,\n",
       " '(': 7,\n",
       " ')': 8,\n",
       " ',': 9,\n",
       " '-': 10,\n",
       " '.': 11,\n",
       " ':': 12,\n",
       " ';': 13,\n",
       " '?': 14,\n",
       " 'A': 15,\n",
       " 'Ah': 16,\n",
       " 'And': 17,\n",
       " 'As': 18,\n",
       " 'But': 19,\n",
       " 'Came': 20,\n",
       " 'Continuing-': 21,\n",
       " 'Dreams': 22,\n",
       " 'Eternity': 23,\n",
       " 'For': 24,\n",
       " 'From': 25,\n",
       " 'Hath': 26,\n",
       " 'Heaven': 27,\n",
       " 'Hope': 28,\n",
       " 'I': 29,\n",
       " 'In': 30,\n",
       " 'Its': 31,\n",
       " 'Love-': 32,\n",
       " 'My': 33,\n",
       " 'Of': 34,\n",
       " 'Oh': 35,\n",
       " 'On': 36,\n",
       " 'Or': 37,\n",
       " 'Paradise': 38,\n",
       " 'Shone': 39,\n",
       " 'So': 40,\n",
       " 'Than': 41,\n",
       " 'That': 42,\n",
       " 'The': 43,\n",
       " 'Then-': 44,\n",
       " 'To': 45,\n",
       " 'Too': 46,\n",
       " 'Truth': 47,\n",
       " 'Turned': 48,\n",
       " 'What': 49,\n",
       " 'When': 50,\n",
       " 'While': 51,\n",
       " 'Yes': 52,\n",
       " 'a': 53,\n",
       " 'afar-': 54,\n",
       " 'all': 55,\n",
       " 'alone': 56,\n",
       " 'an': 57,\n",
       " 'and': 58,\n",
       " 'apart': 59,\n",
       " 'are': 60,\n",
       " 'around': 61,\n",
       " 'as': 62,\n",
       " 'at': 63,\n",
       " 'autumn': 64,\n",
       " 'awaken': 65,\n",
       " 'awakening': 66,\n",
       " 'back': 67,\n",
       " 'be': 68,\n",
       " 'be-': 69,\n",
       " 'beam': 70,\n",
       " 'been': 71,\n",
       " 'behind': 72,\n",
       " 'beings': 73,\n",
       " 'better': 74,\n",
       " 'binds': 75,\n",
       " 'birth': 76,\n",
       " 'blue': 77,\n",
       " 'bound': 78,\n",
       " 'boyhood-': 79,\n",
       " 'bright': 80,\n",
       " 'bring': 81,\n",
       " 'brings': 82,\n",
       " 'broken-hearted': 83,\n",
       " 'by': 84,\n",
       " 'cast': 85,\n",
       " 'chaos': 86,\n",
       " 'cheered': 87,\n",
       " 'chiding': 88,\n",
       " 'childhood': 89,\n",
       " 'chilly': 90,\n",
       " 'cliff': 91,\n",
       " 'climes': 92,\n",
       " 'cloud': 93,\n",
       " 'cold': 94,\n",
       " 'coldly-': 95,\n",
       " 'coloring': 96,\n",
       " 'common': 97,\n",
       " 'could': 98,\n",
       " 'dark': 99,\n",
       " 'dawn': 100,\n",
       " 'day': 101,\n",
       " 'day-star': 102,\n",
       " 'deep': 103,\n",
       " 'delirious': 104,\n",
       " 'demon': 105,\n",
       " 'departed-': 106,\n",
       " 'depth': 107,\n",
       " 'drawn': 108,\n",
       " 'dream': 109,\n",
       " 'dream-': 110,\n",
       " 'dreamed': 111,\n",
       " 'dreams': 112,\n",
       " 'earth': 113,\n",
       " 'eternally': 114,\n",
       " 'every': 115,\n",
       " 'eye': 116,\n",
       " 'eyes': 117,\n",
       " 'fleeting': 118,\n",
       " 'flying': 119,\n",
       " 'folly': 120,\n",
       " 'for': 121,\n",
       " 'form': 122,\n",
       " 'fountain': 123,\n",
       " 'from': 124,\n",
       " 'given': 125,\n",
       " 'gold': 126,\n",
       " 'good': 127,\n",
       " 'guiding': 128,\n",
       " 'had': 129,\n",
       " 'happy': 130,\n",
       " 'happy-': 131,\n",
       " 'hath': 132,\n",
       " 'have': 133,\n",
       " 'heart': 134,\n",
       " 'her': 135,\n",
       " 'higher': 136,\n",
       " 'him': 137,\n",
       " 'his': 138,\n",
       " 'holy': 139,\n",
       " 'home': 140,\n",
       " 'hope': 141,\n",
       " 'hopeless': 142,\n",
       " 'hour': 143,\n",
       " \"howe'er\": 144,\n",
       " 'ill': 145,\n",
       " 'image': 146,\n",
       " 'imagining': 147,\n",
       " 'in': 148,\n",
       " 'is': 149,\n",
       " 'it': 150,\n",
       " 'its': 151,\n",
       " 'joy': 152,\n",
       " 'known': 153,\n",
       " 'lasting': 154,\n",
       " 'left': 155,\n",
       " 'let': 156,\n",
       " 'life': 157,\n",
       " 'life-': 158,\n",
       " 'light': 159,\n",
       " 'lightning': 160,\n",
       " 'living': 161,\n",
       " 'lofty': 162,\n",
       " 'lonely': 163,\n",
       " 'long': 164,\n",
       " 'love': 165,\n",
       " 'loved': 166,\n",
       " 'loveliness': 167,\n",
       " 'lovely': 168,\n",
       " 'me': 169,\n",
       " 'me-': 170,\n",
       " 'mine': 171,\n",
       " 'misty': 172,\n",
       " 'moon': 173,\n",
       " 'more': 174,\n",
       " 'morrow': 175,\n",
       " 'most': 176,\n",
       " 'mountain': 177,\n",
       " 'must': 178,\n",
       " 'my': 179,\n",
       " 'mystery': 180,\n",
       " 'night': 181,\n",
       " 'night-wind-': 182,\n",
       " 'noon': 183,\n",
       " 'not': 184,\n",
       " \"o'er\": 185,\n",
       " 'of': 186,\n",
       " 'on': 187,\n",
       " 'once-': 188,\n",
       " 'only': 189,\n",
       " 'or': 190,\n",
       " 'others': 191,\n",
       " 'our': 192,\n",
       " 'own': 193,\n",
       " 'pass': 194,\n",
       " 'pass-': 195,\n",
       " 'passed': 196,\n",
       " 'passion': 197,\n",
       " 'passions': 198,\n",
       " 'past': 199,\n",
       " 'power': 200,\n",
       " 'purely': 201,\n",
       " 'ray': 202,\n",
       " 'reality': 203,\n",
       " 'red': 204,\n",
       " 'remembrance': 205,\n",
       " 'rest': 206,\n",
       " 'revell': 207,\n",
       " 'rolled': 208,\n",
       " 'round': 209,\n",
       " 'same': 210,\n",
       " 'saw': 211,\n",
       " 'seen': 212,\n",
       " 'semblance': 213,\n",
       " 'shadowy': 214,\n",
       " 'shall': 215,\n",
       " 'should': 216,\n",
       " 'sky': 217,\n",
       " 'slumbers': 218,\n",
       " 'some': 219,\n",
       " 'sorrow': 220,\n",
       " 'source': 221,\n",
       " 'spell': 222,\n",
       " 'spirit': 223,\n",
       " 'spirit-': 224,\n",
       " 'spring': 225,\n",
       " 'stars-': 226,\n",
       " 'still': 227,\n",
       " 'storm': 228,\n",
       " 'stormy': 229,\n",
       " 'strife': 230,\n",
       " 'summer': 231,\n",
       " 'sun': 232,\n",
       " 'sunniest': 233,\n",
       " 'taken': 234,\n",
       " 'than': 235,\n",
       " 'that': 236,\n",
       " 'the': 237,\n",
       " 'their': 238,\n",
       " 'theme': 239,\n",
       " 'there': 240,\n",
       " 'things': 241,\n",
       " 'tho': 242,\n",
       " 'though': 243,\n",
       " 'thought-': 244,\n",
       " 'thro': 245,\n",
       " 'thunder': 246,\n",
       " 'thus': 247,\n",
       " 'till': 248,\n",
       " 'tint': 249,\n",
       " 'to': 250,\n",
       " 'tone': 251,\n",
       " 'took': 252,\n",
       " 'torrent': 253,\n",
       " 'trembled': 254,\n",
       " 'upon': 255,\n",
       " 'very': 256,\n",
       " 'view': 257,\n",
       " 'visions': 258,\n",
       " 'vivid': 259,\n",
       " 'waking': 260,\n",
       " 'was': 261,\n",
       " 'were': 262,\n",
       " 'what': 263,\n",
       " 'when': 264,\n",
       " 'which': 265,\n",
       " 'whose': 266,\n",
       " 'wild': 267,\n",
       " 'wind': 268,\n",
       " 'with': 269,\n",
       " 'world': 270,\n",
       " 'young': 271}"
      ]
     },
     "execution_count": 8,
     "metadata": {},
     "output_type": "execute_result"
    }
   ],
   "source": [
    "# Create word-index mappings\n",
    "word_indices = dict((word, index) for index, word in enumerate(word_vocabulary))\n",
    "word_indices"
   ]
  },
  {
   "cell_type": "code",
   "execution_count": 9,
   "id": "e5afa53f",
   "metadata": {},
   "outputs": [],
   "source": [
    "# Create x (input): Split lyrics into blocks, where each block has the same amount of words\n",
    "# Create y (targets): For each x input, the y is the word that comes next\n",
    "# The model should learn to predict y from the input x\n",
    "\n",
    "block_size = 3\n",
    "step = 1\n",
    "\n",
    "x = []\n",
    "y = []\n",
    "\n",
    "for i in range(0, len(word_tokens) - block_size, step):\n",
    "    x.append(word_tokens[i: i+block_size])\n",
    "    y.append(word_tokens[i + block_size])"
   ]
  },
  {
   "cell_type": "code",
   "execution_count": 10,
   "id": "83d0d331",
   "metadata": {},
   "outputs": [
    {
     "data": {
      "text/plain": [
       "[['In', 'visions', 'of'],\n",
       " ['visions', 'of', 'the'],\n",
       " ['of', 'the', 'dark'],\n",
       " ['the', 'dark', 'night'],\n",
       " ['dark', 'night', 'I'],\n",
       " ['night', 'I', 'have'],\n",
       " ['I', 'have', 'dreamed'],\n",
       " ['have', 'dreamed', 'of'],\n",
       " ['dreamed', 'of', 'joy'],\n",
       " ['of', 'joy', 'departed-'],\n",
       " ['joy', 'departed-', 'But'],\n",
       " ['departed-', 'But', 'a'],\n",
       " ['But', 'a', 'waking'],\n",
       " ['a', 'waking', 'dream'],\n",
       " ['waking', 'dream', 'of'],\n",
       " ['dream', 'of', 'life'],\n",
       " ['of', 'life', 'and'],\n",
       " ['life', 'and', 'light'],\n",
       " ['and', 'light', 'Hath'],\n",
       " ['light', 'Hath', 'left'],\n",
       " ['Hath', 'left', 'me'],\n",
       " ['left', 'me', 'broken-hearted'],\n",
       " ['me', 'broken-hearted', '.'],\n",
       " ['broken-hearted', '.', 'Ah'],\n",
       " ['.', 'Ah', '!'],\n",
       " ['Ah', '!', 'what'],\n",
       " ['!', 'what', 'is'],\n",
       " ['what', 'is', 'not'],\n",
       " ['is', 'not', 'a'],\n",
       " ['not', 'a', 'dream'],\n",
       " ['a', 'dream', 'by'],\n",
       " ['dream', 'by', 'day'],\n",
       " ['by', 'day', 'To'],\n",
       " ['day', 'To', 'him'],\n",
       " ['To', 'him', 'whose'],\n",
       " ['him', 'whose', 'eyes'],\n",
       " ['whose', 'eyes', 'are'],\n",
       " ['eyes', 'are', 'cast'],\n",
       " ['are', 'cast', 'On'],\n",
       " ['cast', 'On', 'things'],\n",
       " ['On', 'things', 'around'],\n",
       " ['things', 'around', 'him'],\n",
       " ['around', 'him', 'with'],\n",
       " ['him', 'with', 'a'],\n",
       " ['with', 'a', 'ray'],\n",
       " ['a', 'ray', 'Turned'],\n",
       " ['ray', 'Turned', 'back'],\n",
       " ['Turned', 'back', 'upon'],\n",
       " ['back', 'upon', 'the'],\n",
       " ['upon', 'the', 'past'],\n",
       " ['the', 'past', '?'],\n",
       " ['past', '?', 'That'],\n",
       " ['?', 'That', 'holy'],\n",
       " ['That', 'holy', 'dream-'],\n",
       " ['holy', 'dream-', 'that'],\n",
       " ['dream-', 'that', 'holy'],\n",
       " ['that', 'holy', 'dream'],\n",
       " ['holy', 'dream', ','],\n",
       " ['dream', ',', 'While'],\n",
       " [',', 'While', 'all'],\n",
       " ['While', 'all', 'the'],\n",
       " ['all', 'the', 'world'],\n",
       " ['the', 'world', 'were'],\n",
       " ['world', 'were', 'chiding'],\n",
       " ['were', 'chiding', ','],\n",
       " ['chiding', ',', 'Hath'],\n",
       " [',', 'Hath', 'cheered'],\n",
       " ['Hath', 'cheered', 'me'],\n",
       " ['cheered', 'me', 'as'],\n",
       " ['me', 'as', 'a'],\n",
       " ['as', 'a', 'lovely'],\n",
       " ['a', 'lovely', 'beam'],\n",
       " ['lovely', 'beam', 'A'],\n",
       " ['beam', 'A', 'lonely'],\n",
       " ['A', 'lonely', 'spirit'],\n",
       " ['lonely', 'spirit', 'guiding'],\n",
       " ['spirit', 'guiding', '.'],\n",
       " ['guiding', '.', 'What'],\n",
       " ['.', 'What', 'though'],\n",
       " ['What', 'though', 'that'],\n",
       " ['though', 'that', 'light'],\n",
       " ['that', 'light', ','],\n",
       " ['light', ',', 'thro'],\n",
       " [',', 'thro', \"'\"],\n",
       " ['thro', \"'\", 'storm'],\n",
       " [\"'\", 'storm', 'and'],\n",
       " ['storm', 'and', 'night'],\n",
       " ['and', 'night', ','],\n",
       " ['night', ',', 'So'],\n",
       " [',', 'So', 'trembled'],\n",
       " ['So', 'trembled', 'from'],\n",
       " ['trembled', 'from', 'afar-'],\n",
       " ['from', 'afar-', 'What'],\n",
       " ['afar-', 'What', 'could'],\n",
       " ['What', 'could', 'there'],\n",
       " ['could', 'there', 'be'],\n",
       " ['there', 'be', 'more'],\n",
       " ['be', 'more', 'purely'],\n",
       " ['more', 'purely', 'bright'],\n",
       " ['purely', 'bright', 'In'],\n",
       " ['bright', 'In', 'Truth'],\n",
       " ['In', 'Truth', \"'s\"],\n",
       " ['Truth', \"'s\", 'day-star'],\n",
       " [\"'s\", 'day-star', '?'],\n",
       " ['day-star', '?', 'From'],\n",
       " ['?', 'From', 'childhood'],\n",
       " ['From', 'childhood', \"'s\"],\n",
       " ['childhood', \"'s\", 'hour'],\n",
       " [\"'s\", 'hour', 'I'],\n",
       " ['hour', 'I', 'have'],\n",
       " ['I', 'have', 'not'],\n",
       " ['have', 'not', 'been'],\n",
       " ['not', 'been', 'As'],\n",
       " ['been', 'As', 'others'],\n",
       " ['As', 'others', 'were'],\n",
       " ['others', 'were', ';'],\n",
       " ['were', ';', 'I'],\n",
       " [';', 'I', 'have'],\n",
       " ['I', 'have', 'not'],\n",
       " ['have', 'not', 'seen'],\n",
       " ['not', 'seen', 'As'],\n",
       " ['seen', 'As', 'others'],\n",
       " ['As', 'others', 'saw'],\n",
       " ['others', 'saw', ';'],\n",
       " ['saw', ';', 'I'],\n",
       " [';', 'I', 'could'],\n",
       " ['I', 'could', 'not'],\n",
       " ['could', 'not', 'bring'],\n",
       " ['not', 'bring', 'My'],\n",
       " ['bring', 'My', 'passions'],\n",
       " ['My', 'passions', 'from'],\n",
       " ['passions', 'from', 'a'],\n",
       " ['from', 'a', 'common'],\n",
       " ['a', 'common', 'spring'],\n",
       " ['common', 'spring', '.'],\n",
       " ['spring', '.', 'From'],\n",
       " ['.', 'From', 'the'],\n",
       " ['From', 'the', 'same'],\n",
       " ['the', 'same', 'source'],\n",
       " ['same', 'source', 'I'],\n",
       " ['source', 'I', 'have'],\n",
       " ['I', 'have', 'not'],\n",
       " ['have', 'not', 'taken'],\n",
       " ['not', 'taken', 'My'],\n",
       " ['taken', 'My', 'sorrow'],\n",
       " ['My', 'sorrow', ';'],\n",
       " ['sorrow', ';', 'I'],\n",
       " [';', 'I', 'could'],\n",
       " ['I', 'could', 'not'],\n",
       " ['could', 'not', 'awaken'],\n",
       " ['not', 'awaken', 'My'],\n",
       " ['awaken', 'My', 'heart'],\n",
       " ['My', 'heart', 'to'],\n",
       " ['heart', 'to', 'joy'],\n",
       " ['to', 'joy', 'at'],\n",
       " ['joy', 'at', 'the'],\n",
       " ['at', 'the', 'same'],\n",
       " ['the', 'same', 'tone'],\n",
       " ['same', 'tone', ';'],\n",
       " ['tone', ';', 'And'],\n",
       " [';', 'And', 'all'],\n",
       " ['And', 'all', 'I'],\n",
       " ['all', 'I', 'loved'],\n",
       " ['I', 'loved', ','],\n",
       " ['loved', ',', 'I'],\n",
       " [',', 'I', 'loved'],\n",
       " ['I', 'loved', 'alone'],\n",
       " ['loved', 'alone', '.'],\n",
       " ['alone', '.', 'Then-'],\n",
       " ['.', 'Then-', 'in'],\n",
       " ['Then-', 'in', 'my'],\n",
       " ['in', 'my', 'childhood'],\n",
       " ['my', 'childhood', ','],\n",
       " ['childhood', ',', 'in'],\n",
       " [',', 'in', 'the'],\n",
       " ['in', 'the', 'dawn'],\n",
       " ['the', 'dawn', 'Of'],\n",
       " ['dawn', 'Of', 'a'],\n",
       " ['Of', 'a', 'most'],\n",
       " ['a', 'most', 'stormy'],\n",
       " ['most', 'stormy', 'life-'],\n",
       " ['stormy', 'life-', 'was'],\n",
       " ['life-', 'was', 'drawn'],\n",
       " ['was', 'drawn', 'From'],\n",
       " ['drawn', 'From', 'every'],\n",
       " ['From', 'every', 'depth'],\n",
       " ['every', 'depth', 'of'],\n",
       " ['depth', 'of', 'good'],\n",
       " ['of', 'good', 'and'],\n",
       " ['good', 'and', 'ill'],\n",
       " ['and', 'ill', 'The'],\n",
       " ['ill', 'The', 'mystery'],\n",
       " ['The', 'mystery', 'which'],\n",
       " ['mystery', 'which', 'binds'],\n",
       " ['which', 'binds', 'me'],\n",
       " ['binds', 'me', 'still'],\n",
       " ['me', 'still', ':'],\n",
       " ['still', ':', 'From'],\n",
       " [':', 'From', 'the'],\n",
       " ['From', 'the', 'torrent'],\n",
       " ['the', 'torrent', ','],\n",
       " ['torrent', ',', 'or'],\n",
       " [',', 'or', 'the'],\n",
       " ['or', 'the', 'fountain'],\n",
       " ['the', 'fountain', ','],\n",
       " ['fountain', ',', 'From'],\n",
       " [',', 'From', 'the'],\n",
       " ['From', 'the', 'red'],\n",
       " ['the', 'red', 'cliff'],\n",
       " ['red', 'cliff', 'of'],\n",
       " ['cliff', 'of', 'the'],\n",
       " ['of', 'the', 'mountain'],\n",
       " ['the', 'mountain', ','],\n",
       " ['mountain', ',', 'From'],\n",
       " [',', 'From', 'the'],\n",
       " ['From', 'the', 'sun'],\n",
       " ['the', 'sun', 'that'],\n",
       " ['sun', 'that', 'round'],\n",
       " ['that', 'round', 'me'],\n",
       " ['round', 'me', 'rolled'],\n",
       " ['me', 'rolled', 'In'],\n",
       " ['rolled', 'In', 'its'],\n",
       " ['In', 'its', 'autumn'],\n",
       " ['its', 'autumn', 'tint'],\n",
       " ['autumn', 'tint', 'of'],\n",
       " ['tint', 'of', 'gold'],\n",
       " ['of', 'gold', ','],\n",
       " ['gold', ',', 'From'],\n",
       " [',', 'From', 'the'],\n",
       " ['From', 'the', 'lightning'],\n",
       " ['the', 'lightning', 'in'],\n",
       " ['lightning', 'in', 'the'],\n",
       " ['in', 'the', 'sky'],\n",
       " ['the', 'sky', 'As'],\n",
       " ['sky', 'As', 'it'],\n",
       " ['As', 'it', 'passed'],\n",
       " ['it', 'passed', 'me'],\n",
       " ['passed', 'me', 'flying'],\n",
       " ['me', 'flying', 'by'],\n",
       " ['flying', 'by', ','],\n",
       " ['by', ',', 'From'],\n",
       " [',', 'From', 'the'],\n",
       " ['From', 'the', 'thunder'],\n",
       " ['the', 'thunder', 'and'],\n",
       " ['thunder', 'and', 'the'],\n",
       " ['and', 'the', 'storm'],\n",
       " ['the', 'storm', ','],\n",
       " ['storm', ',', 'And'],\n",
       " [',', 'And', 'the'],\n",
       " ['And', 'the', 'cloud'],\n",
       " ['the', 'cloud', 'that'],\n",
       " ['cloud', 'that', 'took'],\n",
       " ['that', 'took', 'the'],\n",
       " ['took', 'the', 'form'],\n",
       " ['the', 'form', '('],\n",
       " ['form', '(', 'When'],\n",
       " ['(', 'When', 'the'],\n",
       " ['When', 'the', 'rest'],\n",
       " ['the', 'rest', 'of'],\n",
       " ['rest', 'of', 'Heaven'],\n",
       " ['of', 'Heaven', 'was'],\n",
       " ['Heaven', 'was', 'blue'],\n",
       " ['was', 'blue', ')'],\n",
       " ['blue', ')', 'Of'],\n",
       " [')', 'Of', 'a'],\n",
       " ['Of', 'a', 'demon'],\n",
       " ['a', 'demon', 'in'],\n",
       " ['demon', 'in', 'my'],\n",
       " ['in', 'my', 'view'],\n",
       " ['my', 'view', '.'],\n",
       " ['view', '.', 'Oh'],\n",
       " ['.', 'Oh', '!'],\n",
       " ['Oh', '!', 'that'],\n",
       " ['!', 'that', 'my'],\n",
       " ['that', 'my', 'young'],\n",
       " ['my', 'young', 'life'],\n",
       " ['young', 'life', 'were'],\n",
       " ['life', 'were', 'a'],\n",
       " ['were', 'a', 'lasting'],\n",
       " ['a', 'lasting', 'dream'],\n",
       " ['lasting', 'dream', '!'],\n",
       " ['dream', '!', 'My'],\n",
       " ['!', 'My', 'spirit'],\n",
       " ['My', 'spirit', 'not'],\n",
       " ['spirit', 'not', 'awakening'],\n",
       " ['not', 'awakening', ','],\n",
       " ['awakening', ',', 'till'],\n",
       " [',', 'till', 'the'],\n",
       " ['till', 'the', 'beam'],\n",
       " ['the', 'beam', 'Of'],\n",
       " ['beam', 'Of', 'an'],\n",
       " ['Of', 'an', 'Eternity'],\n",
       " ['an', 'Eternity', 'should'],\n",
       " ['Eternity', 'should', 'bring'],\n",
       " ['should', 'bring', 'the'],\n",
       " ['bring', 'the', 'morrow'],\n",
       " ['the', 'morrow', '.'],\n",
       " ['morrow', '.', 'Yes'],\n",
       " ['.', 'Yes', '!'],\n",
       " ['Yes', '!', 'tho'],\n",
       " ['!', 'tho', \"'\"],\n",
       " ['tho', \"'\", 'that'],\n",
       " [\"'\", 'that', 'long'],\n",
       " ['that', 'long', 'dream'],\n",
       " ['long', 'dream', 'were'],\n",
       " ['dream', 'were', 'of'],\n",
       " ['were', 'of', 'hopeless'],\n",
       " ['of', 'hopeless', 'sorrow'],\n",
       " ['hopeless', 'sorrow', ','],\n",
       " ['sorrow', ',', \"'Twere\"],\n",
       " [',', \"'Twere\", 'better'],\n",
       " [\"'Twere\", 'better', 'than'],\n",
       " ['better', 'than', 'the'],\n",
       " ['than', 'the', 'cold'],\n",
       " ['the', 'cold', 'reality'],\n",
       " ['cold', 'reality', 'Of'],\n",
       " ['reality', 'Of', 'waking'],\n",
       " ['Of', 'waking', 'life'],\n",
       " ['waking', 'life', ','],\n",
       " ['life', ',', 'to'],\n",
       " [',', 'to', 'him'],\n",
       " ['to', 'him', 'whose'],\n",
       " ['him', 'whose', 'heart'],\n",
       " ['whose', 'heart', 'must'],\n",
       " ['heart', 'must', 'be'],\n",
       " ['must', 'be', ','],\n",
       " ['be', ',', 'And'],\n",
       " [',', 'And', 'hath'],\n",
       " ['And', 'hath', 'been'],\n",
       " ['hath', 'been', 'still'],\n",
       " ['been', 'still', ','],\n",
       " ['still', ',', 'upon'],\n",
       " [',', 'upon', 'the'],\n",
       " ['upon', 'the', 'lovely'],\n",
       " ['the', 'lovely', 'earth'],\n",
       " ['lovely', 'earth', ','],\n",
       " ['earth', ',', 'A'],\n",
       " [',', 'A', 'chaos'],\n",
       " ['A', 'chaos', 'of'],\n",
       " ['chaos', 'of', 'deep'],\n",
       " ['of', 'deep', 'passion'],\n",
       " ['deep', 'passion', ','],\n",
       " ['passion', ',', 'from'],\n",
       " [',', 'from', 'his'],\n",
       " ['from', 'his', 'birth'],\n",
       " ['his', 'birth', '.'],\n",
       " ['birth', '.', 'But'],\n",
       " ['.', 'But', 'should'],\n",
       " ['But', 'should', 'it'],\n",
       " ['should', 'it', 'be-'],\n",
       " ['it', 'be-', 'that'],\n",
       " ['be-', 'that', 'dream'],\n",
       " ['that', 'dream', 'eternally'],\n",
       " ['dream', 'eternally', 'Continuing-'],\n",
       " ['eternally', 'Continuing-', 'as'],\n",
       " ['Continuing-', 'as', 'dreams'],\n",
       " ['as', 'dreams', 'have'],\n",
       " ['dreams', 'have', 'been'],\n",
       " ['have', 'been', 'to'],\n",
       " ['been', 'to', 'me'],\n",
       " ['to', 'me', 'In'],\n",
       " ['me', 'In', 'my'],\n",
       " ['In', 'my', 'young'],\n",
       " ['my', 'young', 'boyhood-'],\n",
       " ['young', 'boyhood-', 'should'],\n",
       " ['boyhood-', 'should', 'it'],\n",
       " ['should', 'it', 'thus'],\n",
       " ['it', 'thus', 'be'],\n",
       " ['thus', 'be', 'given'],\n",
       " ['be', 'given', ','],\n",
       " ['given', ',', \"'Twere\"],\n",
       " [',', \"'Twere\", 'folly'],\n",
       " [\"'Twere\", 'folly', 'still'],\n",
       " ['folly', 'still', 'to'],\n",
       " ['still', 'to', 'hope'],\n",
       " ['to', 'hope', 'for'],\n",
       " ['hope', 'for', 'higher'],\n",
       " ['for', 'higher', 'Heaven'],\n",
       " ['higher', 'Heaven', '.'],\n",
       " ['Heaven', '.', 'For'],\n",
       " ['.', 'For', 'I'],\n",
       " ['For', 'I', 'have'],\n",
       " ['I', 'have', 'revell'],\n",
       " ['have', 'revell', \"'d\"],\n",
       " ['revell', \"'d\", ','],\n",
       " [\"'d\", ',', 'when'],\n",
       " [',', 'when', 'the'],\n",
       " ['when', 'the', 'sun'],\n",
       " ['the', 'sun', 'was'],\n",
       " ['sun', 'was', 'bright'],\n",
       " ['was', 'bright', 'I'],\n",
       " ['bright', 'I', \"'\"],\n",
       " ['I', \"'\", 'the'],\n",
       " [\"'\", 'the', 'summer'],\n",
       " ['the', 'summer', 'sky'],\n",
       " ['summer', 'sky', ','],\n",
       " ['sky', ',', 'in'],\n",
       " [',', 'in', 'dreams'],\n",
       " ['in', 'dreams', 'of'],\n",
       " ['dreams', 'of', 'living'],\n",
       " ['of', 'living', 'light'],\n",
       " ['living', 'light', 'And'],\n",
       " ['light', 'And', 'loveliness'],\n",
       " ['And', 'loveliness', ','],\n",
       " ['loveliness', ',', '-'],\n",
       " [',', '-', 'have'],\n",
       " ['-', 'have', 'left'],\n",
       " ['have', 'left', 'my'],\n",
       " ['left', 'my', 'very'],\n",
       " ['my', 'very', 'heart'],\n",
       " ['very', 'heart', 'In'],\n",
       " ['heart', 'In', 'climes'],\n",
       " ['In', 'climes', 'of'],\n",
       " ['climes', 'of', 'my'],\n",
       " ['of', 'my', 'imagining'],\n",
       " ['my', 'imagining', ','],\n",
       " ['imagining', ',', 'apart'],\n",
       " [',', 'apart', 'From'],\n",
       " ['apart', 'From', 'mine'],\n",
       " ['From', 'mine', 'own'],\n",
       " ['mine', 'own', 'home'],\n",
       " ['own', 'home', ','],\n",
       " ['home', ',', 'with'],\n",
       " [',', 'with', 'beings'],\n",
       " ['with', 'beings', 'that'],\n",
       " ['beings', 'that', 'have'],\n",
       " ['that', 'have', 'been'],\n",
       " ['have', 'been', 'Of'],\n",
       " ['been', 'Of', 'mine'],\n",
       " ['Of', 'mine', 'own'],\n",
       " ['mine', 'own', 'thought-'],\n",
       " ['own', 'thought-', 'what'],\n",
       " ['thought-', 'what', 'more'],\n",
       " ['what', 'more', 'could'],\n",
       " ['more', 'could', 'I'],\n",
       " ['could', 'I', 'have'],\n",
       " ['I', 'have', 'seen'],\n",
       " ['have', 'seen', '?'],\n",
       " ['seen', '?', \"'T\"],\n",
       " ['?', \"'T\", 'was'],\n",
       " [\"'T\", 'was', 'once-'],\n",
       " ['was', 'once-', 'and'],\n",
       " ['once-', 'and', 'only'],\n",
       " ['and', 'only', 'once-'],\n",
       " ['only', 'once-', 'and'],\n",
       " ['once-', 'and', 'the'],\n",
       " ['and', 'the', 'wild'],\n",
       " ['the', 'wild', 'hour'],\n",
       " ['wild', 'hour', 'From'],\n",
       " ['hour', 'From', 'my'],\n",
       " ['From', 'my', 'remembrance'],\n",
       " ['my', 'remembrance', 'shall'],\n",
       " ['remembrance', 'shall', 'not'],\n",
       " ['shall', 'not', 'pass-'],\n",
       " ['not', 'pass-', 'some'],\n",
       " ['pass-', 'some', 'power'],\n",
       " ['some', 'power', 'Or'],\n",
       " ['power', 'Or', 'spell'],\n",
       " ['Or', 'spell', 'had'],\n",
       " ['spell', 'had', 'bound'],\n",
       " ['had', 'bound', 'me-'],\n",
       " ['bound', 'me-', \"'t\"],\n",
       " ['me-', \"'t\", 'was'],\n",
       " [\"'t\", 'was', 'the'],\n",
       " ['was', 'the', 'chilly'],\n",
       " ['the', 'chilly', 'wind'],\n",
       " ['chilly', 'wind', 'Came'],\n",
       " ['wind', 'Came', \"o'er\"],\n",
       " ['Came', \"o'er\", 'me'],\n",
       " [\"o'er\", 'me', 'in'],\n",
       " ['me', 'in', 'the'],\n",
       " ['in', 'the', 'night'],\n",
       " ['the', 'night', ','],\n",
       " ['night', ',', 'and'],\n",
       " [',', 'and', 'left'],\n",
       " ['and', 'left', 'behind'],\n",
       " ['left', 'behind', 'Its'],\n",
       " ['behind', 'Its', 'image'],\n",
       " ['Its', 'image', 'on'],\n",
       " ['image', 'on', 'my'],\n",
       " ['on', 'my', 'spirit-'],\n",
       " ['my', 'spirit-', 'or'],\n",
       " ['spirit-', 'or', 'the'],\n",
       " ['or', 'the', 'moon'],\n",
       " ['the', 'moon', 'Shone'],\n",
       " ['moon', 'Shone', 'on'],\n",
       " ['Shone', 'on', 'my'],\n",
       " ['on', 'my', 'slumbers'],\n",
       " ['my', 'slumbers', 'in'],\n",
       " ['slumbers', 'in', 'her'],\n",
       " ['in', 'her', 'lofty'],\n",
       " ['her', 'lofty', 'noon'],\n",
       " ['lofty', 'noon', 'Too'],\n",
       " ['noon', 'Too', 'coldly-'],\n",
       " ['Too', 'coldly-', 'or'],\n",
       " ['coldly-', 'or', 'the'],\n",
       " ['or', 'the', 'stars-'],\n",
       " ['the', 'stars-', \"howe'er\"],\n",
       " ['stars-', \"howe'er\", 'it'],\n",
       " [\"howe'er\", 'it', 'was'],\n",
       " ['it', 'was', 'That'],\n",
       " ['was', 'That', 'dream'],\n",
       " ['That', 'dream', 'was'],\n",
       " ['dream', 'was', 'as'],\n",
       " ['was', 'as', 'that'],\n",
       " ['as', 'that', 'night-wind-'],\n",
       " ['that', 'night-wind-', 'let'],\n",
       " ['night-wind-', 'let', 'it'],\n",
       " ['let', 'it', 'pass'],\n",
       " ['it', 'pass', '.'],\n",
       " ['pass', '.', 'I'],\n",
       " ['.', 'I', 'have'],\n",
       " ['I', 'have', 'been'],\n",
       " ['have', 'been', 'happy'],\n",
       " ['been', 'happy', ','],\n",
       " ['happy', ',', 'tho'],\n",
       " [',', 'tho', \"'\"],\n",
       " ['tho', \"'\", 'in'],\n",
       " [\"'\", 'in', 'a'],\n",
       " ['in', 'a', 'dream'],\n",
       " ['a', 'dream', '.'],\n",
       " ['dream', '.', 'I'],\n",
       " ['.', 'I', 'have'],\n",
       " ['I', 'have', 'been'],\n",
       " ['have', 'been', 'happy-'],\n",
       " ['been', 'happy-', 'and'],\n",
       " ['happy-', 'and', 'I'],\n",
       " ['and', 'I', 'love'],\n",
       " ['I', 'love', 'the'],\n",
       " ['love', 'the', 'theme'],\n",
       " ['the', 'theme', ':'],\n",
       " ['theme', ':', 'Dreams'],\n",
       " [':', 'Dreams', '!'],\n",
       " ['Dreams', '!', 'in'],\n",
       " ['!', 'in', 'their'],\n",
       " ['in', 'their', 'vivid'],\n",
       " ['their', 'vivid', 'coloring'],\n",
       " ['vivid', 'coloring', 'of'],\n",
       " ['coloring', 'of', 'life'],\n",
       " ['of', 'life', ','],\n",
       " ['life', ',', 'As'],\n",
       " [',', 'As', 'in'],\n",
       " ['As', 'in', 'that'],\n",
       " ['in', 'that', 'fleeting'],\n",
       " ['that', 'fleeting', ','],\n",
       " ['fleeting', ',', 'shadowy'],\n",
       " [',', 'shadowy', ','],\n",
       " ['shadowy', ',', 'misty'],\n",
       " [',', 'misty', 'strife'],\n",
       " ['misty', 'strife', 'Of'],\n",
       " ['strife', 'Of', 'semblance'],\n",
       " ['Of', 'semblance', 'with'],\n",
       " ['semblance', 'with', 'reality'],\n",
       " ['with', 'reality', ','],\n",
       " ['reality', ',', 'which'],\n",
       " [',', 'which', 'brings'],\n",
       " ['which', 'brings', 'To'],\n",
       " ['brings', 'To', 'the'],\n",
       " ['To', 'the', 'delirious'],\n",
       " ['the', 'delirious', 'eye'],\n",
       " ['delirious', 'eye', ','],\n",
       " ['eye', ',', 'more'],\n",
       " [',', 'more', 'lovely'],\n",
       " ['more', 'lovely', 'things'],\n",
       " ['lovely', 'things', 'Of'],\n",
       " ['things', 'Of', 'Paradise'],\n",
       " ['Of', 'Paradise', 'and'],\n",
       " ['Paradise', 'and', 'Love-'],\n",
       " ['and', 'Love-', 'and'],\n",
       " ['Love-', 'and', 'all'],\n",
       " ['and', 'all', 'our'],\n",
       " ['all', 'our', 'own'],\n",
       " ['our', 'own', '!'],\n",
       " ['own', '!', 'Than'],\n",
       " ['!', 'Than', 'young'],\n",
       " ['Than', 'young', 'Hope'],\n",
       " ['young', 'Hope', 'in'],\n",
       " ['Hope', 'in', 'his'],\n",
       " ['in', 'his', 'sunniest'],\n",
       " ['his', 'sunniest', 'hour'],\n",
       " ['sunniest', 'hour', 'hath'],\n",
       " ['hour', 'hath', 'known']]"
      ]
     },
     "execution_count": 10,
     "metadata": {},
     "output_type": "execute_result"
    }
   ],
   "source": [
    "# Inspect x\n",
    "x"
   ]
  },
  {
   "cell_type": "code",
   "execution_count": 11,
   "id": "6e351e6c",
   "metadata": {},
   "outputs": [
    {
     "data": {
      "text/plain": [
       "['the',\n",
       " 'dark',\n",
       " 'night',\n",
       " 'I',\n",
       " 'have',\n",
       " 'dreamed',\n",
       " 'of',\n",
       " 'joy',\n",
       " 'departed-',\n",
       " 'But',\n",
       " 'a',\n",
       " 'waking',\n",
       " 'dream',\n",
       " 'of',\n",
       " 'life',\n",
       " 'and',\n",
       " 'light',\n",
       " 'Hath',\n",
       " 'left',\n",
       " 'me',\n",
       " 'broken-hearted',\n",
       " '.',\n",
       " 'Ah',\n",
       " '!',\n",
       " 'what',\n",
       " 'is',\n",
       " 'not',\n",
       " 'a',\n",
       " 'dream',\n",
       " 'by',\n",
       " 'day',\n",
       " 'To',\n",
       " 'him',\n",
       " 'whose',\n",
       " 'eyes',\n",
       " 'are',\n",
       " 'cast',\n",
       " 'On',\n",
       " 'things',\n",
       " 'around',\n",
       " 'him',\n",
       " 'with',\n",
       " 'a',\n",
       " 'ray',\n",
       " 'Turned',\n",
       " 'back',\n",
       " 'upon',\n",
       " 'the',\n",
       " 'past',\n",
       " '?',\n",
       " 'That',\n",
       " 'holy',\n",
       " 'dream-',\n",
       " 'that',\n",
       " 'holy',\n",
       " 'dream',\n",
       " ',',\n",
       " 'While',\n",
       " 'all',\n",
       " 'the',\n",
       " 'world',\n",
       " 'were',\n",
       " 'chiding',\n",
       " ',',\n",
       " 'Hath',\n",
       " 'cheered',\n",
       " 'me',\n",
       " 'as',\n",
       " 'a',\n",
       " 'lovely',\n",
       " 'beam',\n",
       " 'A',\n",
       " 'lonely',\n",
       " 'spirit',\n",
       " 'guiding',\n",
       " '.',\n",
       " 'What',\n",
       " 'though',\n",
       " 'that',\n",
       " 'light',\n",
       " ',',\n",
       " 'thro',\n",
       " \"'\",\n",
       " 'storm',\n",
       " 'and',\n",
       " 'night',\n",
       " ',',\n",
       " 'So',\n",
       " 'trembled',\n",
       " 'from',\n",
       " 'afar-',\n",
       " 'What',\n",
       " 'could',\n",
       " 'there',\n",
       " 'be',\n",
       " 'more',\n",
       " 'purely',\n",
       " 'bright',\n",
       " 'In',\n",
       " 'Truth',\n",
       " \"'s\",\n",
       " 'day-star',\n",
       " '?',\n",
       " 'From',\n",
       " 'childhood',\n",
       " \"'s\",\n",
       " 'hour',\n",
       " 'I',\n",
       " 'have',\n",
       " 'not',\n",
       " 'been',\n",
       " 'As',\n",
       " 'others',\n",
       " 'were',\n",
       " ';',\n",
       " 'I',\n",
       " 'have',\n",
       " 'not',\n",
       " 'seen',\n",
       " 'As',\n",
       " 'others',\n",
       " 'saw',\n",
       " ';',\n",
       " 'I',\n",
       " 'could',\n",
       " 'not',\n",
       " 'bring',\n",
       " 'My',\n",
       " 'passions',\n",
       " 'from',\n",
       " 'a',\n",
       " 'common',\n",
       " 'spring',\n",
       " '.',\n",
       " 'From',\n",
       " 'the',\n",
       " 'same',\n",
       " 'source',\n",
       " 'I',\n",
       " 'have',\n",
       " 'not',\n",
       " 'taken',\n",
       " 'My',\n",
       " 'sorrow',\n",
       " ';',\n",
       " 'I',\n",
       " 'could',\n",
       " 'not',\n",
       " 'awaken',\n",
       " 'My',\n",
       " 'heart',\n",
       " 'to',\n",
       " 'joy',\n",
       " 'at',\n",
       " 'the',\n",
       " 'same',\n",
       " 'tone',\n",
       " ';',\n",
       " 'And',\n",
       " 'all',\n",
       " 'I',\n",
       " 'loved',\n",
       " ',',\n",
       " 'I',\n",
       " 'loved',\n",
       " 'alone',\n",
       " '.',\n",
       " 'Then-',\n",
       " 'in',\n",
       " 'my',\n",
       " 'childhood',\n",
       " ',',\n",
       " 'in',\n",
       " 'the',\n",
       " 'dawn',\n",
       " 'Of',\n",
       " 'a',\n",
       " 'most',\n",
       " 'stormy',\n",
       " 'life-',\n",
       " 'was',\n",
       " 'drawn',\n",
       " 'From',\n",
       " 'every',\n",
       " 'depth',\n",
       " 'of',\n",
       " 'good',\n",
       " 'and',\n",
       " 'ill',\n",
       " 'The',\n",
       " 'mystery',\n",
       " 'which',\n",
       " 'binds',\n",
       " 'me',\n",
       " 'still',\n",
       " ':',\n",
       " 'From',\n",
       " 'the',\n",
       " 'torrent',\n",
       " ',',\n",
       " 'or',\n",
       " 'the',\n",
       " 'fountain',\n",
       " ',',\n",
       " 'From',\n",
       " 'the',\n",
       " 'red',\n",
       " 'cliff',\n",
       " 'of',\n",
       " 'the',\n",
       " 'mountain',\n",
       " ',',\n",
       " 'From',\n",
       " 'the',\n",
       " 'sun',\n",
       " 'that',\n",
       " 'round',\n",
       " 'me',\n",
       " 'rolled',\n",
       " 'In',\n",
       " 'its',\n",
       " 'autumn',\n",
       " 'tint',\n",
       " 'of',\n",
       " 'gold',\n",
       " ',',\n",
       " 'From',\n",
       " 'the',\n",
       " 'lightning',\n",
       " 'in',\n",
       " 'the',\n",
       " 'sky',\n",
       " 'As',\n",
       " 'it',\n",
       " 'passed',\n",
       " 'me',\n",
       " 'flying',\n",
       " 'by',\n",
       " ',',\n",
       " 'From',\n",
       " 'the',\n",
       " 'thunder',\n",
       " 'and',\n",
       " 'the',\n",
       " 'storm',\n",
       " ',',\n",
       " 'And',\n",
       " 'the',\n",
       " 'cloud',\n",
       " 'that',\n",
       " 'took',\n",
       " 'the',\n",
       " 'form',\n",
       " '(',\n",
       " 'When',\n",
       " 'the',\n",
       " 'rest',\n",
       " 'of',\n",
       " 'Heaven',\n",
       " 'was',\n",
       " 'blue',\n",
       " ')',\n",
       " 'Of',\n",
       " 'a',\n",
       " 'demon',\n",
       " 'in',\n",
       " 'my',\n",
       " 'view',\n",
       " '.',\n",
       " 'Oh',\n",
       " '!',\n",
       " 'that',\n",
       " 'my',\n",
       " 'young',\n",
       " 'life',\n",
       " 'were',\n",
       " 'a',\n",
       " 'lasting',\n",
       " 'dream',\n",
       " '!',\n",
       " 'My',\n",
       " 'spirit',\n",
       " 'not',\n",
       " 'awakening',\n",
       " ',',\n",
       " 'till',\n",
       " 'the',\n",
       " 'beam',\n",
       " 'Of',\n",
       " 'an',\n",
       " 'Eternity',\n",
       " 'should',\n",
       " 'bring',\n",
       " 'the',\n",
       " 'morrow',\n",
       " '.',\n",
       " 'Yes',\n",
       " '!',\n",
       " 'tho',\n",
       " \"'\",\n",
       " 'that',\n",
       " 'long',\n",
       " 'dream',\n",
       " 'were',\n",
       " 'of',\n",
       " 'hopeless',\n",
       " 'sorrow',\n",
       " ',',\n",
       " \"'Twere\",\n",
       " 'better',\n",
       " 'than',\n",
       " 'the',\n",
       " 'cold',\n",
       " 'reality',\n",
       " 'Of',\n",
       " 'waking',\n",
       " 'life',\n",
       " ',',\n",
       " 'to',\n",
       " 'him',\n",
       " 'whose',\n",
       " 'heart',\n",
       " 'must',\n",
       " 'be',\n",
       " ',',\n",
       " 'And',\n",
       " 'hath',\n",
       " 'been',\n",
       " 'still',\n",
       " ',',\n",
       " 'upon',\n",
       " 'the',\n",
       " 'lovely',\n",
       " 'earth',\n",
       " ',',\n",
       " 'A',\n",
       " 'chaos',\n",
       " 'of',\n",
       " 'deep',\n",
       " 'passion',\n",
       " ',',\n",
       " 'from',\n",
       " 'his',\n",
       " 'birth',\n",
       " '.',\n",
       " 'But',\n",
       " 'should',\n",
       " 'it',\n",
       " 'be-',\n",
       " 'that',\n",
       " 'dream',\n",
       " 'eternally',\n",
       " 'Continuing-',\n",
       " 'as',\n",
       " 'dreams',\n",
       " 'have',\n",
       " 'been',\n",
       " 'to',\n",
       " 'me',\n",
       " 'In',\n",
       " 'my',\n",
       " 'young',\n",
       " 'boyhood-',\n",
       " 'should',\n",
       " 'it',\n",
       " 'thus',\n",
       " 'be',\n",
       " 'given',\n",
       " ',',\n",
       " \"'Twere\",\n",
       " 'folly',\n",
       " 'still',\n",
       " 'to',\n",
       " 'hope',\n",
       " 'for',\n",
       " 'higher',\n",
       " 'Heaven',\n",
       " '.',\n",
       " 'For',\n",
       " 'I',\n",
       " 'have',\n",
       " 'revell',\n",
       " \"'d\",\n",
       " ',',\n",
       " 'when',\n",
       " 'the',\n",
       " 'sun',\n",
       " 'was',\n",
       " 'bright',\n",
       " 'I',\n",
       " \"'\",\n",
       " 'the',\n",
       " 'summer',\n",
       " 'sky',\n",
       " ',',\n",
       " 'in',\n",
       " 'dreams',\n",
       " 'of',\n",
       " 'living',\n",
       " 'light',\n",
       " 'And',\n",
       " 'loveliness',\n",
       " ',',\n",
       " '-',\n",
       " 'have',\n",
       " 'left',\n",
       " 'my',\n",
       " 'very',\n",
       " 'heart',\n",
       " 'In',\n",
       " 'climes',\n",
       " 'of',\n",
       " 'my',\n",
       " 'imagining',\n",
       " ',',\n",
       " 'apart',\n",
       " 'From',\n",
       " 'mine',\n",
       " 'own',\n",
       " 'home',\n",
       " ',',\n",
       " 'with',\n",
       " 'beings',\n",
       " 'that',\n",
       " 'have',\n",
       " 'been',\n",
       " 'Of',\n",
       " 'mine',\n",
       " 'own',\n",
       " 'thought-',\n",
       " 'what',\n",
       " 'more',\n",
       " 'could',\n",
       " 'I',\n",
       " 'have',\n",
       " 'seen',\n",
       " '?',\n",
       " \"'T\",\n",
       " 'was',\n",
       " 'once-',\n",
       " 'and',\n",
       " 'only',\n",
       " 'once-',\n",
       " 'and',\n",
       " 'the',\n",
       " 'wild',\n",
       " 'hour',\n",
       " 'From',\n",
       " 'my',\n",
       " 'remembrance',\n",
       " 'shall',\n",
       " 'not',\n",
       " 'pass-',\n",
       " 'some',\n",
       " 'power',\n",
       " 'Or',\n",
       " 'spell',\n",
       " 'had',\n",
       " 'bound',\n",
       " 'me-',\n",
       " \"'t\",\n",
       " 'was',\n",
       " 'the',\n",
       " 'chilly',\n",
       " 'wind',\n",
       " 'Came',\n",
       " \"o'er\",\n",
       " 'me',\n",
       " 'in',\n",
       " 'the',\n",
       " 'night',\n",
       " ',',\n",
       " 'and',\n",
       " 'left',\n",
       " 'behind',\n",
       " 'Its',\n",
       " 'image',\n",
       " 'on',\n",
       " 'my',\n",
       " 'spirit-',\n",
       " 'or',\n",
       " 'the',\n",
       " 'moon',\n",
       " 'Shone',\n",
       " 'on',\n",
       " 'my',\n",
       " 'slumbers',\n",
       " 'in',\n",
       " 'her',\n",
       " 'lofty',\n",
       " 'noon',\n",
       " 'Too',\n",
       " 'coldly-',\n",
       " 'or',\n",
       " 'the',\n",
       " 'stars-',\n",
       " \"howe'er\",\n",
       " 'it',\n",
       " 'was',\n",
       " 'That',\n",
       " 'dream',\n",
       " 'was',\n",
       " 'as',\n",
       " 'that',\n",
       " 'night-wind-',\n",
       " 'let',\n",
       " 'it',\n",
       " 'pass',\n",
       " '.',\n",
       " 'I',\n",
       " 'have',\n",
       " 'been',\n",
       " 'happy',\n",
       " ',',\n",
       " 'tho',\n",
       " \"'\",\n",
       " 'in',\n",
       " 'a',\n",
       " 'dream',\n",
       " '.',\n",
       " 'I',\n",
       " 'have',\n",
       " 'been',\n",
       " 'happy-',\n",
       " 'and',\n",
       " 'I',\n",
       " 'love',\n",
       " 'the',\n",
       " 'theme',\n",
       " ':',\n",
       " 'Dreams',\n",
       " '!',\n",
       " 'in',\n",
       " 'their',\n",
       " 'vivid',\n",
       " 'coloring',\n",
       " 'of',\n",
       " 'life',\n",
       " ',',\n",
       " 'As',\n",
       " 'in',\n",
       " 'that',\n",
       " 'fleeting',\n",
       " ',',\n",
       " 'shadowy',\n",
       " ',',\n",
       " 'misty',\n",
       " 'strife',\n",
       " 'Of',\n",
       " 'semblance',\n",
       " 'with',\n",
       " 'reality',\n",
       " ',',\n",
       " 'which',\n",
       " 'brings',\n",
       " 'To',\n",
       " 'the',\n",
       " 'delirious',\n",
       " 'eye',\n",
       " ',',\n",
       " 'more',\n",
       " 'lovely',\n",
       " 'things',\n",
       " 'Of',\n",
       " 'Paradise',\n",
       " 'and',\n",
       " 'Love-',\n",
       " 'and',\n",
       " 'all',\n",
       " 'our',\n",
       " 'own',\n",
       " '!',\n",
       " 'Than',\n",
       " 'young',\n",
       " 'Hope',\n",
       " 'in',\n",
       " 'his',\n",
       " 'sunniest',\n",
       " 'hour',\n",
       " 'hath',\n",
       " 'known',\n",
       " '.']"
      ]
     },
     "execution_count": 11,
     "metadata": {},
     "output_type": "execute_result"
    }
   ],
   "source": [
    "# Inspect y\n",
    "y"
   ]
  },
  {
   "cell_type": "code",
   "execution_count": 12,
   "id": "ea6c112d",
   "metadata": {},
   "outputs": [
    {
     "data": {
      "text/plain": [
       "[237,\n",
       " 99,\n",
       " 181,\n",
       " 29,\n",
       " 133,\n",
       " 111,\n",
       " 186,\n",
       " 152,\n",
       " 106,\n",
       " 19,\n",
       " 53,\n",
       " 260,\n",
       " 109,\n",
       " 186,\n",
       " 157,\n",
       " 58,\n",
       " 159,\n",
       " 26,\n",
       " 155,\n",
       " 169,\n",
       " 83,\n",
       " 11,\n",
       " 16,\n",
       " 0,\n",
       " 263,\n",
       " 149,\n",
       " 184,\n",
       " 53,\n",
       " 109,\n",
       " 84,\n",
       " 101,\n",
       " 45,\n",
       " 137,\n",
       " 266,\n",
       " 117,\n",
       " 60,\n",
       " 85,\n",
       " 36,\n",
       " 241,\n",
       " 61,\n",
       " 137,\n",
       " 269,\n",
       " 53,\n",
       " 202,\n",
       " 48,\n",
       " 67,\n",
       " 255,\n",
       " 237,\n",
       " 199,\n",
       " 14,\n",
       " 42,\n",
       " 139,\n",
       " 110,\n",
       " 236,\n",
       " 139,\n",
       " 109,\n",
       " 9,\n",
       " 51,\n",
       " 55,\n",
       " 237,\n",
       " 270,\n",
       " 262,\n",
       " 88,\n",
       " 9,\n",
       " 26,\n",
       " 87,\n",
       " 169,\n",
       " 62,\n",
       " 53,\n",
       " 168,\n",
       " 70,\n",
       " 15,\n",
       " 163,\n",
       " 223,\n",
       " 128,\n",
       " 11,\n",
       " 49,\n",
       " 243,\n",
       " 236,\n",
       " 159,\n",
       " 9,\n",
       " 245,\n",
       " 1,\n",
       " 228,\n",
       " 58,\n",
       " 181,\n",
       " 9,\n",
       " 40,\n",
       " 254,\n",
       " 124,\n",
       " 54,\n",
       " 49,\n",
       " 98,\n",
       " 240,\n",
       " 68,\n",
       " 174,\n",
       " 201,\n",
       " 80,\n",
       " 30,\n",
       " 47,\n",
       " 5,\n",
       " 102,\n",
       " 14,\n",
       " 25,\n",
       " 89,\n",
       " 5,\n",
       " 143,\n",
       " 29,\n",
       " 133,\n",
       " 184,\n",
       " 71,\n",
       " 18,\n",
       " 191,\n",
       " 262,\n",
       " 13,\n",
       " 29,\n",
       " 133,\n",
       " 184,\n",
       " 212,\n",
       " 18,\n",
       " 191,\n",
       " 211,\n",
       " 13,\n",
       " 29,\n",
       " 98,\n",
       " 184,\n",
       " 81,\n",
       " 33,\n",
       " 198,\n",
       " 124,\n",
       " 53,\n",
       " 97,\n",
       " 225,\n",
       " 11,\n",
       " 25,\n",
       " 237,\n",
       " 210,\n",
       " 221,\n",
       " 29,\n",
       " 133,\n",
       " 184,\n",
       " 234,\n",
       " 33,\n",
       " 220,\n",
       " 13,\n",
       " 29,\n",
       " 98,\n",
       " 184,\n",
       " 65,\n",
       " 33,\n",
       " 134,\n",
       " 250,\n",
       " 152,\n",
       " 63,\n",
       " 237,\n",
       " 210,\n",
       " 251,\n",
       " 13,\n",
       " 17,\n",
       " 55,\n",
       " 29,\n",
       " 166,\n",
       " 9,\n",
       " 29,\n",
       " 166,\n",
       " 56,\n",
       " 11,\n",
       " 44,\n",
       " 148,\n",
       " 179,\n",
       " 89,\n",
       " 9,\n",
       " 148,\n",
       " 237,\n",
       " 100,\n",
       " 34,\n",
       " 53,\n",
       " 176,\n",
       " 229,\n",
       " 158,\n",
       " 261,\n",
       " 108,\n",
       " 25,\n",
       " 115,\n",
       " 107,\n",
       " 186,\n",
       " 127,\n",
       " 58,\n",
       " 145,\n",
       " 43,\n",
       " 180,\n",
       " 265,\n",
       " 75,\n",
       " 169,\n",
       " 227,\n",
       " 12,\n",
       " 25,\n",
       " 237,\n",
       " 253,\n",
       " 9,\n",
       " 190,\n",
       " 237,\n",
       " 123,\n",
       " 9,\n",
       " 25,\n",
       " 237,\n",
       " 204,\n",
       " 91,\n",
       " 186,\n",
       " 237,\n",
       " 177,\n",
       " 9,\n",
       " 25,\n",
       " 237,\n",
       " 232,\n",
       " 236,\n",
       " 209,\n",
       " 169,\n",
       " 208,\n",
       " 30,\n",
       " 151,\n",
       " 64,\n",
       " 249,\n",
       " 186,\n",
       " 126,\n",
       " 9,\n",
       " 25,\n",
       " 237,\n",
       " 160,\n",
       " 148,\n",
       " 237,\n",
       " 217,\n",
       " 18,\n",
       " 150,\n",
       " 196,\n",
       " 169,\n",
       " 119,\n",
       " 84,\n",
       " 9,\n",
       " 25,\n",
       " 237,\n",
       " 246,\n",
       " 58,\n",
       " 237,\n",
       " 228,\n",
       " 9,\n",
       " 17,\n",
       " 237,\n",
       " 93,\n",
       " 236,\n",
       " 252,\n",
       " 237,\n",
       " 122,\n",
       " 7,\n",
       " 50,\n",
       " 237,\n",
       " 206,\n",
       " 186,\n",
       " 27,\n",
       " 261,\n",
       " 77,\n",
       " 8,\n",
       " 34,\n",
       " 53,\n",
       " 105,\n",
       " 148,\n",
       " 179,\n",
       " 257,\n",
       " 11,\n",
       " 35,\n",
       " 0,\n",
       " 236,\n",
       " 179,\n",
       " 271,\n",
       " 157,\n",
       " 262,\n",
       " 53,\n",
       " 154,\n",
       " 109,\n",
       " 0,\n",
       " 33,\n",
       " 223,\n",
       " 184,\n",
       " 66,\n",
       " 9,\n",
       " 248,\n",
       " 237,\n",
       " 70,\n",
       " 34,\n",
       " 57,\n",
       " 23,\n",
       " 216,\n",
       " 81,\n",
       " 237,\n",
       " 175,\n",
       " 11,\n",
       " 52,\n",
       " 0,\n",
       " 242,\n",
       " 1,\n",
       " 236,\n",
       " 164,\n",
       " 109,\n",
       " 262,\n",
       " 186,\n",
       " 142,\n",
       " 220,\n",
       " 9,\n",
       " 3,\n",
       " 74,\n",
       " 235,\n",
       " 237,\n",
       " 94,\n",
       " 203,\n",
       " 34,\n",
       " 260,\n",
       " 157,\n",
       " 9,\n",
       " 250,\n",
       " 137,\n",
       " 266,\n",
       " 134,\n",
       " 178,\n",
       " 68,\n",
       " 9,\n",
       " 17,\n",
       " 132,\n",
       " 71,\n",
       " 227,\n",
       " 9,\n",
       " 255,\n",
       " 237,\n",
       " 168,\n",
       " 113,\n",
       " 9,\n",
       " 15,\n",
       " 86,\n",
       " 186,\n",
       " 103,\n",
       " 197,\n",
       " 9,\n",
       " 124,\n",
       " 138,\n",
       " 76,\n",
       " 11,\n",
       " 19,\n",
       " 216,\n",
       " 150,\n",
       " 69,\n",
       " 236,\n",
       " 109,\n",
       " 114,\n",
       " 21,\n",
       " 62,\n",
       " 112,\n",
       " 133,\n",
       " 71,\n",
       " 250,\n",
       " 169,\n",
       " 30,\n",
       " 179,\n",
       " 271,\n",
       " 79,\n",
       " 216,\n",
       " 150,\n",
       " 247,\n",
       " 68,\n",
       " 125,\n",
       " 9,\n",
       " 3,\n",
       " 120,\n",
       " 227,\n",
       " 250,\n",
       " 141,\n",
       " 121,\n",
       " 136,\n",
       " 27,\n",
       " 11,\n",
       " 24,\n",
       " 29,\n",
       " 133,\n",
       " 207,\n",
       " 4,\n",
       " 9,\n",
       " 264,\n",
       " 237,\n",
       " 232,\n",
       " 261,\n",
       " 80,\n",
       " 29,\n",
       " 1,\n",
       " 237,\n",
       " 231,\n",
       " 217,\n",
       " 9,\n",
       " 148,\n",
       " 112,\n",
       " 186,\n",
       " 161,\n",
       " 159,\n",
       " 17,\n",
       " 167,\n",
       " 9,\n",
       " 10,\n",
       " 133,\n",
       " 155,\n",
       " 179,\n",
       " 256,\n",
       " 134,\n",
       " 30,\n",
       " 92,\n",
       " 186,\n",
       " 179,\n",
       " 147,\n",
       " 9,\n",
       " 59,\n",
       " 25,\n",
       " 171,\n",
       " 193,\n",
       " 140,\n",
       " 9,\n",
       " 269,\n",
       " 73,\n",
       " 236,\n",
       " 133,\n",
       " 71,\n",
       " 34,\n",
       " 171,\n",
       " 193,\n",
       " 244,\n",
       " 263,\n",
       " 174,\n",
       " 98,\n",
       " 29,\n",
       " 133,\n",
       " 212,\n",
       " 14,\n",
       " 2,\n",
       " 261,\n",
       " 188,\n",
       " 58,\n",
       " 189,\n",
       " 188,\n",
       " 58,\n",
       " 237,\n",
       " 267,\n",
       " 143,\n",
       " 25,\n",
       " 179,\n",
       " 205,\n",
       " 215,\n",
       " 184,\n",
       " 195,\n",
       " 219,\n",
       " 200,\n",
       " 37,\n",
       " 222,\n",
       " 129,\n",
       " 78,\n",
       " 170,\n",
       " 6,\n",
       " 261,\n",
       " 237,\n",
       " 90,\n",
       " 268,\n",
       " 20,\n",
       " 185,\n",
       " 169,\n",
       " 148,\n",
       " 237,\n",
       " 181,\n",
       " 9,\n",
       " 58,\n",
       " 155,\n",
       " 72,\n",
       " 31,\n",
       " 146,\n",
       " 187,\n",
       " 179,\n",
       " 224,\n",
       " 190,\n",
       " 237,\n",
       " 173,\n",
       " 39,\n",
       " 187,\n",
       " 179,\n",
       " 218,\n",
       " 148,\n",
       " 135,\n",
       " 162,\n",
       " 183,\n",
       " 46,\n",
       " 95,\n",
       " 190,\n",
       " 237,\n",
       " 226,\n",
       " 144,\n",
       " 150,\n",
       " 261,\n",
       " 42,\n",
       " 109,\n",
       " 261,\n",
       " 62,\n",
       " 236,\n",
       " 182,\n",
       " 156,\n",
       " 150,\n",
       " 194,\n",
       " 11,\n",
       " 29,\n",
       " 133,\n",
       " 71,\n",
       " 130,\n",
       " 9,\n",
       " 242,\n",
       " 1,\n",
       " 148,\n",
       " 53,\n",
       " 109,\n",
       " 11,\n",
       " 29,\n",
       " 133,\n",
       " 71,\n",
       " 131,\n",
       " 58,\n",
       " 29,\n",
       " 165,\n",
       " 237,\n",
       " 239,\n",
       " 12,\n",
       " 22,\n",
       " 0,\n",
       " 148,\n",
       " 238,\n",
       " 259,\n",
       " 96,\n",
       " 186,\n",
       " 157,\n",
       " 9,\n",
       " 18,\n",
       " 148,\n",
       " 236,\n",
       " 118,\n",
       " 9,\n",
       " 214,\n",
       " 9,\n",
       " 172,\n",
       " 230,\n",
       " 34,\n",
       " 213,\n",
       " 269,\n",
       " 203,\n",
       " 9,\n",
       " 265,\n",
       " 82,\n",
       " 45,\n",
       " 237,\n",
       " 104,\n",
       " 116,\n",
       " 9,\n",
       " 174,\n",
       " 168,\n",
       " 241,\n",
       " 34,\n",
       " 38,\n",
       " 58,\n",
       " 32,\n",
       " 58,\n",
       " 55,\n",
       " 192,\n",
       " 193,\n",
       " 0,\n",
       " 41,\n",
       " 271,\n",
       " 28,\n",
       " 148,\n",
       " 138,\n",
       " 233,\n",
       " 143,\n",
       " 132,\n",
       " 153,\n",
       " 11]"
      ]
     },
     "execution_count": 12,
     "metadata": {},
     "output_type": "execute_result"
    }
   ],
   "source": [
    "# Convert each word in y into their corresponding indices\n",
    "y_ints = [word_indices[item] for item in y]\n",
    "y_ints"
   ]
  },
  {
   "cell_type": "code",
   "execution_count": 13,
   "id": "4fc0bfcc",
   "metadata": {},
   "outputs": [
    {
     "data": {
      "text/plain": [
       "array([[0., 0., 0., ..., 0., 0., 0.],\n",
       "       [0., 0., 0., ..., 0., 0., 0.],\n",
       "       [0., 0., 0., ..., 0., 0., 0.],\n",
       "       ...,\n",
       "       [0., 0., 0., ..., 0., 0., 0.],\n",
       "       [0., 0., 0., ..., 0., 0., 0.],\n",
       "       [0., 0., 0., ..., 0., 0., 0.]])"
      ]
     },
     "execution_count": 13,
     "metadata": {},
     "output_type": "execute_result"
    }
   ],
   "source": [
    "# Create one-hot encoding of y\n",
    "y_encoded = []\n",
    "\n",
    "for item in y_ints:\n",
    "    y_vector = np.zeros(len(unique_words))\n",
    "    y_vector[item] = 1\n",
    "    y_encoded.append(y_vector)\n",
    "\n",
    "y_encoded = np.array(y_encoded)\n",
    "y_encoded"
   ]
  },
  {
   "cell_type": "code",
   "execution_count": 14,
   "id": "2ba28e91",
   "metadata": {},
   "outputs": [
    {
     "data": {
      "text/plain": [
       "array([[[0., 0., 0., ..., 0., 0., 0.],\n",
       "        [0., 0., 0., ..., 0., 0., 0.],\n",
       "        [0., 0., 0., ..., 0., 0., 0.]],\n",
       "\n",
       "       [[0., 0., 0., ..., 0., 0., 0.],\n",
       "        [0., 0., 0., ..., 0., 0., 0.],\n",
       "        [0., 0., 0., ..., 0., 0., 0.]],\n",
       "\n",
       "       [[0., 0., 0., ..., 0., 0., 0.],\n",
       "        [0., 0., 0., ..., 0., 0., 0.],\n",
       "        [0., 0., 0., ..., 0., 0., 0.]],\n",
       "\n",
       "       ...,\n",
       "\n",
       "       [[0., 0., 0., ..., 0., 0., 0.],\n",
       "        [0., 0., 0., ..., 0., 0., 0.],\n",
       "        [0., 0., 0., ..., 0., 0., 0.]],\n",
       "\n",
       "       [[0., 0., 0., ..., 0., 0., 0.],\n",
       "        [0., 0., 0., ..., 0., 0., 0.],\n",
       "        [0., 0., 0., ..., 0., 0., 0.]],\n",
       "\n",
       "       [[0., 0., 0., ..., 0., 0., 0.],\n",
       "        [0., 0., 0., ..., 0., 0., 0.],\n",
       "        [0., 0., 0., ..., 0., 0., 0.]]])"
      ]
     },
     "execution_count": 14,
     "metadata": {},
     "output_type": "execute_result"
    }
   ],
   "source": [
    "# Create one-hot encoding of x\n",
    "x_encoded = []\n",
    "\n",
    "for x_arr in x:\n",
    "    x_ints = [word_indices[item] for item in x_arr]\n",
    "    \n",
    "    x_row = []\n",
    "    for item in x_ints:\n",
    "        x_vector = np.zeros(len(unique_words))\n",
    "        x_vector[item] = 1\n",
    "        x_row.append(x_vector)\n",
    "        \n",
    "    x_encoded.append(x_row)\n",
    "    \n",
    "x_encoded = np.array(x_encoded)\n",
    "x_encoded"
   ]
  },
  {
   "cell_type": "code",
   "execution_count": 15,
   "id": "caa21464",
   "metadata": {},
   "outputs": [],
   "source": [
    "class LyricGenerator(nn.Module):\n",
    "    def __init__(self, input_dim, output_dim, block_size):\n",
    "        super().__init__()\n",
    "\n",
    "        # TODO: CHANGE SHAPES OF TENSORS LATER\n",
    "        self.embeddings = nn.Linear(input_dim, 30 * block_size)\n",
    "        self.hidden = nn.Linear(30 * block_size, 50)\n",
    "        self.output = nn.Linear(50, output_dim)\n",
    "        \n",
    "        self.relu = nn.ReLU()\n",
    "        self.sigmoid = nn.Sigmoid()\n",
    "        self.softmax = nn.Softmax(dim=1)\n",
    "\n",
    "    def forward(self, x):\n",
    "        # f(x) = a(f(x))\n",
    "        x = self.relu(self.embeddings(x))\n",
    "        x = self.relu(self.hidden(x))\n",
    "        y = self.sigmoid(self.output(x))\n",
    "        y = self.softmax(y)\n",
    "\n",
    "        return y"
   ]
  },
  {
   "cell_type": "code",
   "execution_count": 18,
   "id": "d6ff9f45",
   "metadata": {},
   "outputs": [
    {
     "data": {
      "text/plain": [
       "816"
      ]
     },
     "execution_count": 18,
     "metadata": {},
     "output_type": "execute_result"
    }
   ],
   "source": [
    "# Get size of input for training the model\n",
    "input_size = x_encoded[0].ravel().shape[0]\n",
    "input_size"
   ]
  },
  {
   "cell_type": "code",
   "execution_count": 19,
   "id": "eb023182",
   "metadata": {},
   "outputs": [
    {
     "data": {
      "text/plain": [
       "LyricGenerator(\n",
       "  (embeddings): Linear(in_features=816, out_features=90, bias=True)\n",
       "  (hidden): Linear(in_features=90, out_features=50, bias=True)\n",
       "  (output): Linear(in_features=50, out_features=272, bias=True)\n",
       "  (relu): ReLU()\n",
       "  (sigmoid): Sigmoid()\n",
       "  (softmax): Softmax(dim=1)\n",
       ")"
      ]
     },
     "execution_count": 19,
     "metadata": {},
     "output_type": "execute_result"
    }
   ],
   "source": [
    "# Instantiate model\n",
    "model = LyricGenerator(input_size, len(unique_words), block_size)\n",
    "\n",
    "# Print model configuration\n",
    "model"
   ]
  },
  {
   "cell_type": "code",
   "execution_count": 20,
   "id": "c9e8b60d",
   "metadata": {},
   "outputs": [],
   "source": [
    "# Create custom Dataset class\n",
    "from torch.utils.data import Dataset\n",
    "\n",
    "class CustomDataset(Dataset):\n",
    "    def __init__(self, x, y):\n",
    "        self.x = x\n",
    "        self.y = y\n",
    "        \n",
    "        self.n_samples = len(x)\n",
    "    \n",
    "    def __getitem__(self, index):\n",
    "        return self.x[index].ravel(), self.y[index]\n",
    "    \n",
    "    def __len__(self):\n",
    "        return self.n_samples"
   ]
  },
  {
   "cell_type": "code",
   "execution_count": 21,
   "id": "df58af12",
   "metadata": {},
   "outputs": [],
   "source": [
    "# Create x and y PyTorch tensors\n",
    "device = 'cpu'\n",
    "x = torch.tensor(x_encoded).float().to(device)\n",
    "y = torch.tensor(y_encoded).float().to(device)"
   ]
  },
  {
   "cell_type": "code",
   "execution_count": 22,
   "id": "9228e421",
   "metadata": {},
   "outputs": [
    {
     "data": {
      "text/plain": [
       "<__main__.CustomDataset at 0x2792fcfed00>"
      ]
     },
     "execution_count": 22,
     "metadata": {},
     "output_type": "execute_result"
    }
   ],
   "source": [
    "# Create training dataset using custom Dataset class\n",
    "training_ds = CustomDataset(x, y)\n",
    "training_ds"
   ]
  },
  {
   "cell_type": "code",
   "execution_count": 23,
   "id": "5a488527",
   "metadata": {},
   "outputs": [],
   "source": [
    "# Load training dataset into DataLoader\n",
    "from torch.utils.data import DataLoader\n",
    "\n",
    "batch_size = 5\n",
    "\n",
    "train_loader = DataLoader(\n",
    "    training_ds,\n",
    "    batch_size=batch_size,\n",
    "    shuffle=False,\n",
    "    drop_last=False\n",
    ")"
   ]
  },
  {
   "cell_type": "code",
   "execution_count": 24,
   "id": "433009b3",
   "metadata": {},
   "outputs": [],
   "source": [
    "# Define model optimizer and loss function\n",
    "optimizer = optim.Adam(model.parameters(), lr=0.0001)\n",
    "criterion = nn.CrossEntropyLoss()"
   ]
  },
  {
   "cell_type": "code",
   "execution_count": 25,
   "id": "a82f8538",
   "metadata": {},
   "outputs": [],
   "source": [
    "# Define function to train model\n",
    "def train_fn(loader, model, optimizer, loss_fn, device):\n",
    "    loop = tqdm(loader)\n",
    "\n",
    "    ave_loss = 0\n",
    "    count = 0 \n",
    "    for batch_idx, (data, targets) in enumerate(loop):\n",
    "        data = data.to(device=device)\n",
    "        targets = targets.to(device=device)\n",
    "        \n",
    "        # Forward\n",
    "        predictions = model.forward(data)\n",
    "        loss = loss_fn(predictions, targets)\n",
    "        \n",
    "        # Backward\n",
    "        optimizer.zero_grad()\n",
    "        loss.backward()\n",
    "        optimizer.step()\n",
    "        \n",
    "        # Update tqdm loading bar\n",
    "        loop.set_postfix(loss=loss.item())\n",
    "\n",
    "        count += 1\n",
    "        ave_loss += loss.item()\n",
    "    \n",
    "    ave_loss = ave_loss / count\n",
    "\n",
    "    return ave_loss"
   ]
  },
  {
   "cell_type": "code",
   "execution_count": 26,
   "id": "7811b5d6",
   "metadata": {},
   "outputs": [
    {
     "name": "stdout",
     "output_type": "stream",
     "text": [
      "Epoch: 0\n"
     ]
    },
    {
     "name": "stderr",
     "output_type": "stream",
     "text": [
      "100%|███████████████████████████| 117/117 [00:00<00:00, 213.33it/s, loss=5.61]\n"
     ]
    },
    {
     "name": "stdout",
     "output_type": "stream",
     "text": [
      "Ave Loss: 5.605808730818268\n",
      "Epoch: 1\n"
     ]
    },
    {
     "name": "stderr",
     "output_type": "stream",
     "text": [
      "100%|███████████████████████████| 117/117 [00:00<00:00, 218.23it/s, loss=5.61]\n"
     ]
    },
    {
     "name": "stdout",
     "output_type": "stream",
     "text": [
      "Ave Loss: 5.605798395270975\n",
      "Epoch: 2\n"
     ]
    },
    {
     "name": "stderr",
     "output_type": "stream",
     "text": [
      "100%|███████████████████████████| 117/117 [00:00<00:00, 234.98it/s, loss=5.61]\n"
     ]
    },
    {
     "name": "stdout",
     "output_type": "stream",
     "text": [
      "Ave Loss: 5.605789881486159\n",
      "Epoch: 3\n"
     ]
    },
    {
     "name": "stderr",
     "output_type": "stream",
     "text": [
      "100%|███████████████████████████| 117/117 [00:00<00:00, 216.84it/s, loss=5.61]\n"
     ]
    },
    {
     "name": "stdout",
     "output_type": "stream",
     "text": [
      "Ave Loss: 5.605779818999461\n",
      "Epoch: 4\n"
     ]
    },
    {
     "name": "stderr",
     "output_type": "stream",
     "text": [
      "100%|███████████████████████████| 117/117 [00:00<00:00, 228.42it/s, loss=5.61]\n"
     ]
    },
    {
     "name": "stdout",
     "output_type": "stream",
     "text": [
      "Ave Loss: 5.605766785450471\n",
      "Epoch: 5\n"
     ]
    },
    {
     "name": "stderr",
     "output_type": "stream",
     "text": [
      "100%|███████████████████████████| 117/117 [00:00<00:00, 211.98it/s, loss=5.61]\n"
     ]
    },
    {
     "name": "stdout",
     "output_type": "stream",
     "text": [
      "Ave Loss: 5.605748286614051\n",
      "Epoch: 6\n"
     ]
    },
    {
     "name": "stderr",
     "output_type": "stream",
     "text": [
      "100%|███████████████████████████| 117/117 [00:00<00:00, 236.27it/s, loss=5.61]\n"
     ]
    },
    {
     "name": "stdout",
     "output_type": "stream",
     "text": [
      "Ave Loss: 5.605718840900649\n",
      "Epoch: 7\n"
     ]
    },
    {
     "name": "stderr",
     "output_type": "stream",
     "text": [
      "100%|███████████████████████████| 117/117 [00:00<00:00, 206.58it/s, loss=5.61]\n"
     ]
    },
    {
     "name": "stdout",
     "output_type": "stream",
     "text": [
      "Ave Loss: 5.605668495862912\n",
      "Epoch: 8\n"
     ]
    },
    {
     "name": "stderr",
     "output_type": "stream",
     "text": [
      "100%|███████████████████████████| 117/117 [00:00<00:00, 239.26it/s, loss=5.61]\n"
     ]
    },
    {
     "name": "stdout",
     "output_type": "stream",
     "text": [
      "Ave Loss: 5.605579127613296\n",
      "Epoch: 9\n"
     ]
    },
    {
     "name": "stderr",
     "output_type": "stream",
     "text": [
      "100%|███████████████████████████| 117/117 [00:00<00:00, 210.21it/s, loss=5.61]\n"
     ]
    },
    {
     "name": "stdout",
     "output_type": "stream",
     "text": [
      "Ave Loss: 5.605423230391282\n",
      "Epoch: 10\n"
     ]
    },
    {
     "name": "stderr",
     "output_type": "stream",
     "text": [
      "100%|███████████████████████████| 117/117 [00:00<00:00, 229.88it/s, loss=5.61]\n"
     ]
    },
    {
     "name": "stdout",
     "output_type": "stream",
     "text": [
      "Ave Loss: 5.605185916281154\n",
      "Epoch: 11\n"
     ]
    },
    {
     "name": "stderr",
     "output_type": "stream",
     "text": [
      "100%|███████████████████████████| 117/117 [00:00<00:00, 206.60it/s, loss=5.61]\n"
     ]
    },
    {
     "name": "stdout",
     "output_type": "stream",
     "text": [
      "Ave Loss: 5.6049065589904785\n",
      "Epoch: 12\n"
     ]
    },
    {
     "name": "stderr",
     "output_type": "stream",
     "text": [
      "100%|████████████████████████████| 117/117 [00:00<00:00, 233.56it/s, loss=5.6]\n"
     ]
    },
    {
     "name": "stdout",
     "output_type": "stream",
     "text": [
      "Ave Loss: 5.604646511566945\n",
      "Epoch: 13\n"
     ]
    },
    {
     "name": "stderr",
     "output_type": "stream",
     "text": [
      "100%|████████████████████████████| 117/117 [00:00<00:00, 217.33it/s, loss=5.6]\n"
     ]
    },
    {
     "name": "stdout",
     "output_type": "stream",
     "text": [
      "Ave Loss: 5.604446203280718\n",
      "Epoch: 14\n"
     ]
    },
    {
     "name": "stderr",
     "output_type": "stream",
     "text": [
      "100%|████████████████████████████| 117/117 [00:00<00:00, 197.52it/s, loss=5.6]\n"
     ]
    },
    {
     "name": "stdout",
     "output_type": "stream",
     "text": [
      "Ave Loss: 5.604309624076908\n",
      "Epoch: 15\n"
     ]
    },
    {
     "name": "stderr",
     "output_type": "stream",
     "text": [
      "100%|████████████████████████████| 117/117 [00:00<00:00, 205.36it/s, loss=5.6]\n"
     ]
    },
    {
     "name": "stdout",
     "output_type": "stream",
     "text": [
      "Ave Loss: 5.60422018246773\n",
      "Epoch: 16\n"
     ]
    },
    {
     "name": "stderr",
     "output_type": "stream",
     "text": [
      "100%|████████████████████████████| 117/117 [00:00<00:00, 202.01it/s, loss=5.6]\n"
     ]
    },
    {
     "name": "stdout",
     "output_type": "stream",
     "text": [
      "Ave Loss: 5.604160769372924\n",
      "Epoch: 17\n"
     ]
    },
    {
     "name": "stderr",
     "output_type": "stream",
     "text": [
      "100%|████████████████████████████| 117/117 [00:00<00:00, 206.20it/s, loss=5.6]\n"
     ]
    },
    {
     "name": "stdout",
     "output_type": "stream",
     "text": [
      "Ave Loss: 5.604119549449693\n",
      "Epoch: 18\n"
     ]
    },
    {
     "name": "stderr",
     "output_type": "stream",
     "text": [
      "100%|████████████████████████████| 117/117 [00:00<00:00, 191.84it/s, loss=5.6]\n"
     ]
    },
    {
     "name": "stdout",
     "output_type": "stream",
     "text": [
      "Ave Loss: 5.604089704334227\n",
      "Epoch: 19\n"
     ]
    },
    {
     "name": "stderr",
     "output_type": "stream",
     "text": [
      "100%|████████████████████████████| 117/117 [00:00<00:00, 238.70it/s, loss=5.6]\n"
     ]
    },
    {
     "name": "stdout",
     "output_type": "stream",
     "text": [
      "Ave Loss: 5.6040670077006025\n",
      "Epoch: 20\n"
     ]
    },
    {
     "name": "stderr",
     "output_type": "stream",
     "text": [
      "100%|████████████████████████████| 117/117 [00:00<00:00, 209.74it/s, loss=5.6]\n"
     ]
    },
    {
     "name": "stdout",
     "output_type": "stream",
     "text": [
      "Ave Loss: 5.604048993852404\n",
      "Epoch: 21\n"
     ]
    },
    {
     "name": "stderr",
     "output_type": "stream",
     "text": [
      "100%|████████████████████████████| 117/117 [00:00<00:00, 203.14it/s, loss=5.6]\n"
     ]
    },
    {
     "name": "stdout",
     "output_type": "stream",
     "text": [
      "Ave Loss: 5.604034203749436\n",
      "Epoch: 22\n"
     ]
    },
    {
     "name": "stderr",
     "output_type": "stream",
     "text": [
      "100%|████████████████████████████| 117/117 [00:00<00:00, 223.34it/s, loss=5.6]\n"
     ]
    },
    {
     "name": "stdout",
     "output_type": "stream",
     "text": [
      "Ave Loss: 5.6040215329227285\n",
      "Epoch: 23\n"
     ]
    },
    {
     "name": "stderr",
     "output_type": "stream",
     "text": [
      "100%|████████████████████████████| 117/117 [00:00<00:00, 210.17it/s, loss=5.6]\n"
     ]
    },
    {
     "name": "stdout",
     "output_type": "stream",
     "text": [
      "Ave Loss: 5.604010471930871\n",
      "Epoch: 24\n"
     ]
    },
    {
     "name": "stderr",
     "output_type": "stream",
     "text": [
      "100%|████████████████████████████| 117/117 [00:00<00:00, 222.74it/s, loss=5.6]\n"
     ]
    },
    {
     "name": "stdout",
     "output_type": "stream",
     "text": [
      "Ave Loss: 5.60400042982183\n",
      "Epoch: 25\n"
     ]
    },
    {
     "name": "stderr",
     "output_type": "stream",
     "text": [
      "100%|████████████████████████████| 117/117 [00:00<00:00, 198.76it/s, loss=5.6]\n"
     ]
    },
    {
     "name": "stdout",
     "output_type": "stream",
     "text": [
      "Ave Loss: 5.603991129459479\n",
      "Epoch: 26\n"
     ]
    },
    {
     "name": "stderr",
     "output_type": "stream",
     "text": [
      "100%|████████████████████████████| 117/117 [00:00<00:00, 230.22it/s, loss=5.6]\n"
     ]
    },
    {
     "name": "stdout",
     "output_type": "stream",
     "text": [
      "Ave Loss: 5.603982371142787\n",
      "Epoch: 27\n"
     ]
    },
    {
     "name": "stderr",
     "output_type": "stream",
     "text": [
      "100%|████████████████████████████| 117/117 [00:00<00:00, 187.63it/s, loss=5.6]\n"
     ]
    },
    {
     "name": "stdout",
     "output_type": "stream",
     "text": [
      "Ave Loss: 5.603973914415408\n",
      "Epoch: 28\n"
     ]
    },
    {
     "name": "stderr",
     "output_type": "stream",
     "text": [
      "100%|████████████████████████████| 117/117 [00:00<00:00, 219.60it/s, loss=5.6]\n"
     ]
    },
    {
     "name": "stdout",
     "output_type": "stream",
     "text": [
      "Ave Loss: 5.603965848939032\n",
      "Epoch: 29\n"
     ]
    },
    {
     "name": "stderr",
     "output_type": "stream",
     "text": [
      "100%|████████████████████████████| 117/117 [00:00<00:00, 223.69it/s, loss=5.6]\n"
     ]
    },
    {
     "name": "stdout",
     "output_type": "stream",
     "text": [
      "Ave Loss: 5.603957930181781\n",
      "Epoch: 30\n"
     ]
    },
    {
     "name": "stderr",
     "output_type": "stream",
     "text": [
      "100%|████████████████████████████| 117/117 [00:00<00:00, 237.37it/s, loss=5.6]\n"
     ]
    },
    {
     "name": "stdout",
     "output_type": "stream",
     "text": [
      "Ave Loss: 5.603950190747905\n",
      "Epoch: 31\n"
     ]
    },
    {
     "name": "stderr",
     "output_type": "stream",
     "text": [
      "100%|████████████████████████████| 117/117 [00:00<00:00, 230.88it/s, loss=5.6]\n"
     ]
    },
    {
     "name": "stdout",
     "output_type": "stream",
     "text": [
      "Ave Loss: 5.603942642863999\n",
      "Epoch: 32\n"
     ]
    },
    {
     "name": "stderr",
     "output_type": "stream",
     "text": [
      "100%|████████████████████████████| 117/117 [00:00<00:00, 227.91it/s, loss=5.6]\n"
     ]
    },
    {
     "name": "stdout",
     "output_type": "stream",
     "text": [
      "Ave Loss: 5.603935074602437\n",
      "Epoch: 33\n"
     ]
    },
    {
     "name": "stderr",
     "output_type": "stream",
     "text": [
      "100%|████████████████████████████| 117/117 [00:00<00:00, 213.60it/s, loss=5.6]\n"
     ]
    },
    {
     "name": "stdout",
     "output_type": "stream",
     "text": [
      "Ave Loss: 5.6039275960025625\n",
      "Epoch: 34\n"
     ]
    },
    {
     "name": "stderr",
     "output_type": "stream",
     "text": [
      "100%|████████████████████████████| 117/117 [00:00<00:00, 230.78it/s, loss=5.6]\n"
     ]
    },
    {
     "name": "stdout",
     "output_type": "stream",
     "text": [
      "Ave Loss: 5.603920035892063\n",
      "Epoch: 35\n"
     ]
    },
    {
     "name": "stderr",
     "output_type": "stream",
     "text": [
      "100%|████████████████████████████| 117/117 [00:00<00:00, 220.24it/s, loss=5.6]\n"
     ]
    },
    {
     "name": "stdout",
     "output_type": "stream",
     "text": [
      "Ave Loss: 5.603912524687938\n",
      "Epoch: 36\n"
     ]
    },
    {
     "name": "stderr",
     "output_type": "stream",
     "text": [
      "100%|████████████████████████████| 117/117 [00:00<00:00, 233.17it/s, loss=5.6]\n"
     ]
    },
    {
     "name": "stdout",
     "output_type": "stream",
     "text": [
      "Ave Loss: 5.6039048912178755\n",
      "Epoch: 37\n"
     ]
    },
    {
     "name": "stderr",
     "output_type": "stream",
     "text": [
      "100%|████████████████████████████| 117/117 [00:00<00:00, 232.37it/s, loss=5.6]\n"
     ]
    },
    {
     "name": "stdout",
     "output_type": "stream",
     "text": [
      "Ave Loss: 5.603897164010594\n",
      "Epoch: 38\n"
     ]
    },
    {
     "name": "stderr",
     "output_type": "stream",
     "text": [
      "100%|████████████████████████████| 117/117 [00:00<00:00, 238.48it/s, loss=5.6]\n"
     ]
    },
    {
     "name": "stdout",
     "output_type": "stream",
     "text": [
      "Ave Loss: 5.603889180044843\n",
      "Epoch: 39\n"
     ]
    },
    {
     "name": "stderr",
     "output_type": "stream",
     "text": [
      "100%|████████████████████████████| 117/117 [00:00<00:00, 228.21it/s, loss=5.6]\n"
     ]
    },
    {
     "name": "stdout",
     "output_type": "stream",
     "text": [
      "Ave Loss: 5.603881110492934\n",
      "Epoch: 40\n"
     ]
    },
    {
     "name": "stderr",
     "output_type": "stream",
     "text": [
      "100%|████████████████████████████| 117/117 [00:00<00:00, 205.22it/s, loss=5.6]\n"
     ]
    },
    {
     "name": "stdout",
     "output_type": "stream",
     "text": [
      "Ave Loss: 5.603872910524026\n",
      "Epoch: 41\n"
     ]
    },
    {
     "name": "stderr",
     "output_type": "stream",
     "text": [
      "100%|████████████████████████████| 117/117 [00:00<00:00, 221.67it/s, loss=5.6]\n"
     ]
    },
    {
     "name": "stdout",
     "output_type": "stream",
     "text": [
      "Ave Loss: 5.603864502703023\n",
      "Epoch: 42\n"
     ]
    },
    {
     "name": "stderr",
     "output_type": "stream",
     "text": [
      "100%|████████████████████████████| 117/117 [00:00<00:00, 226.49it/s, loss=5.6]\n"
     ]
    },
    {
     "name": "stdout",
     "output_type": "stream",
     "text": [
      "Ave Loss: 5.603856066353301\n",
      "Epoch: 43\n"
     ]
    },
    {
     "name": "stderr",
     "output_type": "stream",
     "text": [
      "100%|████████████████████████████| 117/117 [00:00<00:00, 218.64it/s, loss=5.6]\n"
     ]
    },
    {
     "name": "stdout",
     "output_type": "stream",
     "text": [
      "Ave Loss: 5.6038474425291405\n",
      "Epoch: 44\n"
     ]
    },
    {
     "name": "stderr",
     "output_type": "stream",
     "text": [
      "100%|████████████████████████████| 117/117 [00:00<00:00, 190.20it/s, loss=5.6]\n"
     ]
    },
    {
     "name": "stdout",
     "output_type": "stream",
     "text": [
      "Ave Loss: 5.603838545644385\n",
      "Epoch: 45\n"
     ]
    },
    {
     "name": "stderr",
     "output_type": "stream",
     "text": [
      "100%|████████████████████████████| 117/117 [00:00<00:00, 227.85it/s, loss=5.6]\n"
     ]
    },
    {
     "name": "stdout",
     "output_type": "stream",
     "text": [
      "Ave Loss: 5.603829550946879\n",
      "Epoch: 46\n"
     ]
    },
    {
     "name": "stderr",
     "output_type": "stream",
     "text": [
      "100%|████████████████████████████| 117/117 [00:00<00:00, 195.59it/s, loss=5.6]\n"
     ]
    },
    {
     "name": "stdout",
     "output_type": "stream",
     "text": [
      "Ave Loss: 5.603820226131341\n",
      "Epoch: 47\n"
     ]
    },
    {
     "name": "stderr",
     "output_type": "stream",
     "text": [
      "100%|████████████████████████████| 117/117 [00:00<00:00, 215.19it/s, loss=5.6]\n"
     ]
    },
    {
     "name": "stdout",
     "output_type": "stream",
     "text": [
      "Ave Loss: 5.603810787200928\n",
      "Epoch: 48\n"
     ]
    },
    {
     "name": "stderr",
     "output_type": "stream",
     "text": [
      "100%|████████████████████████████| 117/117 [00:00<00:00, 218.98it/s, loss=5.6]\n"
     ]
    },
    {
     "name": "stdout",
     "output_type": "stream",
     "text": [
      "Ave Loss: 5.603800899962074\n",
      "Epoch: 49\n"
     ]
    },
    {
     "name": "stderr",
     "output_type": "stream",
     "text": [
      "100%|████████████████████████████| 117/117 [00:00<00:00, 221.48it/s, loss=5.6]\n"
     ]
    },
    {
     "name": "stdout",
     "output_type": "stream",
     "text": [
      "Ave Loss: 5.603790902683878\n",
      "Epoch: 50\n"
     ]
    },
    {
     "name": "stderr",
     "output_type": "stream",
     "text": [
      "100%|████████████████████████████| 117/117 [00:00<00:00, 219.21it/s, loss=5.6]\n"
     ]
    },
    {
     "name": "stdout",
     "output_type": "stream",
     "text": [
      "Ave Loss: 5.603780746459961\n",
      "Epoch: 51\n"
     ]
    },
    {
     "name": "stderr",
     "output_type": "stream",
     "text": [
      "100%|████████████████████████████| 117/117 [00:00<00:00, 194.59it/s, loss=5.6]\n"
     ]
    },
    {
     "name": "stdout",
     "output_type": "stream",
     "text": [
      "Ave Loss: 5.603770345704168\n",
      "Epoch: 52\n"
     ]
    },
    {
     "name": "stderr",
     "output_type": "stream",
     "text": [
      "100%|████████████████████████████| 117/117 [00:00<00:00, 221.67it/s, loss=5.6]\n"
     ]
    },
    {
     "name": "stdout",
     "output_type": "stream",
     "text": [
      "Ave Loss: 5.603759716718625\n",
      "Epoch: 53\n"
     ]
    },
    {
     "name": "stderr",
     "output_type": "stream",
     "text": [
      "100%|████████████████████████████| 117/117 [00:00<00:00, 190.54it/s, loss=5.6]\n"
     ]
    },
    {
     "name": "stdout",
     "output_type": "stream",
     "text": [
      "Ave Loss: 5.603748953240549\n",
      "Epoch: 54\n"
     ]
    },
    {
     "name": "stderr",
     "output_type": "stream",
     "text": [
      "100%|████████████████████████████| 117/117 [00:00<00:00, 189.33it/s, loss=5.6]\n"
     ]
    },
    {
     "name": "stdout",
     "output_type": "stream",
     "text": [
      "Ave Loss: 5.603737977834848\n",
      "Epoch: 55\n"
     ]
    },
    {
     "name": "stderr",
     "output_type": "stream",
     "text": [
      "100%|████████████████████████████| 117/117 [00:00<00:00, 191.02it/s, loss=5.6]\n"
     ]
    },
    {
     "name": "stdout",
     "output_type": "stream",
     "text": [
      "Ave Loss: 5.603726700839833\n",
      "Epoch: 56\n"
     ]
    },
    {
     "name": "stderr",
     "output_type": "stream",
     "text": [
      "100%|████████████████████████████| 117/117 [00:00<00:00, 197.75it/s, loss=5.6]\n"
     ]
    },
    {
     "name": "stdout",
     "output_type": "stream",
     "text": [
      "Ave Loss: 5.603715207841661\n",
      "Epoch: 57\n"
     ]
    },
    {
     "name": "stderr",
     "output_type": "stream",
     "text": [
      "100%|████████████████████████████| 117/117 [00:00<00:00, 206.55it/s, loss=5.6]\n"
     ]
    },
    {
     "name": "stdout",
     "output_type": "stream",
     "text": [
      "Ave Loss: 5.603703462160551\n",
      "Epoch: 58\n"
     ]
    },
    {
     "name": "stderr",
     "output_type": "stream",
     "text": [
      "100%|████████████████████████████| 117/117 [00:00<00:00, 179.06it/s, loss=5.6]\n"
     ]
    },
    {
     "name": "stdout",
     "output_type": "stream",
     "text": [
      "Ave Loss: 5.603691398588001\n",
      "Epoch: 59\n"
     ]
    },
    {
     "name": "stderr",
     "output_type": "stream",
     "text": [
      "100%|████████████████████████████| 117/117 [00:00<00:00, 212.42it/s, loss=5.6]\n"
     ]
    },
    {
     "name": "stdout",
     "output_type": "stream",
     "text": [
      "Ave Loss: 5.603678907084669\n",
      "Epoch: 60\n"
     ]
    },
    {
     "name": "stderr",
     "output_type": "stream",
     "text": [
      "100%|████████████████████████████| 117/117 [00:00<00:00, 202.72it/s, loss=5.6]\n"
     ]
    },
    {
     "name": "stdout",
     "output_type": "stream",
     "text": [
      "Ave Loss: 5.603666032481398\n",
      "Epoch: 61\n"
     ]
    },
    {
     "name": "stderr",
     "output_type": "stream",
     "text": [
      "100%|████████████████████████████| 117/117 [00:00<00:00, 202.54it/s, loss=5.6]\n"
     ]
    },
    {
     "name": "stdout",
     "output_type": "stream",
     "text": [
      "Ave Loss: 5.603652827760094\n",
      "Epoch: 62\n"
     ]
    },
    {
     "name": "stderr",
     "output_type": "stream",
     "text": [
      "100%|████████████████████████████| 117/117 [00:00<00:00, 210.53it/s, loss=5.6]\n"
     ]
    },
    {
     "name": "stdout",
     "output_type": "stream",
     "text": [
      "Ave Loss: 5.603639260316506\n",
      "Epoch: 63\n"
     ]
    },
    {
     "name": "stderr",
     "output_type": "stream",
     "text": [
      "100%|████████████████████████████| 117/117 [00:00<00:00, 204.47it/s, loss=5.6]\n"
     ]
    },
    {
     "name": "stdout",
     "output_type": "stream",
     "text": [
      "Ave Loss: 5.603625505398481\n",
      "Epoch: 64\n"
     ]
    },
    {
     "name": "stderr",
     "output_type": "stream",
     "text": [
      "100%|████████████████████████████| 117/117 [00:00<00:00, 223.14it/s, loss=5.6]\n"
     ]
    },
    {
     "name": "stdout",
     "output_type": "stream",
     "text": [
      "Ave Loss: 5.603611273643298\n",
      "Epoch: 65\n"
     ]
    },
    {
     "name": "stderr",
     "output_type": "stream",
     "text": [
      "100%|████████████████████████████| 117/117 [00:00<00:00, 200.78it/s, loss=5.6]\n"
     ]
    },
    {
     "name": "stdout",
     "output_type": "stream",
     "text": [
      "Ave Loss: 5.603596569126488\n",
      "Epoch: 66\n"
     ]
    },
    {
     "name": "stderr",
     "output_type": "stream",
     "text": [
      "100%|████████████████████████████| 117/117 [00:00<00:00, 235.68it/s, loss=5.6]\n"
     ]
    },
    {
     "name": "stdout",
     "output_type": "stream",
     "text": [
      "Ave Loss: 5.603581542642708\n",
      "Epoch: 67\n"
     ]
    },
    {
     "name": "stderr",
     "output_type": "stream",
     "text": [
      "100%|████████████████████████████| 117/117 [00:00<00:00, 205.53it/s, loss=5.6]\n"
     ]
    },
    {
     "name": "stdout",
     "output_type": "stream",
     "text": [
      "Ave Loss: 5.60356613713452\n",
      "Epoch: 68\n"
     ]
    },
    {
     "name": "stderr",
     "output_type": "stream",
     "text": [
      "100%|████████████████████████████| 117/117 [00:00<00:00, 215.13it/s, loss=5.6]\n"
     ]
    },
    {
     "name": "stdout",
     "output_type": "stream",
     "text": [
      "Ave Loss: 5.603550332224267\n",
      "Epoch: 69\n"
     ]
    },
    {
     "name": "stderr",
     "output_type": "stream",
     "text": [
      "100%|████████████████████████████| 117/117 [00:00<00:00, 217.76it/s, loss=5.6]\n"
     ]
    },
    {
     "name": "stdout",
     "output_type": "stream",
     "text": [
      "Ave Loss: 5.6035332965035725\n",
      "Epoch: 70\n"
     ]
    },
    {
     "name": "stderr",
     "output_type": "stream",
     "text": [
      "100%|████████████████████████████| 117/117 [00:00<00:00, 205.83it/s, loss=5.6]\n"
     ]
    },
    {
     "name": "stdout",
     "output_type": "stream",
     "text": [
      "Ave Loss: 5.603515555715968\n",
      "Epoch: 71\n"
     ]
    },
    {
     "name": "stderr",
     "output_type": "stream",
     "text": [
      "100%|████████████████████████████| 117/117 [00:00<00:00, 190.22it/s, loss=5.6]\n"
     ]
    },
    {
     "name": "stdout",
     "output_type": "stream",
     "text": [
      "Ave Loss: 5.603497676360301\n",
      "Epoch: 72\n"
     ]
    },
    {
     "name": "stderr",
     "output_type": "stream",
     "text": [
      "100%|████████████████████████████| 117/117 [00:00<00:00, 189.34it/s, loss=5.6]\n"
     ]
    },
    {
     "name": "stdout",
     "output_type": "stream",
     "text": [
      "Ave Loss: 5.603479275336633\n",
      "Epoch: 73\n"
     ]
    },
    {
     "name": "stderr",
     "output_type": "stream",
     "text": [
      "100%|████████████████████████████| 117/117 [00:00<00:00, 227.75it/s, loss=5.6]\n"
     ]
    },
    {
     "name": "stdout",
     "output_type": "stream",
     "text": [
      "Ave Loss: 5.603460462684305\n",
      "Epoch: 74\n"
     ]
    },
    {
     "name": "stderr",
     "output_type": "stream",
     "text": [
      "100%|████████████████████████████| 117/117 [00:00<00:00, 202.55it/s, loss=5.6]\n"
     ]
    },
    {
     "name": "stdout",
     "output_type": "stream",
     "text": [
      "Ave Loss: 5.6034411854214135\n",
      "Epoch: 75\n"
     ]
    },
    {
     "name": "stderr",
     "output_type": "stream",
     "text": [
      "100%|████████████████████████████| 117/117 [00:00<00:00, 203.91it/s, loss=5.6]\n"
     ]
    },
    {
     "name": "stdout",
     "output_type": "stream",
     "text": [
      "Ave Loss: 5.603421276451176\n",
      "Epoch: 76\n"
     ]
    },
    {
     "name": "stderr",
     "output_type": "stream",
     "text": [
      "100%|████████████████████████████| 117/117 [00:00<00:00, 210.87it/s, loss=5.6]\n"
     ]
    },
    {
     "name": "stdout",
     "output_type": "stream",
     "text": [
      "Ave Loss: 5.6034010292118435\n",
      "Epoch: 77\n"
     ]
    },
    {
     "name": "stderr",
     "output_type": "stream",
     "text": [
      "100%|████████████████████████████| 117/117 [00:00<00:00, 203.27it/s, loss=5.6]\n"
     ]
    },
    {
     "name": "stdout",
     "output_type": "stream",
     "text": [
      "Ave Loss: 5.603380125811976\n",
      "Epoch: 78\n"
     ]
    },
    {
     "name": "stderr",
     "output_type": "stream",
     "text": [
      "100%|████████████████████████████| 117/117 [00:00<00:00, 204.86it/s, loss=5.6]\n"
     ]
    },
    {
     "name": "stdout",
     "output_type": "stream",
     "text": [
      "Ave Loss: 5.603358835236639\n",
      "Epoch: 79\n"
     ]
    },
    {
     "name": "stderr",
     "output_type": "stream",
     "text": [
      "100%|████████████████████████████| 117/117 [00:00<00:00, 168.13it/s, loss=5.6]\n"
     ]
    },
    {
     "name": "stdout",
     "output_type": "stream",
     "text": [
      "Ave Loss: 5.603336864047581\n",
      "Epoch: 80\n"
     ]
    },
    {
     "name": "stderr",
     "output_type": "stream",
     "text": [
      "100%|████████████████████████████| 117/117 [00:00<00:00, 206.96it/s, loss=5.6]\n"
     ]
    },
    {
     "name": "stdout",
     "output_type": "stream",
     "text": [
      "Ave Loss: 5.603314464927738\n",
      "Epoch: 81\n"
     ]
    },
    {
     "name": "stderr",
     "output_type": "stream",
     "text": [
      "100%|████████████████████████████| 117/117 [00:00<00:00, 213.04it/s, loss=5.6]\n"
     ]
    },
    {
     "name": "stdout",
     "output_type": "stream",
     "text": [
      "Ave Loss: 5.6032915767441445\n",
      "Epoch: 82\n"
     ]
    },
    {
     "name": "stderr",
     "output_type": "stream",
     "text": [
      "100%|████████████████████████████| 117/117 [00:00<00:00, 204.90it/s, loss=5.6]\n"
     ]
    },
    {
     "name": "stdout",
     "output_type": "stream",
     "text": [
      "Ave Loss: 5.6032682280255175\n",
      "Epoch: 83\n"
     ]
    },
    {
     "name": "stderr",
     "output_type": "stream",
     "text": [
      "100%|████████████████████████████| 117/117 [00:00<00:00, 220.90it/s, loss=5.6]\n"
     ]
    },
    {
     "name": "stdout",
     "output_type": "stream",
     "text": [
      "Ave Loss: 5.603244312808045\n",
      "Epoch: 84\n"
     ]
    },
    {
     "name": "stderr",
     "output_type": "stream",
     "text": [
      "100%|████████████████████████████| 117/117 [00:00<00:00, 207.19it/s, loss=5.6]\n"
     ]
    },
    {
     "name": "stdout",
     "output_type": "stream",
     "text": [
      "Ave Loss: 5.603219994112977\n",
      "Epoch: 85\n"
     ]
    },
    {
     "name": "stderr",
     "output_type": "stream",
     "text": [
      "100%|████████████████████████████| 117/117 [00:00<00:00, 214.01it/s, loss=5.6]\n"
     ]
    },
    {
     "name": "stdout",
     "output_type": "stream",
     "text": [
      "Ave Loss: 5.603195121145656\n",
      "Epoch: 86\n"
     ]
    },
    {
     "name": "stderr",
     "output_type": "stream",
     "text": [
      "100%|████████████████████████████| 117/117 [00:00<00:00, 203.26it/s, loss=5.6]\n"
     ]
    },
    {
     "name": "stdout",
     "output_type": "stream",
     "text": [
      "Ave Loss: 5.603169926211366\n",
      "Epoch: 87\n"
     ]
    },
    {
     "name": "stderr",
     "output_type": "stream",
     "text": [
      "100%|████████████████████████████| 117/117 [00:00<00:00, 228.88it/s, loss=5.6]\n"
     ]
    },
    {
     "name": "stdout",
     "output_type": "stream",
     "text": [
      "Ave Loss: 5.603144274817573\n",
      "Epoch: 88\n"
     ]
    },
    {
     "name": "stderr",
     "output_type": "stream",
     "text": [
      "100%|████████████████████████████| 117/117 [00:00<00:00, 207.70it/s, loss=5.6]\n"
     ]
    },
    {
     "name": "stdout",
     "output_type": "stream",
     "text": [
      "Ave Loss: 5.60311826885256\n",
      "Epoch: 89\n"
     ]
    },
    {
     "name": "stderr",
     "output_type": "stream",
     "text": [
      "100%|████████████████████████████| 117/117 [00:00<00:00, 203.86it/s, loss=5.6]\n"
     ]
    },
    {
     "name": "stdout",
     "output_type": "stream",
     "text": [
      "Ave Loss: 5.603091908316327\n",
      "Epoch: 90\n"
     ]
    },
    {
     "name": "stderr",
     "output_type": "stream",
     "text": [
      "100%|████████████████████████████| 117/117 [00:00<00:00, 215.35it/s, loss=5.6]\n"
     ]
    },
    {
     "name": "stdout",
     "output_type": "stream",
     "text": [
      "Ave Loss: 5.603065278795031\n",
      "Epoch: 91\n"
     ]
    },
    {
     "name": "stderr",
     "output_type": "stream",
     "text": [
      "100%|████████████████████████████| 117/117 [00:00<00:00, 202.32it/s, loss=5.6]\n"
     ]
    },
    {
     "name": "stdout",
     "output_type": "stream",
     "text": [
      "Ave Loss: 5.603038388439733\n",
      "Epoch: 92\n"
     ]
    },
    {
     "name": "stderr",
     "output_type": "stream",
     "text": [
      "100%|████████████████████████████| 117/117 [00:00<00:00, 222.11it/s, loss=5.6]\n"
     ]
    },
    {
     "name": "stdout",
     "output_type": "stream",
     "text": [
      "Ave Loss: 5.603011237250434\n",
      "Epoch: 93\n"
     ]
    },
    {
     "name": "stderr",
     "output_type": "stream",
     "text": [
      "100%|████████████████████████████| 117/117 [00:00<00:00, 198.05it/s, loss=5.6]\n"
     ]
    },
    {
     "name": "stdout",
     "output_type": "stream",
     "text": [
      "Ave Loss: 5.6029839148888225\n",
      "Epoch: 94\n"
     ]
    },
    {
     "name": "stderr",
     "output_type": "stream",
     "text": [
      "100%|████████████████████████████| 117/117 [00:00<00:00, 229.07it/s, loss=5.6]\n"
     ]
    },
    {
     "name": "stdout",
     "output_type": "stream",
     "text": [
      "Ave Loss: 5.6029564172793656\n",
      "Epoch: 95\n"
     ]
    },
    {
     "name": "stderr",
     "output_type": "stream",
     "text": [
      "100%|████████████████████████████| 117/117 [00:00<00:00, 208.56it/s, loss=5.6]\n"
     ]
    },
    {
     "name": "stdout",
     "output_type": "stream",
     "text": [
      "Ave Loss: 5.602928813706097\n",
      "Epoch: 96\n"
     ]
    },
    {
     "name": "stderr",
     "output_type": "stream",
     "text": [
      "100%|████████████████████████████| 117/117 [00:00<00:00, 216.93it/s, loss=5.6]\n"
     ]
    },
    {
     "name": "stdout",
     "output_type": "stream",
     "text": [
      "Ave Loss: 5.602900973752013\n",
      "Epoch: 97\n"
     ]
    },
    {
     "name": "stderr",
     "output_type": "stream",
     "text": [
      "100%|████████████████████████████| 117/117 [00:00<00:00, 214.24it/s, loss=5.6]\n"
     ]
    },
    {
     "name": "stdout",
     "output_type": "stream",
     "text": [
      "Ave Loss: 5.602873137873462\n",
      "Epoch: 98\n"
     ]
    },
    {
     "name": "stderr",
     "output_type": "stream",
     "text": [
      "100%|████████████████████████████| 117/117 [00:00<00:00, 227.78it/s, loss=5.6]\n"
     ]
    },
    {
     "name": "stdout",
     "output_type": "stream",
     "text": [
      "Ave Loss: 5.6028451145204725\n",
      "Epoch: 99\n"
     ]
    },
    {
     "name": "stderr",
     "output_type": "stream",
     "text": [
      "100%|████████████████████████████| 117/117 [00:00<00:00, 216.59it/s, loss=5.6]"
     ]
    },
    {
     "name": "stdout",
     "output_type": "stream",
     "text": [
      "Ave Loss: 5.6028169811281385\n"
     ]
    },
    {
     "name": "stderr",
     "output_type": "stream",
     "text": [
      "\n"
     ]
    }
   ],
   "source": [
    "# Train model\n",
    "epochs = 100\n",
    "average_losses = []\n",
    "\n",
    "for epoch in range(epochs):\n",
    "    print(\"Epoch: {}\".format(epoch))\n",
    "    ave_loss = train_fn(train_loader, model, optimizer, criterion, device)\n",
    "    \n",
    "    average_losses.append(ave_loss)\n",
    "        \n",
    "    print(\"Ave Loss: {}\".format(ave_loss))"
   ]
  },
  {
   "cell_type": "code",
   "execution_count": 27,
   "id": "f214ff1c",
   "metadata": {},
   "outputs": [
    {
     "name": "stderr",
     "output_type": "stream",
     "text": [
      "C:\\Users\\Irish\\AppData\\Local\\Temp\\ipykernel_1660\\3595567007.py:12: UserWarning: Creating a tensor from a list of numpy.ndarrays is extremely slow. Please consider converting the list to a single numpy.ndarray with numpy.array() before converting to a tensor. (Triggered internally at C:\\actions-runner\\_work\\pytorch\\pytorch\\builder\\windows\\pytorch\\torch\\csrc\\utils\\tensor_new.cpp:248.)\n",
      "  initial_input = torch.tensor([np.array([x_vector]).ravel()]).float()\n"
     ]
    },
    {
     "data": {
      "text/plain": [
       "array([0.00766185, 0.00699095, 0.00311718, 0.00327085, 0.00311718,\n",
       "       0.00312131, 0.00311724, 0.00311718, 0.00311718, 0.0084725 ,\n",
       "       0.00311748, 0.00844626, 0.0033408 , 0.00351579, 0.0065652 ,\n",
       "       0.00315889, 0.00311718, 0.00625889, 0.00631014, 0.00339624,\n",
       "       0.00311718, 0.00311718, 0.00311718, 0.00311944, 0.00311738,\n",
       "       0.0084539 , 0.00362622, 0.00317434, 0.00311718, 0.00845558,\n",
       "       0.0046721 , 0.00311719, 0.00311718, 0.00485116, 0.00811104,\n",
       "       0.00311718, 0.00311721, 0.00311725, 0.00311729, 0.00311718,\n",
       "       0.00311718, 0.00311959, 0.00368618, 0.00311909, 0.00312057,\n",
       "       0.00320758, 0.00311719, 0.00311718, 0.00312137, 0.00326899,\n",
       "       0.00311718, 0.00311718, 0.00311718, 0.00846699, 0.00311933,\n",
       "       0.00482512, 0.00311718, 0.00311718, 0.00844235, 0.00311718,\n",
       "       0.00311724, 0.00311789, 0.00487753, 0.00311718, 0.00311739,\n",
       "       0.00311718, 0.00311718, 0.00311718, 0.00621189, 0.00311718,\n",
       "       0.00312788, 0.00816539, 0.00311718, 0.00311718, 0.00311718,\n",
       "       0.00311859, 0.00311759, 0.0031182 , 0.00311723, 0.00311718,\n",
       "       0.00328535, 0.00569455, 0.00311718, 0.00311858, 0.0034072 ,\n",
       "       0.00311781, 0.00311718, 0.00311718, 0.00311718, 0.00315453,\n",
       "       0.00311721, 0.00311718, 0.00311718, 0.00311766, 0.00311719,\n",
       "       0.00311721, 0.00311718, 0.00312087, 0.00597763, 0.00311718,\n",
       "       0.00311719, 0.00311718, 0.0031238 , 0.00312214, 0.00311718,\n",
       "       0.00311718, 0.00311726, 0.00311719, 0.00311721, 0.00846275,\n",
       "       0.00312076, 0.00311718, 0.0032475 , 0.00311718, 0.00311718,\n",
       "       0.00311718, 0.00311718, 0.0031172 , 0.00311718, 0.00311718,\n",
       "       0.00311718, 0.00311718, 0.00311729, 0.00311718, 0.00457897,\n",
       "       0.00311718, 0.00311748, 0.00311718, 0.00314129, 0.00311719,\n",
       "       0.00311718, 0.00311718, 0.00357509, 0.00831258, 0.0031397 ,\n",
       "       0.00311718, 0.00311739, 0.00344626, 0.00337084, 0.00318909,\n",
       "       0.00311718, 0.00311766, 0.00311718, 0.00341529, 0.00311718,\n",
       "       0.00311718, 0.00311913, 0.00311719, 0.00845889, 0.00311731,\n",
       "       0.00653345, 0.00311718, 0.00326876, 0.00355178, 0.00311718,\n",
       "       0.00326581, 0.00311718, 0.00601188, 0.00311755, 0.00348356,\n",
       "       0.00311718, 0.00311718, 0.00311934, 0.00311726, 0.00311718,\n",
       "       0.00311718, 0.00335079, 0.00311875, 0.00449436, 0.00814867,\n",
       "       0.00311758, 0.00311718, 0.00312338, 0.00311718, 0.00380264,\n",
       "       0.00311719, 0.00311718, 0.00311718, 0.00311832, 0.0084375 ,\n",
       "       0.00311723, 0.00347336, 0.00311718, 0.00312829, 0.00630015,\n",
       "       0.0031172 , 0.00845951, 0.00317871, 0.00312601, 0.00311718,\n",
       "       0.00347614, 0.0031897 , 0.00312041, 0.00314651, 0.0031172 ,\n",
       "       0.00312074, 0.00311984, 0.00311945, 0.00311722, 0.00311719,\n",
       "       0.0031172 , 0.00311718, 0.00311718, 0.00357341, 0.00311718,\n",
       "       0.00311718, 0.00311718, 0.00311718, 0.00311718, 0.00311718,\n",
       "       0.0031172 , 0.00311718, 0.00311718, 0.00311794, 0.00311718,\n",
       "       0.00311718, 0.004109  , 0.00314339, 0.00311719, 0.00311718,\n",
       "       0.00321539, 0.00311718, 0.00311718, 0.00351684, 0.00311718,\n",
       "       0.00311718, 0.00311718, 0.00342422, 0.00313378, 0.00311718,\n",
       "       0.00311718, 0.00311746, 0.00311738, 0.00311952, 0.00311718,\n",
       "       0.00311728, 0.00846822, 0.00847312, 0.00311718, 0.0031172 ,\n",
       "       0.00311718, 0.0031233 , 0.00327506, 0.00311718, 0.00311718,\n",
       "       0.00311718, 0.00311718, 0.00311755, 0.00311723, 0.00311739,\n",
       "       0.00333472, 0.00311718, 0.00311718, 0.00311718, 0.00311718,\n",
       "       0.00314538, 0.00311752, 0.00311718, 0.00311718, 0.00311937,\n",
       "       0.00337457, 0.00833695, 0.00715341, 0.00314795, 0.00311778,\n",
       "       0.00313642, 0.00332534, 0.00311718, 0.00311718, 0.00495257,\n",
       "       0.00311718, 0.0031793 ], dtype=float32)"
      ]
     },
     "execution_count": 27,
     "metadata": {},
     "output_type": "execute_result"
    }
   ],
   "source": [
    "# Create input seed for lyric generation\n",
    "poem = ['I', 'could', 'dream']\n",
    "x_ints = [word_indices[item] for item in poem]\n",
    "x_vector = []\n",
    "\n",
    "for item in x_ints:\n",
    "    x_item = np.zeros(len(unique_words))\n",
    "    x_item[item] = 1\n",
    "    \n",
    "    x_vector.append(x_item)\n",
    "\n",
    "initial_input = torch.tensor([np.array([x_vector]).ravel()]).float()\n",
    "\n",
    "output = model(initial_input)[0].detach().cpu().numpy()\n",
    "output"
   ]
  },
  {
   "cell_type": "code",
   "execution_count": 28,
   "id": "52b79fd4",
   "metadata": {},
   "outputs": [
    {
     "data": {
      "text/plain": [
       "<BarContainer object of 272 artists>"
      ]
     },
     "execution_count": 28,
     "metadata": {},
     "output_type": "execute_result"
    },
    {
     "data": {
      "image/png": "[encoded data removed]",
      "text/plain": [
       "<Figure size 640x480 with 1 Axes>"
      ]
     },
     "metadata": {},
     "output_type": "display_data"
    }
   ],
   "source": [
    "# Inspect probability distribution of word tokens\n",
    "import matplotlib.pyplot as plt\n",
    "\n",
    "plt.bar(range(len(output)), output)"
   ]
  },
  {
   "cell_type": "code",
   "execution_count": 29,
   "id": "b5d1d060",
   "metadata": {},
   "outputs": [],
   "source": [
    "# TODO: Create helper function to generate lyrics from model output"
   ]
  }
 ],
 "metadata": {
  "kernelspec": {
   "display_name": "Python 3 (ipykernel)",
   "language": "python",
   "name": "python3"
  },
  "language_info": {
   "codemirror_mode": {
    "name": "ipython",
    "version": 3
   },
   "file_extension": ".py",
   "mimetype": "text/x-python",
   "name": "python",
   "nbconvert_exporter": "python",
   "pygments_lexer": "ipython3",
   "version": "3.9.13"
  }
 },
 "nbformat": 4,
 "nbformat_minor": 5
}
